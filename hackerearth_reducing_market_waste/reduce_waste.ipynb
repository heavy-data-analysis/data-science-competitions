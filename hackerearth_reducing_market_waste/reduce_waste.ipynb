{
 "cells": [
  {
   "cell_type": "markdown",
   "id": "5119545b",
   "metadata": {},
   "source": [
    "# Import libraries"
   ]
  },
  {
   "cell_type": "code",
   "execution_count": 3,
   "id": "4747fefb",
   "metadata": {},
   "outputs": [],
   "source": [
    "import os\n",
    "import joblib\n",
    "\n",
    "import numpy as np\n",
    "import pandas as pd\n",
    "import seaborn as sns\n",
    "import missingno as msno\n",
    "import matplotlib.pyplot as plt\n",
    "\n",
    "from sklearn.metrics import mean_squared_error\n",
    "from sklearn.linear_model import Ridge, Lasso, ElasticNet, LinearRegression\n",
    "from sklearn.model_selection import train_test_split, cross_val_score, KFold\n",
    "from sklearn.ensemble import GradientBoostingRegressor, RandomForestRegressor\n",
    "from sklearn.preprocessing import StandardScaler, LabelEncoder, RobustScaler, MinMaxScaler\n",
    "\n",
    "# import shap\n",
    "import optuna\n",
    "# import category_encoders as ce\n",
    "import optuna.visualization as vis\n",
    "\n",
    "import xgboost as xgb\n",
    "import catboost as cat\n",
    "import lightgbm as lgb\n",
    "\n",
    "from tqdm.notebook import tqdm\n",
    "\n",
    "import warnings\n",
    "warnings.filterwarnings('ignore')"
   ]
  },
  {
   "cell_type": "markdown",
   "id": "1b1c11aa",
   "metadata": {
    "heading_collapsed": true
   },
   "source": [
    "# Get data"
   ]
  },
  {
   "cell_type": "code",
   "execution_count": 4,
   "id": "01386a3d",
   "metadata": {
    "hidden": true
   },
   "outputs": [],
   "source": [
    "raw_train = pd.read_csv('data/train.csv')\n",
    "raw_test = pd.read_csv('data/test.csv')\n",
    "raw_sub = pd.read_csv('data/sample_submission.csv')"
   ]
  },
  {
   "cell_type": "code",
   "execution_count": 5,
   "id": "0636b18a",
   "metadata": {
    "hidden": true
   },
   "outputs": [
    {
     "name": "stdout",
     "output_type": "stream",
     "text": [
      "<class 'pandas.core.frame.DataFrame'>\n",
      "RangeIndex: 7007 entries, 0 to 7006\n",
      "Data columns (total 23 columns):\n",
      " #   Column                 Non-Null Count  Dtype  \n",
      "---  ------                 --------------  -----  \n",
      " 0   Deal_title             7007 non-null   object \n",
      " 1   Lead_name              7007 non-null   object \n",
      " 2   Industry               7006 non-null   object \n",
      " 3   Deal_value             6956 non-null   object \n",
      " 4   Weighted_amount        6482 non-null   object \n",
      " 5   Date_of_creation       7007 non-null   object \n",
      " 6   Pitch                  7007 non-null   object \n",
      " 7   Contact_no             7007 non-null   object \n",
      " 8   Lead_revenue           7007 non-null   object \n",
      " 9   Fund_category          7007 non-null   object \n",
      " 10  Geography              6035 non-null   object \n",
      " 11  Location               6996 non-null   object \n",
      " 12  POC_name               6999 non-null   object \n",
      " 13  Designation            7007 non-null   object \n",
      " 14  Lead_POC_email         7007 non-null   object \n",
      " 15  Hiring_candidate_role  7007 non-null   object \n",
      " 16  Lead_source            7007 non-null   object \n",
      " 17  Level_of_meeting       7007 non-null   object \n",
      " 18  Last_lead_update       6374 non-null   object \n",
      " 19  Internal_POC           7007 non-null   object \n",
      " 20  Resource               6858 non-null   object \n",
      " 21  Internal_rating        7007 non-null   int64  \n",
      " 22  Success_probability    7007 non-null   float64\n",
      "dtypes: float64(1), int64(1), object(21)\n",
      "memory usage: 1.2+ MB\n",
      "None\n"
     ]
    },
    {
     "data": {
      "text/html": [
       "<div>\n",
       "<style scoped>\n",
       "    .dataframe tbody tr th:only-of-type {\n",
       "        vertical-align: middle;\n",
       "    }\n",
       "\n",
       "    .dataframe tbody tr th {\n",
       "        vertical-align: top;\n",
       "    }\n",
       "\n",
       "    .dataframe thead th {\n",
       "        text-align: right;\n",
       "    }\n",
       "</style>\n",
       "<table border=\"1\" class=\"dataframe\">\n",
       "  <thead>\n",
       "    <tr style=\"text-align: right;\">\n",
       "      <th></th>\n",
       "      <th>Deal_title</th>\n",
       "      <th>Lead_name</th>\n",
       "      <th>Industry</th>\n",
       "      <th>Deal_value</th>\n",
       "      <th>Weighted_amount</th>\n",
       "      <th>Date_of_creation</th>\n",
       "      <th>Pitch</th>\n",
       "      <th>Contact_no</th>\n",
       "      <th>Lead_revenue</th>\n",
       "      <th>Fund_category</th>\n",
       "      <th>...</th>\n",
       "      <th>Designation</th>\n",
       "      <th>Lead_POC_email</th>\n",
       "      <th>Hiring_candidate_role</th>\n",
       "      <th>Lead_source</th>\n",
       "      <th>Level_of_meeting</th>\n",
       "      <th>Last_lead_update</th>\n",
       "      <th>Internal_POC</th>\n",
       "      <th>Resource</th>\n",
       "      <th>Internal_rating</th>\n",
       "      <th>Success_probability</th>\n",
       "    </tr>\n",
       "  </thead>\n",
       "  <tbody>\n",
       "    <tr>\n",
       "      <th>2569</th>\n",
       "      <td>Title18LT0</td>\n",
       "      <td>Zamora, Moore and Griffith LLC</td>\n",
       "      <td>Banks</td>\n",
       "      <td>89557$</td>\n",
       "      <td>497041.35$</td>\n",
       "      <td>2019-06-13</td>\n",
       "      <td>Product_2</td>\n",
       "      <td>(436)499-6570x554</td>\n",
       "      <td>50 - 100 Million</td>\n",
       "      <td>Category 2</td>\n",
       "      <td>...</td>\n",
       "      <td>Chairman/CEO/President</td>\n",
       "      <td>travisthompson@zamora.com</td>\n",
       "      <td>Quantity surveyor</td>\n",
       "      <td>Marketing Event</td>\n",
       "      <td>Level 1</td>\n",
       "      <td>More than a week back</td>\n",
       "      <td>Thomas,Lori E</td>\n",
       "      <td>Yes</td>\n",
       "      <td>2</td>\n",
       "      <td>58.7</td>\n",
       "    </tr>\n",
       "  </tbody>\n",
       "</table>\n",
       "<p>1 rows × 23 columns</p>\n",
       "</div>"
      ],
      "text/plain": [
       "      Deal_title                       Lead_name Industry Deal_value  \\\n",
       "2569  Title18LT0  Zamora, Moore and Griffith LLC    Banks     89557$   \n",
       "\n",
       "     Weighted_amount Date_of_creation      Pitch         Contact_no  \\\n",
       "2569      497041.35$       2019-06-13  Product_2  (436)499-6570x554   \n",
       "\n",
       "          Lead_revenue Fund_category  ...             Designation  \\\n",
       "2569  50 - 100 Million    Category 2  ...  Chairman/CEO/President   \n",
       "\n",
       "                 Lead_POC_email Hiring_candidate_role      Lead_source  \\\n",
       "2569  travisthompson@zamora.com     Quantity surveyor  Marketing Event   \n",
       "\n",
       "     Level_of_meeting       Last_lead_update   Internal_POC Resource  \\\n",
       "2569          Level 1  More than a week back  Thomas,Lori E      Yes   \n",
       "\n",
       "     Internal_rating Success_probability  \n",
       "2569               2                58.7  \n",
       "\n",
       "[1 rows x 23 columns]"
      ]
     },
     "execution_count": 5,
     "metadata": {},
     "output_type": "execute_result"
    }
   ],
   "source": [
    "print(raw_train.info())\n",
    "raw_train.sample()"
   ]
  },
  {
   "cell_type": "code",
   "execution_count": 6,
   "id": "39ff7c21",
   "metadata": {
    "hidden": true
   },
   "outputs": [
    {
     "name": "stdout",
     "output_type": "stream",
     "text": [
      "<class 'pandas.core.frame.DataFrame'>\n",
      "RangeIndex: 2093 entries, 0 to 2092\n",
      "Data columns (total 22 columns):\n",
      " #   Column                 Non-Null Count  Dtype  \n",
      "---  ------                 --------------  -----  \n",
      " 0   Deal_title             2093 non-null   object \n",
      " 1   Lead_name              2093 non-null   object \n",
      " 2   Industry               2092 non-null   object \n",
      " 3   Deal_value             2088 non-null   object \n",
      " 4   Weighted_amount        2033 non-null   object \n",
      " 5   Date_of_creation       2093 non-null   object \n",
      " 6   Pitch                  2093 non-null   object \n",
      " 7   Contact_no             2093 non-null   object \n",
      " 8   Lead_revenue           2093 non-null   object \n",
      " 9   Fund_category          2093 non-null   object \n",
      " 10  Geography              2014 non-null   object \n",
      " 11  Location               2090 non-null   object \n",
      " 12  POC_name               2091 non-null   object \n",
      " 13  Designation            2093 non-null   object \n",
      " 14  Lead_POC_email         2093 non-null   object \n",
      " 15  Hiring_candidate_role  2093 non-null   object \n",
      " 16  Lead_source            2093 non-null   object \n",
      " 17  Level_of_meeting       2093 non-null   object \n",
      " 18  Last_lead_update       1925 non-null   object \n",
      " 19  Internal_POC           2093 non-null   object \n",
      " 20  Resource               2079 non-null   object \n",
      " 21  Internal_rating        2093 non-null   float64\n",
      "dtypes: float64(1), object(21)\n",
      "memory usage: 359.9+ KB\n",
      "None\n"
     ]
    },
    {
     "data": {
      "text/html": [
       "<div>\n",
       "<style scoped>\n",
       "    .dataframe tbody tr th:only-of-type {\n",
       "        vertical-align: middle;\n",
       "    }\n",
       "\n",
       "    .dataframe tbody tr th {\n",
       "        vertical-align: top;\n",
       "    }\n",
       "\n",
       "    .dataframe thead th {\n",
       "        text-align: right;\n",
       "    }\n",
       "</style>\n",
       "<table border=\"1\" class=\"dataframe\">\n",
       "  <thead>\n",
       "    <tr style=\"text-align: right;\">\n",
       "      <th></th>\n",
       "      <th>Deal_title</th>\n",
       "      <th>Lead_name</th>\n",
       "      <th>Industry</th>\n",
       "      <th>Deal_value</th>\n",
       "      <th>Weighted_amount</th>\n",
       "      <th>Date_of_creation</th>\n",
       "      <th>Pitch</th>\n",
       "      <th>Contact_no</th>\n",
       "      <th>Lead_revenue</th>\n",
       "      <th>Fund_category</th>\n",
       "      <th>...</th>\n",
       "      <th>POC_name</th>\n",
       "      <th>Designation</th>\n",
       "      <th>Lead_POC_email</th>\n",
       "      <th>Hiring_candidate_role</th>\n",
       "      <th>Lead_source</th>\n",
       "      <th>Level_of_meeting</th>\n",
       "      <th>Last_lead_update</th>\n",
       "      <th>Internal_POC</th>\n",
       "      <th>Resource</th>\n",
       "      <th>Internal_rating</th>\n",
       "    </tr>\n",
       "  </thead>\n",
       "  <tbody>\n",
       "    <tr>\n",
       "      <th>1552</th>\n",
       "      <td>TitleWD36X</td>\n",
       "      <td>Christian-Jenkins Ltd</td>\n",
       "      <td>Health/Accident</td>\n",
       "      <td>29654$</td>\n",
       "      <td>189785.6$</td>\n",
       "      <td>2020-03-17</td>\n",
       "      <td>Product_2</td>\n",
       "      <td>784.396.5473x99463</td>\n",
       "      <td>50 - 100 Million</td>\n",
       "      <td>Category 3</td>\n",
       "      <td>...</td>\n",
       "      <td>Lauren Farmer</td>\n",
       "      <td>Executive Vice President</td>\n",
       "      <td>laurenfarmer@christianjenkins.com</td>\n",
       "      <td>Advice worker</td>\n",
       "      <td>Marketing Event</td>\n",
       "      <td>Level 3</td>\n",
       "      <td>Following up but lead not responding</td>\n",
       "      <td>Gilley,Janine</td>\n",
       "      <td>Cannot deliver</td>\n",
       "      <td>3.0</td>\n",
       "    </tr>\n",
       "  </tbody>\n",
       "</table>\n",
       "<p>1 rows × 22 columns</p>\n",
       "</div>"
      ],
      "text/plain": [
       "      Deal_title              Lead_name         Industry Deal_value  \\\n",
       "1552  TitleWD36X  Christian-Jenkins Ltd  Health/Accident     29654$   \n",
       "\n",
       "     Weighted_amount Date_of_creation      Pitch          Contact_no  \\\n",
       "1552       189785.6$       2020-03-17  Product_2  784.396.5473x99463   \n",
       "\n",
       "          Lead_revenue Fund_category  ...       POC_name  \\\n",
       "1552  50 - 100 Million    Category 3  ...  Lauren Farmer   \n",
       "\n",
       "                   Designation                     Lead_POC_email  \\\n",
       "1552  Executive Vice President  laurenfarmer@christianjenkins.com   \n",
       "\n",
       "     Hiring_candidate_role      Lead_source Level_of_meeting  \\\n",
       "1552         Advice worker  Marketing Event          Level 3   \n",
       "\n",
       "                          Last_lead_update   Internal_POC        Resource  \\\n",
       "1552  Following up but lead not responding  Gilley,Janine  Cannot deliver   \n",
       "\n",
       "     Internal_rating  \n",
       "1552             3.0  \n",
       "\n",
       "[1 rows x 22 columns]"
      ]
     },
     "execution_count": 6,
     "metadata": {},
     "output_type": "execute_result"
    }
   ],
   "source": [
    "print(raw_test.info())\n",
    "raw_test.sample()"
   ]
  },
  {
   "cell_type": "markdown",
   "id": "b37afbec",
   "metadata": {},
   "source": [
    "# Preprocess"
   ]
  },
  {
   "cell_type": "code",
   "execution_count": 8,
   "id": "e3d071c5",
   "metadata": {},
   "outputs": [],
   "source": [
    "combine = raw_train.append(raw_test).reset_index(drop=True)"
   ]
  },
  {
   "cell_type": "code",
   "execution_count": 9,
   "id": "f647796f",
   "metadata": {},
   "outputs": [],
   "source": [
    "drop_cols = [\n",
    "    'Deal_title', 'Lead_name', 'Contact_no', 'POC_name', 'Lead_POC_email',\\\n",
    "    'Industry', 'Date_of_creation', 'Designation', 'Resource',\\\n",
    "    'Hiring_candidate_role', 'Internal_POC', 'Lead_source', 'Last_lead_update',\\\n",
    "]\n",
    "combine = combine.drop(drop_cols, axis=1)"
   ]
  },
  {
   "cell_type": "code",
   "execution_count": 10,
   "id": "a6b038f4",
   "metadata": {},
   "outputs": [],
   "source": [
    "combine['Weighted_amount'] = combine['Weighted_amount'].apply(lambda x: x if type(x) == float else float(x[:-1]))\n",
    "combine['Deal_value'] = combine['Deal_value'].apply(lambda x: x if type(x) == float else float(x[:-1]))\n",
    "\n",
    "combine['Deal_value'] = combine['Deal_value'].fillna(value=combine['Deal_value'].mean())\n",
    "combine['Weighted_amount'] = combine['Weighted_amount'].fillna(value=combine['Weighted_amount'].mean())"
   ]
  },
  {
   "cell_type": "code",
   "execution_count": 11,
   "id": "38718751",
   "metadata": {},
   "outputs": [],
   "source": [
    "mask = combine['Geography'].isna()\n",
    "combine.loc[mask, 'Geography'] = combine.loc[mask, 'Location'].apply(lambda x: 'USA' if type(x) == float else 'USA' if ',' in x else 'India')\n",
    "\n",
    "combine = combine.drop('Location', axis=1)"
   ]
  },
  {
   "cell_type": "code",
   "execution_count": 12,
   "id": "637a4c0f",
   "metadata": {},
   "outputs": [],
   "source": [
    "p = pd.get_dummies(combine['Pitch'], drop_first=True)\n",
    "lr = pd.get_dummies(combine['Lead_revenue'], drop_first=True)\n",
    "fc = pd.get_dummies(combine['Fund_category'], drop_first=True)\n",
    "g = pd.get_dummies(combine['Geography'], drop_first=True)\n",
    "lvl = pd.get_dummies(combine['Level_of_meeting'], drop_first=True)"
   ]
  },
  {
   "cell_type": "code",
   "execution_count": 13,
   "id": "b390bbbf",
   "metadata": {},
   "outputs": [],
   "source": [
    "combine = combine.drop(['Pitch', 'Lead_revenue', 'Fund_category', 'Geography', 'Level_of_meeting'], axis=1)"
   ]
  },
  {
   "cell_type": "code",
   "execution_count": 15,
   "id": "f1036f1e",
   "metadata": {},
   "outputs": [
    {
     "name": "stdout",
     "output_type": "stream",
     "text": [
      "<class 'pandas.core.frame.DataFrame'>\n",
      "RangeIndex: 9100 entries, 0 to 9099\n",
      "Data columns (total 13 columns):\n",
      " #   Column                   Non-Null Count  Dtype  \n",
      "---  ------                   --------------  -----  \n",
      " 0   Deal_value               9100 non-null   float64\n",
      " 1   Weighted_amount          9100 non-null   float64\n",
      " 2   Internal_rating          9100 non-null   float64\n",
      " 3   Success_probability      7007 non-null   float64\n",
      " 4   Product_2                9100 non-null   uint8  \n",
      " 5   50 - 100 Million         9100 non-null   uint8  \n",
      " 6   500 Million - 1 Billion  9100 non-null   uint8  \n",
      " 7   Category 2               9100 non-null   uint8  \n",
      " 8   Category 3               9100 non-null   uint8  \n",
      " 9   Category 4               9100 non-null   uint8  \n",
      " 10  USA                      9100 non-null   uint8  \n",
      " 11  Level 2                  9100 non-null   uint8  \n",
      " 12  Level 3                  9100 non-null   uint8  \n",
      "dtypes: float64(4), uint8(9)\n",
      "memory usage: 364.5 KB\n",
      "None\n"
     ]
    },
    {
     "data": {
      "text/html": [
       "<div>\n",
       "<style scoped>\n",
       "    .dataframe tbody tr th:only-of-type {\n",
       "        vertical-align: middle;\n",
       "    }\n",
       "\n",
       "    .dataframe tbody tr th {\n",
       "        vertical-align: top;\n",
       "    }\n",
       "\n",
       "    .dataframe thead th {\n",
       "        text-align: right;\n",
       "    }\n",
       "</style>\n",
       "<table border=\"1\" class=\"dataframe\">\n",
       "  <thead>\n",
       "    <tr style=\"text-align: right;\">\n",
       "      <th></th>\n",
       "      <th>Deal_value</th>\n",
       "      <th>Weighted_amount</th>\n",
       "      <th>Internal_rating</th>\n",
       "      <th>Success_probability</th>\n",
       "      <th>Product_2</th>\n",
       "      <th>50 - 100 Million</th>\n",
       "      <th>500 Million - 1 Billion</th>\n",
       "      <th>Category 2</th>\n",
       "      <th>Category 3</th>\n",
       "      <th>Category 4</th>\n",
       "      <th>USA</th>\n",
       "      <th>Level 2</th>\n",
       "      <th>Level 3</th>\n",
       "    </tr>\n",
       "  </thead>\n",
       "  <tbody>\n",
       "    <tr>\n",
       "      <th>7739</th>\n",
       "      <td>318946.0</td>\n",
       "      <td>1.865834e+06</td>\n",
       "      <td>4.0</td>\n",
       "      <td>NaN</td>\n",
       "      <td>1</td>\n",
       "      <td>1</td>\n",
       "      <td>0</td>\n",
       "      <td>0</td>\n",
       "      <td>1</td>\n",
       "      <td>0</td>\n",
       "      <td>0</td>\n",
       "      <td>1</td>\n",
       "      <td>0</td>\n",
       "    </tr>\n",
       "    <tr>\n",
       "      <th>8621</th>\n",
       "      <td>428962.0</td>\n",
       "      <td>2.595220e+06</td>\n",
       "      <td>2.0</td>\n",
       "      <td>NaN</td>\n",
       "      <td>1</td>\n",
       "      <td>0</td>\n",
       "      <td>0</td>\n",
       "      <td>1</td>\n",
       "      <td>0</td>\n",
       "      <td>0</td>\n",
       "      <td>0</td>\n",
       "      <td>0</td>\n",
       "      <td>1</td>\n",
       "    </tr>\n",
       "    <tr>\n",
       "      <th>6190</th>\n",
       "      <td>264911.0</td>\n",
       "      <td>1.721922e+06</td>\n",
       "      <td>3.0</td>\n",
       "      <td>26.35</td>\n",
       "      <td>0</td>\n",
       "      <td>0</td>\n",
       "      <td>1</td>\n",
       "      <td>0</td>\n",
       "      <td>0</td>\n",
       "      <td>1</td>\n",
       "      <td>0</td>\n",
       "      <td>0</td>\n",
       "      <td>0</td>\n",
       "    </tr>\n",
       "    <tr>\n",
       "      <th>144</th>\n",
       "      <td>365503.0</td>\n",
       "      <td>1.566788e+06</td>\n",
       "      <td>5.0</td>\n",
       "      <td>72.70</td>\n",
       "      <td>1</td>\n",
       "      <td>1</td>\n",
       "      <td>0</td>\n",
       "      <td>1</td>\n",
       "      <td>0</td>\n",
       "      <td>0</td>\n",
       "      <td>1</td>\n",
       "      <td>1</td>\n",
       "      <td>0</td>\n",
       "    </tr>\n",
       "    <tr>\n",
       "      <th>1756</th>\n",
       "      <td>228563.0</td>\n",
       "      <td>1.679938e+06</td>\n",
       "      <td>5.0</td>\n",
       "      <td>73.90</td>\n",
       "      <td>0</td>\n",
       "      <td>0</td>\n",
       "      <td>0</td>\n",
       "      <td>0</td>\n",
       "      <td>0</td>\n",
       "      <td>1</td>\n",
       "      <td>1</td>\n",
       "      <td>0</td>\n",
       "      <td>1</td>\n",
       "    </tr>\n",
       "  </tbody>\n",
       "</table>\n",
       "</div>"
      ],
      "text/plain": [
       "      Deal_value  Weighted_amount  Internal_rating  Success_probability  \\\n",
       "7739    318946.0     1.865834e+06              4.0                  NaN   \n",
       "8621    428962.0     2.595220e+06              2.0                  NaN   \n",
       "6190    264911.0     1.721922e+06              3.0                26.35   \n",
       "144     365503.0     1.566788e+06              5.0                72.70   \n",
       "1756    228563.0     1.679938e+06              5.0                73.90   \n",
       "\n",
       "      Product_2  50 - 100 Million  500 Million - 1 Billion  Category 2  \\\n",
       "7739          1                 1                        0           0   \n",
       "8621          1                 0                        0           1   \n",
       "6190          0                 0                        1           0   \n",
       "144           1                 1                        0           1   \n",
       "1756          0                 0                        0           0   \n",
       "\n",
       "      Category 3  Category 4  USA  Level 2  Level 3  \n",
       "7739           1           0    0        1        0  \n",
       "8621           0           0    0        0        1  \n",
       "6190           0           1    0        0        0  \n",
       "144            0           0    1        1        0  \n",
       "1756           0           1    1        0        1  "
      ]
     },
     "execution_count": 15,
     "metadata": {},
     "output_type": "execute_result"
    }
   ],
   "source": [
    "combine = pd.concat([combine, p, lr, fc, g, lvl], axis=1)\n",
    "print(combine.info())\n",
    "combine.sample(5)"
   ]
  },
  {
   "cell_type": "code",
   "execution_count": 16,
   "id": "3b1627c6",
   "metadata": {},
   "outputs": [
    {
     "data": {
      "text/plain": [
       "<AxesSubplot:>"
      ]
     },
     "execution_count": 16,
     "metadata": {},
     "output_type": "execute_result"
    },
    {
     "data": {
      "image/png": "[encoded data removed]",
      "text/plain": [
       "<Figure size 432x288 with 2 Axes>"
      ]
     },
     "metadata": {
      "needs_background": "light"
     },
     "output_type": "display_data"
    }
   ],
   "source": [
    "sns.heatmap(combine.corr())"
   ]
  },
  {
   "cell_type": "code",
   "execution_count": 56,
   "id": "cf86a0ad",
   "metadata": {},
   "outputs": [],
   "source": [
    "mask = ~combine['Internal_rating'].between(0, 6)\n",
    "combine.loc[mask, 'Internal_rating'] = 1"
   ]
  },
  {
   "cell_type": "code",
   "execution_count": 75,
   "id": "cb50cb78",
   "metadata": {},
   "outputs": [
    {
     "data": {
      "text/plain": [
       "<AxesSubplot:>"
      ]
     },
     "execution_count": 75,
     "metadata": {},
     "output_type": "execute_result"
    },
    {
     "data": {
      "image/png": "[encoded data removed]",
      "text/plain": [
       "<Figure size 432x288 with 1 Axes>"
      ]
     },
     "metadata": {
      "needs_background": "light"
     },
     "output_type": "display_data"
    }
   ],
   "source": [
    "combine['Success_probability'].hist(bins=40)"
   ]
  },
  {
   "cell_type": "code",
   "execution_count": 20,
   "id": "43626338",
   "metadata": {},
   "outputs": [
    {
     "name": "stdout",
     "output_type": "stream",
     "text": [
      "Train shape: (7007, 13)\n",
      "Test shape: (2093, 12)\n"
     ]
    }
   ],
   "source": [
    "mask = combine['Success_probability'].isna()\n",
    "test = combine[mask].drop('Success_probability', axis=1)\n",
    "train = combine[~mask]\n",
    "\n",
    "print(f'Train shape: {train.shape}')\n",
    "print(f'Test shape: {test.shape}')"
   ]
  },
  {
   "cell_type": "code",
   "execution_count": 21,
   "id": "438a0092",
   "metadata": {},
   "outputs": [],
   "source": [
    "X = train.drop('Success_probability', axis=1)\n",
    "y = train['Success_probability']"
   ]
  },
  {
   "cell_type": "markdown",
   "id": "d3592d3e",
   "metadata": {},
   "source": [
    "# XGBoost"
   ]
  },
  {
   "cell_type": "code",
   "execution_count": 68,
   "id": "5475bc78",
   "metadata": {},
   "outputs": [],
   "source": [
    "# change the objective\n",
    "\n",
    "xgb_params = {\n",
    "    # 'tree_method':'gpu_hist',\n",
    "    'objective': 'reg:squarederror',\n",
    "    'booster': 'gbtree',\n",
    "    'n_estimators': 100,\n",
    "    'max_depth': 7,\n",
    "    'learning_rate': 0.01,\n",
    "#     'colsample_bytree': 0.3,\n",
    "#     'reg_alpha': 10,\n",
    "#     'gamma': 10,\n",
    "#     'min_child_weight': 0.4,\n",
    "#     'subsample': 0.9,\n",
    "#     'colsample_bylevel': 0.4,\n",
    "#     'colsample_bynode': 0.6,\n",
    "#     'reg_lambda': 10,\n",
    "#     'scale_pos_weight': 4,\n",
    "#     'importance_type': 'gain',\n",
    "#     'max_delta_step': ,\n",
    "#     'base_score': ,\n",
    "#     'tree_method': 'auto',\n",
    "#     'missing': ,\n",
    "#     'num_parallel_tree': ,\n",
    "#     'monotone_constraints': ,\n",
    "#     'interaction_constraints': ,\n",
    "    'n_jobs': -1,\n",
    "    'verbosity': 1,\n",
    "}"
   ]
  },
  {
   "cell_type": "code",
   "execution_count": 69,
   "id": "02d6850d",
   "metadata": {},
   "outputs": [],
   "source": [
    "def get_kfold_prediction(X, y, test_data, hyperparams, n_folds=5):\n",
    "    scores = []\n",
    "    oof_preds = np.zeros(test_data.shape[0])\n",
    "    kf = KFold(n_splits=n_folds)\n",
    "\n",
    "    for fold, (train_index, valid_index) in tqdm(enumerate(kf.split(X)), total=n_folds):\n",
    "\n",
    "        train_x, valid_x = X.values[train_index], X.values[valid_index]\n",
    "        train_y, valid_y = y[train_index], y[valid_index]\n",
    "\n",
    "        #########################\n",
    "        # Initialize model here #\n",
    "        #########################\n",
    "        model = xgb.XGBRegressor(**hyperparams)\n",
    "        model.fit(train_x, train_y)\n",
    "\n",
    "        preds = model.predict(valid_x)\n",
    "\n",
    "        # change metric according to requirement\n",
    "        score = np.sqrt(mean_squared_error(valid_y, preds))\n",
    "        \n",
    "        scores.append(score)\n",
    "\n",
    "        # change this according to requirement\n",
    "        oof_preds += model.predict(test_data.values) / n_folds\n",
    "\n",
    "        print(f\"Fold {fold + 1}: {score:.6f}\")\n",
    "\n",
    "    print(f'Mean Score: {np.mean(scores)}')\n",
    "    \n",
    "    return oof_preds"
   ]
  },
  {
   "cell_type": "code",
   "execution_count": 70,
   "id": "af5074cf",
   "metadata": {},
   "outputs": [
    {
     "data": {
      "application/vnd.jupyter.widget-view+json": {
       "model_id": "2213bd5f6b9e40729e3e8bb5f282fddf",
       "version_major": 2,
       "version_minor": 0
      },
      "text/plain": [
       "  0%|          | 0/10 [00:00<?, ?it/s]"
      ]
     },
     "metadata": {},
     "output_type": "display_data"
    },
    {
     "name": "stdout",
     "output_type": "stream",
     "text": [
      "Fold 1: 29.978677\n",
      "Fold 2: 29.885446\n",
      "Fold 3: 28.858802\n",
      "Fold 4: 29.107278\n",
      "Fold 5: 29.260827\n",
      "Fold 6: 29.556834\n",
      "Fold 7: 29.446518\n",
      "Fold 8: 30.097326\n",
      "Fold 9: 28.754549\n",
      "Fold 10: 29.647201\n",
      "Mean Score: 29.459345712564847\n"
     ]
    }
   ],
   "source": [
    "final_preds = get_kfold_prediction(X, y, test, xgb_params, 10)"
   ]
  },
  {
   "cell_type": "code",
   "execution_count": 71,
   "id": "c0a64be9",
   "metadata": {},
   "outputs": [
    {
     "name": "stdout",
     "output_type": "stream",
     "text": [
      "(2093, 2)\n"
     ]
    },
    {
     "data": {
      "text/html": [
       "<div>\n",
       "<style scoped>\n",
       "    .dataframe tbody tr th:only-of-type {\n",
       "        vertical-align: middle;\n",
       "    }\n",
       "\n",
       "    .dataframe tbody tr th {\n",
       "        vertical-align: top;\n",
       "    }\n",
       "\n",
       "    .dataframe thead th {\n",
       "        text-align: right;\n",
       "    }\n",
       "</style>\n",
       "<table border=\"1\" class=\"dataframe\">\n",
       "  <thead>\n",
       "    <tr style=\"text-align: right;\">\n",
       "      <th></th>\n",
       "      <th>Deal_title</th>\n",
       "      <th>Success_probability</th>\n",
       "    </tr>\n",
       "  </thead>\n",
       "  <tbody>\n",
       "    <tr>\n",
       "      <th>0</th>\n",
       "      <td>TitleAD16O</td>\n",
       "      <td>36.762372</td>\n",
       "    </tr>\n",
       "    <tr>\n",
       "      <th>1</th>\n",
       "      <td>TitleOW6CR</td>\n",
       "      <td>41.362684</td>\n",
       "    </tr>\n",
       "    <tr>\n",
       "      <th>2</th>\n",
       "      <td>TitleVVJQ5</td>\n",
       "      <td>44.518299</td>\n",
       "    </tr>\n",
       "    <tr>\n",
       "      <th>3</th>\n",
       "      <td>TitleUS8NA</td>\n",
       "      <td>42.065948</td>\n",
       "    </tr>\n",
       "    <tr>\n",
       "      <th>4</th>\n",
       "      <td>Title5VGWW</td>\n",
       "      <td>43.843989</td>\n",
       "    </tr>\n",
       "  </tbody>\n",
       "</table>\n",
       "</div>"
      ],
      "text/plain": [
       "   Deal_title  Success_probability\n",
       "0  TitleAD16O            36.762372\n",
       "1  TitleOW6CR            41.362684\n",
       "2  TitleVVJQ5            44.518299\n",
       "3  TitleUS8NA            42.065948\n",
       "4  Title5VGWW            43.843989"
      ]
     },
     "execution_count": 71,
     "metadata": {},
     "output_type": "execute_result"
    }
   ],
   "source": [
    "sub = pd.DataFrame({\n",
    "    'Deal_title': raw_test['Deal_title'], 'Success_probability': final_preds\n",
    "})\n",
    "print(sub.shape)\n",
    "sub.head()"
   ]
  },
  {
   "cell_type": "code",
   "execution_count": 72,
   "id": "99f30d1e",
   "metadata": {},
   "outputs": [
    {
     "data": {
      "image/png": "[encoded data removed]",
      "text/plain": [
       "<Figure size 1080x432 with 2 Axes>"
      ]
     },
     "metadata": {
      "needs_background": "light"
     },
     "output_type": "display_data"
    }
   ],
   "source": [
    "fig, ax = plt.subplots(ncols=2, figsize=(15, 6))\n",
    "sub['Success_probability'].hist(ax=ax[0], bins=15)\n",
    "sub['Success_probability'].plot(ax=ax[1])\n",
    "\n",
    "ax[0].set_title('Histogram')\n",
    "ax[1].set_title('Predictions')\n",
    "\n",
    "plt.show()"
   ]
  },
  {
   "cell_type": "code",
   "execution_count": 73,
   "id": "eb4b90ac",
   "metadata": {},
   "outputs": [],
   "source": [
    "sub.to_csv('submissions/xgb_3.csv', index=False)"
   ]
  },
  {
   "cell_type": "code",
   "execution_count": null,
   "id": "b5c37e81",
   "metadata": {},
   "outputs": [],
   "source": []
  }
 ],
 "metadata": {
  "kernelspec": {
   "display_name": "Python 3",
   "language": "python",
   "name": "python3"
  },
  "language_info": {
   "codemirror_mode": {
    "name": "ipython",
    "version": 3
   },
   "file_extension": ".py",
   "mimetype": "text/x-python",
   "name": "python",
   "nbconvert_exporter": "python",
   "pygments_lexer": "ipython3",
   "version": "3.8.8"
  },
  "toc": {
   "base_numbering": 1,
   "nav_menu": {},
   "number_sections": true,
   "sideBar": true,
   "skip_h1_title": false,
   "title_cell": "Table of Contents",
   "title_sidebar": "Contents",
   "toc_cell": false,
   "toc_position": {
    "height": "calc(100% - 180px)",
    "left": "10px",
    "top": "150px",
    "width": "206.484px"
   },
   "toc_section_display": true,
   "toc_window_display": true
  }
 },
 "nbformat": 4,
 "nbformat_minor": 5
}
