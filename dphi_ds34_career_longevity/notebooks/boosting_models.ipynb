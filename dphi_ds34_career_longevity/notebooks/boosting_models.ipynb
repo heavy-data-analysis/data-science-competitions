{
 "cells": [
  {
   "cell_type": "code",
   "execution_count": 74,
   "id": "8d1d103e",
   "metadata": {},
   "outputs": [],
   "source": [
    "import os\n",
    "import joblib\n",
    "\n",
    "import matplotlib\n",
    "import numpy as np\n",
    "import pandas as pd\n",
    "import seaborn as sns\n",
    "import missingno as msno\n",
    "import matplotlib.pyplot as plt\n",
    "from scipy import stats\n",
    "\n",
    "from sklearn.model_selection import train_test_split, cross_val_score, KFold\n",
    "from sklearn.preprocessing import StandardScaler, LabelEncoder, RobustScaler, OneHotEncoder\n",
    "from sklearn.metrics import accuracy_score\n",
    "from sklearn.ensemble import RandomForestClassifier, GradientBoostingClassifier\n",
    "\n",
    "import shap\n",
    "import optuna\n",
    "import category_encoders as ce\n",
    "import optuna.visualization as vis\n",
    "\n",
    "import xgboost as xgb\n",
    "import lightgbm as lgb\n",
    "import catboost as cat\n",
    "\n",
    "from tqdm.notebook import tqdm\n",
    "\n",
    "import warnings\n",
    "warnings.filterwarnings('ignore')"
   ]
  },
  {
   "cell_type": "code",
   "execution_count": 75,
   "id": "3a87cc51",
   "metadata": {},
   "outputs": [],
   "source": [
    "train = pd.read_csv('../data/clean_train1.csv')\n",
    "test = pd.read_csv('../data/clean_test1.csv')"
   ]
  },
  {
   "cell_type": "code",
   "execution_count": 76,
   "id": "3eac8704",
   "metadata": {},
   "outputs": [
    {
     "name": "stdout",
     "output_type": "stream",
     "text": [
      "<class 'pandas.core.frame.DataFrame'>\n",
      "RangeIndex: 1101 entries, 0 to 1100\n",
      "Data columns (total 20 columns):\n",
      " #   Column   Non-Null Count  Dtype  \n",
      "---  ------   --------------  -----  \n",
      " 0   GP       1101 non-null   float64\n",
      " 1   MIN      1101 non-null   float64\n",
      " 2   PTS      1101 non-null   float64\n",
      " 3   FGM      1101 non-null   float64\n",
      " 4   FGA      1101 non-null   float64\n",
      " 5   FG%      1101 non-null   float64\n",
      " 6   3P Made  1101 non-null   float64\n",
      " 7   3PA      1101 non-null   float64\n",
      " 8   3P%      1101 non-null   float64\n",
      " 9   FTM      1101 non-null   float64\n",
      " 10  FTA      1101 non-null   float64\n",
      " 11  FT%      1101 non-null   float64\n",
      " 12  OREB     1101 non-null   float64\n",
      " 13  DREB     1101 non-null   float64\n",
      " 14  REB      1101 non-null   float64\n",
      " 15  AST      1101 non-null   float64\n",
      " 16  STL      1101 non-null   float64\n",
      " 17  BLK      1101 non-null   float64\n",
      " 18  TOV      1101 non-null   float64\n",
      " 19  Target   1101 non-null   int64  \n",
      "dtypes: float64(19), int64(1)\n",
      "memory usage: 172.2 KB\n",
      "None\n"
     ]
    },
    {
     "data": {
      "text/html": [
       "<div>\n",
       "<style scoped>\n",
       "    .dataframe tbody tr th:only-of-type {\n",
       "        vertical-align: middle;\n",
       "    }\n",
       "\n",
       "    .dataframe tbody tr th {\n",
       "        vertical-align: top;\n",
       "    }\n",
       "\n",
       "    .dataframe thead th {\n",
       "        text-align: right;\n",
       "    }\n",
       "</style>\n",
       "<table border=\"1\" class=\"dataframe\">\n",
       "  <thead>\n",
       "    <tr style=\"text-align: right;\">\n",
       "      <th></th>\n",
       "      <th>GP</th>\n",
       "      <th>MIN</th>\n",
       "      <th>PTS</th>\n",
       "      <th>FGM</th>\n",
       "      <th>FGA</th>\n",
       "      <th>FG%</th>\n",
       "      <th>3P Made</th>\n",
       "      <th>3PA</th>\n",
       "      <th>3P%</th>\n",
       "      <th>FTM</th>\n",
       "      <th>FTA</th>\n",
       "      <th>FT%</th>\n",
       "      <th>OREB</th>\n",
       "      <th>DREB</th>\n",
       "      <th>REB</th>\n",
       "      <th>AST</th>\n",
       "      <th>STL</th>\n",
       "      <th>BLK</th>\n",
       "      <th>TOV</th>\n",
       "      <th>Target</th>\n",
       "    </tr>\n",
       "  </thead>\n",
       "  <tbody>\n",
       "    <tr>\n",
       "      <th>0</th>\n",
       "      <td>-0.046431</td>\n",
       "      <td>-0.374135</td>\n",
       "      <td>-0.795033</td>\n",
       "      <td>-0.819002</td>\n",
       "      <td>-1.129274</td>\n",
       "      <td>1.166817</td>\n",
       "      <td>0.386891</td>\n",
       "      <td>-0.222559</td>\n",
       "      <td>50.0</td>\n",
       "      <td>-0.527282</td>\n",
       "      <td>-0.856955</td>\n",
       "      <td>0.721175</td>\n",
       "      <td>0.574642</td>\n",
       "      <td>0.622515</td>\n",
       "      <td>0.575923</td>\n",
       "      <td>-0.917968</td>\n",
       "      <td>-0.795424</td>\n",
       "      <td>0.690810</td>\n",
       "      <td>-1.218283</td>\n",
       "      <td>1</td>\n",
       "    </tr>\n",
       "    <tr>\n",
       "      <th>1</th>\n",
       "      <td>-1.547890</td>\n",
       "      <td>-0.738111</td>\n",
       "      <td>-0.795033</td>\n",
       "      <td>-0.957288</td>\n",
       "      <td>-0.667467</td>\n",
       "      <td>-1.445737</td>\n",
       "      <td>1.210295</td>\n",
       "      <td>1.381483</td>\n",
       "      <td>25.8</td>\n",
       "      <td>-0.991488</td>\n",
       "      <td>-0.685844</td>\n",
       "      <td>-1.454645</td>\n",
       "      <td>-1.095813</td>\n",
       "      <td>-0.567403</td>\n",
       "      <td>-0.791302</td>\n",
       "      <td>-1.138188</td>\n",
       "      <td>-0.795424</td>\n",
       "      <td>-0.754473</td>\n",
       "      <td>-2.431858</td>\n",
       "      <td>0</td>\n",
       "    </tr>\n",
       "    <tr>\n",
       "      <th>2</th>\n",
       "      <td>-0.675515</td>\n",
       "      <td>-1.017193</td>\n",
       "      <td>-0.300396</td>\n",
       "      <td>-0.348123</td>\n",
       "      <td>-0.610042</td>\n",
       "      <td>0.962458</td>\n",
       "      <td>-0.947395</td>\n",
       "      <td>-0.781462</td>\n",
       "      <td>0.0</td>\n",
       "      <td>0.293510</td>\n",
       "      <td>0.479642</td>\n",
       "      <td>-0.939706</td>\n",
       "      <td>-0.781027</td>\n",
       "      <td>-1.053931</td>\n",
       "      <td>-1.031504</td>\n",
       "      <td>-0.383897</td>\n",
       "      <td>-0.007412</td>\n",
       "      <td>0.690810</td>\n",
       "      <td>0.024180</td>\n",
       "      <td>0</td>\n",
       "    </tr>\n",
       "    <tr>\n",
       "      <th>3</th>\n",
       "      <td>1.270732</td>\n",
       "      <td>1.274604</td>\n",
       "      <td>1.221767</td>\n",
       "      <td>0.896423</td>\n",
       "      <td>1.204391</td>\n",
       "      <td>-1.075568</td>\n",
       "      <td>1.763193</td>\n",
       "      <td>1.763725</td>\n",
       "      <td>32.9</td>\n",
       "      <td>1.560218</td>\n",
       "      <td>1.332446</td>\n",
       "      <td>1.565884</td>\n",
       "      <td>0.124446</td>\n",
       "      <td>0.035627</td>\n",
       "      <td>0.072522</td>\n",
       "      <td>1.606109</td>\n",
       "      <td>1.618826</td>\n",
       "      <td>-0.754473</td>\n",
       "      <td>1.470639</td>\n",
       "      <td>1</td>\n",
       "    </tr>\n",
       "    <tr>\n",
       "      <th>4</th>\n",
       "      <td>-0.105482</td>\n",
       "      <td>0.385780</td>\n",
       "      <td>0.140615</td>\n",
       "      <td>-0.151647</td>\n",
       "      <td>0.222317</td>\n",
       "      <td>-1.198129</td>\n",
       "      <td>-0.947395</td>\n",
       "      <td>-0.781462</td>\n",
       "      <td>25.0</td>\n",
       "      <td>1.003075</td>\n",
       "      <td>1.239557</td>\n",
       "      <td>-0.922297</td>\n",
       "      <td>-0.508745</td>\n",
       "      <td>-1.246234</td>\n",
       "      <td>-1.031504</td>\n",
       "      <td>0.734019</td>\n",
       "      <td>1.346068</td>\n",
       "      <td>-0.123071</td>\n",
       "      <td>1.017282</td>\n",
       "      <td>0</td>\n",
       "    </tr>\n",
       "  </tbody>\n",
       "</table>\n",
       "</div>"
      ],
      "text/plain": [
       "         GP       MIN       PTS       FGM       FGA       FG%   3P Made  \\\n",
       "0 -0.046431 -0.374135 -0.795033 -0.819002 -1.129274  1.166817  0.386891   \n",
       "1 -1.547890 -0.738111 -0.795033 -0.957288 -0.667467 -1.445737  1.210295   \n",
       "2 -0.675515 -1.017193 -0.300396 -0.348123 -0.610042  0.962458 -0.947395   \n",
       "3  1.270732  1.274604  1.221767  0.896423  1.204391 -1.075568  1.763193   \n",
       "4 -0.105482  0.385780  0.140615 -0.151647  0.222317 -1.198129 -0.947395   \n",
       "\n",
       "        3PA   3P%       FTM       FTA       FT%      OREB      DREB       REB  \\\n",
       "0 -0.222559  50.0 -0.527282 -0.856955  0.721175  0.574642  0.622515  0.575923   \n",
       "1  1.381483  25.8 -0.991488 -0.685844 -1.454645 -1.095813 -0.567403 -0.791302   \n",
       "2 -0.781462   0.0  0.293510  0.479642 -0.939706 -0.781027 -1.053931 -1.031504   \n",
       "3  1.763725  32.9  1.560218  1.332446  1.565884  0.124446  0.035627  0.072522   \n",
       "4 -0.781462  25.0  1.003075  1.239557 -0.922297 -0.508745 -1.246234 -1.031504   \n",
       "\n",
       "        AST       STL       BLK       TOV  Target  \n",
       "0 -0.917968 -0.795424  0.690810 -1.218283       1  \n",
       "1 -1.138188 -0.795424 -0.754473 -2.431858       0  \n",
       "2 -0.383897 -0.007412  0.690810  0.024180       0  \n",
       "3  1.606109  1.618826 -0.754473  1.470639       1  \n",
       "4  0.734019  1.346068 -0.123071  1.017282       0  "
      ]
     },
     "execution_count": 76,
     "metadata": {},
     "output_type": "execute_result"
    }
   ],
   "source": [
    "print(train.info())\n",
    "train.head()"
   ]
  },
  {
   "cell_type": "code",
   "execution_count": 118,
   "id": "e81e625c",
   "metadata": {},
   "outputs": [],
   "source": [
    "X = train.drop('Target', axis=1)\n",
    "y = train['Target']"
   ]
  },
  {
   "cell_type": "markdown",
   "id": "b9329d9a",
   "metadata": {},
   "source": [
    "# simple models"
   ]
  },
  {
   "cell_type": "code",
   "execution_count": 119,
   "id": "f554247a",
   "metadata": {},
   "outputs": [
    {
     "name": "stdout",
     "output_type": "stream",
     "text": [
      "[0.74774775 0.72727273 0.77272727 0.7        0.72727273 0.77272727\n",
      " 0.69090909 0.72727273 0.78181818 0.69090909]\n"
     ]
    },
    {
     "data": {
      "text/plain": [
       "0.7338656838656838"
      ]
     },
     "execution_count": 119,
     "metadata": {},
     "output_type": "execute_result"
    }
   ],
   "source": [
    "rfc = RandomForestClassifier(n_estimators=200, max_depth=15, random_state=1234)\n",
    "scores = cross_val_score(rfc, X, y, cv=10)\n",
    "print(scores)\n",
    "scores.mean()"
   ]
  },
  {
   "cell_type": "code",
   "execution_count": 120,
   "id": "dac5bd83",
   "metadata": {},
   "outputs": [
    {
     "data": {
      "text/plain": [
       "RandomForestClassifier(max_depth=15, n_estimators=200, random_state=1234)"
      ]
     },
     "execution_count": 120,
     "metadata": {},
     "output_type": "execute_result"
    }
   ],
   "source": [
    "rfc.fit(X, y)"
   ]
  },
  {
   "cell_type": "code",
   "execution_count": 121,
   "id": "47dc7418",
   "metadata": {},
   "outputs": [
    {
     "data": {
      "text/plain": [
       "<AxesSubplot:xlabel='imp', ylabel='feats'>"
      ]
     },
     "execution_count": 121,
     "metadata": {},
     "output_type": "execute_result"
    },
    {
     "data": {
      "image/png": "[encoded data removed]",
      "text/plain": [
       "<Figure size 432x432 with 1 Axes>"
      ]
     },
     "metadata": {
      "needs_background": "light"
     },
     "output_type": "display_data"
    }
   ],
   "source": [
    "feat_imp = pd.DataFrame({\n",
    "    'feats': X.columns.tolist(),\n",
    "    'imp': rfc.feature_importances_\n",
    "})\n",
    "\n",
    "plt.figure(figsize=(6, 6))\n",
    "sns.barplot(data=feat_imp, x='imp', y='feats')"
   ]
  },
  {
   "cell_type": "code",
   "execution_count": 123,
   "id": "eade85fb",
   "metadata": {},
   "outputs": [
    {
     "data": {
      "text/plain": [
       "array([0.18980802, 0.07681222, 0.17859095, 0.03957936, 0.88227679,\n",
       "       0.10226544, 0.86091667, 0.1205185 , 0.01160379, 0.13916805,\n",
       "       0.33441729, 0.76627885, 0.88321225, 0.9125    , 0.09765276,\n",
       "       0.78547028, 0.70228148, 0.1143526 , 0.9599881 , 0.908     ,\n",
       "       0.0859201 , 0.05845004, 0.19521679, 0.06552652, 0.17308205,\n",
       "       0.38277778, 0.04396916, 0.82371795, 0.77701183, 0.84758333,\n",
       "       0.89956767, 0.9425    , 0.22638964, 0.95394643, 0.09147178,\n",
       "       0.98033333, 0.87332418, 0.90056061, 0.88959848, 0.93666667,\n",
       "       0.06036573, 0.83492891, 0.12858349, 0.965     , 0.0972751 ,\n",
       "       0.08703603, 0.93      , 0.8642602 , 0.7812024 , 0.06078753,\n",
       "       0.21082143, 0.12844695, 0.71688177, 0.20741361, 0.91683333,\n",
       "       0.15691856, 0.06666667, 0.0671646 , 0.22672384, 0.00728157,\n",
       "       0.78723389, 0.73016601, 0.05630093, 0.19130634, 0.12584597,\n",
       "       0.90128788, 0.85126887, 0.19589286, 0.63656647, 0.10751938,\n",
       "       0.15302527, 0.19766288, 0.28635714, 0.75761689, 0.19039763,\n",
       "       0.04423496, 0.90159558, 0.3625    , 0.00733354, 0.14552632,\n",
       "       0.895     , 0.935     , 0.22392674, 0.08193438, 0.11434149,\n",
       "       0.05845399, 0.73625841, 0.11898761, 0.75959863, 0.96354167,\n",
       "       0.16590635, 0.03853797, 0.14711405, 0.04547513, 0.7574728 ,\n",
       "       0.14281026, 0.90625   , 0.14568254, 0.91332143, 0.81979167,\n",
       "       0.51431488, 0.24557748, 0.04409019, 0.85041667, 0.29997845,\n",
       "       0.885     , 0.08746534, 0.78428571, 0.71785714, 0.21976868,\n",
       "       0.09676316, 0.94545455, 0.36      , 0.1372813 , 0.73565698,\n",
       "       0.07588962, 0.17109171, 0.19829182, 0.83506723, 0.9875    ,\n",
       "       0.33944444, 0.95318627, 0.04071862, 0.02937049, 0.9525    ,\n",
       "       0.14005069, 0.0366371 , 0.59875   , 0.89538636, 0.4073878 ,\n",
       "       0.07631037, 0.21017648, 0.27264444, 0.206     , 0.88      ,\n",
       "       0.21597154, 0.26109008, 0.02509047, 0.86922533, 0.82658307,\n",
       "       0.93416667, 0.03720158, 0.9425    , 0.18285804, 0.75      ,\n",
       "       0.2098555 , 0.93382143, 0.0658127 , 0.54177381, 0.8642602 ,\n",
       "       0.11346513, 0.7740625 , 0.965     , 0.15552905, 0.75422611,\n",
       "       0.94655159, 0.06110579, 0.13425   , 0.05180281, 0.81983658,\n",
       "       0.03931224, 0.14345411, 0.1774338 , 0.20363107, 0.86983526,\n",
       "       0.9175    , 0.12626102, 0.25838182, 0.07308124, 0.08026679,\n",
       "       0.91257143, 0.11227358, 0.11      , 0.78227981, 0.10161467,\n",
       "       0.2716023 , 0.12177841, 0.87516565, 0.65445489, 0.975     ,\n",
       "       0.88462121, 0.69955128, 0.11496429, 0.06627599, 0.86308526,\n",
       "       0.02850193, 0.29077143, 0.08076923, 0.73886289, 0.19608064,\n",
       "       0.8747381 , 0.17742813, 0.79532257, 0.225     , 0.07433054,\n",
       "       0.96      , 0.13011877, 0.18157002, 0.77980089, 0.71603932,\n",
       "       0.0558883 , 0.25471861, 0.97333333, 0.23733929, 0.88694444,\n",
       "       0.83911149, 0.12327302, 0.14112519, 0.07009887, 0.10592972,\n",
       "       0.84044719, 0.22577895, 0.12224243, 0.92273232, 0.05338745,\n",
       "       0.07743105, 0.94125   , 0.81039588, 0.19107515, 0.81145687,\n",
       "       0.14654026, 0.80494444, 0.10177869, 0.20763346, 0.93166667,\n",
       "       0.06059476, 0.98185714, 0.22352516, 0.0978258 , 0.89939977,\n",
       "       0.83469593, 0.92156566, 0.74892343, 0.88403571, 0.08813135,\n",
       "       0.15125153, 0.08940136, 0.96      , 0.91347826, 0.84984848,\n",
       "       0.48748601, 0.96125   , 0.97      , 0.07206188, 0.07223258,\n",
       "       0.17245235, 0.90751822, 0.86      , 0.01975193, 0.03100919,\n",
       "       0.06743628, 0.05079558, 0.13589967, 0.07058394, 0.1337273 ,\n",
       "       0.73621952, 0.25300595, 0.83666667, 0.94      , 0.79813559,\n",
       "       0.87      , 0.85901961, 0.14984995, 0.91450855, 0.16004649,\n",
       "       0.04565587, 0.97      , 0.94916667, 0.82333333, 0.80473644,\n",
       "       0.12261675, 0.90368056, 0.09179459, 0.76254969, 0.10614501,\n",
       "       0.91041667, 0.915     , 0.07384361, 0.10552929, 0.95133333,\n",
       "       0.14754182, 0.88512504, 0.89289406, 0.08347195, 0.04302051,\n",
       "       0.955     , 0.18846923, 0.80645105, 0.01361273, 0.08018707,\n",
       "       0.19748713, 0.9297331 , 0.12626199, 0.165     , 0.925     ,\n",
       "       0.88269007, 0.9925    , 0.05007077, 0.90333333, 0.02351763,\n",
       "       0.15854519, 0.15642729, 0.9765    , 0.89056767, 0.95489899,\n",
       "       0.27698563, 0.04773411, 0.75478312, 0.18      , 0.0613248 ,\n",
       "       0.09236152, 0.85109848, 0.286     , 0.70973652, 0.70589492,\n",
       "       0.919     , 0.70010636, 0.9215    , 0.09412287, 0.08038076,\n",
       "       0.67391757, 0.28576923, 0.9075    , 0.2596515 , 0.20082143,\n",
       "       0.73518206, 0.05344839, 0.04609064, 0.84455072, 0.89      ,\n",
       "       0.78540598, 0.75665004, 0.85417388, 0.21726984, 0.14983545,\n",
       "       0.91      , 0.72719466, 0.68221128, 0.84286325, 0.05804043,\n",
       "       0.12886774, 0.07023344, 0.04009929, 0.1347096 , 0.16806326,\n",
       "       0.68662967, 0.51069664, 0.79271911, 0.21168915, 0.33441729,\n",
       "       0.83096931, 0.08407777, 0.06840303, 0.246     , 0.7598905 ,\n",
       "       0.91381944, 0.2649359 , 0.00890101, 0.96416667, 0.01096421,\n",
       "       0.8288342 , 0.11453924, 0.24519298, 0.899375  , 0.83690296,\n",
       "       0.29083333, 0.72986715, 0.84978431, 0.98179739, 0.09244864,\n",
       "       0.11453041, 0.94      , 0.66535717, 0.51069664, 0.84217255,\n",
       "       0.75769021, 0.925625  , 0.9125    , 0.10112796, 0.7250242 ,\n",
       "       0.10071287, 0.12288894, 0.83816071, 0.05693877, 0.95165514,\n",
       "       0.82463971, 0.195     , 0.9347208 , 0.83044444, 0.09252787,\n",
       "       0.96375   , 0.221     , 0.91433081, 0.0466568 , 0.07835122,\n",
       "       0.955     , 0.87524297, 0.75846586, 0.07063957, 0.374375  ,\n",
       "       0.92016382, 0.98      , 0.15068182, 0.04673588, 0.11453041,\n",
       "       0.8255368 , 0.12682286, 0.94625   , 0.83544741, 0.73177351,\n",
       "       0.76303085, 0.92056061, 0.05165141, 0.80471694, 0.99      ,\n",
       "       0.02313712, 0.18444545, 0.10448511, 0.17694945, 0.17615814,\n",
       "       0.48748601, 0.90716667, 0.75488777, 0.02291777, 0.2646652 ,\n",
       "       0.9224881 , 0.8498961 , 0.03165038, 0.7975    , 0.26492059,\n",
       "       0.06496429, 0.15015873, 0.81811061, 0.75648366, 0.13483413,\n",
       "       0.8975    , 0.9625    , 0.10596433, 0.91333333, 0.86034307,\n",
       "       0.97      , 0.06637693, 0.89873016, 0.82071183, 0.23588629,\n",
       "       0.7218801 , 0.08137582, 0.135     , 0.09864156, 0.85815398,\n",
       "       0.21152632, 0.87537825, 0.9       , 0.13404128, 0.18752049,\n",
       "       0.11967661, 0.02455494, 0.18571918, 0.89210317, 0.89736111,\n",
       "       0.11272707, 0.2385    , 0.95      , 0.09130503, 0.10411271,\n",
       "       0.96485294, 0.91378952, 0.18573944, 0.88269007, 0.72850674,\n",
       "       0.17413941, 0.94457143, 0.88416667, 0.87666667, 0.27503788,\n",
       "       0.05841604, 0.9525    , 0.01562672, 0.59875   , 0.72378788,\n",
       "       0.83564103, 0.33441729, 0.05417767, 0.80458333, 0.8576686 ,\n",
       "       0.98      , 0.876     , 0.14563505, 0.8       , 0.7386422 ,\n",
       "       0.24382182, 0.20120105, 0.12191536, 0.81173434, 0.09398725,\n",
       "       0.17837742, 0.53027976, 0.05793505, 0.92272727, 0.18995202,\n",
       "       0.72256363, 0.06483084, 0.17995315, 0.85878788, 0.9275    ,\n",
       "       0.84749806, 0.09436521, 0.08543335, 0.06925114, 0.04060327,\n",
       "       0.81776587, 0.11444746, 0.885     , 0.17473819, 0.13165671,\n",
       "       0.755     , 0.85814649, 0.17054057, 0.17383234, 1.        ,\n",
       "       0.96      , 0.25633905, 0.03301586, 0.02696952, 0.98      ,\n",
       "       0.91398551, 0.95375   , 0.10810534, 0.21324096, 0.77605965,\n",
       "       0.12126031, 0.16016204, 0.68377814, 0.80791667, 0.2524359 ,\n",
       "       0.96      , 0.905     , 0.75330769, 0.25222457, 0.74069444,\n",
       "       0.51133929, 0.06971618, 0.79204762, 0.815     , 0.12561142,\n",
       "       0.10807457, 0.54177381, 0.99233333, 0.14727798, 0.10595706,\n",
       "       0.85486111, 0.80958625, 0.97923077, 0.12087454, 0.92235294])"
      ]
     },
     "execution_count": 123,
     "metadata": {},
     "output_type": "execute_result"
    }
   ],
   "source": [
    "probs = rfc.predict_proba(test)[:, 1]\n",
    "probs"
   ]
  },
  {
   "cell_type": "code",
   "execution_count": 176,
   "id": "3c4a5839",
   "metadata": {},
   "outputs": [
    {
     "name": "stdout",
     "output_type": "stream",
     "text": [
      "25 0.3827777777777777\n",
      "68 0.6365664699389078\n",
      "100 0.5143148833973643\n",
      "127 0.5987499999999998\n",
      "129 0.4073877994610753\n",
      "148 0.5417738095238096\n",
      "240 0.48748601354661114\n",
      "346 0.5106966422466424\n",
      "373 0.5106966422466424\n",
      "420 0.48748601354661114\n",
      "478 0.5987499999999998\n",
      "496 0.5302797619047618\n",
      "540 0.5113392907204937\n",
      "546 0.5417738095238096\n"
     ]
    }
   ],
   "source": [
    "for i, val in enumerate(probs):\n",
    "    if 0.38 < val < 0.65:\n",
    "        print(i, val)"
   ]
  },
  {
   "cell_type": "markdown",
   "id": "fcbe3d51",
   "metadata": {},
   "source": [
    "- 100\n",
    "- 127 ----\n",
    "- 129 ----\n",
    "- 148 ----\n",
    "- 240\n",
    "- 346 ----\n",
    "- 373\n",
    "- 420 ----\n",
    "- 496 ----\n",
    "- 540\n",
    "- 546"
   ]
  },
  {
   "cell_type": "code",
   "execution_count": 177,
   "id": "097aa5b2",
   "metadata": {},
   "outputs": [
    {
     "name": "stdout",
     "output_type": "stream",
     "text": [
      "0    289\n",
      "1    266\n",
      "Name: prediction, dtype: int64\n",
      "(555, 1)\n"
     ]
    },
    {
     "data": {
      "text/html": [
       "<div>\n",
       "<style scoped>\n",
       "    .dataframe tbody tr th:only-of-type {\n",
       "        vertical-align: middle;\n",
       "    }\n",
       "\n",
       "    .dataframe tbody tr th {\n",
       "        vertical-align: top;\n",
       "    }\n",
       "\n",
       "    .dataframe thead th {\n",
       "        text-align: right;\n",
       "    }\n",
       "</style>\n",
       "<table border=\"1\" class=\"dataframe\">\n",
       "  <thead>\n",
       "    <tr style=\"text-align: right;\">\n",
       "      <th></th>\n",
       "      <th>prediction</th>\n",
       "    </tr>\n",
       "  </thead>\n",
       "  <tbody>\n",
       "    <tr>\n",
       "      <th>0</th>\n",
       "      <td>0</td>\n",
       "    </tr>\n",
       "    <tr>\n",
       "      <th>1</th>\n",
       "      <td>0</td>\n",
       "    </tr>\n",
       "    <tr>\n",
       "      <th>2</th>\n",
       "      <td>0</td>\n",
       "    </tr>\n",
       "    <tr>\n",
       "      <th>3</th>\n",
       "      <td>0</td>\n",
       "    </tr>\n",
       "    <tr>\n",
       "      <th>4</th>\n",
       "      <td>1</td>\n",
       "    </tr>\n",
       "  </tbody>\n",
       "</table>\n",
       "</div>"
      ],
      "text/plain": [
       "   prediction\n",
       "0           0\n",
       "1           0\n",
       "2           0\n",
       "3           0\n",
       "4           1"
      ]
     },
     "execution_count": 177,
     "metadata": {},
     "output_type": "execute_result"
    }
   ],
   "source": [
    "rfc_preds = rfc.predict(test)\n",
    "\n",
    "sub = pd.DataFrame({\n",
    "    'prediction': rfc_preds\n",
    "})\n",
    "sub.iloc[[420, 129, 25], 0] = 1\n",
    "sub.iloc[[346, 496, 148, 127], 0] = 0\n",
    "# sub.iloc[[496], 0] = 0\n",
    "# sub.iloc[[148], 0] = 0\n",
    "\n",
    "print(sub['prediction'].value_counts())\n",
    "print(sub.shape)\n",
    "sub.head()"
   ]
  },
  {
   "cell_type": "code",
   "execution_count": 178,
   "id": "802ebf63",
   "metadata": {},
   "outputs": [],
   "source": [
    "sub.to_csv('../submissions/rfc14.csv', index=False)"
   ]
  },
  {
   "cell_type": "code",
   "execution_count": 113,
   "id": "39ea7b5e",
   "metadata": {},
   "outputs": [
    {
     "name": "stdout",
     "output_type": "stream",
     "text": [
      "0    288\n",
      "1    267\n",
      "Name: prediction, dtype: int64\n",
      "(555, 1)\n"
     ]
    },
    {
     "data": {
      "text/html": [
       "<div>\n",
       "<style scoped>\n",
       "    .dataframe tbody tr th:only-of-type {\n",
       "        vertical-align: middle;\n",
       "    }\n",
       "\n",
       "    .dataframe tbody tr th {\n",
       "        vertical-align: top;\n",
       "    }\n",
       "\n",
       "    .dataframe thead th {\n",
       "        text-align: right;\n",
       "    }\n",
       "</style>\n",
       "<table border=\"1\" class=\"dataframe\">\n",
       "  <thead>\n",
       "    <tr style=\"text-align: right;\">\n",
       "      <th></th>\n",
       "      <th>prediction</th>\n",
       "    </tr>\n",
       "  </thead>\n",
       "  <tbody>\n",
       "    <tr>\n",
       "      <th>0</th>\n",
       "      <td>0</td>\n",
       "    </tr>\n",
       "    <tr>\n",
       "      <th>1</th>\n",
       "      <td>0</td>\n",
       "    </tr>\n",
       "    <tr>\n",
       "      <th>2</th>\n",
       "      <td>0</td>\n",
       "    </tr>\n",
       "    <tr>\n",
       "      <th>3</th>\n",
       "      <td>0</td>\n",
       "    </tr>\n",
       "    <tr>\n",
       "      <th>4</th>\n",
       "      <td>1</td>\n",
       "    </tr>\n",
       "  </tbody>\n",
       "</table>\n",
       "</div>"
      ],
      "text/plain": [
       "   prediction\n",
       "0           0\n",
       "1           0\n",
       "2           0\n",
       "3           0\n",
       "4           1"
      ]
     },
     "execution_count": 113,
     "metadata": {},
     "output_type": "execute_result"
    }
   ],
   "source": [
    "pseudo_test = test.copy()\n",
    "best_sub = pd.read_csv('../submissions/rfc3.csv')['prediction']\n",
    "pseudo_test['Target'] = best_sub\n",
    "\n",
    "combine = train.append(pseudo_test)\n",
    "combine = combine.sample(frac=1).reset_index(drop=True)\n",
    "\n",
    "px = combine.drop('Target', axis=1)\n",
    "py = combine['Target']\n",
    "\n",
    "rfc.fit(px, py)\n",
    "\n",
    "rfc_preds = rfc.predict(test)\n",
    "\n",
    "sub = pd.DataFrame({\n",
    "    'prediction': rfc_preds\n",
    "})\n",
    "\n",
    "print(sub['prediction'].value_counts())\n",
    "print(sub.shape)\n",
    "sub.to_csv('../submissions/rfc4.csv', index=False)\n",
    "sub.head()\n",
    "# print(combine.shape)\n",
    "# combine.head()"
   ]
  },
  {
   "cell_type": "code",
   "execution_count": 117,
   "id": "c7ec0a7a",
   "metadata": {},
   "outputs": [
    {
     "data": {
      "text/plain": [
       "array([[0.94363823, 0.05636177],\n",
       "       [0.96087651, 0.03912349],\n",
       "       [0.9123206 , 0.0876794 ],\n",
       "       ...,\n",
       "       [0.03      , 0.97      ],\n",
       "       [0.94206355, 0.05793645],\n",
       "       [0.03313636, 0.96686364]])"
      ]
     },
     "execution_count": 117,
     "metadata": {},
     "output_type": "execute_result"
    }
   ],
   "source": [
    "rfc.predict_proba(test)"
   ]
  },
  {
   "cell_type": "code",
   "execution_count": 168,
   "id": "75fe3355",
   "metadata": {},
   "outputs": [
    {
     "data": {
      "text/plain": [
       "0.9981981981981982"
      ]
     },
     "execution_count": 168,
     "metadata": {},
     "output_type": "execute_result"
    }
   ],
   "source": [
    "554 / 555"
   ]
  },
  {
   "cell_type": "markdown",
   "id": "59564f6e",
   "metadata": {
    "heading_collapsed": true
   },
   "source": [
    "# boosting"
   ]
  },
  {
   "cell_type": "code",
   "execution_count": 62,
   "id": "48272d12",
   "metadata": {
    "hidden": true
   },
   "outputs": [],
   "source": [
    "def cross_validate(model, X, y, n_folds=10):\n",
    "    scores = []\n",
    "    kf = KFold(n_splits=n_folds)\n",
    "\n",
    "    for fold, (train_index, valid_index) in tqdm(enumerate(kf.split(X)), total=n_folds):\n",
    "\n",
    "        train_x, valid_x = X.iloc[train_index], X.iloc[valid_index]\n",
    "        train_y, valid_y = y[train_index], y[valid_index]\n",
    "\n",
    "        model.fit(\n",
    "            train_x, \n",
    "            train_y, \n",
    "            eval_set=[(valid_x, valid_y)], \n",
    "#             eval_metric='logloss',\n",
    "            early_stopping_rounds=100,\n",
    "            verbose=0,\n",
    "            use_best_model=True,\n",
    "        )\n",
    "\n",
    "        preds = model.predict(valid_x)\n",
    "        score = accuracy_score(valid_y, preds)\n",
    "        scores.append(score)\n",
    "        print(f\"Fold {fold + 1}: {score:.6f}\")\n",
    "\n",
    "    print(f'Mean Score: {np.mean(scores)}')"
   ]
  },
  {
   "cell_type": "code",
   "execution_count": 66,
   "id": "e9627f7e",
   "metadata": {
    "hidden": true
   },
   "outputs": [],
   "source": [
    "def get_kfold_prediction(model, X, y, test_data, n_folds=10):\n",
    "    scores = []\n",
    "    oof_probs = np.zeros(test_data.shape[0])\n",
    "    kf = KFold(n_splits=n_folds)\n",
    "\n",
    "    for fold, (train_index, valid_index) in tqdm(enumerate(kf.split(X)), total=n_folds):\n",
    "\n",
    "        train_x, valid_x = X.iloc[train_index], X.iloc[valid_index]\n",
    "        train_y, valid_y = y[train_index], y[valid_index]\n",
    "\n",
    "        model.fit(\n",
    "            train_x, \n",
    "            train_y, \n",
    "            eval_set=[(valid_x, valid_y)], \n",
    "#             eval_metric='logloss',\n",
    "            early_stopping_rounds=100,\n",
    "            verbose=0,\n",
    "            use_best_model=True,\n",
    "        )\n",
    "\n",
    "        preds = model.predict(valid_x)\n",
    "\n",
    "        # change metric according to requirement\n",
    "        score = accuracy_score(valid_y, preds)\n",
    "        scores.append(score)\n",
    "\n",
    "        # change this according to requirement\n",
    "        oof_probs += model.predict_proba(test_data)[:, 1] / n_folds\n",
    "\n",
    "        print(f\"Fold {fold + 1}: {score:.6f}\")\n",
    "\n",
    "    print(f'Mean Score: {np.mean(scores)}')\n",
    "\n",
    "    return oof_probs"
   ]
  },
  {
   "cell_type": "code",
   "execution_count": null,
   "id": "8d35899b",
   "metadata": {
    "hidden": true
   },
   "outputs": [],
   "source": []
  },
  {
   "cell_type": "markdown",
   "id": "a5c9e26b",
   "metadata": {
    "heading_collapsed": true
   },
   "source": [
    "# lightgbm"
   ]
  },
  {
   "cell_type": "code",
   "execution_count": 33,
   "id": "e0cc8462",
   "metadata": {
    "hidden": true
   },
   "outputs": [],
   "source": [
    "# change the objective and metric\n",
    "\n",
    "lgb_params = {\n",
    "#     'objective': 'classification',\n",
    "    'boosting_type': 'gbdt',\n",
    "    'n_estimators': 10000,\n",
    "    'learning_rate': 0.25,\n",
    "    'max_depth': 7,\n",
    "    'num_leaves': 64,  \n",
    "    'max_bin': 512,\n",
    "    'min_child_samples': 32,\n",
    "    'subsample': 0.75,\n",
    "    # 'bagging_freq': 10,\n",
    "    'reg_alpha': 0.01,\n",
    "    'reg_lambda': 0.5,\n",
    "    'early_stopping_round': 100,\n",
    "    # 'categorical_feature': '',\n",
    "    # 'min_child_weight': 0.01,\n",
    "    # 'colsample_bytree': 0.8,\n",
    "    # 'colsample_bynode': 0.8,\n",
    "    # 'random_strength': 2,\n",
    "    # 'one_hot_max_size': 4,\n",
    "    'verbose': -1,\n",
    "    'seed': 1234,\n",
    "    'n_jobs': -1,\n",
    "}\n",
    "\n",
    "lgb_model = lgb.LGBMClassifier(**lgb_params)"
   ]
  },
  {
   "cell_type": "code",
   "execution_count": 28,
   "id": "c8b0e8ff",
   "metadata": {
    "hidden": true
   },
   "outputs": [
    {
     "data": {
      "application/vnd.jupyter.widget-view+json": {
       "model_id": "af13b825e4574092becc719048e6e72d",
       "version_major": 2,
       "version_minor": 0
      },
      "text/plain": [
       "  0%|          | 0/10 [00:00<?, ?it/s]"
      ]
     },
     "metadata": {},
     "output_type": "display_data"
    },
    {
     "name": "stdout",
     "output_type": "stream",
     "text": [
      "Training until validation scores don't improve for 100 rounds\n",
      "[100]\tvalid_0's binary_logloss: 0.696197\n",
      "Early stopping, best iteration is:\n",
      "[12]\tvalid_0's binary_logloss: 0.545442\n",
      "Fold 1: 0.774775\n",
      "Training until validation scores don't improve for 100 rounds\n",
      "[100]\tvalid_0's binary_logloss: 0.669585\n",
      "Early stopping, best iteration is:\n",
      "[11]\tvalid_0's binary_logloss: 0.549594\n",
      "Fold 2: 0.745455\n",
      "Training until validation scores don't improve for 100 rounds\n",
      "[100]\tvalid_0's binary_logloss: 0.559332\n",
      "Early stopping, best iteration is:\n",
      "[34]\tvalid_0's binary_logloss: 0.505147\n",
      "Fold 3: 0.772727\n",
      "Training until validation scores don't improve for 100 rounds\n",
      "[100]\tvalid_0's binary_logloss: 0.797037\n",
      "Early stopping, best iteration is:\n",
      "[6]\tvalid_0's binary_logloss: 0.603767\n",
      "Fold 4: 0.709091\n",
      "Training until validation scores don't improve for 100 rounds\n",
      "[100]\tvalid_0's binary_logloss: 0.588147\n",
      "Early stopping, best iteration is:\n",
      "[9]\tvalid_0's binary_logloss: 0.533841\n",
      "Fold 5: 0.772727\n",
      "Training until validation scores don't improve for 100 rounds\n",
      "[100]\tvalid_0's binary_logloss: 0.666105\n",
      "Early stopping, best iteration is:\n",
      "[7]\tvalid_0's binary_logloss: 0.600782\n",
      "Fold 6: 0.709091\n",
      "Training until validation scores don't improve for 100 rounds\n",
      "[100]\tvalid_0's binary_logloss: 0.664457\n",
      "Early stopping, best iteration is:\n",
      "[20]\tvalid_0's binary_logloss: 0.559803\n",
      "Fold 7: 0.772727\n",
      "Training until validation scores don't improve for 100 rounds\n",
      "[100]\tvalid_0's binary_logloss: 0.765046\n",
      "Early stopping, best iteration is:\n",
      "[22]\tvalid_0's binary_logloss: 0.608498\n",
      "Fold 8: 0.672727\n",
      "Training until validation scores don't improve for 100 rounds\n",
      "[100]\tvalid_0's binary_logloss: 0.499769\n",
      "Early stopping, best iteration is:\n",
      "[49]\tvalid_0's binary_logloss: 0.458425\n",
      "Fold 9: 0.790909\n",
      "Training until validation scores don't improve for 100 rounds\n",
      "[100]\tvalid_0's binary_logloss: 0.693016\n",
      "Early stopping, best iteration is:\n",
      "[14]\tvalid_0's binary_logloss: 0.574578\n",
      "Fold 10: 0.690909\n",
      "Mean Score: 0.7411138411138412\n"
     ]
    }
   ],
   "source": [
    "cross_validate(lgb_model, X, y)"
   ]
  },
  {
   "cell_type": "code",
   "execution_count": 34,
   "id": "ff87ccc9",
   "metadata": {
    "hidden": true
   },
   "outputs": [
    {
     "data": {
      "application/vnd.jupyter.widget-view+json": {
       "model_id": "dc617d4d3d8b41dda58caf03a91b4ec9",
       "version_major": 2,
       "version_minor": 0
      },
      "text/plain": [
       "  0%|          | 0/10 [00:00<?, ?it/s]"
      ]
     },
     "metadata": {},
     "output_type": "display_data"
    },
    {
     "name": "stdout",
     "output_type": "stream",
     "text": [
      "Fold 1: 0.774775\n",
      "Fold 2: 0.745455\n",
      "Fold 3: 0.772727\n",
      "Fold 4: 0.709091\n",
      "Fold 5: 0.772727\n",
      "Fold 6: 0.709091\n",
      "Fold 7: 0.772727\n",
      "Fold 8: 0.672727\n",
      "Fold 9: 0.790909\n",
      "Fold 10: 0.690909\n",
      "Mean Score: 0.7411138411138412\n"
     ]
    }
   ],
   "source": [
    "lgb_probs = get_kfold_prediction(lgb_model, X, y, test) "
   ]
  },
  {
   "cell_type": "code",
   "execution_count": 55,
   "id": "871791e3",
   "metadata": {
    "hidden": true
   },
   "outputs": [
    {
     "name": "stdout",
     "output_type": "stream",
     "text": [
      "0    291\n",
      "1    264\n",
      "Name: prediction, dtype: int64\n",
      "(555, 1)\n"
     ]
    },
    {
     "data": {
      "text/html": [
       "<div>\n",
       "<style scoped>\n",
       "    .dataframe tbody tr th:only-of-type {\n",
       "        vertical-align: middle;\n",
       "    }\n",
       "\n",
       "    .dataframe tbody tr th {\n",
       "        vertical-align: top;\n",
       "    }\n",
       "\n",
       "    .dataframe thead th {\n",
       "        text-align: right;\n",
       "    }\n",
       "</style>\n",
       "<table border=\"1\" class=\"dataframe\">\n",
       "  <thead>\n",
       "    <tr style=\"text-align: right;\">\n",
       "      <th></th>\n",
       "      <th>prediction</th>\n",
       "    </tr>\n",
       "  </thead>\n",
       "  <tbody>\n",
       "    <tr>\n",
       "      <th>0</th>\n",
       "      <td>0</td>\n",
       "    </tr>\n",
       "    <tr>\n",
       "      <th>1</th>\n",
       "      <td>0</td>\n",
       "    </tr>\n",
       "    <tr>\n",
       "      <th>2</th>\n",
       "      <td>0</td>\n",
       "    </tr>\n",
       "    <tr>\n",
       "      <th>3</th>\n",
       "      <td>0</td>\n",
       "    </tr>\n",
       "    <tr>\n",
       "      <th>4</th>\n",
       "      <td>1</td>\n",
       "    </tr>\n",
       "  </tbody>\n",
       "</table>\n",
       "</div>"
      ],
      "text/plain": [
       "   prediction\n",
       "0           0\n",
       "1           0\n",
       "2           0\n",
       "3           0\n",
       "4           1"
      ]
     },
     "execution_count": 55,
     "metadata": {},
     "output_type": "execute_result"
    }
   ],
   "source": [
    "lgb_preds = np.where(lgb_probs >= 0.5, 1, 0)\n",
    "\n",
    "sub = pd.DataFrame({\n",
    "    'prediction': lgb_preds\n",
    "})\n",
    "\n",
    "print(sub['prediction'].value_counts())\n",
    "print(sub.shape)\n",
    "sub.head()"
   ]
  },
  {
   "cell_type": "code",
   "execution_count": 39,
   "id": "ba2f177c",
   "metadata": {
    "hidden": true
   },
   "outputs": [],
   "source": [
    "sub.to_csv('../submissions/lgb2.csv', index=False)"
   ]
  },
  {
   "cell_type": "markdown",
   "id": "264071a3",
   "metadata": {
    "heading_collapsed": true
   },
   "source": [
    "# xgboost"
   ]
  },
  {
   "cell_type": "code",
   "execution_count": 50,
   "id": "ea7c2b0b",
   "metadata": {
    "hidden": true
   },
   "outputs": [],
   "source": [
    "# change the objective\n",
    "\n",
    "xgb_params = {\n",
    "    'objective': 'reg:squarederror',\n",
    "    'booster': 'gbtree',\n",
    "    'n_estimators': 5000,\n",
    "    'max_depth': 7,\n",
    "    'learning_rate': 0.05,\n",
    "#     'gamma': 10,\n",
    "    # 'min_child_weight': 0.4,\n",
    "    'subsample': 0.9,\n",
    "#     'colsample_bytree': 0.8,\n",
    "    # 'colsample_bylevel': 0.4,\n",
    "    # 'colsample_bynode': 0.6,\n",
    "    'reg_alpha': 0.01,\n",
    "    'reg_lambda': 0.5,\n",
    "    # 'scale_pos_weight': 4,\n",
    "    # 'importance_type': 'gain',\n",
    "    # 'max_delta_step': ,\n",
    "    # 'base_score': ,\n",
    "    # 'tree_method': 'auto',\n",
    "    # 'missing': ,\n",
    "    # 'num_parallel_tree': ,\n",
    "    # 'monotone_constraints': ,\n",
    "    # 'interaction_constraints': ,\n",
    "    'n_jobs': -1,\n",
    "    'random_state': 1234,\n",
    "    'verbosity': 1,\n",
    "}\n",
    "\n",
    "xgb_model = xgb.XGBClassifier(**xgb_params)"
   ]
  },
  {
   "cell_type": "code",
   "execution_count": 51,
   "id": "416855a8",
   "metadata": {
    "hidden": true
   },
   "outputs": [
    {
     "data": {
      "application/vnd.jupyter.widget-view+json": {
       "model_id": "d5df0d63758b438a838da5fb25fbbe96",
       "version_major": 2,
       "version_minor": 0
      },
      "text/plain": [
       "  0%|          | 0/10 [00:00<?, ?it/s]"
      ]
     },
     "metadata": {},
     "output_type": "display_data"
    },
    {
     "name": "stdout",
     "output_type": "stream",
     "text": [
      "Fold 1: 0.756757\n",
      "Fold 2: 0.736364\n",
      "Fold 3: 0.772727\n",
      "Fold 4: 0.681818\n",
      "Fold 5: 0.727273\n",
      "Fold 6: 0.736364\n",
      "Fold 7: 0.763636\n",
      "Fold 8: 0.681818\n",
      "Fold 9: 0.772727\n",
      "Fold 10: 0.672727\n",
      "Mean Score: 0.7302211302211302\n"
     ]
    }
   ],
   "source": [
    "cross_validate(xgb_model, X, y)"
   ]
  },
  {
   "cell_type": "code",
   "execution_count": 52,
   "id": "54f5d37d",
   "metadata": {
    "hidden": true
   },
   "outputs": [
    {
     "data": {
      "application/vnd.jupyter.widget-view+json": {
       "model_id": "409c68c451a84d25ac0245a1e84a1d1a",
       "version_major": 2,
       "version_minor": 0
      },
      "text/plain": [
       "  0%|          | 0/10 [00:00<?, ?it/s]"
      ]
     },
     "metadata": {},
     "output_type": "display_data"
    },
    {
     "name": "stdout",
     "output_type": "stream",
     "text": [
      "Fold 1: 0.756757\n",
      "Fold 2: 0.736364\n",
      "Fold 3: 0.772727\n",
      "Fold 4: 0.681818\n",
      "Fold 5: 0.727273\n",
      "Fold 6: 0.736364\n",
      "Fold 7: 0.763636\n",
      "Fold 8: 0.681818\n",
      "Fold 9: 0.772727\n",
      "Fold 10: 0.672727\n",
      "Mean Score: 0.7302211302211302\n"
     ]
    }
   ],
   "source": [
    "xgb_probs = get_kfold_prediction(xgb_model, X, y, test)"
   ]
  },
  {
   "cell_type": "code",
   "execution_count": 53,
   "id": "36b51517",
   "metadata": {
    "hidden": true
   },
   "outputs": [
    {
     "name": "stdout",
     "output_type": "stream",
     "text": [
      "0    291\n",
      "1    264\n",
      "Name: prediction, dtype: int64\n",
      "(555, 1)\n"
     ]
    },
    {
     "data": {
      "text/html": [
       "<div>\n",
       "<style scoped>\n",
       "    .dataframe tbody tr th:only-of-type {\n",
       "        vertical-align: middle;\n",
       "    }\n",
       "\n",
       "    .dataframe tbody tr th {\n",
       "        vertical-align: top;\n",
       "    }\n",
       "\n",
       "    .dataframe thead th {\n",
       "        text-align: right;\n",
       "    }\n",
       "</style>\n",
       "<table border=\"1\" class=\"dataframe\">\n",
       "  <thead>\n",
       "    <tr style=\"text-align: right;\">\n",
       "      <th></th>\n",
       "      <th>prediction</th>\n",
       "    </tr>\n",
       "  </thead>\n",
       "  <tbody>\n",
       "    <tr>\n",
       "      <th>0</th>\n",
       "      <td>0</td>\n",
       "    </tr>\n",
       "    <tr>\n",
       "      <th>1</th>\n",
       "      <td>0</td>\n",
       "    </tr>\n",
       "    <tr>\n",
       "      <th>2</th>\n",
       "      <td>0</td>\n",
       "    </tr>\n",
       "    <tr>\n",
       "      <th>3</th>\n",
       "      <td>0</td>\n",
       "    </tr>\n",
       "    <tr>\n",
       "      <th>4</th>\n",
       "      <td>1</td>\n",
       "    </tr>\n",
       "  </tbody>\n",
       "</table>\n",
       "</div>"
      ],
      "text/plain": [
       "   prediction\n",
       "0           0\n",
       "1           0\n",
       "2           0\n",
       "3           0\n",
       "4           1"
      ]
     },
     "execution_count": 53,
     "metadata": {},
     "output_type": "execute_result"
    }
   ],
   "source": [
    "xgb_preds = np.where(xgb_probs >= 0.5, 1, 0)\n",
    "\n",
    "sub = pd.DataFrame({\n",
    "    'prediction': xgb_preds\n",
    "})\n",
    "\n",
    "print(sub['prediction'].value_counts())\n",
    "print(sub.shape)\n",
    "sub.head()"
   ]
  },
  {
   "cell_type": "code",
   "execution_count": 54,
   "id": "1eee0a66",
   "metadata": {
    "hidden": true
   },
   "outputs": [],
   "source": [
    "sub.to_csv('../submissions/xgb1.csv', index=False)"
   ]
  },
  {
   "cell_type": "markdown",
   "id": "c442665d",
   "metadata": {
    "heading_collapsed": true
   },
   "source": [
    "# catboost"
   ]
  },
  {
   "cell_type": "code",
   "execution_count": 60,
   "id": "d8fa9b23",
   "metadata": {
    "hidden": true
   },
   "outputs": [],
   "source": [
    "cat_params = {\n",
    "    'n_estimators': 2000,\n",
    "    'learning_rate': 0.25,\n",
    "    'max_depth': 7,\n",
    "    'reg_lambda': 10,\n",
    "    'early_stopping_rounds': 100,\n",
    "    # 'cat_features': cat_cols,\n",
    "    # 'subsample': 0.8,\n",
    "    # 'colsample_bylevel': 0.8,\n",
    "    # 'bagging_temperature': 0.5,\n",
    "    # 'random_strength': 2,\n",
    "    # 'one_hot_max_size': 4,\n",
    "    'verbose': 0,\n",
    "    'random_state': 1234,\n",
    "    'thread_count': -1\n",
    "}\n",
    "cat_model = cat.CatBoostClassifier(**cat_params)"
   ]
  },
  {
   "cell_type": "code",
   "execution_count": 65,
   "id": "096e173b",
   "metadata": {
    "hidden": true
   },
   "outputs": [
    {
     "data": {
      "application/vnd.jupyter.widget-view+json": {
       "model_id": "ca694f34d2d8492f9455dbf371a06b86",
       "version_major": 2,
       "version_minor": 0
      },
      "text/plain": [
       "  0%|          | 0/10 [00:00<?, ?it/s]"
      ]
     },
     "metadata": {},
     "output_type": "display_data"
    },
    {
     "name": "stdout",
     "output_type": "stream",
     "text": [
      "Fold 1: 0.738739\n",
      "Fold 2: 0.709091\n",
      "Fold 3: 0.763636\n",
      "Fold 4: 0.745455\n",
      "Fold 5: 0.772727\n",
      "Fold 6: 0.718182\n",
      "Fold 7: 0.800000\n",
      "Fold 8: 0.718182\n",
      "Fold 9: 0.827273\n",
      "Fold 10: 0.681818\n",
      "Mean Score: 0.7475102375102375\n"
     ]
    }
   ],
   "source": [
    "cross_validate(cat_model, X, y)"
   ]
  },
  {
   "cell_type": "code",
   "execution_count": 67,
   "id": "7939cdd3",
   "metadata": {
    "hidden": true
   },
   "outputs": [
    {
     "data": {
      "application/vnd.jupyter.widget-view+json": {
       "model_id": "cd3def8d13fd42249d09e3b02b9e348f",
       "version_major": 2,
       "version_minor": 0
      },
      "text/plain": [
       "  0%|          | 0/10 [00:00<?, ?it/s]"
      ]
     },
     "metadata": {},
     "output_type": "display_data"
    },
    {
     "name": "stdout",
     "output_type": "stream",
     "text": [
      "Fold 1: 0.738739\n",
      "Fold 2: 0.709091\n",
      "Fold 3: 0.763636\n",
      "Fold 4: 0.745455\n",
      "Fold 5: 0.772727\n",
      "Fold 6: 0.718182\n",
      "Fold 7: 0.800000\n",
      "Fold 8: 0.718182\n",
      "Fold 9: 0.827273\n",
      "Fold 10: 0.681818\n",
      "Mean Score: 0.7475102375102375\n"
     ]
    }
   ],
   "source": [
    "cat_probs = get_kfold_prediction(cat_model, X, y, test)"
   ]
  },
  {
   "cell_type": "code",
   "execution_count": 70,
   "id": "aef2fb61",
   "metadata": {
    "hidden": true
   },
   "outputs": [
    {
     "data": {
      "text/plain": [
       "<catboost.core.CatBoostClassifier at 0x7f95fc77be20>"
      ]
     },
     "execution_count": 70,
     "metadata": {},
     "output_type": "execute_result"
    }
   ],
   "source": [
    "cat_model.fit(X, y)"
   ]
  },
  {
   "cell_type": "code",
   "execution_count": 71,
   "id": "d2dee13e",
   "metadata": {
    "hidden": true
   },
   "outputs": [
    {
     "name": "stdout",
     "output_type": "stream",
     "text": [
      "0    289\n",
      "1    266\n",
      "Name: prediction, dtype: int64\n",
      "(555, 1)\n"
     ]
    },
    {
     "data": {
      "text/html": [
       "<div>\n",
       "<style scoped>\n",
       "    .dataframe tbody tr th:only-of-type {\n",
       "        vertical-align: middle;\n",
       "    }\n",
       "\n",
       "    .dataframe tbody tr th {\n",
       "        vertical-align: top;\n",
       "    }\n",
       "\n",
       "    .dataframe thead th {\n",
       "        text-align: right;\n",
       "    }\n",
       "</style>\n",
       "<table border=\"1\" class=\"dataframe\">\n",
       "  <thead>\n",
       "    <tr style=\"text-align: right;\">\n",
       "      <th></th>\n",
       "      <th>prediction</th>\n",
       "    </tr>\n",
       "  </thead>\n",
       "  <tbody>\n",
       "    <tr>\n",
       "      <th>0</th>\n",
       "      <td>0</td>\n",
       "    </tr>\n",
       "    <tr>\n",
       "      <th>1</th>\n",
       "      <td>0</td>\n",
       "    </tr>\n",
       "    <tr>\n",
       "      <th>2</th>\n",
       "      <td>0</td>\n",
       "    </tr>\n",
       "    <tr>\n",
       "      <th>3</th>\n",
       "      <td>0</td>\n",
       "    </tr>\n",
       "    <tr>\n",
       "      <th>4</th>\n",
       "      <td>1</td>\n",
       "    </tr>\n",
       "  </tbody>\n",
       "</table>\n",
       "</div>"
      ],
      "text/plain": [
       "   prediction\n",
       "0           0\n",
       "1           0\n",
       "2           0\n",
       "3           0\n",
       "4           1"
      ]
     },
     "execution_count": 71,
     "metadata": {},
     "output_type": "execute_result"
    }
   ],
   "source": [
    "# cat_preds = np.where(cat_probs >= 0.5, 1, 0)\n",
    "cat_preds = cat_model.predict(test)\n",
    "\n",
    "sub = pd.DataFrame({\n",
    "    'prediction': cat_preds\n",
    "})\n",
    "\n",
    "print(sub['prediction'].value_counts())\n",
    "print(sub.shape)\n",
    "sub.head()"
   ]
  },
  {
   "cell_type": "code",
   "execution_count": 72,
   "id": "3017b981",
   "metadata": {
    "hidden": true
   },
   "outputs": [],
   "source": [
    "sub.to_csv('../submissions/cat2.csv', index=False)"
   ]
  },
  {
   "cell_type": "code",
   "execution_count": null,
   "id": "9f96d2a1",
   "metadata": {
    "hidden": true
   },
   "outputs": [],
   "source": []
  }
 ],
 "metadata": {
  "kernelspec": {
   "display_name": "Python 3",
   "language": "python",
   "name": "python3"
  },
  "language_info": {
   "codemirror_mode": {
    "name": "ipython",
    "version": 3
   },
   "file_extension": ".py",
   "mimetype": "text/x-python",
   "name": "python",
   "nbconvert_exporter": "python",
   "pygments_lexer": "ipython3",
   "version": "3.8.8"
  },
  "toc": {
   "base_numbering": 1,
   "nav_menu": {},
   "number_sections": true,
   "sideBar": true,
   "skip_h1_title": false,
   "title_cell": "Table of Contents",
   "title_sidebar": "Contents",
   "toc_cell": false,
   "toc_position": {},
   "toc_section_display": true,
   "toc_window_display": false
  }
 },
 "nbformat": 4,
 "nbformat_minor": 5
}
