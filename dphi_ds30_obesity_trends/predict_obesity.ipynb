{
 "cells": [
  {
   "cell_type": "markdown",
   "metadata": {
    "id": "y1Xa-__SsaIQ"
   },
   "source": [
    "# import libraries"
   ]
  },
  {
   "cell_type": "code",
   "execution_count": null,
   "metadata": {
    "id": "fs-QHuh2slWj"
   },
   "outputs": [],
   "source": [
    "import os\n",
    "import joblib\n",
    "\n",
    "import numpy as np\n",
    "import pandas as pd\n",
    "import seaborn as sns\n",
    "# import sweetviz as sw\n",
    "import missingno as msno\n",
    "import matplotlib.pyplot as plt\n",
    "\n",
    "from sklearn.pipeline import Pipeline\n",
    "from sklearn.preprocessing import StandardScaler, LabelEncoder, RobustScaler\n",
    "from sklearn.model_selection import train_test_split, cross_val_score\n",
    "from sklearn.metrics import mean_squared_log_error, mean_squared_error\n",
    "from sklearn.linear_model import LinearRegression, Ridge, Lasso, ElasticNet\n",
    "from sklearn.ensemble import GradientBoostingRegressor, RandomForestRegressor, ExtraTreesRegressor\n",
    "\n",
    "# import shap\n",
    "import optuna\n",
    "import optuna.visualization as vis\n",
    "# import category_encoders as ce\n",
    "\n",
    "import xgboost as xgb\n",
    "import lightgbm as lgb\n",
    "import catboost as cat\n",
    "\n",
    "from tqdm.notebook import tqdm\n",
    "\n",
    "import warnings\n",
    "warnings.filterwarnings('ignore')"
   ]
  },
  {
   "cell_type": "markdown",
   "metadata": {
    "id": "GiPKMR6jscIw"
   },
   "source": [
    "# get data"
   ]
  },
  {
   "cell_type": "code",
   "execution_count": null,
   "metadata": {
    "id": "MP6Yy7UGsnu4"
   },
   "outputs": [],
   "source": [
    "# !unzip -q '/content/data.zip'"
   ]
  },
  {
   "cell_type": "code",
   "execution_count": null,
   "metadata": {
    "id": "mOPb3YK3snvC"
   },
   "outputs": [],
   "source": [
    "TRAIN_PATH = '/content/Train_data.csv'\n",
    "TEST_PATH = '/content/Test_data.csv'\n",
    "SAMP_SUB_PATH = '/content/Sample_submission.csv'"
   ]
  },
  {
   "cell_type": "code",
   "execution_count": null,
   "metadata": {
    "id": "EHSBEfwXsnvD"
   },
   "outputs": [],
   "source": [
    "raw_train = pd.read_csv(TRAIN_PATH)\n",
    "raw_test = pd.read_csv(TEST_PATH)\n",
    "raw_sub = pd.read_csv(SAMP_SUB_PATH)"
   ]
  },
  {
   "cell_type": "code",
   "execution_count": null,
   "metadata": {
    "colab": {
     "base_uri": "https://localhost:8080/",
     "height": 856
    },
    "id": "VLmplD_2snvD",
    "outputId": "f53d5c65-503a-4d55-cdda-5ae2d6957227"
   },
   "outputs": [
    {
     "name": "stdout",
     "output_type": "stream",
     "text": [
      "<class 'pandas.core.frame.DataFrame'>\n",
      "RangeIndex: 52345 entries, 0 to 52344\n",
      "Data columns (total 29 columns):\n",
      " #   Column                     Non-Null Count  Dtype  \n",
      "---  ------                     --------------  -----  \n",
      " 0   YearStart                  52345 non-null  int64  \n",
      " 1   YearEnd                    52345 non-null  int64  \n",
      " 2   LocationAbbr               52345 non-null  object \n",
      " 3   LocationDesc               52345 non-null  object \n",
      " 4   Datasource                 52345 non-null  object \n",
      " 5   Topic                      52345 non-null  object \n",
      " 6   Question                   52345 non-null  object \n",
      " 7   Data_Value_Type            52345 non-null  object \n",
      " 8   Data_Value                 52345 non-null  float64\n",
      " 9   Low_Confidence_Limit       52345 non-null  float64\n",
      " 10  High_Confidence_Limit      52345 non-null  float64\n",
      " 11  Sample_Size                52345 non-null  float64\n",
      " 12  Total                      1801 non-null   object \n",
      " 13  Age(years)                 10815 non-null  object \n",
      " 14  Education                  6753 non-null   object \n",
      " 15  Gender                     3316 non-null   object \n",
      " 16  Income                     13222 non-null  object \n",
      " 17  Race/Ethnicity             10125 non-null  object \n",
      " 18  GeoLocation                51288 non-null  object \n",
      " 19  ClassID                    52345 non-null  object \n",
      " 20  TopicID                    52345 non-null  object \n",
      " 21  QuestionID                 52345 non-null  object \n",
      " 22  DataValueTypeID            52345 non-null  object \n",
      " 23  LocationID                 52345 non-null  float64\n",
      " 24  StratificationCategory1    52345 non-null  object \n",
      " 25  Stratification1            52345 non-null  object \n",
      " 26  StratificationCategoryId1  52345 non-null  object \n",
      " 27  StratificationID1          52345 non-null  object \n",
      " 28  Class                      52345 non-null  object \n",
      "dtypes: float64(5), int64(2), object(22)\n",
      "memory usage: 11.6+ MB\n",
      "None\n"
     ]
    },
    {
     "data": {
      "text/html": [
       "<div>\n",
       "<style scoped>\n",
       "    .dataframe tbody tr th:only-of-type {\n",
       "        vertical-align: middle;\n",
       "    }\n",
       "\n",
       "    .dataframe tbody tr th {\n",
       "        vertical-align: top;\n",
       "    }\n",
       "\n",
       "    .dataframe thead th {\n",
       "        text-align: right;\n",
       "    }\n",
       "</style>\n",
       "<table border=\"1\" class=\"dataframe\">\n",
       "  <thead>\n",
       "    <tr style=\"text-align: right;\">\n",
       "      <th></th>\n",
       "      <th>YearStart</th>\n",
       "      <th>YearEnd</th>\n",
       "      <th>LocationAbbr</th>\n",
       "      <th>LocationDesc</th>\n",
       "      <th>Datasource</th>\n",
       "      <th>Topic</th>\n",
       "      <th>Question</th>\n",
       "      <th>Data_Value_Type</th>\n",
       "      <th>Data_Value</th>\n",
       "      <th>Low_Confidence_Limit</th>\n",
       "      <th>High_Confidence_Limit</th>\n",
       "      <th>Sample_Size</th>\n",
       "      <th>Total</th>\n",
       "      <th>Age(years)</th>\n",
       "      <th>Education</th>\n",
       "      <th>Gender</th>\n",
       "      <th>Income</th>\n",
       "      <th>Race/Ethnicity</th>\n",
       "      <th>GeoLocation</th>\n",
       "      <th>ClassID</th>\n",
       "      <th>TopicID</th>\n",
       "      <th>QuestionID</th>\n",
       "      <th>DataValueTypeID</th>\n",
       "      <th>LocationID</th>\n",
       "      <th>StratificationCategory1</th>\n",
       "      <th>Stratification1</th>\n",
       "      <th>StratificationCategoryId1</th>\n",
       "      <th>StratificationID1</th>\n",
       "      <th>Class</th>\n",
       "    </tr>\n",
       "  </thead>\n",
       "  <tbody>\n",
       "    <tr>\n",
       "      <th>23757</th>\n",
       "      <td>2012</td>\n",
       "      <td>2012</td>\n",
       "      <td>WV</td>\n",
       "      <td>North Carolina</td>\n",
       "      <td>Behavioral Risk Factor Surveillance System</td>\n",
       "      <td>Fruits and Vegetables - Behavior</td>\n",
       "      <td>Percent of adults who report consuming fruit l...</td>\n",
       "      <td>Value</td>\n",
       "      <td>37.874117</td>\n",
       "      <td>35.074117</td>\n",
       "      <td>40.774117</td>\n",
       "      <td>1483.265899</td>\n",
       "      <td>NaN</td>\n",
       "      <td>NaN</td>\n",
       "      <td>NaN</td>\n",
       "      <td>NaN</td>\n",
       "      <td>NaN</td>\n",
       "      <td>NaN</td>\n",
       "      <td>(39.360700171000474, -111.58713063499971)</td>\n",
       "      <td>FV</td>\n",
       "      <td>FV1</td>\n",
       "      <td>Q018</td>\n",
       "      <td>VALUE</td>\n",
       "      <td>54.0</td>\n",
       "      <td>Income</td>\n",
       "      <td>College graduate</td>\n",
       "      <td>INC</td>\n",
       "      <td>EDUCOGRAD</td>\n",
       "      <td>Fruits and Vegetables</td>\n",
       "    </tr>\n",
       "    <tr>\n",
       "      <th>27503</th>\n",
       "      <td>2013</td>\n",
       "      <td>2013</td>\n",
       "      <td>CT</td>\n",
       "      <td>Connecticut</td>\n",
       "      <td>Behavioral Risk Factor Surveillance System</td>\n",
       "      <td>Fruits and Vegetables - Behavior</td>\n",
       "      <td>Percent of adults who report consuming fruit l...</td>\n",
       "      <td>Value</td>\n",
       "      <td>36.200000</td>\n",
       "      <td>32.700000</td>\n",
       "      <td>39.800000</td>\n",
       "      <td>1320.000000</td>\n",
       "      <td>NaN</td>\n",
       "      <td>45 - 54</td>\n",
       "      <td>NaN</td>\n",
       "      <td>NaN</td>\n",
       "      <td>NaN</td>\n",
       "      <td>NaN</td>\n",
       "      <td>(41.56266102000046, -72.64984095199964)</td>\n",
       "      <td>FV</td>\n",
       "      <td>FV1</td>\n",
       "      <td>Q018</td>\n",
       "      <td>VALUE</td>\n",
       "      <td>9.0</td>\n",
       "      <td>Age (years)</td>\n",
       "      <td>45 - 54</td>\n",
       "      <td>AGEYR</td>\n",
       "      <td>AGEYR4554</td>\n",
       "      <td>Fruits and Vegetables</td>\n",
       "    </tr>\n",
       "  </tbody>\n",
       "</table>\n",
       "</div>"
      ],
      "text/plain": [
       "       YearStart  YearEnd  ... StratificationID1                  Class\n",
       "23757       2012     2012  ...         EDUCOGRAD  Fruits and Vegetables\n",
       "27503       2013     2013  ...         AGEYR4554  Fruits and Vegetables\n",
       "\n",
       "[2 rows x 29 columns]"
      ]
     },
     "execution_count": 5,
     "metadata": {
      "tags": []
     },
     "output_type": "execute_result"
    }
   ],
   "source": [
    "print(raw_train.info())\n",
    "raw_train.sample(2)"
   ]
  },
  {
   "cell_type": "code",
   "execution_count": null,
   "metadata": {
    "colab": {
     "base_uri": "https://localhost:8080/",
     "height": 888
    },
    "id": "qxM5uHpCu9wq",
    "outputId": "42ee96ef-d81a-4ffd-c0e8-f2e07090a42d"
   },
   "outputs": [
    {
     "name": "stdout",
     "output_type": "stream",
     "text": [
      "<class 'pandas.core.frame.DataFrame'>\n",
      "RangeIndex: 4636 entries, 0 to 4635\n",
      "Data columns (total 28 columns):\n",
      " #   Column                     Non-Null Count  Dtype  \n",
      "---  ------                     --------------  -----  \n",
      " 0   YearStart                  4636 non-null   int64  \n",
      " 1   YearEnd                    4636 non-null   int64  \n",
      " 2   LocationAbbr               4636 non-null   object \n",
      " 3   LocationDesc               4636 non-null   object \n",
      " 4   Datasource                 4636 non-null   object \n",
      " 5   Topic                      4636 non-null   object \n",
      " 6   Question                   4636 non-null   object \n",
      " 7   Data_Value_Type            4636 non-null   object \n",
      " 8   Low_Confidence_Limit       4636 non-null   float64\n",
      " 9   High_Confidence_Limit      4636 non-null   float64\n",
      " 10  Sample_Size                4636 non-null   float64\n",
      " 11  Total                      193 non-null    object \n",
      " 12  Age(years)                 1088 non-null   object \n",
      " 13  Education                  729 non-null    object \n",
      " 14  Gender                     350 non-null    object \n",
      " 15  Income                     1270 non-null   object \n",
      " 16  Race/Ethnicity             945 non-null    object \n",
      " 17  GeoLocation                4545 non-null   object \n",
      " 18  ClassID                    4636 non-null   object \n",
      " 19  TopicID                    4636 non-null   object \n",
      " 20  QuestionID                 4636 non-null   object \n",
      " 21  DataValueTypeID            4636 non-null   object \n",
      " 22  LocationID                 4636 non-null   float64\n",
      " 23  StratificationCategory1    4636 non-null   object \n",
      " 24  Stratification1            4636 non-null   object \n",
      " 25  StratificationCategoryId1  4636 non-null   object \n",
      " 26  StratificationID1          4636 non-null   object \n",
      " 27  Class                      4636 non-null   object \n",
      "dtypes: float64(4), int64(2), object(22)\n",
      "memory usage: 1014.2+ KB\n",
      "None\n"
     ]
    },
    {
     "data": {
      "text/html": [
       "<div>\n",
       "<style scoped>\n",
       "    .dataframe tbody tr th:only-of-type {\n",
       "        vertical-align: middle;\n",
       "    }\n",
       "\n",
       "    .dataframe tbody tr th {\n",
       "        vertical-align: top;\n",
       "    }\n",
       "\n",
       "    .dataframe thead th {\n",
       "        text-align: right;\n",
       "    }\n",
       "</style>\n",
       "<table border=\"1\" class=\"dataframe\">\n",
       "  <thead>\n",
       "    <tr style=\"text-align: right;\">\n",
       "      <th></th>\n",
       "      <th>YearStart</th>\n",
       "      <th>YearEnd</th>\n",
       "      <th>LocationAbbr</th>\n",
       "      <th>LocationDesc</th>\n",
       "      <th>Datasource</th>\n",
       "      <th>Topic</th>\n",
       "      <th>Question</th>\n",
       "      <th>Data_Value_Type</th>\n",
       "      <th>Low_Confidence_Limit</th>\n",
       "      <th>High_Confidence_Limit</th>\n",
       "      <th>Sample_Size</th>\n",
       "      <th>Total</th>\n",
       "      <th>Age(years)</th>\n",
       "      <th>Education</th>\n",
       "      <th>Gender</th>\n",
       "      <th>Income</th>\n",
       "      <th>Race/Ethnicity</th>\n",
       "      <th>GeoLocation</th>\n",
       "      <th>ClassID</th>\n",
       "      <th>TopicID</th>\n",
       "      <th>QuestionID</th>\n",
       "      <th>DataValueTypeID</th>\n",
       "      <th>LocationID</th>\n",
       "      <th>StratificationCategory1</th>\n",
       "      <th>Stratification1</th>\n",
       "      <th>StratificationCategoryId1</th>\n",
       "      <th>StratificationID1</th>\n",
       "      <th>Class</th>\n",
       "    </tr>\n",
       "  </thead>\n",
       "  <tbody>\n",
       "    <tr>\n",
       "      <th>717</th>\n",
       "      <td>2016</td>\n",
       "      <td>2016</td>\n",
       "      <td>MO</td>\n",
       "      <td>Missouri</td>\n",
       "      <td>Behavioral Risk Factor Surveillance System</td>\n",
       "      <td>Obesity / Weight Status</td>\n",
       "      <td>Percent of adults aged 18 years and older who ...</td>\n",
       "      <td>Value</td>\n",
       "      <td>35.5</td>\n",
       "      <td>42.9</td>\n",
       "      <td>1444.0</td>\n",
       "      <td>NaN</td>\n",
       "      <td>NaN</td>\n",
       "      <td>NaN</td>\n",
       "      <td>NaN</td>\n",
       "      <td>$75,000 or greater</td>\n",
       "      <td>NaN</td>\n",
       "      <td>(38.635790776000476, -92.56630005299968)</td>\n",
       "      <td>OWS</td>\n",
       "      <td>OWS1</td>\n",
       "      <td>Q037</td>\n",
       "      <td>VALUE</td>\n",
       "      <td>29.0</td>\n",
       "      <td>Income</td>\n",
       "      <td>$75,000 or greater</td>\n",
       "      <td>INC</td>\n",
       "      <td>INC75PLUS</td>\n",
       "      <td>Obesity / Weight Status</td>\n",
       "    </tr>\n",
       "    <tr>\n",
       "      <th>4051</th>\n",
       "      <td>2016</td>\n",
       "      <td>2016</td>\n",
       "      <td>WV</td>\n",
       "      <td>West Virginia</td>\n",
       "      <td>Behavioral Risk Factor Surveillance System</td>\n",
       "      <td>Physical Activity - Behavior</td>\n",
       "      <td>Percent of adults who engage in no leisure-tim...</td>\n",
       "      <td>Value</td>\n",
       "      <td>31.0</td>\n",
       "      <td>37.2</td>\n",
       "      <td>1214.0</td>\n",
       "      <td>NaN</td>\n",
       "      <td>45 - 54</td>\n",
       "      <td>NaN</td>\n",
       "      <td>NaN</td>\n",
       "      <td>NaN</td>\n",
       "      <td>NaN</td>\n",
       "      <td>(38.66551020200046, -80.71264013499967)</td>\n",
       "      <td>PA</td>\n",
       "      <td>PA1</td>\n",
       "      <td>Q047</td>\n",
       "      <td>VALUE</td>\n",
       "      <td>54.0</td>\n",
       "      <td>Age (years)</td>\n",
       "      <td>45 - 54</td>\n",
       "      <td>AGEYR</td>\n",
       "      <td>AGEYR4554</td>\n",
       "      <td>Physical Activity</td>\n",
       "    </tr>\n",
       "  </tbody>\n",
       "</table>\n",
       "</div>"
      ],
      "text/plain": [
       "      YearStart  YearEnd  ... StratificationID1                    Class\n",
       "717        2016     2016  ...         INC75PLUS  Obesity / Weight Status\n",
       "4051       2016     2016  ...         AGEYR4554        Physical Activity\n",
       "\n",
       "[2 rows x 28 columns]"
      ]
     },
     "execution_count": 13,
     "metadata": {
      "tags": []
     },
     "output_type": "execute_result"
    }
   ],
   "source": [
    "print(raw_test.info())\n",
    "raw_test.sample(2)"
   ]
  },
  {
   "cell_type": "markdown",
   "metadata": {
    "id": "lq9eQkGKsdfc"
   },
   "source": [
    "# eda"
   ]
  },
  {
   "cell_type": "code",
   "execution_count": null,
   "metadata": {
    "id": "8NMgVC4CuUbH"
   },
   "outputs": [],
   "source": [
    "eda = raw_train.copy()\n",
    "edat = raw_test.copy()"
   ]
  },
  {
   "cell_type": "markdown",
   "metadata": {
    "id": "orARKRmowq9o"
   },
   "source": [
    "## sweetviz"
   ]
  },
  {
   "cell_type": "code",
   "execution_count": null,
   "metadata": {
    "id": "ZZX26FGYuPxc"
   },
   "outputs": [],
   "source": [
    "basic_eda = sw.compare([eda, 'Train Data'], [edat, 'Test Data'], target_feat='Data_Value')\n",
    "basic_eda.show_notebook()"
   ]
  },
  {
   "cell_type": "markdown",
   "metadata": {
    "id": "GIUbRwZWwuwe"
   },
   "source": [
    "# data wrangling / data viz"
   ]
  },
  {
   "cell_type": "code",
   "execution_count": null,
   "metadata": {
    "id": "VK6K_crtwPO2"
   },
   "outputs": [],
   "source": [
    "useless_cols = ['YearStart', 'YearEnd', 'Datasource', 'Data_Value_Type', 'Total', 'DataValueTypeID']\n",
    "eda = eda.drop(useless_cols, axis=1)\n",
    "edat = edat.drop(useless_cols, axis=1)"
   ]
  },
  {
   "cell_type": "code",
   "execution_count": null,
   "metadata": {
    "colab": {
     "base_uri": "https://localhost:8080/"
    },
    "id": "RGeZ9hO00NUz",
    "outputId": "1d6b91ae-2eca-4a7b-cebe-8602826c0a64"
   },
   "outputs": [
    {
     "data": {
      "text/plain": [
       "Fruits and Vegetables - Behavior    19464\n",
       "Obesity / Weight Status             16957\n",
       "Physical Activity - Behavior        15924\n",
       "Name: Topic, dtype: int64"
      ]
     },
     "execution_count": 12,
     "metadata": {
      "tags": []
     },
     "output_type": "execute_result"
    }
   ],
   "source": [
    "eda['Topic'].value_counts()"
   ]
  },
  {
   "cell_type": "code",
   "execution_count": null,
   "metadata": {
    "id": "F9eLRbSB0NMZ"
   },
   "outputs": [],
   "source": []
  },
  {
   "cell_type": "code",
   "execution_count": null,
   "metadata": {
    "colab": {
     "base_uri": "https://localhost:8080/"
    },
    "id": "-vR9uSPzz9pZ",
    "outputId": "482b4e9e-ff0c-4e7a-bb9d-6b356a58cd0a"
   },
   "outputs": [
    {
     "data": {
      "text/plain": [
       "array(['Percent of adults aged 18 years and older who have obesity',\n",
       "       'Percent of adults aged 18 years and older who have an overweight classification',\n",
       "       'Percent of adults who engage in muscle-strengthening activities on 2 or more days a week',\n",
       "       'Percent of adults who achieve at least 150 minutes a week of moderate-intensity aerobic physical activity or 75 minutes a week of vigorous-intensity aerobic activity (or an equivalent combination)',\n",
       "       'Percent of adults who achieve at least 150 minutes a week of moderate-intensity aerobic physical activity or 75 minutes a week of vigorous-intensity aerobic physical activity and engage in muscle-strengthening activities on 2 or more days a week',\n",
       "       'Percent of adults who achieve at least 300 minutes a week of moderate-intensity aerobic physical activity or 150 minutes a week of vigorous-intensity aerobic activity (or an equivalent combination)',\n",
       "       'Percent of adults who engage in no leisure-time physical activity'],\n",
       "      dtype=object)"
      ]
     },
     "execution_count": 18,
     "metadata": {
      "tags": []
     },
     "output_type": "execute_result"
    }
   ],
   "source": [
    "mask = eda['Topic'] != 'Fruits and Vegetables - Behavior'\n",
    "eda.loc[mask, 'Question'].unique()"
   ]
  },
  {
   "cell_type": "markdown",
   "metadata": {
    "id": "u11raogFsflN"
   },
   "source": [
    "# preprocess"
   ]
  },
  {
   "cell_type": "markdown",
   "metadata": {
    "id": "IHXtlWHDw-YR"
   },
   "source": [
    "## drop useless columns"
   ]
  },
  {
   "cell_type": "code",
   "execution_count": null,
   "metadata": {
    "id": "hEb6hlL9w9_P"
   },
   "outputs": [],
   "source": [
    "useless_cols = ['YearStart', 'YearEnd', 'Datasource', 'Data_Value_Type', 'DataValueTypeID', 'Total']\n",
    "train = raw_train.drop(useless_cols, axis=1)\n",
    "test = raw_test.drop(useless_cols, axis=1)"
   ]
  },
  {
   "cell_type": "markdown",
   "metadata": {
    "id": "XKDY9JXU08CL"
   },
   "source": [
    "## topic"
   ]
  },
  {
   "cell_type": "code",
   "execution_count": null,
   "metadata": {
    "id": "22dlIvpxw96s"
   },
   "outputs": [],
   "source": [
    "mask = train['Topic'] != 'Fruits and Vegetables - Behavior'\n",
    "train = train[mask]"
   ]
  },
  {
   "cell_type": "code",
   "execution_count": null,
   "metadata": {
    "id": "Q_RO3sMP1PsJ"
   },
   "outputs": [],
   "source": [
    "mask = test['Topic'] != 'Fruits and Vegetables - Behavior'\n",
    "test = test[mask]"
   ]
  },
  {
   "cell_type": "code",
   "execution_count": null,
   "metadata": {
    "id": "n-AAarFC4ZgK"
   },
   "outputs": [],
   "source": [
    "high_corr_cols = ['Class', 'ClassID', 'TopicID', 'QuestionID',]\n",
    "train = train.drop(high_corr_cols, axis=1)\n",
    "test = test.drop(high_corr_cols, axis=1)"
   ]
  },
  {
   "cell_type": "code",
   "execution_count": null,
   "metadata": {
    "colab": {
     "base_uri": "https://localhost:8080/"
    },
    "id": "wDkvbkDn1G0N",
    "outputId": "b107e5f1-1b44-4013-af06-53c123be617d"
   },
   "outputs": [
    {
     "name": "stdout",
     "output_type": "stream",
     "text": [
      "<class 'pandas.core.frame.DataFrame'>\n",
      "Int64Index: 32881 entries, 0 to 49785\n",
      "Data columns (total 19 columns):\n",
      " #   Column                     Non-Null Count  Dtype  \n",
      "---  ------                     --------------  -----  \n",
      " 0   LocationAbbr               32881 non-null  object \n",
      " 1   LocationDesc               32881 non-null  object \n",
      " 2   Topic                      32881 non-null  object \n",
      " 3   Question                   32881 non-null  object \n",
      " 4   Data_Value                 32881 non-null  float64\n",
      " 5   Low_Confidence_Limit       32881 non-null  float64\n",
      " 6   High_Confidence_Limit      32881 non-null  float64\n",
      " 7   Sample_Size                32881 non-null  float64\n",
      " 8   Age(years)                 7567 non-null   object \n",
      " 9   Education                  5019 non-null   object \n",
      " 10  Gender                     2460 non-null   object \n",
      " 11  Income                     8853 non-null   object \n",
      " 12  Race/Ethnicity             6872 non-null   object \n",
      " 13  GeoLocation                32206 non-null  object \n",
      " 14  LocationID                 32881 non-null  float64\n",
      " 15  StratificationCategory1    32881 non-null  object \n",
      " 16  Stratification1            32881 non-null  object \n",
      " 17  StratificationCategoryId1  32881 non-null  object \n",
      " 18  StratificationID1          32881 non-null  object \n",
      "dtypes: float64(5), object(14)\n",
      "memory usage: 5.0+ MB\n",
      "None\n"
     ]
    },
    {
     "data": {
      "text/html": [
       "<div>\n",
       "<style scoped>\n",
       "    .dataframe tbody tr th:only-of-type {\n",
       "        vertical-align: middle;\n",
       "    }\n",
       "\n",
       "    .dataframe tbody tr th {\n",
       "        vertical-align: top;\n",
       "    }\n",
       "\n",
       "    .dataframe thead th {\n",
       "        text-align: right;\n",
       "    }\n",
       "</style>\n",
       "<table border=\"1\" class=\"dataframe\">\n",
       "  <thead>\n",
       "    <tr style=\"text-align: right;\">\n",
       "      <th></th>\n",
       "      <th>LocationAbbr</th>\n",
       "      <th>LocationDesc</th>\n",
       "      <th>Topic</th>\n",
       "      <th>Question</th>\n",
       "      <th>Data_Value</th>\n",
       "      <th>Low_Confidence_Limit</th>\n",
       "      <th>High_Confidence_Limit</th>\n",
       "      <th>Sample_Size</th>\n",
       "      <th>Age(years)</th>\n",
       "      <th>Education</th>\n",
       "      <th>Gender</th>\n",
       "      <th>Income</th>\n",
       "      <th>Race/Ethnicity</th>\n",
       "      <th>GeoLocation</th>\n",
       "      <th>LocationID</th>\n",
       "      <th>StratificationCategory1</th>\n",
       "      <th>Stratification1</th>\n",
       "      <th>StratificationCategoryId1</th>\n",
       "      <th>StratificationID1</th>\n",
       "    </tr>\n",
       "  </thead>\n",
       "  <tbody>\n",
       "    <tr>\n",
       "      <th>28509</th>\n",
       "      <td>GA</td>\n",
       "      <td>Georgia</td>\n",
       "      <td>Physical Activity - Behavior</td>\n",
       "      <td>Percent of adults who achieve at least 150 min...</td>\n",
       "      <td>33.9</td>\n",
       "      <td>28.7</td>\n",
       "      <td>39.5</td>\n",
       "      <td>432.0</td>\n",
       "      <td>18 - 24</td>\n",
       "      <td>NaN</td>\n",
       "      <td>NaN</td>\n",
       "      <td>NaN</td>\n",
       "      <td>NaN</td>\n",
       "      <td>(32.83968109300048, -83.62758034599966)</td>\n",
       "      <td>13.0</td>\n",
       "      <td>Age (years)</td>\n",
       "      <td>18 - 24</td>\n",
       "      <td>AGEYR</td>\n",
       "      <td>AGEYR1824</td>\n",
       "    </tr>\n",
       "  </tbody>\n",
       "</table>\n",
       "</div>"
      ],
      "text/plain": [
       "      LocationAbbr LocationDesc  ... StratificationCategoryId1 StratificationID1\n",
       "28509           GA      Georgia  ...                     AGEYR         AGEYR1824\n",
       "\n",
       "[1 rows x 19 columns]"
      ]
     },
     "execution_count": 12,
     "metadata": {
      "tags": []
     },
     "output_type": "execute_result"
    }
   ],
   "source": [
    "print(train.info())\n",
    "train.sample()"
   ]
  },
  {
   "cell_type": "markdown",
   "metadata": {
    "id": "ZHZj5ZVb1Zqo"
   },
   "source": [
    "## question"
   ]
  },
  {
   "cell_type": "code",
   "execution_count": null,
   "metadata": {
    "id": "jjuxuHxP1cZD"
   },
   "outputs": [],
   "source": [
    "useful_questions = [\n",
    "    'Percent of adults aged 18 years and older who have obesity',\n",
    "    'Percent of adults aged 18 years and older who have an overweight classification',\n",
    "    'Percent of adults who engage in no leisure-time physical activity',\n",
    "]"
   ]
  },
  {
   "cell_type": "code",
   "execution_count": null,
   "metadata": {
    "id": "OAa_ExZU1vyp"
   },
   "outputs": [],
   "source": [
    "mask = train['Question'].isin(useful_questions)\n",
    "train.loc[~mask, 'Question'] = 'Other Questions'"
   ]
  },
  {
   "cell_type": "code",
   "execution_count": null,
   "metadata": {
    "id": "5r-iCHpB2gQk"
   },
   "outputs": [],
   "source": [
    "mask = test['Question'].isin(useful_questions)\n",
    "test.loc[~mask, 'Question'] = 'Other Questions'"
   ]
  },
  {
   "cell_type": "code",
   "execution_count": null,
   "metadata": {
    "colab": {
     "base_uri": "https://localhost:8080/"
    },
    "id": "TK3QPIkN5QKT",
    "outputId": "298207a9-3773-4aaa-abc1-7dafc1208117"
   },
   "outputs": [
    {
     "data": {
      "text/html": [
       "<div>\n",
       "<style scoped>\n",
       "    .dataframe tbody tr th:only-of-type {\n",
       "        vertical-align: middle;\n",
       "    }\n",
       "\n",
       "    .dataframe tbody tr th {\n",
       "        vertical-align: top;\n",
       "    }\n",
       "\n",
       "    .dataframe thead th {\n",
       "        text-align: right;\n",
       "    }\n",
       "</style>\n",
       "<table border=\"1\" class=\"dataframe\">\n",
       "  <thead>\n",
       "    <tr style=\"text-align: right;\">\n",
       "      <th></th>\n",
       "      <th></th>\n",
       "      <th>mean</th>\n",
       "      <th>count</th>\n",
       "    </tr>\n",
       "    <tr>\n",
       "      <th>Topic</th>\n",
       "      <th>Question</th>\n",
       "      <th></th>\n",
       "      <th></th>\n",
       "    </tr>\n",
       "  </thead>\n",
       "  <tbody>\n",
       "    <tr>\n",
       "      <th rowspan=\"2\" valign=\"top\">Obesity / Weight Status</th>\n",
       "      <th>Percent of adults aged 18 years and older who have an overweight classification</th>\n",
       "      <td>34.867394</td>\n",
       "      <td>8671</td>\n",
       "    </tr>\n",
       "    <tr>\n",
       "      <th>Percent of adults aged 18 years and older who have obesity</th>\n",
       "      <td>28.581989</td>\n",
       "      <td>8286</td>\n",
       "    </tr>\n",
       "    <tr>\n",
       "      <th rowspan=\"2\" valign=\"top\">Physical Activity - Behavior</th>\n",
       "      <th>Other Questions</th>\n",
       "      <td>32.723206</td>\n",
       "      <td>10562</td>\n",
       "    </tr>\n",
       "    <tr>\n",
       "      <th>Percent of adults who engage in no leisure-time physical activity</th>\n",
       "      <td>25.355781</td>\n",
       "      <td>5362</td>\n",
       "    </tr>\n",
       "  </tbody>\n",
       "</table>\n",
       "</div>"
      ],
      "text/plain": [
       "                                                                                      mean  count\n",
       "Topic                        Question                                                            \n",
       "Obesity / Weight Status      Percent of adults aged 18 years and older who h...  34.867394   8671\n",
       "                             Percent of adults aged 18 years and older who h...  28.581989   8286\n",
       "Physical Activity - Behavior Other Questions                                     32.723206  10562\n",
       "                             Percent of adults who engage in no leisure-time...  25.355781   5362"
      ]
     },
     "execution_count": 16,
     "metadata": {
      "tags": []
     },
     "output_type": "execute_result"
    }
   ],
   "source": [
    "train.groupby(['Topic', 'Question']).agg(['mean', 'count'])['Data_Value']"
   ]
  },
  {
   "cell_type": "code",
   "execution_count": null,
   "metadata": {
    "id": "BsANHAUj553i"
   },
   "outputs": [],
   "source": [
    "high_corr_cols = ['Topic']\n",
    "train = train.drop(high_corr_cols, axis=1)\n",
    "test = test.drop(high_corr_cols, axis=1)"
   ]
  },
  {
   "cell_type": "code",
   "execution_count": null,
   "metadata": {
    "colab": {
     "base_uri": "https://localhost:8080/"
    },
    "id": "JiWmY1Ah15if",
    "outputId": "5ca240cc-b3be-40da-86dd-73f4c3d8013b"
   },
   "outputs": [
    {
     "name": "stdout",
     "output_type": "stream",
     "text": [
      "<class 'pandas.core.frame.DataFrame'>\n",
      "Int64Index: 32881 entries, 0 to 49785\n",
      "Data columns (total 18 columns):\n",
      " #   Column                     Non-Null Count  Dtype  \n",
      "---  ------                     --------------  -----  \n",
      " 0   LocationAbbr               32881 non-null  object \n",
      " 1   LocationDesc               32881 non-null  object \n",
      " 2   Question                   32881 non-null  object \n",
      " 3   Data_Value                 32881 non-null  float64\n",
      " 4   Low_Confidence_Limit       32881 non-null  float64\n",
      " 5   High_Confidence_Limit      32881 non-null  float64\n",
      " 6   Sample_Size                32881 non-null  float64\n",
      " 7   Age(years)                 7567 non-null   object \n",
      " 8   Education                  5019 non-null   object \n",
      " 9   Gender                     2460 non-null   object \n",
      " 10  Income                     8853 non-null   object \n",
      " 11  Race/Ethnicity             6872 non-null   object \n",
      " 12  GeoLocation                32206 non-null  object \n",
      " 13  LocationID                 32881 non-null  float64\n",
      " 14  StratificationCategory1    32881 non-null  object \n",
      " 15  Stratification1            32881 non-null  object \n",
      " 16  StratificationCategoryId1  32881 non-null  object \n",
      " 17  StratificationID1          32881 non-null  object \n",
      "dtypes: float64(5), object(13)\n",
      "memory usage: 6.0+ MB\n",
      "None\n"
     ]
    },
    {
     "data": {
      "text/html": [
       "<div>\n",
       "<style scoped>\n",
       "    .dataframe tbody tr th:only-of-type {\n",
       "        vertical-align: middle;\n",
       "    }\n",
       "\n",
       "    .dataframe tbody tr th {\n",
       "        vertical-align: top;\n",
       "    }\n",
       "\n",
       "    .dataframe thead th {\n",
       "        text-align: right;\n",
       "    }\n",
       "</style>\n",
       "<table border=\"1\" class=\"dataframe\">\n",
       "  <thead>\n",
       "    <tr style=\"text-align: right;\">\n",
       "      <th></th>\n",
       "      <th>LocationAbbr</th>\n",
       "      <th>LocationDesc</th>\n",
       "      <th>Question</th>\n",
       "      <th>Data_Value</th>\n",
       "      <th>Low_Confidence_Limit</th>\n",
       "      <th>High_Confidence_Limit</th>\n",
       "      <th>Sample_Size</th>\n",
       "      <th>Age(years)</th>\n",
       "      <th>Education</th>\n",
       "      <th>Gender</th>\n",
       "      <th>Income</th>\n",
       "      <th>Race/Ethnicity</th>\n",
       "      <th>GeoLocation</th>\n",
       "      <th>LocationID</th>\n",
       "      <th>StratificationCategory1</th>\n",
       "      <th>Stratification1</th>\n",
       "      <th>StratificationCategoryId1</th>\n",
       "      <th>StratificationID1</th>\n",
       "    </tr>\n",
       "  </thead>\n",
       "  <tbody>\n",
       "    <tr>\n",
       "      <th>38348</th>\n",
       "      <td>DC</td>\n",
       "      <td>District of Columbia</td>\n",
       "      <td>Percent of adults aged 18 years and older who ...</td>\n",
       "      <td>23.202683</td>\n",
       "      <td>17.302683</td>\n",
       "      <td>30.285059</td>\n",
       "      <td>414.647507</td>\n",
       "      <td>NaN</td>\n",
       "      <td>NaN</td>\n",
       "      <td>NaN</td>\n",
       "      <td>$50,000 - $74,999</td>\n",
       "      <td>NaN</td>\n",
       "      <td>(38.89037138500049, -77.03196112699965)</td>\n",
       "      <td>10.911877</td>\n",
       "      <td>Income</td>\n",
       "      <td>Less than $15,000</td>\n",
       "      <td>INC</td>\n",
       "      <td>INCLESS15</td>\n",
       "    </tr>\n",
       "  </tbody>\n",
       "</table>\n",
       "</div>"
      ],
      "text/plain": [
       "      LocationAbbr  ... StratificationID1\n",
       "38348           DC  ...         INCLESS15\n",
       "\n",
       "[1 rows x 18 columns]"
      ]
     },
     "execution_count": 18,
     "metadata": {
      "tags": []
     },
     "output_type": "execute_result"
    }
   ],
   "source": [
    "print(train.info())\n",
    "train.sample()"
   ]
  },
  {
   "cell_type": "markdown",
   "metadata": {
    "id": "jgBokJDU6vV_"
   },
   "source": [
    "## locationAbbr"
   ]
  },
  {
   "cell_type": "code",
   "execution_count": null,
   "metadata": {
    "id": "_l1B_4DT5sQ9"
   },
   "outputs": [],
   "source": [
    "high_corr_cols = ['LocationDesc', 'LocationID', 'GeoLocation']\n",
    "train = train.drop(high_corr_cols, axis=1)\n",
    "test = test.drop(high_corr_cols, axis=1)"
   ]
  },
  {
   "cell_type": "code",
   "execution_count": null,
   "metadata": {
    "colab": {
     "base_uri": "https://localhost:8080/"
    },
    "id": "XSvuWGx88QJL",
    "outputId": "13c77841-636f-4a88-833b-4e5389c38ccd"
   },
   "outputs": [
    {
     "name": "stdout",
     "output_type": "stream",
     "text": [
      "<class 'pandas.core.frame.DataFrame'>\n",
      "Int64Index: 32881 entries, 0 to 49785\n",
      "Data columns (total 15 columns):\n",
      " #   Column                     Non-Null Count  Dtype  \n",
      "---  ------                     --------------  -----  \n",
      " 0   LocationAbbr               32881 non-null  object \n",
      " 1   Question                   32881 non-null  object \n",
      " 2   Data_Value                 32881 non-null  float64\n",
      " 3   Low_Confidence_Limit       32881 non-null  float64\n",
      " 4   High_Confidence_Limit      32881 non-null  float64\n",
      " 5   Sample_Size                32881 non-null  float64\n",
      " 6   Age(years)                 7567 non-null   object \n",
      " 7   Education                  5019 non-null   object \n",
      " 8   Gender                     2460 non-null   object \n",
      " 9   Income                     8853 non-null   object \n",
      " 10  Race/Ethnicity             6872 non-null   object \n",
      " 11  StratificationCategory1    32881 non-null  object \n",
      " 12  Stratification1            32881 non-null  object \n",
      " 13  StratificationCategoryId1  32881 non-null  object \n",
      " 14  StratificationID1          32881 non-null  object \n",
      "dtypes: float64(4), object(11)\n",
      "memory usage: 5.3+ MB\n",
      "None\n"
     ]
    },
    {
     "data": {
      "text/html": [
       "<div>\n",
       "<style scoped>\n",
       "    .dataframe tbody tr th:only-of-type {\n",
       "        vertical-align: middle;\n",
       "    }\n",
       "\n",
       "    .dataframe tbody tr th {\n",
       "        vertical-align: top;\n",
       "    }\n",
       "\n",
       "    .dataframe thead th {\n",
       "        text-align: right;\n",
       "    }\n",
       "</style>\n",
       "<table border=\"1\" class=\"dataframe\">\n",
       "  <thead>\n",
       "    <tr style=\"text-align: right;\">\n",
       "      <th></th>\n",
       "      <th>LocationAbbr</th>\n",
       "      <th>Question</th>\n",
       "      <th>Data_Value</th>\n",
       "      <th>Low_Confidence_Limit</th>\n",
       "      <th>High_Confidence_Limit</th>\n",
       "      <th>Sample_Size</th>\n",
       "      <th>Age(years)</th>\n",
       "      <th>Education</th>\n",
       "      <th>Gender</th>\n",
       "      <th>Income</th>\n",
       "      <th>Race/Ethnicity</th>\n",
       "      <th>StratificationCategory1</th>\n",
       "      <th>Stratification1</th>\n",
       "      <th>StratificationCategoryId1</th>\n",
       "      <th>StratificationID1</th>\n",
       "    </tr>\n",
       "  </thead>\n",
       "  <tbody>\n",
       "    <tr>\n",
       "      <th>12939</th>\n",
       "      <td>SC</td>\n",
       "      <td>Percent of adults aged 18 years and older who ...</td>\n",
       "      <td>35.64327</td>\n",
       "      <td>31.672503</td>\n",
       "      <td>39.885384</td>\n",
       "      <td>1287.567296</td>\n",
       "      <td>NaN</td>\n",
       "      <td>NaN</td>\n",
       "      <td>NaN</td>\n",
       "      <td>$25,000 - $34,999</td>\n",
       "      <td>NaN</td>\n",
       "      <td>Income</td>\n",
       "      <td>$25,000 - $34,999</td>\n",
       "      <td>INC</td>\n",
       "      <td>INC2535</td>\n",
       "    </tr>\n",
       "  </tbody>\n",
       "</table>\n",
       "</div>"
      ],
      "text/plain": [
       "      LocationAbbr  ... StratificationID1\n",
       "12939           SC  ...           INC2535\n",
       "\n",
       "[1 rows x 15 columns]"
      ]
     },
     "execution_count": 20,
     "metadata": {
      "tags": []
     },
     "output_type": "execute_result"
    }
   ],
   "source": [
    "print(train.info())\n",
    "train.sample()"
   ]
  },
  {
   "cell_type": "markdown",
   "metadata": {
    "id": "Fe0wqZfwAwPn"
   },
   "source": [
    "## stratification1"
   ]
  },
  {
   "cell_type": "code",
   "execution_count": null,
   "metadata": {
    "id": "A9mjqCOTAz96"
   },
   "outputs": [],
   "source": [
    "high_corr_cols = ['StratificationCategoryId1', 'StratificationID1', 'Gender', 'Education', 'Age(years)', 'Income', 'Race/Ethnicity', 'StratificationCategory1']\n",
    "train = train.drop(high_corr_cols, axis=1)\n",
    "test = test.drop(high_corr_cols, axis=1)"
   ]
  },
  {
   "cell_type": "code",
   "execution_count": null,
   "metadata": {
    "colab": {
     "base_uri": "https://localhost:8080/"
    },
    "id": "466fhjRIBDh9",
    "outputId": "860435a8-783b-4c37-ce55-946587fb47fc"
   },
   "outputs": [
    {
     "name": "stdout",
     "output_type": "stream",
     "text": [
      "<class 'pandas.core.frame.DataFrame'>\n",
      "Int64Index: 32881 entries, 0 to 49785\n",
      "Data columns (total 7 columns):\n",
      " #   Column                  Non-Null Count  Dtype  \n",
      "---  ------                  --------------  -----  \n",
      " 0   LocationAbbr            32881 non-null  object \n",
      " 1   Question                32881 non-null  object \n",
      " 2   Data_Value              32881 non-null  float64\n",
      " 3   Low_Confidence_Limit    32881 non-null  float64\n",
      " 4   High_Confidence_Limit   32881 non-null  float64\n",
      " 5   Sample_Size             32881 non-null  float64\n",
      " 6   Stratification1         32881 non-null  object \n",
      "dtypes: float64(4), object(3)\n",
      "memory usage: 3.3+ MB\n",
      "None\n"
     ]
    },
    {
     "data": {
      "text/html": [
       "<div>\n",
       "<style scoped>\n",
       "    .dataframe tbody tr th:only-of-type {\n",
       "        vertical-align: middle;\n",
       "    }\n",
       "\n",
       "    .dataframe tbody tr th {\n",
       "        vertical-align: top;\n",
       "    }\n",
       "\n",
       "    .dataframe thead th {\n",
       "        text-align: right;\n",
       "    }\n",
       "</style>\n",
       "<table border=\"1\" class=\"dataframe\">\n",
       "  <thead>\n",
       "    <tr style=\"text-align: right;\">\n",
       "      <th></th>\n",
       "      <th>LocationAbbr</th>\n",
       "      <th>Question</th>\n",
       "      <th>Data_Value</th>\n",
       "      <th>Low_Confidence_Limit</th>\n",
       "      <th>High_Confidence_Limit</th>\n",
       "      <th>Sample_Size</th>\n",
       "      <th>Stratification1</th>\n",
       "    </tr>\n",
       "  </thead>\n",
       "  <tbody>\n",
       "    <tr>\n",
       "      <th>39116</th>\n",
       "      <td>MD</td>\n",
       "      <td>Percent of adults aged 18 years and older who ...</td>\n",
       "      <td>22.794558</td>\n",
       "      <td>17.580952</td>\n",
       "      <td>29.013606</td>\n",
       "      <td>345.809522</td>\n",
       "      <td>Asian</td>\n",
       "    </tr>\n",
       "  </tbody>\n",
       "</table>\n",
       "</div>"
      ],
      "text/plain": [
       "      LocationAbbr  ... Stratification1\n",
       "39116           MD  ...           Asian\n",
       "\n",
       "[1 rows x 7 columns]"
      ]
     },
     "execution_count": 22,
     "metadata": {
      "tags": []
     },
     "output_type": "execute_result"
    }
   ],
   "source": [
    "print(train.info())\n",
    "train.sample()"
   ]
  },
  {
   "cell_type": "code",
   "execution_count": null,
   "metadata": {
    "colab": {
     "base_uri": "https://localhost:8080/"
    },
    "id": "6jJzuFPN9qIm",
    "outputId": "2017d4bb-34dc-416b-e2bd-7ea16711bf1c"
   },
   "outputs": [
    {
     "name": "stdout",
     "output_type": "stream",
     "text": [
      "<class 'pandas.core.frame.DataFrame'>\n",
      "Int64Index: 4636 entries, 0 to 4635\n",
      "Data columns (total 6 columns):\n",
      " #   Column                  Non-Null Count  Dtype  \n",
      "---  ------                  --------------  -----  \n",
      " 0   LocationAbbr            4636 non-null   object \n",
      " 1   Question                4636 non-null   object \n",
      " 2   Low_Confidence_Limit    4636 non-null   float64\n",
      " 3   High_Confidence_Limit   4636 non-null   float64\n",
      " 4   Sample_Size             4636 non-null   float64\n",
      " 5   Stratification1         4636 non-null   object \n",
      "dtypes: float64(3), object(3)\n",
      "memory usage: 253.5+ KB\n",
      "None\n"
     ]
    },
    {
     "data": {
      "text/html": [
       "<div>\n",
       "<style scoped>\n",
       "    .dataframe tbody tr th:only-of-type {\n",
       "        vertical-align: middle;\n",
       "    }\n",
       "\n",
       "    .dataframe tbody tr th {\n",
       "        vertical-align: top;\n",
       "    }\n",
       "\n",
       "    .dataframe thead th {\n",
       "        text-align: right;\n",
       "    }\n",
       "</style>\n",
       "<table border=\"1\" class=\"dataframe\">\n",
       "  <thead>\n",
       "    <tr style=\"text-align: right;\">\n",
       "      <th></th>\n",
       "      <th>LocationAbbr</th>\n",
       "      <th>Question</th>\n",
       "      <th>Low_Confidence_Limit</th>\n",
       "      <th>High_Confidence_Limit</th>\n",
       "      <th>Sample_Size</th>\n",
       "      <th>Stratification1</th>\n",
       "    </tr>\n",
       "  </thead>\n",
       "  <tbody>\n",
       "    <tr>\n",
       "      <th>1900</th>\n",
       "      <td>KY</td>\n",
       "      <td>Percent of adults aged 18 years and older who ...</td>\n",
       "      <td>32.3</td>\n",
       "      <td>40.4</td>\n",
       "      <td>1058.0</td>\n",
       "      <td>Less than $15,000</td>\n",
       "    </tr>\n",
       "  </tbody>\n",
       "</table>\n",
       "</div>"
      ],
      "text/plain": [
       "     LocationAbbr  ...    Stratification1\n",
       "1900           KY  ...  Less than $15,000\n",
       "\n",
       "[1 rows x 6 columns]"
      ]
     },
     "execution_count": 23,
     "metadata": {
      "tags": []
     },
     "output_type": "execute_result"
    }
   ],
   "source": [
    "print(test.info())\n",
    "test.sample()"
   ]
  },
  {
   "cell_type": "markdown",
   "metadata": {
    "id": "s4a3Cufs9R9v"
   },
   "source": [
    "# playground"
   ]
  },
  {
   "cell_type": "code",
   "execution_count": null,
   "metadata": {
    "colab": {
     "base_uri": "https://localhost:8080/",
     "height": 353
    },
    "id": "rPR8kwpgD5Dj",
    "outputId": "4823c458-520a-41bf-c131-97bf20b4cafc"
   },
   "outputs": [
    {
     "data": {
      "text/html": [
       "<div>\n",
       "<style scoped>\n",
       "    .dataframe tbody tr th:only-of-type {\n",
       "        vertical-align: middle;\n",
       "    }\n",
       "\n",
       "    .dataframe tbody tr th {\n",
       "        vertical-align: top;\n",
       "    }\n",
       "\n",
       "    .dataframe thead th {\n",
       "        text-align: right;\n",
       "    }\n",
       "</style>\n",
       "<table border=\"1\" class=\"dataframe\">\n",
       "  <thead>\n",
       "    <tr style=\"text-align: right;\">\n",
       "      <th></th>\n",
       "      <th>LocationAbbr</th>\n",
       "      <th>Question</th>\n",
       "      <th>Data_Value</th>\n",
       "      <th>Low_Confidence_Limit</th>\n",
       "      <th>High_Confidence_Limit</th>\n",
       "      <th>Sample_Size</th>\n",
       "      <th>Age(years)</th>\n",
       "      <th>Education</th>\n",
       "      <th>Gender</th>\n",
       "      <th>Income</th>\n",
       "      <th>Race/Ethnicity</th>\n",
       "      <th>StratificationCategory1</th>\n",
       "      <th>Stratification1</th>\n",
       "    </tr>\n",
       "  </thead>\n",
       "  <tbody>\n",
       "    <tr>\n",
       "      <th>12778</th>\n",
       "      <td>IN</td>\n",
       "      <td>Percent of adults aged 18 years and older who ...</td>\n",
       "      <td>35.636105</td>\n",
       "      <td>33.487861</td>\n",
       "      <td>37.784348</td>\n",
       "      <td>5577.051132</td>\n",
       "      <td>NaN</td>\n",
       "      <td>NaN</td>\n",
       "      <td>NaN</td>\n",
       "      <td>NaN</td>\n",
       "      <td>NaN</td>\n",
       "      <td>Education</td>\n",
       "      <td>Female</td>\n",
       "    </tr>\n",
       "    <tr>\n",
       "      <th>39231</th>\n",
       "      <td>AK</td>\n",
       "      <td>Percent of adults aged 18 years and older who ...</td>\n",
       "      <td>38.430377</td>\n",
       "      <td>35.482259</td>\n",
       "      <td>41.408870</td>\n",
       "      <td>2412.467777</td>\n",
       "      <td>NaN</td>\n",
       "      <td>NaN</td>\n",
       "      <td>NaN</td>\n",
       "      <td>NaN</td>\n",
       "      <td>NaN</td>\n",
       "      <td>Education</td>\n",
       "      <td>Non-Hispanic White</td>\n",
       "    </tr>\n",
       "    <tr>\n",
       "      <th>22444</th>\n",
       "      <td>GA</td>\n",
       "      <td>Percent of adults aged 18 years and older who ...</td>\n",
       "      <td>38.132385</td>\n",
       "      <td>34.526988</td>\n",
       "      <td>41.888682</td>\n",
       "      <td>1108.508996</td>\n",
       "      <td>NaN</td>\n",
       "      <td>NaN</td>\n",
       "      <td>NaN</td>\n",
       "      <td>NaN</td>\n",
       "      <td>NaN</td>\n",
       "      <td>Income</td>\n",
       "      <td>35 - 44</td>\n",
       "    </tr>\n",
       "    <tr>\n",
       "      <th>35230</th>\n",
       "      <td>PR</td>\n",
       "      <td>Percent of adults aged 18 years and older who ...</td>\n",
       "      <td>38.700000</td>\n",
       "      <td>37.000000</td>\n",
       "      <td>40.300000</td>\n",
       "      <td>5762.000000</td>\n",
       "      <td>NaN</td>\n",
       "      <td>NaN</td>\n",
       "      <td>NaN</td>\n",
       "      <td>NaN</td>\n",
       "      <td>NaN</td>\n",
       "      <td>Total</td>\n",
       "      <td>Total</td>\n",
       "    </tr>\n",
       "    <tr>\n",
       "      <th>21928</th>\n",
       "      <td>NE</td>\n",
       "      <td>Percent of adults aged 18 years and older who ...</td>\n",
       "      <td>30.134008</td>\n",
       "      <td>28.335585</td>\n",
       "      <td>32.013062</td>\n",
       "      <td>5446.774771</td>\n",
       "      <td>NaN</td>\n",
       "      <td>NaN</td>\n",
       "      <td>NaN</td>\n",
       "      <td>NaN</td>\n",
       "      <td>NaN</td>\n",
       "      <td>Education</td>\n",
       "      <td>High school graduate</td>\n",
       "    </tr>\n",
       "  </tbody>\n",
       "</table>\n",
       "</div>"
      ],
      "text/plain": [
       "      LocationAbbr  ...       Stratification1\n",
       "12778           IN  ...                Female\n",
       "39231           AK  ...    Non-Hispanic White\n",
       "22444           GA  ...               35 - 44\n",
       "35230           PR  ...                 Total\n",
       "21928           NE  ...  High school graduate\n",
       "\n",
       "[5 rows x 13 columns]"
      ]
     },
     "execution_count": 322,
     "metadata": {
      "tags": []
     },
     "output_type": "execute_result"
    }
   ],
   "source": [
    "sample = train[train[['Gender', 'Education', 'Age(years)', 'Income', 'Race/Ethnicity']].isna().all(axis=1)].sample(5)\n",
    "sample"
   ]
  },
  {
   "cell_type": "code",
   "execution_count": null,
   "metadata": {
    "colab": {
     "base_uri": "https://localhost:8080/"
    },
    "id": "xWzgPDUSM4KR",
    "outputId": "e9989dad-1590-4ef1-8f00-86cebf40a366"
   },
   "outputs": [
    {
     "data": {
      "text/plain": [
       "Total                               1367\n",
       "Some college or technical school    1367\n",
       "Female                              1337\n",
       "High school graduate                1333\n",
       "Data not reported                   1316\n",
       "55 - 64                             1309\n",
       "Less than $15,000                   1299\n",
       "Male                                1295\n",
       "Non-Hispanic White                  1292\n",
       "45 - 54                             1288\n",
       "65 or older                         1287\n",
       "Less than high school               1286\n",
       "35 - 44                             1285\n",
       "$35,000 - $49,999                   1285\n",
       "18 - 24                             1284\n",
       "$50,000 - $74,999                   1280\n",
       "$25,000 - $34,999                   1278\n",
       "$15,000 - $24,999                   1278\n",
       "Hispanic                            1261\n",
       "25 - 34                             1256\n",
       "$75,000 or greater                  1211\n",
       "College graduate                    1211\n",
       "2 or more races                     1191\n",
       "Non-Hispanic Black                  1044\n",
       "American Indian/Alaska Native        861\n",
       "Asian                                813\n",
       "Other                                502\n",
       "Hawaiian/Pacific Islander             65\n",
       "Name: Stratification1, dtype: int64"
      ]
     },
     "execution_count": 323,
     "metadata": {
      "tags": []
     },
     "output_type": "execute_result"
    }
   ],
   "source": [
    "# train['Stratification1'].value_counts()"
   ]
  },
  {
   "cell_type": "code",
   "execution_count": null,
   "metadata": {
    "id": "VQC2a-AhPgfe"
   },
   "outputs": [],
   "source": [
    "mapp = { col: train[col].dropna().unique().tolist() for col in ['Gender', 'Education', 'Age(years)', 'Income',\n",
    "       'Race/Ethnicity'] }"
   ]
  },
  {
   "cell_type": "code",
   "execution_count": null,
   "metadata": {
    "colab": {
     "base_uri": "https://localhost:8080/"
    },
    "id": "v2rnb7s9QEat",
    "outputId": "ac163fd9-bbc2-4ba1-e8c9-a078a7978cd3"
   },
   "outputs": [
    {
     "data": {
      "text/plain": [
       "{'Age(years)': ['18 - 24',\n",
       "  '25 - 34',\n",
       "  '35 - 44',\n",
       "  '45 - 54',\n",
       "  '55 - 64',\n",
       "  '65 or older'],\n",
       " 'Education': ['Less than high school',\n",
       "  'High school graduate',\n",
       "  'Some college or technical school',\n",
       "  'College graduate'],\n",
       " 'Gender': ['Male', 'Female'],\n",
       " 'Income': ['Less than $15,000',\n",
       "  '$15,000 - $24,999',\n",
       "  '$25,000 - $34,999',\n",
       "  '$35,000 - $49,999',\n",
       "  '$50,000 - $74,999',\n",
       "  '$75,000 or greater',\n",
       "  'Data not reported'],\n",
       " 'Race/Ethnicity': ['Non-Hispanic White',\n",
       "  'Non-Hispanic Black',\n",
       "  'Hispanic',\n",
       "  'American Indian/Alaska Native',\n",
       "  '2 or more races',\n",
       "  'Other',\n",
       "  'Asian',\n",
       "  'Hawaiian/Pacific Islander'],\n",
       " 'Total': ['Total']}"
      ]
     },
     "execution_count": 325,
     "metadata": {
      "tags": []
     },
     "output_type": "execute_result"
    }
   ],
   "source": [
    "mapp"
   ]
  },
  {
   "cell_type": "code",
   "execution_count": null,
   "metadata": {
    "colab": {
     "base_uri": "https://localhost:8080/"
    },
    "id": "YX8RpsBYwFsZ",
    "outputId": "70757aa5-6c55-427c-a320-60600976eef8"
   },
   "outputs": [
    {
     "data": {
      "text/plain": [
       "{'$15,000 - $24,999': 'Income',\n",
       " '$25,000 - $34,999': 'Income',\n",
       " '$35,000 - $49,999': 'Income',\n",
       " '$50,000 - $74,999': 'Income',\n",
       " '$75,000 or greater': 'Income',\n",
       " '18 - 24': 'Age(years)',\n",
       " '2 or more races': 'Race/Ethnicity',\n",
       " '25 - 34': 'Age(years)',\n",
       " '35 - 44': 'Age(years)',\n",
       " '45 - 54': 'Age(years)',\n",
       " '55 - 64': 'Age(years)',\n",
       " '65 or older': 'Age(years)',\n",
       " 'American Indian/Alaska Native': 'Race/Ethnicity',\n",
       " 'Asian': 'Race/Ethnicity',\n",
       " 'College graduate': 'Education',\n",
       " 'Data not reported': 'Income',\n",
       " 'Female': 'Gender',\n",
       " 'Hawaiian/Pacific Islander': 'Race/Ethnicity',\n",
       " 'High school graduate': 'Education',\n",
       " 'Hispanic': 'Race/Ethnicity',\n",
       " 'Less than $15,000': 'Income',\n",
       " 'Less than high school': 'Education',\n",
       " 'Male': 'Gender',\n",
       " 'Non-Hispanic Black': 'Race/Ethnicity',\n",
       " 'Non-Hispanic White': 'Race/Ethnicity',\n",
       " 'Other': 'Race/Ethnicity',\n",
       " 'Some college or technical school': 'Education',\n",
       " 'Total': 'Total'}"
      ]
     },
     "execution_count": 326,
     "metadata": {
      "tags": []
     },
     "output_type": "execute_result"
    }
   ],
   "source": [
    "new_mapp = { }\n",
    "for k, v in mapp.items():\n",
    "    for val in v:\n",
    "        new_mapp[val] = k\n",
    "new_mapp"
   ]
  },
  {
   "cell_type": "code",
   "execution_count": null,
   "metadata": {
    "colab": {
     "base_uri": "https://localhost:8080/",
     "height": 48,
     "referenced_widgets": [
      "3f4334d750b04675b38b034a44cb6868",
      "5c01758b80ba4c4d939a690420ee67e0",
      "e9854f834367462a8bc8a34372127c65",
      "6e17c8db6edf4413a8acb263414dc213",
      "2b180dd32c924996b025b63a04793644",
      "ac698de4fc2d4f6e953718a618ef646f",
      "e3eb0ef2cb274514b95c53f445374d25",
      "7e063b6cde2240f7b23ab5405097d19b",
      "d5bfa95d2d964146a7a20eeabace06eb",
      "b873a6dbc16a46cc93f63f151c4384b7",
      "6a2a4607c1434943a08d75c452e415ce"
     ]
    },
    "id": "dBDObq3zwinb",
    "outputId": "56f749cc-cc3d-409c-d93c-cdaace06d583"
   },
   "outputs": [
    {
     "data": {
      "application/vnd.jupyter.widget-view+json": {
       "model_id": "3f4334d750b04675b38b034a44cb6868",
       "version_major": 2,
       "version_minor": 0
      },
      "text/plain": [
       "  0%|          | 0/32881 [00:00<?, ?it/s]"
      ]
     },
     "metadata": {
      "tags": []
     },
     "output_type": "display_data"
    }
   ],
   "source": [
    "for i, row in tqdm(train.iterrows(), total=train.shape[0]):\n",
    "    val = row['Stratification1']\n",
    "    # print(i, val)\n",
    "    if val == 'Total':\n",
    "        continue\n",
    "\n",
    "    col_name = new_mapp[val]\n",
    "    row[col_name] = val\n",
    "    \n",
    "    train.loc[i] = row"
   ]
  },
  {
   "cell_type": "code",
   "execution_count": null,
   "metadata": {
    "id": "CDdn4GIN7ZJA"
   },
   "outputs": [],
   "source": [
    "train = train.fillna('no info')"
   ]
  },
  {
   "cell_type": "code",
   "execution_count": null,
   "metadata": {
    "colab": {
     "base_uri": "https://localhost:8080/"
    },
    "id": "8jKW_ScL7cnp",
    "outputId": "e2eca024-b2d7-4a1a-ccc4-e19677e31573"
   },
   "outputs": [
    {
     "name": "stdout",
     "output_type": "stream",
     "text": [
      "<class 'pandas.core.frame.DataFrame'>\n",
      "Int64Index: 32881 entries, 0 to 49785\n",
      "Data columns (total 13 columns):\n",
      " #   Column                   Non-Null Count  Dtype  \n",
      "---  ------                   --------------  -----  \n",
      " 0   LocationAbbr             32881 non-null  object \n",
      " 1   Question                 32881 non-null  object \n",
      " 2   Data_Value               32881 non-null  float64\n",
      " 3   Low_Confidence_Limit     32881 non-null  float64\n",
      " 4   High_Confidence_Limit    32881 non-null  float64\n",
      " 5   Sample_Size              32881 non-null  float64\n",
      " 6   Age(years)               32881 non-null  object \n",
      " 7   Education                32881 non-null  object \n",
      " 8   Gender                   32881 non-null  object \n",
      " 9   Income                   32881 non-null  object \n",
      " 10  Race/Ethnicity           32881 non-null  object \n",
      " 11  StratificationCategory1  32881 non-null  object \n",
      " 12  Stratification1          32881 non-null  object \n",
      "dtypes: float64(4), object(9)\n",
      "memory usage: 4.8+ MB\n"
     ]
    }
   ],
   "source": [
    "train.info()"
   ]
  },
  {
   "cell_type": "code",
   "execution_count": null,
   "metadata": {
    "colab": {
     "base_uri": "https://localhost:8080/",
     "height": 353
    },
    "id": "Mt1DUmVK4oiF",
    "outputId": "479cd0c3-3255-4849-cb7a-97a072ba668d"
   },
   "outputs": [
    {
     "data": {
      "text/html": [
       "<div>\n",
       "<style scoped>\n",
       "    .dataframe tbody tr th:only-of-type {\n",
       "        vertical-align: middle;\n",
       "    }\n",
       "\n",
       "    .dataframe tbody tr th {\n",
       "        vertical-align: top;\n",
       "    }\n",
       "\n",
       "    .dataframe thead th {\n",
       "        text-align: right;\n",
       "    }\n",
       "</style>\n",
       "<table border=\"1\" class=\"dataframe\">\n",
       "  <thead>\n",
       "    <tr style=\"text-align: right;\">\n",
       "      <th></th>\n",
       "      <th>LocationAbbr</th>\n",
       "      <th>Question</th>\n",
       "      <th>Data_Value</th>\n",
       "      <th>Low_Confidence_Limit</th>\n",
       "      <th>High_Confidence_Limit</th>\n",
       "      <th>Sample_Size</th>\n",
       "      <th>Age(years)</th>\n",
       "      <th>Education</th>\n",
       "      <th>Gender</th>\n",
       "      <th>Income</th>\n",
       "      <th>Race/Ethnicity</th>\n",
       "      <th>StratificationCategory1</th>\n",
       "      <th>Stratification1</th>\n",
       "    </tr>\n",
       "  </thead>\n",
       "  <tbody>\n",
       "    <tr>\n",
       "      <th>12778</th>\n",
       "      <td>IN</td>\n",
       "      <td>Percent of adults aged 18 years and older who ...</td>\n",
       "      <td>35.636105</td>\n",
       "      <td>33.487861</td>\n",
       "      <td>37.784348</td>\n",
       "      <td>5577.051132</td>\n",
       "      <td>NaN</td>\n",
       "      <td>NaN</td>\n",
       "      <td>Female</td>\n",
       "      <td>NaN</td>\n",
       "      <td>NaN</td>\n",
       "      <td>Education</td>\n",
       "      <td>Female</td>\n",
       "    </tr>\n",
       "    <tr>\n",
       "      <th>39231</th>\n",
       "      <td>AK</td>\n",
       "      <td>Percent of adults aged 18 years and older who ...</td>\n",
       "      <td>38.430377</td>\n",
       "      <td>35.482259</td>\n",
       "      <td>41.408870</td>\n",
       "      <td>2412.467777</td>\n",
       "      <td>NaN</td>\n",
       "      <td>NaN</td>\n",
       "      <td>NaN</td>\n",
       "      <td>NaN</td>\n",
       "      <td>Non-Hispanic White</td>\n",
       "      <td>Education</td>\n",
       "      <td>Non-Hispanic White</td>\n",
       "    </tr>\n",
       "    <tr>\n",
       "      <th>22444</th>\n",
       "      <td>GA</td>\n",
       "      <td>Percent of adults aged 18 years and older who ...</td>\n",
       "      <td>38.132385</td>\n",
       "      <td>34.526988</td>\n",
       "      <td>41.888682</td>\n",
       "      <td>1108.508996</td>\n",
       "      <td>35 - 44</td>\n",
       "      <td>NaN</td>\n",
       "      <td>NaN</td>\n",
       "      <td>NaN</td>\n",
       "      <td>NaN</td>\n",
       "      <td>Income</td>\n",
       "      <td>35 - 44</td>\n",
       "    </tr>\n",
       "    <tr>\n",
       "      <th>35230</th>\n",
       "      <td>PR</td>\n",
       "      <td>Percent of adults aged 18 years and older who ...</td>\n",
       "      <td>38.700000</td>\n",
       "      <td>37.000000</td>\n",
       "      <td>40.300000</td>\n",
       "      <td>5762.000000</td>\n",
       "      <td>NaN</td>\n",
       "      <td>NaN</td>\n",
       "      <td>NaN</td>\n",
       "      <td>NaN</td>\n",
       "      <td>NaN</td>\n",
       "      <td>Total</td>\n",
       "      <td>Total</td>\n",
       "    </tr>\n",
       "    <tr>\n",
       "      <th>21928</th>\n",
       "      <td>NE</td>\n",
       "      <td>Percent of adults aged 18 years and older who ...</td>\n",
       "      <td>30.134008</td>\n",
       "      <td>28.335585</td>\n",
       "      <td>32.013062</td>\n",
       "      <td>5446.774771</td>\n",
       "      <td>NaN</td>\n",
       "      <td>High school graduate</td>\n",
       "      <td>NaN</td>\n",
       "      <td>NaN</td>\n",
       "      <td>NaN</td>\n",
       "      <td>Education</td>\n",
       "      <td>High school graduate</td>\n",
       "    </tr>\n",
       "  </tbody>\n",
       "</table>\n",
       "</div>"
      ],
      "text/plain": [
       "      LocationAbbr  ...       Stratification1\n",
       "12778           IN  ...                Female\n",
       "39231           AK  ...    Non-Hispanic White\n",
       "22444           GA  ...               35 - 44\n",
       "35230           PR  ...                 Total\n",
       "21928           NE  ...  High school graduate\n",
       "\n",
       "[5 rows x 13 columns]"
      ]
     },
     "execution_count": 334,
     "metadata": {
      "tags": []
     },
     "output_type": "execute_result"
    }
   ],
   "source": [
    "high_corr_cols = ['StratificationCategory1', 'Stratification1']\n",
    "train = train.drop(high_corr_cols, axis=1)\n",
    "test = test.drop(high_corr_cols, axis=1)"
   ]
  },
  {
   "cell_type": "code",
   "execution_count": null,
   "metadata": {
    "colab": {
     "base_uri": "https://localhost:8080/"
    },
    "id": "qM1ATJs42z4-",
    "outputId": "93b1fec3-816b-4258-b4b4-921f5a90a7f5"
   },
   "outputs": [
    {
     "data": {
      "text/plain": [
       "dict_keys(['Gender', 'Education', 'Age(years)', 'Income', 'Race/Ethnicity', 'Total'])"
      ]
     },
     "execution_count": 293,
     "metadata": {
      "tags": []
     },
     "output_type": "execute_result"
    }
   ],
   "source": [
    "mapp.keys()"
   ]
  },
  {
   "cell_type": "code",
   "execution_count": null,
   "metadata": {
    "colab": {
     "base_uri": "https://localhost:8080/"
    },
    "id": "zAKSyQrktj1p",
    "outputId": "6684bd51-081b-4382-acf9-fae1c68b8309"
   },
   "outputs": [
    {
     "name": "stdout",
     "output_type": "stream",
     "text": [
      "Gender ['Male', 'Female'] 2\n",
      "Education ['Less than high school', 'High school graduate', 'Some college or technical school', 'College graduate'] 4\n",
      "Age(years) ['18 - 24', '25 - 34', '35 - 44', '45 - 54', '55 - 64', '65 or older'] 6\n",
      "Income ['Less than $15,000', '$15,000 - $24,999', '$25,000 - $34,999', '$35,000 - $49,999', '$50,000 - $74,999', '$75,000 or greater', 'Data not reported'] 7\n",
      "Race/Ethnicity ['Non-Hispanic White', 'Non-Hispanic Black', 'Hispanic', 'American Indian/Alaska Native', '2 or more races', 'Other', 'Asian', 'Hawaiian/Pacific Islander'] 8\n",
      "Total ['Total'] 1\n"
     ]
    }
   ],
   "source": [
    "for k, v in mapp.items():\n",
    "    print(k, v, len(v))"
   ]
  },
  {
   "cell_type": "code",
   "execution_count": null,
   "metadata": {
    "colab": {
     "base_uri": "https://localhost:8080/"
    },
    "id": "B-jjVIWUu9GJ",
    "outputId": "4dc2b7f5-fe09-4ab5-d9ca-c81d1d8cba9c"
   },
   "outputs": [
    {
     "data": {
      "text/plain": [
       "nan"
      ]
     },
     "execution_count": 279,
     "metadata": {
      "tags": []
     },
     "output_type": "execute_result"
    }
   ],
   "source": [
    "train.iloc[0]['Gender']"
   ]
  },
  {
   "cell_type": "code",
   "execution_count": null,
   "metadata": {
    "colab": {
     "base_uri": "https://localhost:8080/"
    },
    "id": "Z-Dllts4qzuN",
    "outputId": "be32eee1-97b9-4159-bb43-7e2488d779c6"
   },
   "outputs": [
    {
     "name": "stdout",
     "output_type": "stream",
     "text": [
      "<class 'pandas.core.frame.DataFrame'>\n",
      "Int64Index: 32881 entries, 0 to 49785\n",
      "Data columns (total 13 columns):\n",
      " #   Column                   Non-Null Count  Dtype  \n",
      "---  ------                   --------------  -----  \n",
      " 0   LocationAbbr             32881 non-null  object \n",
      " 1   Question                 32881 non-null  object \n",
      " 2   Data_Value               32881 non-null  float64\n",
      " 3   Low_Confidence_Limit     32881 non-null  float64\n",
      " 4   High_Confidence_Limit    32881 non-null  float64\n",
      " 5   Sample_Size              32881 non-null  float64\n",
      " 6   Age(years)               7567 non-null   object \n",
      " 7   Education                5019 non-null   object \n",
      " 8   Gender                   2460 non-null   object \n",
      " 9   Income                   8853 non-null   object \n",
      " 10  Race/Ethnicity           6872 non-null   object \n",
      " 11  StratificationCategory1  32881 non-null  object \n",
      " 12  Stratification1          32881 non-null  object \n",
      "dtypes: float64(4), object(9)\n",
      "memory usage: 4.8+ MB\n"
     ]
    }
   ],
   "source": [
    "train.info()"
   ]
  },
  {
   "cell_type": "code",
   "execution_count": null,
   "metadata": {
    "colab": {
     "base_uri": "https://localhost:8080/"
    },
    "id": "9PeZLnq4s9s4",
    "outputId": "6848dd7b-5a56-4c01-dce9-35e6e26ea925"
   },
   "outputs": [
    {
     "data": {
      "text/plain": [
       "Total                               1367\n",
       "Some college or technical school    1367\n",
       "Female                              1337\n",
       "High school graduate                1333\n",
       "Data not reported                   1316\n",
       "55 - 64                             1309\n",
       "Less than $15,000                   1299\n",
       "Male                                1295\n",
       "Non-Hispanic White                  1292\n",
       "45 - 54                             1288\n",
       "65 or older                         1287\n",
       "Less than high school               1286\n",
       "35 - 44                             1285\n",
       "$35,000 - $49,999                   1285\n",
       "18 - 24                             1284\n",
       "$50,000 - $74,999                   1280\n",
       "$25,000 - $34,999                   1278\n",
       "$15,000 - $24,999                   1278\n",
       "Hispanic                            1261\n",
       "25 - 34                             1256\n",
       "$75,000 or greater                  1211\n",
       "College graduate                    1211\n",
       "2 or more races                     1191\n",
       "Non-Hispanic Black                  1044\n",
       "American Indian/Alaska Native        861\n",
       "Asian                                813\n",
       "Other                                502\n",
       "Hawaiian/Pacific Islander             65\n",
       "Name: Stratification1, dtype: int64"
      ]
     },
     "execution_count": 248,
     "metadata": {
      "tags": []
     },
     "output_type": "execute_result"
    }
   ],
   "source": [
    "train.Stratification1.value_counts()"
   ]
  },
  {
   "cell_type": "code",
   "execution_count": null,
   "metadata": {
    "colab": {
     "base_uri": "https://localhost:8080/"
    },
    "id": "wUaAWO94rQhS",
    "outputId": "feeb4aaf-627d-4289-fe6e-7232af101b66"
   },
   "outputs": [
    {
     "data": {
      "text/plain": [
       "Income            9008\n",
       "Age (years)       7772\n",
       "Race/Ethnicity    6962\n",
       "Education         5204\n",
       "Gender            2643\n",
       "Total             1292\n",
       "Name: StratificationCategory1, dtype: int64"
      ]
     },
     "execution_count": 204,
     "metadata": {
      "tags": []
     },
     "output_type": "execute_result"
    }
   ],
   "source": [
    "train['StratificationCategory1'].value_counts()"
   ]
  },
  {
   "cell_type": "markdown",
   "metadata": {
    "id": "Plw1yNUcsg5Y"
   },
   "source": [
    "# transformations"
   ]
  },
  {
   "cell_type": "code",
   "execution_count": null,
   "metadata": {
    "id": "QyNNwwf19cuw"
   },
   "outputs": [],
   "source": [
    "cat_cols = train.select_dtypes(include='object').columns.tolist()\n",
    "\n",
    "for col in cat_cols:\n",
    "    le = LabelEncoder()\n",
    "    train[col] = le.fit_transform(train[col])\n",
    "    test[col] = le.transform(test[col])"
   ]
  },
  {
   "cell_type": "code",
   "execution_count": null,
   "metadata": {
    "id": "7WLwZc7q97q0"
   },
   "outputs": [],
   "source": [
    "train['Sample_Size'] = np.log(train['Sample_Size'])\n",
    "test['Sample_Size'] = np.log(test['Sample_Size'])"
   ]
  },
  {
   "cell_type": "code",
   "execution_count": null,
   "metadata": {
    "id": "NArKsTcYzhqF"
   },
   "outputs": [],
   "source": [
    "train['range'] = train['High_Confidence_Limit '] - train['Low_Confidence_Limit']\n",
    "test['range'] = test['High_Confidence_Limit '] - test['Low_Confidence_Limit']"
   ]
  },
  {
   "cell_type": "code",
   "execution_count": null,
   "metadata": {
    "id": "gKyZGorJ0tHL"
   },
   "outputs": [],
   "source": [
    "train['mid'] = (train['High_Confidence_Limit '] + train['Low_Confidence_Limit']) / 2\n",
    "test['mid'] = (test['High_Confidence_Limit '] + test['Low_Confidence_Limit']) / 2"
   ]
  },
  {
   "cell_type": "code",
   "execution_count": null,
   "metadata": {
    "colab": {
     "base_uri": "https://localhost:8080/",
     "height": 96
    },
    "id": "hHLUNli392u0",
    "outputId": "142b1e2e-3573-40ae-f8c4-e542db85a829"
   },
   "outputs": [
    {
     "data": {
      "text/html": [
       "<div>\n",
       "<style scoped>\n",
       "    .dataframe tbody tr th:only-of-type {\n",
       "        vertical-align: middle;\n",
       "    }\n",
       "\n",
       "    .dataframe tbody tr th {\n",
       "        vertical-align: top;\n",
       "    }\n",
       "\n",
       "    .dataframe thead th {\n",
       "        text-align: right;\n",
       "    }\n",
       "</style>\n",
       "<table border=\"1\" class=\"dataframe\">\n",
       "  <thead>\n",
       "    <tr style=\"text-align: right;\">\n",
       "      <th></th>\n",
       "      <th>LocationAbbr</th>\n",
       "      <th>Question</th>\n",
       "      <th>Data_Value</th>\n",
       "      <th>Low_Confidence_Limit</th>\n",
       "      <th>High_Confidence_Limit</th>\n",
       "      <th>Sample_Size</th>\n",
       "      <th>Stratification1</th>\n",
       "      <th>range</th>\n",
       "      <th>mid</th>\n",
       "    </tr>\n",
       "  </thead>\n",
       "  <tbody>\n",
       "    <tr>\n",
       "      <th>9613</th>\n",
       "      <td>42</td>\n",
       "      <td>0</td>\n",
       "      <td>30.9</td>\n",
       "      <td>26.0</td>\n",
       "      <td>36.3</td>\n",
       "      <td>6.33328</td>\n",
       "      <td>5</td>\n",
       "      <td>10.3</td>\n",
       "      <td>31.15</td>\n",
       "    </tr>\n",
       "  </tbody>\n",
       "</table>\n",
       "</div>"
      ],
      "text/plain": [
       "      LocationAbbr  Question  Data_Value  ...  Stratification1  range    mid\n",
       "9613            42         0        30.9  ...                5   10.3  31.15\n",
       "\n",
       "[1 rows x 9 columns]"
      ]
     },
     "execution_count": 28,
     "metadata": {
      "tags": []
     },
     "output_type": "execute_result"
    }
   ],
   "source": [
    "train.sample()"
   ]
  },
  {
   "cell_type": "markdown",
   "metadata": {
    "id": "J7IoTiRWrZiw"
   },
   "source": [
    "# xgboost"
   ]
  },
  {
   "cell_type": "code",
   "execution_count": null,
   "metadata": {
    "id": "4BlunXnx235K"
   },
   "outputs": [],
   "source": [
    "X = train.drop('Data_Value', axis=1)\n",
    "y = train['Data_Value']"
   ]
  },
  {
   "cell_type": "code",
   "execution_count": null,
   "metadata": {
    "id": "-JYE-t762qiZ"
   },
   "outputs": [],
   "source": [
    "X_train, X_test, y_train, y_test = train_test_split(X, y, random_state=1234, test_size=0.2)"
   ]
  },
  {
   "cell_type": "code",
   "execution_count": null,
   "metadata": {
    "id": "nKvDn2mgtLLn"
   },
   "outputs": [],
   "source": [
    "# ?xgb.XGBRegressor"
   ]
  },
  {
   "cell_type": "code",
   "execution_count": null,
   "metadata": {
    "id": "LS5F_Kkbr2JR"
   },
   "outputs": [],
   "source": [
    "xgb_params = {\n",
    "    'objective': 'reg:squarederror',\n",
    "    'n_estimators': 1000,\n",
    "    'max_depth': 6,\n",
    "    'learning_rate': 0.2,\n",
    "    'booster': 'gbtree',\n",
    "    'n_jobs': -1,\n",
    "    # 'gamma': 10,\n",
    "    # 'min_child_weight': 0.4,\n",
    "    # 'subsample': 0.9,\n",
    "    # 'colsample_bytree': 0.1,\n",
    "    # 'colsample_bylevel': 0.4,\n",
    "    # 'colsample_bynode': 0.6,\n",
    "    # 'reg_alpha': 10,\n",
    "    # 'reg_lambda': 10,\n",
    "    # 'scale_pos_weight': 4,\n",
    "    # 'random_state': 1234,\n",
    "    # 'importance_type': 'gain',\n",
    "    # 'max_delta_step': ,\n",
    "    # 'base_score': ,\n",
    "    # 'verbosity': 1,\n",
    "    # 'tree_method': 'auto',\n",
    "    # 'missing': ,\n",
    "    # 'num_parallel_tree': ,\n",
    "    # 'monotone_constraints': ,\n",
    "    # 'interaction_constraints': ,\n",
    "}"
   ]
  },
  {
   "cell_type": "code",
   "execution_count": null,
   "metadata": {
    "id": "urS6_naxHQlH"
   },
   "outputs": [],
   "source": [
    "xgb_model = xgb.XGBRegressor(**xgb_params)"
   ]
  },
  {
   "cell_type": "code",
   "execution_count": null,
   "metadata": {
    "colab": {
     "base_uri": "https://localhost:8080/"
    },
    "id": "HmOQoDRFN_ue",
    "outputId": "7aa23934-e95b-4775-a5c7-e005ff51c764"
   },
   "outputs": [
    {
     "data": {
      "text/plain": [
       "XGBRegressor(base_score=0.5, booster='dart', colsample_bylevel=1,\n",
       "             colsample_bynode=1, colsample_bytree=1, gamma=0, gpu_id=-1,\n",
       "             importance_type='gain', interaction_constraints='',\n",
       "             learning_rate=0.2, max_delta_step=0, max_depth=6,\n",
       "             min_child_weight=1, missing=nan, monotone_constraints='()',\n",
       "             n_estimators=1000, n_jobs=-1, num_parallel_tree=1,\n",
       "             objective='reg:squarederror', random_state=0, reg_alpha=0,\n",
       "             reg_lambda=1, scale_pos_weight=1, subsample=1, tree_method='exact',\n",
       "             validate_parameters=1, verbosity=None)"
      ]
     },
     "execution_count": 149,
     "metadata": {
      "tags": []
     },
     "output_type": "execute_result"
    }
   ],
   "source": [
    "xgb_model.fit(X_train, y_train)"
   ]
  },
  {
   "cell_type": "code",
   "execution_count": null,
   "metadata": {
    "id": "rcL_OoBIN_rT"
   },
   "outputs": [],
   "source": [
    "preds = xgb_model.predict(X_test)"
   ]
  },
  {
   "cell_type": "code",
   "execution_count": null,
   "metadata": {
    "colab": {
     "base_uri": "https://localhost:8080/"
    },
    "id": "iRAb7DwPOI4r",
    "outputId": "df9be0fd-cc94-41ea-a991-8ed98214dbd2"
   },
   "outputs": [
    {
     "data": {
      "text/plain": [
       "0.07971002670886919"
      ]
     },
     "execution_count": 151,
     "metadata": {
      "tags": []
     },
     "output_type": "execute_result"
    }
   ],
   "source": [
    "np.sqrt(mean_squared_error(y_test, preds))"
   ]
  },
  {
   "cell_type": "code",
   "execution_count": null,
   "metadata": {
    "id": "KXKdsop55hjb"
   },
   "outputs": [],
   "source": [
    "scores = cross_val_score(xgb_model, X, y, cv=10, scoring='neg_mean_squared_error')"
   ]
  },
  {
   "cell_type": "code",
   "execution_count": null,
   "metadata": {
    "colab": {
     "base_uri": "https://localhost:8080/"
    },
    "id": "TQ27LpEa5-59",
    "outputId": "a2d3b91a-f0ac-4eda-d745-d9caa91694d3"
   },
   "outputs": [
    {
     "name": "stdout",
     "output_type": "stream",
     "text": [
      "[-0.00674489 -0.00706129 -0.02470153 -0.00374974 -0.00341912 -0.00450549\n",
      " -0.00385324 -0.00482566 -0.0032765  -0.00592596]\n",
      "0.07759195678681594\n"
     ]
    }
   ],
   "source": [
    "print(scores)\n",
    "print(np.sqrt(np.abs(scores)).mean())"
   ]
  },
  {
   "cell_type": "code",
   "execution_count": null,
   "metadata": {
    "colab": {
     "base_uri": "https://localhost:8080/"
    },
    "id": "lg3gh7Mj8Co8",
    "outputId": "b947d8ba-a547-4428-d331-689b574d88a4"
   },
   "outputs": [
    {
     "data": {
      "text/plain": [
       "XGBRegressor(base_score=0.5, booster='gbtree', colsample_bylevel=1,\n",
       "             colsample_bynode=1, colsample_bytree=1, gamma=0, gpu_id=-1,\n",
       "             importance_type='gain', interaction_constraints='',\n",
       "             learning_rate=0.2, max_delta_step=0, max_depth=6,\n",
       "             min_child_weight=1, missing=nan, monotone_constraints='()',\n",
       "             n_estimators=1000, n_jobs=-1, num_parallel_tree=1,\n",
       "             objective='reg:squarederror', random_state=0, reg_alpha=0,\n",
       "             reg_lambda=1, scale_pos_weight=1, subsample=1, tree_method='exact',\n",
       "             validate_parameters=1, verbosity=None)"
      ]
     },
     "execution_count": 95,
     "metadata": {
      "tags": []
     },
     "output_type": "execute_result"
    }
   ],
   "source": [
    "xgb_model.fit(X, y)"
   ]
  },
  {
   "cell_type": "code",
   "execution_count": null,
   "metadata": {
    "id": "n4Q-iada3MeY"
   },
   "outputs": [],
   "source": [
    "preds = xgb_model.predict(test)"
   ]
  },
  {
   "cell_type": "code",
   "execution_count": null,
   "metadata": {
    "colab": {
     "base_uri": "https://localhost:8080/"
    },
    "id": "BYDG7Wk18NH7",
    "outputId": "1ea9827d-6de5-4cc7-83c9-45845d42be1e"
   },
   "outputs": [
    {
     "name": "stdout",
     "output_type": "stream",
     "text": [
      "(4636,)\n"
     ]
    },
    {
     "data": {
      "text/plain": [
       "array([35.200512, 41.07685 , 29.292925, ..., 29.998875, 44.08765 ,\n",
       "       32.634926], dtype=float32)"
      ]
     },
     "execution_count": 98,
     "metadata": {
      "tags": []
     },
     "output_type": "execute_result"
    }
   ],
   "source": [
    "print(preds.shape)\n",
    "preds"
   ]
  },
  {
   "cell_type": "code",
   "execution_count": null,
   "metadata": {
    "colab": {
     "base_uri": "https://localhost:8080/",
     "height": 207
    },
    "id": "oQ7iJ2Xo8TIH",
    "outputId": "cc760ada-496a-46c5-8f01-0e408283ecdb"
   },
   "outputs": [
    {
     "name": "stdout",
     "output_type": "stream",
     "text": [
      "(4636, 1)\n"
     ]
    },
    {
     "data": {
      "text/html": [
       "<div>\n",
       "<style scoped>\n",
       "    .dataframe tbody tr th:only-of-type {\n",
       "        vertical-align: middle;\n",
       "    }\n",
       "\n",
       "    .dataframe tbody tr th {\n",
       "        vertical-align: top;\n",
       "    }\n",
       "\n",
       "    .dataframe thead th {\n",
       "        text-align: right;\n",
       "    }\n",
       "</style>\n",
       "<table border=\"1\" class=\"dataframe\">\n",
       "  <thead>\n",
       "    <tr style=\"text-align: right;\">\n",
       "      <th></th>\n",
       "      <th>prediction</th>\n",
       "    </tr>\n",
       "  </thead>\n",
       "  <tbody>\n",
       "    <tr>\n",
       "      <th>0</th>\n",
       "      <td>35.200512</td>\n",
       "    </tr>\n",
       "    <tr>\n",
       "      <th>1</th>\n",
       "      <td>41.076851</td>\n",
       "    </tr>\n",
       "    <tr>\n",
       "      <th>2</th>\n",
       "      <td>29.292925</td>\n",
       "    </tr>\n",
       "    <tr>\n",
       "      <th>3</th>\n",
       "      <td>34.620934</td>\n",
       "    </tr>\n",
       "    <tr>\n",
       "      <th>4</th>\n",
       "      <td>34.229858</td>\n",
       "    </tr>\n",
       "  </tbody>\n",
       "</table>\n",
       "</div>"
      ],
      "text/plain": [
       "   prediction\n",
       "0   35.200512\n",
       "1   41.076851\n",
       "2   29.292925\n",
       "3   34.620934\n",
       "4   34.229858"
      ]
     },
     "execution_count": 102,
     "metadata": {
      "tags": []
     },
     "output_type": "execute_result"
    }
   ],
   "source": [
    "sub = pd.DataFrame({\n",
    "    'prediction': preds,\n",
    "})\n",
    "print(sub.shape)\n",
    "sub.head()"
   ]
  },
  {
   "cell_type": "code",
   "execution_count": null,
   "metadata": {
    "id": "9Smy_WD38cNK"
   },
   "outputs": [],
   "source": [
    "SUB_FILEPATH = 'xgb1.csv'\n",
    "sub.to_csv(SUB_FILEPATH, index=False)"
   ]
  },
  {
   "cell_type": "code",
   "execution_count": null,
   "metadata": {
    "colab": {
     "base_uri": "https://localhost:8080/"
    },
    "id": "4A1vYPVCIhsQ",
    "outputId": "7fa82f5c-396c-436d-8e76-bf5976379a9f"
   },
   "outputs": [
    {
     "data": {
      "text/plain": [
       "{'booster': 'gbtree',\n",
       " 'learning_rate': 0.24983078735166536,\n",
       " 'max_depth': 4,\n",
       " 'n_estimators': 3308,\n",
       " 'n_jobs': -1,\n",
       " 'objective': 'reg:squarederror'}"
      ]
     },
     "execution_count": 152,
     "metadata": {
      "tags": []
     },
     "output_type": "execute_result"
    }
   ],
   "source": [
    "BEST_PARAMS = {\n",
    "    'objective': 'reg:squarederror',\n",
    "    'booster': 'gbtree', \n",
    "    'n_jobs': -1\n",
    "}\n",
    "BEST_PARAMS.update(**xgb_study.best_params)\n",
    "BEST_PARAMS    "
   ]
  },
  {
   "cell_type": "code",
   "execution_count": null,
   "metadata": {
    "id": "fEPIfv0UIgMA"
   },
   "outputs": [],
   "source": [
    "xgb_model = xgb.XGBRegressor(**BEST_PARAMS)"
   ]
  },
  {
   "cell_type": "code",
   "execution_count": null,
   "metadata": {
    "id": "s8y0Orw4IgMF"
   },
   "outputs": [],
   "source": [
    "scores = cross_val_score(xgb_model, X, y, cv=10, scoring='neg_mean_squared_error')"
   ]
  },
  {
   "cell_type": "code",
   "execution_count": null,
   "metadata": {
    "colab": {
     "base_uri": "https://localhost:8080/"
    },
    "id": "hJqMi4lYIgMF",
    "outputId": "d4c3f3fa-0a4a-4947-a1df-709d8cf791d3"
   },
   "outputs": [
    {
     "name": "stdout",
     "output_type": "stream",
     "text": [
      "[-0.00430918 -0.00305281 -0.01130288 -0.00265899 -0.00227472 -0.00291936\n",
      " -0.00267637 -0.00315468 -0.00239237 -0.00251734]\n",
      "0.05874873288053556\n"
     ]
    }
   ],
   "source": [
    "print(scores)\n",
    "print(np.sqrt(np.abs(scores)).mean())"
   ]
  },
  {
   "cell_type": "code",
   "execution_count": null,
   "metadata": {
    "colab": {
     "base_uri": "https://localhost:8080/"
    },
    "id": "jcOOHZu-XjxQ",
    "outputId": "fbfbd102-c494-41fe-eecd-9097c4cfbf18"
   },
   "outputs": [
    {
     "data": {
      "text/plain": [
       "XGBRegressor(base_score=0.5, booster='gbtree', colsample_bylevel=1,\n",
       "             colsample_bynode=1, colsample_bytree=1, gamma=0, gpu_id=-1,\n",
       "             importance_type='gain', interaction_constraints='',\n",
       "             learning_rate=0.24983078735166536, max_delta_step=0, max_depth=4,\n",
       "             min_child_weight=1, missing=nan, monotone_constraints='()',\n",
       "             n_estimators=3308, n_jobs=-1, num_parallel_tree=1,\n",
       "             objective='reg:squarederror', random_state=0, reg_alpha=0,\n",
       "             reg_lambda=1, scale_pos_weight=1, subsample=1, tree_method='exact',\n",
       "             validate_parameters=1, verbosity=None)"
      ]
     },
     "execution_count": 156,
     "metadata": {
      "tags": []
     },
     "output_type": "execute_result"
    }
   ],
   "source": [
    "xgb_model.fit(X, y)"
   ]
  },
  {
   "cell_type": "code",
   "execution_count": null,
   "metadata": {
    "id": "AS4oTQIfXjxV"
   },
   "outputs": [],
   "source": [
    "preds = xgb_model.predict(test)"
   ]
  },
  {
   "cell_type": "code",
   "execution_count": null,
   "metadata": {
    "colab": {
     "base_uri": "https://localhost:8080/"
    },
    "id": "5D-bqSDXXttX",
    "outputId": "1720e2ae-8d35-402e-b07b-e64bbeeb253c"
   },
   "outputs": [
    {
     "name": "stdout",
     "output_type": "stream",
     "text": [
      "(4636,)\n"
     ]
    },
    {
     "data": {
      "text/plain": [
       "array([35.204628, 41.09936 , 29.284523, ..., 29.973993, 44.131493,\n",
       "       32.592484], dtype=float32)"
      ]
     },
     "execution_count": 158,
     "metadata": {
      "tags": []
     },
     "output_type": "execute_result"
    }
   ],
   "source": [
    "print(preds.shape)\n",
    "preds"
   ]
  },
  {
   "cell_type": "code",
   "execution_count": null,
   "metadata": {
    "colab": {
     "base_uri": "https://localhost:8080/",
     "height": 207
    },
    "id": "aq-Rq5WRXtth",
    "outputId": "89e8c8a4-bfb4-4574-f3bf-3872a6d090fb"
   },
   "outputs": [
    {
     "name": "stdout",
     "output_type": "stream",
     "text": [
      "(4636, 1)\n"
     ]
    },
    {
     "data": {
      "text/html": [
       "<div>\n",
       "<style scoped>\n",
       "    .dataframe tbody tr th:only-of-type {\n",
       "        vertical-align: middle;\n",
       "    }\n",
       "\n",
       "    .dataframe tbody tr th {\n",
       "        vertical-align: top;\n",
       "    }\n",
       "\n",
       "    .dataframe thead th {\n",
       "        text-align: right;\n",
       "    }\n",
       "</style>\n",
       "<table border=\"1\" class=\"dataframe\">\n",
       "  <thead>\n",
       "    <tr style=\"text-align: right;\">\n",
       "      <th></th>\n",
       "      <th>prediction</th>\n",
       "    </tr>\n",
       "  </thead>\n",
       "  <tbody>\n",
       "    <tr>\n",
       "      <th>0</th>\n",
       "      <td>35.204628</td>\n",
       "    </tr>\n",
       "    <tr>\n",
       "      <th>1</th>\n",
       "      <td>41.099361</td>\n",
       "    </tr>\n",
       "    <tr>\n",
       "      <th>2</th>\n",
       "      <td>29.284523</td>\n",
       "    </tr>\n",
       "    <tr>\n",
       "      <th>3</th>\n",
       "      <td>34.648819</td>\n",
       "    </tr>\n",
       "    <tr>\n",
       "      <th>4</th>\n",
       "      <td>34.233879</td>\n",
       "    </tr>\n",
       "  </tbody>\n",
       "</table>\n",
       "</div>"
      ],
      "text/plain": [
       "   prediction\n",
       "0   35.204628\n",
       "1   41.099361\n",
       "2   29.284523\n",
       "3   34.648819\n",
       "4   34.233879"
      ]
     },
     "execution_count": 159,
     "metadata": {
      "tags": []
     },
     "output_type": "execute_result"
    }
   ],
   "source": [
    "sub = pd.DataFrame({\n",
    "    'prediction': preds,\n",
    "})\n",
    "print(sub.shape)\n",
    "sub.head()"
   ]
  },
  {
   "cell_type": "code",
   "execution_count": null,
   "metadata": {
    "id": "9EhOAVqZXyeP"
   },
   "outputs": [],
   "source": [
    "SUB_FILEPATH = 'xgb2.csv'\n",
    "sub.to_csv(SUB_FILEPATH, index=False)"
   ]
  }
 ],
 "metadata": {
  "colab": {
   "collapsed_sections": [],
   "name": "data_sprint_30.ipynb",
   "provenance": [],
   "toc_visible": true
  },
  "kernelspec": {
   "display_name": "Python 3",
   "language": "python",
   "name": "python3"
  },
  "language_info": {
   "codemirror_mode": {
    "name": "ipython",
    "version": 3
   },
   "file_extension": ".py",
   "mimetype": "text/x-python",
   "name": "python",
   "nbconvert_exporter": "python",
   "pygments_lexer": "ipython3",
   "version": "3.8.8"
  },
  "toc": {
   "base_numbering": 1,
   "nav_menu": {},
   "number_sections": true,
   "sideBar": true,
   "skip_h1_title": false,
   "title_cell": "Table of Contents",
   "title_sidebar": "Contents",
   "toc_cell": false,
   "toc_position": {},
   "toc_section_display": true,
   "toc_window_display": false
  },
  "widgets": {
   "application/vnd.jupyter.widget-state+json": {
    "044c4ac11b104e9f87feaac705c708e2": {
     "model_module": "@jupyter-widgets/controls",
     "model_name": "ToggleButtonsStyleModel",
     "state": {
      "_model_module": "@jupyter-widgets/controls",
      "_model_module_version": "1.5.0",
      "_model_name": "ToggleButtonsStyleModel",
      "_view_count": null,
      "_view_module": "@jupyter-widgets/base",
      "_view_module_version": "1.2.0",
      "_view_name": "StyleView",
      "button_width": "",
      "description_width": "",
      "font_weight": ""
     }
    },
    "04c8711cb2114d1fa3fce4c8f722c9ba": {
     "model_module": "@jupyter-widgets/controls",
     "model_name": "IntProgressModel",
     "state": {
      "_dom_classes": [],
      "_model_module": "@jupyter-widgets/controls",
      "_model_module_version": "1.5.0",
      "_model_name": "IntProgressModel",
      "_view_count": null,
      "_view_module": "@jupyter-widgets/controls",
      "_view_module_version": "1.5.0",
      "_view_name": "ProgressView",
      "bar_style": "",
      "description": "Processing: ",
      "description_tooltip": null,
      "layout": "IPY_MODEL_2dd31c6c36dd48a7b279b14ce01296bc",
      "max": 5,
      "min": 0,
      "orientation": "horizontal",
      "style": "IPY_MODEL_0b5844e5be7945b394002a8b9bbef4b9",
      "value": 5
     }
    },
    "0a5b08ff635b484999d638965d2653ac": {
     "model_module": "@jupyter-widgets/base",
     "model_name": "LayoutModel",
     "state": {
      "_model_module": "@jupyter-widgets/base",
      "_model_module_version": "1.2.0",
      "_model_name": "LayoutModel",
      "_view_count": null,
      "_view_module": "@jupyter-widgets/base",
      "_view_module_version": "1.2.0",
      "_view_name": "LayoutView",
      "align_content": null,
      "align_items": null,
      "align_self": null,
      "border": null,
      "bottom": null,
      "display": null,
      "flex": null,
      "flex_flow": null,
      "grid_area": null,
      "grid_auto_columns": null,
      "grid_auto_flow": null,
      "grid_auto_rows": null,
      "grid_column": null,
      "grid_gap": null,
      "grid_row": null,
      "grid_template_areas": null,
      "grid_template_columns": null,
      "grid_template_rows": null,
      "height": null,
      "justify_content": null,
      "justify_items": null,
      "left": null,
      "margin": null,
      "max_height": null,
      "max_width": null,
      "min_height": null,
      "min_width": null,
      "object_fit": null,
      "object_position": null,
      "order": null,
      "overflow": null,
      "overflow_x": null,
      "overflow_y": null,
      "padding": null,
      "right": null,
      "top": null,
      "visibility": null,
      "width": null
     }
    },
    "0b5844e5be7945b394002a8b9bbef4b9": {
     "model_module": "@jupyter-widgets/controls",
     "model_name": "ProgressStyleModel",
     "state": {
      "_model_module": "@jupyter-widgets/controls",
      "_model_module_version": "1.5.0",
      "_model_name": "ProgressStyleModel",
      "_view_count": null,
      "_view_module": "@jupyter-widgets/base",
      "_view_module_version": "1.2.0",
      "_view_name": "StyleView",
      "bar_color": null,
      "description_width": ""
     }
    },
    "10ed01a6d44a4097890a1a2688bd1a86": {
     "model_module": "@jupyter-widgets/base",
     "model_name": "LayoutModel",
     "state": {
      "_model_module": "@jupyter-widgets/base",
      "_model_module_version": "1.2.0",
      "_model_name": "LayoutModel",
      "_view_count": null,
      "_view_module": "@jupyter-widgets/base",
      "_view_module_version": "1.2.0",
      "_view_name": "LayoutView",
      "align_content": null,
      "align_items": null,
      "align_self": null,
      "border": null,
      "bottom": null,
      "display": null,
      "flex": null,
      "flex_flow": null,
      "grid_area": null,
      "grid_auto_columns": null,
      "grid_auto_flow": null,
      "grid_auto_rows": null,
      "grid_column": null,
      "grid_gap": null,
      "grid_row": null,
      "grid_template_areas": null,
      "grid_template_columns": null,
      "grid_template_rows": null,
      "height": null,
      "justify_content": null,
      "justify_items": null,
      "left": null,
      "margin": null,
      "max_height": null,
      "max_width": null,
      "min_height": null,
      "min_width": null,
      "object_fit": null,
      "object_position": null,
      "order": null,
      "overflow": null,
      "overflow_x": null,
      "overflow_y": null,
      "padding": null,
      "right": null,
      "top": null,
      "visibility": null,
      "width": null
     }
    },
    "15225b173a64461eb184092d93948dc9": {
     "model_module": "@jupyter-widgets/base",
     "model_name": "LayoutModel",
     "state": {
      "_model_module": "@jupyter-widgets/base",
      "_model_module_version": "1.2.0",
      "_model_name": "LayoutModel",
      "_view_count": null,
      "_view_module": "@jupyter-widgets/base",
      "_view_module_version": "1.2.0",
      "_view_name": "LayoutView",
      "align_content": null,
      "align_items": null,
      "align_self": null,
      "border": null,
      "bottom": null,
      "display": null,
      "flex": null,
      "flex_flow": null,
      "grid_area": null,
      "grid_auto_columns": null,
      "grid_auto_flow": null,
      "grid_auto_rows": null,
      "grid_column": null,
      "grid_gap": null,
      "grid_row": null,
      "grid_template_areas": null,
      "grid_template_columns": null,
      "grid_template_rows": null,
      "height": null,
      "justify_content": null,
      "justify_items": null,
      "left": null,
      "margin": null,
      "max_height": null,
      "max_width": null,
      "min_height": null,
      "min_width": null,
      "object_fit": null,
      "object_position": null,
      "order": null,
      "overflow": null,
      "overflow_x": null,
      "overflow_y": null,
      "padding": null,
      "right": null,
      "top": null,
      "visibility": null,
      "width": null
     }
    },
    "1b857b469b64426c8ca0edbdeeb421d7": {
     "model_module": "@jupyter-widgets/base",
     "model_name": "LayoutModel",
     "state": {
      "_model_module": "@jupyter-widgets/base",
      "_model_module_version": "1.2.0",
      "_model_name": "LayoutModel",
      "_view_count": null,
      "_view_module": "@jupyter-widgets/base",
      "_view_module_version": "1.2.0",
      "_view_name": "LayoutView",
      "align_content": null,
      "align_items": null,
      "align_self": null,
      "border": null,
      "bottom": null,
      "display": null,
      "flex": null,
      "flex_flow": null,
      "grid_area": null,
      "grid_auto_columns": null,
      "grid_auto_flow": null,
      "grid_auto_rows": null,
      "grid_column": null,
      "grid_gap": null,
      "grid_row": null,
      "grid_template_areas": null,
      "grid_template_columns": null,
      "grid_template_rows": null,
      "height": null,
      "justify_content": null,
      "justify_items": null,
      "left": null,
      "margin": null,
      "max_height": null,
      "max_width": null,
      "min_height": null,
      "min_width": null,
      "object_fit": null,
      "object_position": null,
      "order": null,
      "overflow": null,
      "overflow_x": null,
      "overflow_y": null,
      "padding": null,
      "right": null,
      "top": null,
      "visibility": null,
      "width": null
     }
    },
    "1b9d17ef7f004aeb854becf48bd641d6": {
     "model_module": "@jupyter-widgets/controls",
     "model_name": "DescriptionStyleModel",
     "state": {
      "_model_module": "@jupyter-widgets/controls",
      "_model_module_version": "1.5.0",
      "_model_name": "DescriptionStyleModel",
      "_view_count": null,
      "_view_module": "@jupyter-widgets/base",
      "_view_module_version": "1.2.0",
      "_view_name": "StyleView",
      "description_width": ""
     }
    },
    "1e57e5b7cc25435aad3ab3cc17d64f67": {
     "model_module": "@jupyter-widgets/controls",
     "model_name": "IntProgressModel",
     "state": {
      "_dom_classes": [],
      "_model_module": "@jupyter-widgets/controls",
      "_model_module_version": "1.5.0",
      "_model_name": "IntProgressModel",
      "_view_count": null,
      "_view_module": "@jupyter-widgets/controls",
      "_view_module_version": "1.5.0",
      "_view_name": "ProgressView",
      "bar_style": "",
      "description": "Processing: ",
      "description_tooltip": null,
      "layout": "IPY_MODEL_28d47f2e68a14450a377a61e21ef2845",
      "max": 7,
      "min": 0,
      "orientation": "horizontal",
      "style": "IPY_MODEL_37c341590c604345a6838f8e81c009f7",
      "value": 2
     }
    },
    "21b611c2010440a4893ca0f4c89ef0fc": {
     "model_module": "@jupyter-widgets/base",
     "model_name": "LayoutModel",
     "state": {
      "_model_module": "@jupyter-widgets/base",
      "_model_module_version": "1.2.0",
      "_model_name": "LayoutModel",
      "_view_count": null,
      "_view_module": "@jupyter-widgets/base",
      "_view_module_version": "1.2.0",
      "_view_name": "LayoutView",
      "align_content": null,
      "align_items": null,
      "align_self": null,
      "border": null,
      "bottom": null,
      "display": null,
      "flex": null,
      "flex_flow": null,
      "grid_area": null,
      "grid_auto_columns": null,
      "grid_auto_flow": null,
      "grid_auto_rows": null,
      "grid_column": null,
      "grid_gap": null,
      "grid_row": null,
      "grid_template_areas": null,
      "grid_template_columns": null,
      "grid_template_rows": null,
      "height": null,
      "justify_content": null,
      "justify_items": null,
      "left": null,
      "margin": null,
      "max_height": null,
      "max_width": null,
      "min_height": null,
      "min_width": null,
      "object_fit": null,
      "object_position": null,
      "order": null,
      "overflow": null,
      "overflow_x": null,
      "overflow_y": null,
      "padding": null,
      "right": null,
      "top": null,
      "visibility": null,
      "width": null
     }
    },
    "28d47f2e68a14450a377a61e21ef2845": {
     "model_module": "@jupyter-widgets/base",
     "model_name": "LayoutModel",
     "state": {
      "_model_module": "@jupyter-widgets/base",
      "_model_module_version": "1.2.0",
      "_model_name": "LayoutModel",
      "_view_count": null,
      "_view_module": "@jupyter-widgets/base",
      "_view_module_version": "1.2.0",
      "_view_name": "LayoutView",
      "align_content": null,
      "align_items": null,
      "align_self": null,
      "border": null,
      "bottom": null,
      "display": null,
      "flex": null,
      "flex_flow": null,
      "grid_area": null,
      "grid_auto_columns": null,
      "grid_auto_flow": null,
      "grid_auto_rows": null,
      "grid_column": null,
      "grid_gap": null,
      "grid_row": null,
      "grid_template_areas": null,
      "grid_template_columns": null,
      "grid_template_rows": null,
      "height": null,
      "justify_content": null,
      "justify_items": null,
      "left": null,
      "margin": null,
      "max_height": null,
      "max_width": null,
      "min_height": null,
      "min_width": null,
      "object_fit": null,
      "object_position": null,
      "order": null,
      "overflow": null,
      "overflow_x": null,
      "overflow_y": null,
      "padding": null,
      "right": null,
      "top": null,
      "visibility": null,
      "width": null
     }
    },
    "291360d5b1c345b087ad482c59df97bc": {
     "model_module": "@jupyter-widgets/controls",
     "model_name": "DescriptionStyleModel",
     "state": {
      "_model_module": "@jupyter-widgets/controls",
      "_model_module_version": "1.5.0",
      "_model_name": "DescriptionStyleModel",
      "_view_count": null,
      "_view_module": "@jupyter-widgets/base",
      "_view_module_version": "1.2.0",
      "_view_name": "StyleView",
      "description_width": ""
     }
    },
    "2b180dd32c924996b025b63a04793644": {
     "model_module": "@jupyter-widgets/controls",
     "model_name": "HTMLModel",
     "state": {
      "_dom_classes": [],
      "_model_module": "@jupyter-widgets/controls",
      "_model_module_version": "1.5.0",
      "_model_name": "HTMLModel",
      "_view_count": null,
      "_view_module": "@jupyter-widgets/controls",
      "_view_module_version": "1.5.0",
      "_view_name": "HTMLView",
      "description": "",
      "description_tooltip": null,
      "layout": "IPY_MODEL_6a2a4607c1434943a08d75c452e415ce",
      "placeholder": "​",
      "style": "IPY_MODEL_b873a6dbc16a46cc93f63f151c4384b7",
      "value": " 32881/32881 [04:46&lt;00:00, 122.22it/s]"
     }
    },
    "2dd31c6c36dd48a7b279b14ce01296bc": {
     "model_module": "@jupyter-widgets/base",
     "model_name": "LayoutModel",
     "state": {
      "_model_module": "@jupyter-widgets/base",
      "_model_module_version": "1.2.0",
      "_model_name": "LayoutModel",
      "_view_count": null,
      "_view_module": "@jupyter-widgets/base",
      "_view_module_version": "1.2.0",
      "_view_name": "LayoutView",
      "align_content": null,
      "align_items": null,
      "align_self": null,
      "border": null,
      "bottom": null,
      "display": null,
      "flex": null,
      "flex_flow": null,
      "grid_area": null,
      "grid_auto_columns": null,
      "grid_auto_flow": null,
      "grid_auto_rows": null,
      "grid_column": null,
      "grid_gap": null,
      "grid_row": null,
      "grid_template_areas": null,
      "grid_template_columns": null,
      "grid_template_rows": null,
      "height": null,
      "justify_content": null,
      "justify_items": null,
      "left": null,
      "margin": null,
      "max_height": null,
      "max_width": null,
      "min_height": null,
      "min_width": null,
      "object_fit": null,
      "object_position": null,
      "order": null,
      "overflow": null,
      "overflow_x": null,
      "overflow_y": null,
      "padding": null,
      "right": null,
      "top": null,
      "visibility": null,
      "width": null
     }
    },
    "30bdcdd88a3645c883ab47fbd196014e": {
     "model_module": "@jupyter-widgets/controls",
     "model_name": "HTMLModel",
     "state": {
      "_dom_classes": [],
      "_model_module": "@jupyter-widgets/controls",
      "_model_module_version": "1.5.0",
      "_model_name": "HTMLModel",
      "_view_count": null,
      "_view_module": "@jupyter-widgets/controls",
      "_view_module_version": "1.5.0",
      "_view_name": "HTMLView",
      "description": "",
      "description_tooltip": null,
      "layout": "IPY_MODEL_33820dc6bf084ac9a5a803d395bece1a",
      "placeholder": "​",
      "style": "IPY_MODEL_66692a756dfa44ac891d25736c4c5805",
      "value": "100%"
     }
    },
    "33820dc6bf084ac9a5a803d395bece1a": {
     "model_module": "@jupyter-widgets/base",
     "model_name": "LayoutModel",
     "state": {
      "_model_module": "@jupyter-widgets/base",
      "_model_module_version": "1.2.0",
      "_model_name": "LayoutModel",
      "_view_count": null,
      "_view_module": "@jupyter-widgets/base",
      "_view_module_version": "1.2.0",
      "_view_name": "LayoutView",
      "align_content": null,
      "align_items": null,
      "align_self": null,
      "border": null,
      "bottom": null,
      "display": null,
      "flex": null,
      "flex_flow": null,
      "grid_area": null,
      "grid_auto_columns": null,
      "grid_auto_flow": null,
      "grid_auto_rows": null,
      "grid_column": null,
      "grid_gap": null,
      "grid_row": null,
      "grid_template_areas": null,
      "grid_template_columns": null,
      "grid_template_rows": null,
      "height": null,
      "justify_content": null,
      "justify_items": null,
      "left": null,
      "margin": null,
      "max_height": null,
      "max_width": null,
      "min_height": null,
      "min_width": null,
      "object_fit": null,
      "object_position": null,
      "order": null,
      "overflow": null,
      "overflow_x": null,
      "overflow_y": null,
      "padding": null,
      "right": null,
      "top": null,
      "visibility": null,
      "width": null
     }
    },
    "3434cab32cdd409c89e117bde942c205": {
     "model_module": "@jupyter-widgets/controls",
     "model_name": "HTMLModel",
     "state": {
      "_dom_classes": [],
      "_model_module": "@jupyter-widgets/controls",
      "_model_module_version": "1.5.0",
      "_model_name": "HTMLModel",
      "_view_count": null,
      "_view_module": "@jupyter-widgets/controls",
      "_view_module_version": "1.5.0",
      "_view_name": "HTMLView",
      "description": "",
      "description_tooltip": null,
      "layout": "IPY_MODEL_3d5cc55f608842b3a33b75aac4b5190e",
      "placeholder": "​",
      "style": "IPY_MODEL_291360d5b1c345b087ad482c59df97bc",
      "value": " 15/15 [00:40&lt;00:00,  3.13s/it]"
     }
    },
    "3452ad7fc4fc444dab04f981ba3afcbe": {
     "model_module": "@jupyter-widgets/base",
     "model_name": "LayoutModel",
     "state": {
      "_model_module": "@jupyter-widgets/base",
      "_model_module_version": "1.2.0",
      "_model_name": "LayoutModel",
      "_view_count": null,
      "_view_module": "@jupyter-widgets/base",
      "_view_module_version": "1.2.0",
      "_view_name": "LayoutView",
      "align_content": null,
      "align_items": null,
      "align_self": null,
      "border": null,
      "bottom": null,
      "display": null,
      "flex": null,
      "flex_flow": null,
      "grid_area": null,
      "grid_auto_columns": null,
      "grid_auto_flow": null,
      "grid_auto_rows": null,
      "grid_column": null,
      "grid_gap": null,
      "grid_row": null,
      "grid_template_areas": null,
      "grid_template_columns": null,
      "grid_template_rows": null,
      "height": null,
      "justify_content": null,
      "justify_items": null,
      "left": null,
      "margin": null,
      "max_height": null,
      "max_width": null,
      "min_height": null,
      "min_width": null,
      "object_fit": null,
      "object_position": null,
      "order": null,
      "overflow": null,
      "overflow_x": null,
      "overflow_y": null,
      "padding": null,
      "right": null,
      "top": null,
      "visibility": null,
      "width": null
     }
    },
    "37c341590c604345a6838f8e81c009f7": {
     "model_module": "@jupyter-widgets/controls",
     "model_name": "ProgressStyleModel",
     "state": {
      "_model_module": "@jupyter-widgets/controls",
      "_model_module_version": "1.5.0",
      "_model_name": "ProgressStyleModel",
      "_view_count": null,
      "_view_module": "@jupyter-widgets/base",
      "_view_module_version": "1.2.0",
      "_view_name": "StyleView",
      "bar_color": null,
      "description_width": ""
     }
    },
    "3d5cc55f608842b3a33b75aac4b5190e": {
     "model_module": "@jupyter-widgets/base",
     "model_name": "LayoutModel",
     "state": {
      "_model_module": "@jupyter-widgets/base",
      "_model_module_version": "1.2.0",
      "_model_name": "LayoutModel",
      "_view_count": null,
      "_view_module": "@jupyter-widgets/base",
      "_view_module_version": "1.2.0",
      "_view_name": "LayoutView",
      "align_content": null,
      "align_items": null,
      "align_self": null,
      "border": null,
      "bottom": null,
      "display": null,
      "flex": null,
      "flex_flow": null,
      "grid_area": null,
      "grid_auto_columns": null,
      "grid_auto_flow": null,
      "grid_auto_rows": null,
      "grid_column": null,
      "grid_gap": null,
      "grid_row": null,
      "grid_template_areas": null,
      "grid_template_columns": null,
      "grid_template_rows": null,
      "height": null,
      "justify_content": null,
      "justify_items": null,
      "left": null,
      "margin": null,
      "max_height": null,
      "max_width": null,
      "min_height": null,
      "min_width": null,
      "object_fit": null,
      "object_position": null,
      "order": null,
      "overflow": null,
      "overflow_x": null,
      "overflow_y": null,
      "padding": null,
      "right": null,
      "top": null,
      "visibility": null,
      "width": null
     }
    },
    "3d96dd13564e4abfa9981a0e90c52ede": {
     "model_module": "@jupyter-widgets/controls",
     "model_name": "IntProgressModel",
     "state": {
      "_dom_classes": [],
      "_model_module": "@jupyter-widgets/controls",
      "_model_module_version": "1.5.0",
      "_model_name": "IntProgressModel",
      "_view_count": null,
      "_view_module": "@jupyter-widgets/controls",
      "_view_module_version": "1.5.0",
      "_view_name": "ProgressView",
      "bar_style": "",
      "description": "Processing: ",
      "description_tooltip": null,
      "layout": "IPY_MODEL_99111b5b33fc4c058f33f23c91f70e1f",
      "max": 99,
      "min": 0,
      "orientation": "horizontal",
      "style": "IPY_MODEL_ede79cb182f6486ba61db46fb1ce57b0",
      "value": 99
     }
    },
    "3f4334d750b04675b38b034a44cb6868": {
     "model_module": "@jupyter-widgets/controls",
     "model_name": "HBoxModel",
     "state": {
      "_dom_classes": [],
      "_model_module": "@jupyter-widgets/controls",
      "_model_module_version": "1.5.0",
      "_model_name": "HBoxModel",
      "_view_count": null,
      "_view_module": "@jupyter-widgets/controls",
      "_view_module_version": "1.5.0",
      "_view_name": "HBoxView",
      "box_style": "",
      "children": [
       "IPY_MODEL_e9854f834367462a8bc8a34372127c65",
       "IPY_MODEL_6e17c8db6edf4413a8acb263414dc213",
       "IPY_MODEL_2b180dd32c924996b025b63a04793644"
      ],
      "layout": "IPY_MODEL_5c01758b80ba4c4d939a690420ee67e0"
     }
    },
    "40face4644c04bc8856153a58fadcf94": {
     "model_module": "@jupyter-widgets/controls",
     "model_name": "IntProgressModel",
     "state": {
      "_dom_classes": [],
      "_model_module": "@jupyter-widgets/controls",
      "_model_module_version": "1.5.0",
      "_model_name": "IntProgressModel",
      "_view_count": null,
      "_view_module": "@jupyter-widgets/controls",
      "_view_module_version": "1.5.0",
      "_view_name": "ProgressView",
      "bar_style": "",
      "description": "Processing: ",
      "description_tooltip": null,
      "layout": "IPY_MODEL_ecf7da9c26fa4d03b1cef1c619c06454",
      "max": 6,
      "min": 0,
      "orientation": "horizontal",
      "style": "IPY_MODEL_56655cc3037e4d539a6ca16992a55dac",
      "value": 6
     }
    },
    "44812c3976904bae8578723044096eac": {
     "model_module": "@jupyter-widgets/base",
     "model_name": "LayoutModel",
     "state": {
      "_model_module": "@jupyter-widgets/base",
      "_model_module_version": "1.2.0",
      "_model_name": "LayoutModel",
      "_view_count": null,
      "_view_module": "@jupyter-widgets/base",
      "_view_module_version": "1.2.0",
      "_view_name": "LayoutView",
      "align_content": null,
      "align_items": null,
      "align_self": null,
      "border": null,
      "bottom": null,
      "display": null,
      "flex": null,
      "flex_flow": null,
      "grid_area": null,
      "grid_auto_columns": null,
      "grid_auto_flow": null,
      "grid_auto_rows": null,
      "grid_column": null,
      "grid_gap": null,
      "grid_row": null,
      "grid_template_areas": null,
      "grid_template_columns": null,
      "grid_template_rows": null,
      "height": null,
      "justify_content": null,
      "justify_items": null,
      "left": null,
      "margin": null,
      "max_height": null,
      "max_width": null,
      "min_height": null,
      "min_width": null,
      "object_fit": null,
      "object_position": null,
      "order": null,
      "overflow": null,
      "overflow_x": null,
      "overflow_y": null,
      "padding": null,
      "right": null,
      "top": null,
      "visibility": null,
      "width": null
     }
    },
    "5266239efb8b4bcfaa485231d9e4359b": {
     "model_module": "@jupyter-widgets/controls",
     "model_name": "VBoxModel",
     "state": {
      "_dom_classes": [
       "widget-interact"
      ],
      "_model_module": "@jupyter-widgets/controls",
      "_model_module_version": "1.5.0",
      "_model_name": "VBoxModel",
      "_view_count": null,
      "_view_module": "@jupyter-widgets/controls",
      "_view_module_version": "1.5.0",
      "_view_name": "VBoxView",
      "box_style": "",
      "children": [
       "IPY_MODEL_da3d4d9ce9fc41ada3bba622ded3b052",
       "IPY_MODEL_f332f11a013741039968cbf5714267d5"
      ],
      "layout": "IPY_MODEL_3452ad7fc4fc444dab04f981ba3afcbe"
     }
    },
    "56655cc3037e4d539a6ca16992a55dac": {
     "model_module": "@jupyter-widgets/controls",
     "model_name": "ProgressStyleModel",
     "state": {
      "_model_module": "@jupyter-widgets/controls",
      "_model_module_version": "1.5.0",
      "_model_name": "ProgressStyleModel",
      "_view_count": null,
      "_view_module": "@jupyter-widgets/base",
      "_view_module_version": "1.2.0",
      "_view_name": "StyleView",
      "bar_color": null,
      "description_width": ""
     }
    },
    "5c01758b80ba4c4d939a690420ee67e0": {
     "model_module": "@jupyter-widgets/base",
     "model_name": "LayoutModel",
     "state": {
      "_model_module": "@jupyter-widgets/base",
      "_model_module_version": "1.2.0",
      "_model_name": "LayoutModel",
      "_view_count": null,
      "_view_module": "@jupyter-widgets/base",
      "_view_module_version": "1.2.0",
      "_view_name": "LayoutView",
      "align_content": null,
      "align_items": null,
      "align_self": null,
      "border": null,
      "bottom": null,
      "display": null,
      "flex": null,
      "flex_flow": null,
      "grid_area": null,
      "grid_auto_columns": null,
      "grid_auto_flow": null,
      "grid_auto_rows": null,
      "grid_column": null,
      "grid_gap": null,
      "grid_row": null,
      "grid_template_areas": null,
      "grid_template_columns": null,
      "grid_template_rows": null,
      "height": null,
      "justify_content": null,
      "justify_items": null,
      "left": null,
      "margin": null,
      "max_height": null,
      "max_width": null,
      "min_height": null,
      "min_width": null,
      "object_fit": null,
      "object_position": null,
      "order": null,
      "overflow": null,
      "overflow_x": null,
      "overflow_y": null,
      "padding": null,
      "right": null,
      "top": null,
      "visibility": null,
      "width": null
     }
    },
    "609333c547664030b425b6122d9d9ab6": {
     "model_module": "@jupyter-widgets/controls",
     "model_name": "IntProgressModel",
     "state": {
      "_dom_classes": [],
      "_model_module": "@jupyter-widgets/controls",
      "_model_module_version": "1.5.0",
      "_model_name": "IntProgressModel",
      "_view_count": null,
      "_view_module": "@jupyter-widgets/controls",
      "_view_module_version": "1.5.0",
      "_view_name": "ProgressView",
      "bar_style": "",
      "description": "Processing: ",
      "description_tooltip": null,
      "layout": "IPY_MODEL_c5484c2595d34c09bd3d6dbb00f814e3",
      "max": 4,
      "min": 0,
      "orientation": "horizontal",
      "style": "IPY_MODEL_acd6fbd7134d452a948462260a302dfd",
      "value": 4
     }
    },
    "65721975ec954a1f8438c4636efa4487": {
     "model_module": "@jupyter-widgets/controls",
     "model_name": "IntProgressModel",
     "state": {
      "_dom_classes": [],
      "_model_module": "@jupyter-widgets/controls",
      "_model_module_version": "1.5.0",
      "_model_name": "IntProgressModel",
      "_view_count": null,
      "_view_module": "@jupyter-widgets/controls",
      "_view_module_version": "1.5.0",
      "_view_name": "ProgressView",
      "bar_style": "",
      "description": "Processing: ",
      "description_tooltip": null,
      "layout": "IPY_MODEL_0a5b08ff635b484999d638965d2653ac",
      "max": 3,
      "min": 0,
      "orientation": "horizontal",
      "style": "IPY_MODEL_aea9472417364f638e8f1e720789c9f1",
      "value": 3
     }
    },
    "66692a756dfa44ac891d25736c4c5805": {
     "model_module": "@jupyter-widgets/controls",
     "model_name": "DescriptionStyleModel",
     "state": {
      "_model_module": "@jupyter-widgets/controls",
      "_model_module_version": "1.5.0",
      "_model_name": "DescriptionStyleModel",
      "_view_count": null,
      "_view_module": "@jupyter-widgets/base",
      "_view_module_version": "1.2.0",
      "_view_name": "StyleView",
      "description_width": ""
     }
    },
    "6a2a4607c1434943a08d75c452e415ce": {
     "model_module": "@jupyter-widgets/base",
     "model_name": "LayoutModel",
     "state": {
      "_model_module": "@jupyter-widgets/base",
      "_model_module_version": "1.2.0",
      "_model_name": "LayoutModel",
      "_view_count": null,
      "_view_module": "@jupyter-widgets/base",
      "_view_module_version": "1.2.0",
      "_view_name": "LayoutView",
      "align_content": null,
      "align_items": null,
      "align_self": null,
      "border": null,
      "bottom": null,
      "display": null,
      "flex": null,
      "flex_flow": null,
      "grid_area": null,
      "grid_auto_columns": null,
      "grid_auto_flow": null,
      "grid_auto_rows": null,
      "grid_column": null,
      "grid_gap": null,
      "grid_row": null,
      "grid_template_areas": null,
      "grid_template_columns": null,
      "grid_template_rows": null,
      "height": null,
      "justify_content": null,
      "justify_items": null,
      "left": null,
      "margin": null,
      "max_height": null,
      "max_width": null,
      "min_height": null,
      "min_width": null,
      "object_fit": null,
      "object_position": null,
      "order": null,
      "overflow": null,
      "overflow_x": null,
      "overflow_y": null,
      "padding": null,
      "right": null,
      "top": null,
      "visibility": null,
      "width": null
     }
    },
    "6b719ccac5bf46dcb6d6ec48d6679a38": {
     "model_module": "@jupyter-widgets/controls",
     "model_name": "ProgressStyleModel",
     "state": {
      "_model_module": "@jupyter-widgets/controls",
      "_model_module_version": "1.5.0",
      "_model_name": "ProgressStyleModel",
      "_view_count": null,
      "_view_module": "@jupyter-widgets/base",
      "_view_module_version": "1.2.0",
      "_view_name": "StyleView",
      "bar_color": null,
      "description_width": ""
     }
    },
    "6e17c8db6edf4413a8acb263414dc213": {
     "model_module": "@jupyter-widgets/controls",
     "model_name": "FloatProgressModel",
     "state": {
      "_dom_classes": [],
      "_model_module": "@jupyter-widgets/controls",
      "_model_module_version": "1.5.0",
      "_model_name": "FloatProgressModel",
      "_view_count": null,
      "_view_module": "@jupyter-widgets/controls",
      "_view_module_version": "1.5.0",
      "_view_name": "ProgressView",
      "bar_style": "success",
      "description": "",
      "description_tooltip": null,
      "layout": "IPY_MODEL_d5bfa95d2d964146a7a20eeabace06eb",
      "max": 32881,
      "min": 0,
      "orientation": "horizontal",
      "style": "IPY_MODEL_7e063b6cde2240f7b23ab5405097d19b",
      "value": 32881
     }
    },
    "6f335522f84648568ccf83dc4bc13e1e": {
     "model_module": "@jupyter-widgets/controls",
     "model_name": "TextModel",
     "state": {
      "_dom_classes": [],
      "_model_module": "@jupyter-widgets/controls",
      "_model_module_version": "1.5.0",
      "_model_name": "TextModel",
      "_view_count": null,
      "_view_module": "@jupyter-widgets/controls",
      "_view_module_version": "1.5.0",
      "_view_name": "TextView",
      "continuous_update": true,
      "description": "",
      "description_tooltip": null,
      "disabled": false,
      "layout": "IPY_MODEL_97bd033eb63345bb855be78dd2be6d64",
      "placeholder": "​",
      "style": "IPY_MODEL_1b9d17ef7f004aeb854becf48bd641d6",
      "value": "Following data types have been inferred automatically, if they are correct press enter to continue or type 'quit' otherwise."
     }
    },
    "7e063b6cde2240f7b23ab5405097d19b": {
     "model_module": "@jupyter-widgets/controls",
     "model_name": "ProgressStyleModel",
     "state": {
      "_model_module": "@jupyter-widgets/controls",
      "_model_module_version": "1.5.0",
      "_model_name": "ProgressStyleModel",
      "_view_count": null,
      "_view_module": "@jupyter-widgets/base",
      "_view_module_version": "1.2.0",
      "_view_name": "StyleView",
      "bar_color": null,
      "description_width": ""
     }
    },
    "8dc0d4d701e4468b858b66d982fa7942": {
     "model_module": "@jupyter-widgets/controls",
     "model_name": "HBoxModel",
     "state": {
      "_dom_classes": [],
      "_model_module": "@jupyter-widgets/controls",
      "_model_module_version": "1.5.0",
      "_model_name": "HBoxModel",
      "_view_count": null,
      "_view_module": "@jupyter-widgets/controls",
      "_view_module_version": "1.5.0",
      "_view_name": "HBoxView",
      "box_style": "",
      "children": [
       "IPY_MODEL_30bdcdd88a3645c883ab47fbd196014e",
       "IPY_MODEL_f5030e026d8249eb925a174b03aa9c63",
       "IPY_MODEL_3434cab32cdd409c89e117bde942c205"
      ],
      "layout": "IPY_MODEL_21b611c2010440a4893ca0f4c89ef0fc"
     }
    },
    "8e2aa330966943cc96fc1f14834f16c1": {
     "model_module": "@jupyter-widgets/controls",
     "model_name": "ProgressStyleModel",
     "state": {
      "_model_module": "@jupyter-widgets/controls",
      "_model_module_version": "1.5.0",
      "_model_name": "ProgressStyleModel",
      "_view_count": null,
      "_view_module": "@jupyter-widgets/base",
      "_view_module_version": "1.2.0",
      "_view_name": "StyleView",
      "bar_color": null,
      "description_width": ""
     }
    },
    "972948b482c1491a8081b0f879334772": {
     "model_module": "@jupyter-widgets/base",
     "model_name": "LayoutModel",
     "state": {
      "_model_module": "@jupyter-widgets/base",
      "_model_module_version": "1.2.0",
      "_model_name": "LayoutModel",
      "_view_count": null,
      "_view_module": "@jupyter-widgets/base",
      "_view_module_version": "1.2.0",
      "_view_name": "LayoutView",
      "align_content": null,
      "align_items": null,
      "align_self": null,
      "border": null,
      "bottom": null,
      "display": null,
      "flex": null,
      "flex_flow": null,
      "grid_area": null,
      "grid_auto_columns": null,
      "grid_auto_flow": null,
      "grid_auto_rows": null,
      "grid_column": null,
      "grid_gap": null,
      "grid_row": null,
      "grid_template_areas": null,
      "grid_template_columns": null,
      "grid_template_rows": null,
      "height": null,
      "justify_content": null,
      "justify_items": null,
      "left": null,
      "margin": null,
      "max_height": null,
      "max_width": null,
      "min_height": null,
      "min_width": null,
      "object_fit": null,
      "object_position": null,
      "order": null,
      "overflow": null,
      "overflow_x": null,
      "overflow_y": null,
      "padding": null,
      "right": null,
      "top": null,
      "visibility": null,
      "width": null
     }
    },
    "97bd033eb63345bb855be78dd2be6d64": {
     "model_module": "@jupyter-widgets/base",
     "model_name": "LayoutModel",
     "state": {
      "_model_module": "@jupyter-widgets/base",
      "_model_module_version": "1.2.0",
      "_model_name": "LayoutModel",
      "_view_count": null,
      "_view_module": "@jupyter-widgets/base",
      "_view_module_version": "1.2.0",
      "_view_name": "LayoutView",
      "align_content": null,
      "align_items": null,
      "align_self": null,
      "border": null,
      "bottom": null,
      "display": null,
      "flex": null,
      "flex_flow": null,
      "grid_area": null,
      "grid_auto_columns": null,
      "grid_auto_flow": null,
      "grid_auto_rows": null,
      "grid_column": null,
      "grid_gap": null,
      "grid_row": null,
      "grid_template_areas": null,
      "grid_template_columns": null,
      "grid_template_rows": null,
      "height": null,
      "justify_content": null,
      "justify_items": null,
      "left": null,
      "margin": null,
      "max_height": null,
      "max_width": null,
      "min_height": null,
      "min_width": null,
      "object_fit": null,
      "object_position": null,
      "order": null,
      "overflow": null,
      "overflow_x": null,
      "overflow_y": null,
      "padding": null,
      "right": null,
      "top": null,
      "visibility": null,
      "width": "100%"
     }
    },
    "99111b5b33fc4c058f33f23c91f70e1f": {
     "model_module": "@jupyter-widgets/base",
     "model_name": "LayoutModel",
     "state": {
      "_model_module": "@jupyter-widgets/base",
      "_model_module_version": "1.2.0",
      "_model_name": "LayoutModel",
      "_view_count": null,
      "_view_module": "@jupyter-widgets/base",
      "_view_module_version": "1.2.0",
      "_view_name": "LayoutView",
      "align_content": null,
      "align_items": null,
      "align_self": null,
      "border": null,
      "bottom": null,
      "display": null,
      "flex": null,
      "flex_flow": null,
      "grid_area": null,
      "grid_auto_columns": null,
      "grid_auto_flow": null,
      "grid_auto_rows": null,
      "grid_column": null,
      "grid_gap": null,
      "grid_row": null,
      "grid_template_areas": null,
      "grid_template_columns": null,
      "grid_template_rows": null,
      "height": null,
      "justify_content": null,
      "justify_items": null,
      "left": null,
      "margin": null,
      "max_height": null,
      "max_width": null,
      "min_height": null,
      "min_width": null,
      "object_fit": null,
      "object_position": null,
      "order": null,
      "overflow": null,
      "overflow_x": null,
      "overflow_y": null,
      "padding": null,
      "right": null,
      "top": null,
      "visibility": null,
      "width": null
     }
    },
    "a2b9ef8264a5457a89201f17095e5170": {
     "model_module": "@jupyter-widgets/controls",
     "model_name": "ProgressStyleModel",
     "state": {
      "_model_module": "@jupyter-widgets/controls",
      "_model_module_version": "1.5.0",
      "_model_name": "ProgressStyleModel",
      "_view_count": null,
      "_view_module": "@jupyter-widgets/base",
      "_view_module_version": "1.2.0",
      "_view_name": "StyleView",
      "bar_color": null,
      "description_width": ""
     }
    },
    "ac698de4fc2d4f6e953718a618ef646f": {
     "model_module": "@jupyter-widgets/controls",
     "model_name": "DescriptionStyleModel",
     "state": {
      "_model_module": "@jupyter-widgets/controls",
      "_model_module_version": "1.5.0",
      "_model_name": "DescriptionStyleModel",
      "_view_count": null,
      "_view_module": "@jupyter-widgets/base",
      "_view_module_version": "1.2.0",
      "_view_name": "StyleView",
      "description_width": ""
     }
    },
    "acd6fbd7134d452a948462260a302dfd": {
     "model_module": "@jupyter-widgets/controls",
     "model_name": "ProgressStyleModel",
     "state": {
      "_model_module": "@jupyter-widgets/controls",
      "_model_module_version": "1.5.0",
      "_model_name": "ProgressStyleModel",
      "_view_count": null,
      "_view_module": "@jupyter-widgets/base",
      "_view_module_version": "1.2.0",
      "_view_name": "StyleView",
      "bar_color": null,
      "description_width": ""
     }
    },
    "ae072eb49ddb44e3a0adbc22f7531228": {
     "model_module": "@jupyter-widgets/controls",
     "model_name": "IntProgressModel",
     "state": {
      "_dom_classes": [],
      "_model_module": "@jupyter-widgets/controls",
      "_model_module_version": "1.5.0",
      "_model_name": "IntProgressModel",
      "_view_count": null,
      "_view_module": "@jupyter-widgets/controls",
      "_view_module_version": "1.5.0",
      "_view_name": "ProgressView",
      "bar_style": "",
      "description": "Processing: ",
      "description_tooltip": null,
      "layout": "IPY_MODEL_44812c3976904bae8578723044096eac",
      "max": 4,
      "min": 0,
      "orientation": "horizontal",
      "style": "IPY_MODEL_a2b9ef8264a5457a89201f17095e5170",
      "value": 4
     }
    },
    "aea9472417364f638e8f1e720789c9f1": {
     "model_module": "@jupyter-widgets/controls",
     "model_name": "ProgressStyleModel",
     "state": {
      "_model_module": "@jupyter-widgets/controls",
      "_model_module_version": "1.5.0",
      "_model_name": "ProgressStyleModel",
      "_view_count": null,
      "_view_module": "@jupyter-widgets/base",
      "_view_module_version": "1.2.0",
      "_view_name": "StyleView",
      "bar_color": null,
      "description_width": ""
     }
    },
    "b873a6dbc16a46cc93f63f151c4384b7": {
     "model_module": "@jupyter-widgets/controls",
     "model_name": "DescriptionStyleModel",
     "state": {
      "_model_module": "@jupyter-widgets/controls",
      "_model_module_version": "1.5.0",
      "_model_name": "DescriptionStyleModel",
      "_view_count": null,
      "_view_module": "@jupyter-widgets/base",
      "_view_module_version": "1.2.0",
      "_view_name": "StyleView",
      "description_width": ""
     }
    },
    "c0c81e27e6ae4ce187d77ff1f2256591": {
     "model_module": "@jupyter-widgets/controls",
     "model_name": "IntProgressModel",
     "state": {
      "_dom_classes": [],
      "_model_module": "@jupyter-widgets/controls",
      "_model_module_version": "1.5.0",
      "_model_name": "IntProgressModel",
      "_view_count": null,
      "_view_module": "@jupyter-widgets/controls",
      "_view_module_version": "1.5.0",
      "_view_name": "ProgressView",
      "bar_style": "",
      "description": "Processing: ",
      "description_tooltip": null,
      "layout": "IPY_MODEL_10ed01a6d44a4097890a1a2688bd1a86",
      "max": 6,
      "min": 0,
      "orientation": "horizontal",
      "style": "IPY_MODEL_8e2aa330966943cc96fc1f14834f16c1",
      "value": 6
     }
    },
    "c5484c2595d34c09bd3d6dbb00f814e3": {
     "model_module": "@jupyter-widgets/base",
     "model_name": "LayoutModel",
     "state": {
      "_model_module": "@jupyter-widgets/base",
      "_model_module_version": "1.2.0",
      "_model_name": "LayoutModel",
      "_view_count": null,
      "_view_module": "@jupyter-widgets/base",
      "_view_module_version": "1.2.0",
      "_view_name": "LayoutView",
      "align_content": null,
      "align_items": null,
      "align_self": null,
      "border": null,
      "bottom": null,
      "display": null,
      "flex": null,
      "flex_flow": null,
      "grid_area": null,
      "grid_auto_columns": null,
      "grid_auto_flow": null,
      "grid_auto_rows": null,
      "grid_column": null,
      "grid_gap": null,
      "grid_row": null,
      "grid_template_areas": null,
      "grid_template_columns": null,
      "grid_template_rows": null,
      "height": null,
      "justify_content": null,
      "justify_items": null,
      "left": null,
      "margin": null,
      "max_height": null,
      "max_width": null,
      "min_height": null,
      "min_width": null,
      "object_fit": null,
      "object_position": null,
      "order": null,
      "overflow": null,
      "overflow_x": null,
      "overflow_y": null,
      "padding": null,
      "right": null,
      "top": null,
      "visibility": null,
      "width": null
     }
    },
    "d5bfa95d2d964146a7a20eeabace06eb": {
     "model_module": "@jupyter-widgets/base",
     "model_name": "LayoutModel",
     "state": {
      "_model_module": "@jupyter-widgets/base",
      "_model_module_version": "1.2.0",
      "_model_name": "LayoutModel",
      "_view_count": null,
      "_view_module": "@jupyter-widgets/base",
      "_view_module_version": "1.2.0",
      "_view_name": "LayoutView",
      "align_content": null,
      "align_items": null,
      "align_self": null,
      "border": null,
      "bottom": null,
      "display": null,
      "flex": null,
      "flex_flow": null,
      "grid_area": null,
      "grid_auto_columns": null,
      "grid_auto_flow": null,
      "grid_auto_rows": null,
      "grid_column": null,
      "grid_gap": null,
      "grid_row": null,
      "grid_template_areas": null,
      "grid_template_columns": null,
      "grid_template_rows": null,
      "height": null,
      "justify_content": null,
      "justify_items": null,
      "left": null,
      "margin": null,
      "max_height": null,
      "max_width": null,
      "min_height": null,
      "min_width": null,
      "object_fit": null,
      "object_position": null,
      "order": null,
      "overflow": null,
      "overflow_x": null,
      "overflow_y": null,
      "padding": null,
      "right": null,
      "top": null,
      "visibility": null,
      "width": null
     }
    },
    "da3d4d9ce9fc41ada3bba622ded3b052": {
     "model_module": "@jupyter-widgets/controls",
     "model_name": "ToggleButtonsModel",
     "state": {
      "_dom_classes": [],
      "_model_module": "@jupyter-widgets/controls",
      "_model_module_version": "1.5.0",
      "_model_name": "ToggleButtonsModel",
      "_options_labels": [
       "Hyperparameters",
       "Residuals",
       "Prediction Error",
       "Cooks Distance",
       "Feature Selection",
       "Learning Curve",
       "Manifold Learning",
       "Validation Curve",
       "Feature Importance",
       "Feature Importance (All)",
       "Decision Tree",
       "Interactive Residuals"
      ],
      "_view_count": null,
      "_view_module": "@jupyter-widgets/controls",
      "_view_module_version": "1.5.0",
      "_view_name": "ToggleButtonsView",
      "button_style": "",
      "description": "Plot Type:",
      "description_tooltip": null,
      "disabled": false,
      "icons": [
       ""
      ],
      "index": 8,
      "layout": "IPY_MODEL_972948b482c1491a8081b0f879334772",
      "style": "IPY_MODEL_044c4ac11b104e9f87feaac705c708e2",
      "tooltips": []
     }
    },
    "e3eb0ef2cb274514b95c53f445374d25": {
     "model_module": "@jupyter-widgets/base",
     "model_name": "LayoutModel",
     "state": {
      "_model_module": "@jupyter-widgets/base",
      "_model_module_version": "1.2.0",
      "_model_name": "LayoutModel",
      "_view_count": null,
      "_view_module": "@jupyter-widgets/base",
      "_view_module_version": "1.2.0",
      "_view_name": "LayoutView",
      "align_content": null,
      "align_items": null,
      "align_self": null,
      "border": null,
      "bottom": null,
      "display": null,
      "flex": null,
      "flex_flow": null,
      "grid_area": null,
      "grid_auto_columns": null,
      "grid_auto_flow": null,
      "grid_auto_rows": null,
      "grid_column": null,
      "grid_gap": null,
      "grid_row": null,
      "grid_template_areas": null,
      "grid_template_columns": null,
      "grid_template_rows": null,
      "height": null,
      "justify_content": null,
      "justify_items": null,
      "left": null,
      "margin": null,
      "max_height": null,
      "max_width": null,
      "min_height": null,
      "min_width": null,
      "object_fit": null,
      "object_position": null,
      "order": null,
      "overflow": null,
      "overflow_x": null,
      "overflow_y": null,
      "padding": null,
      "right": null,
      "top": null,
      "visibility": null,
      "width": null
     }
    },
    "e9854f834367462a8bc8a34372127c65": {
     "model_module": "@jupyter-widgets/controls",
     "model_name": "HTMLModel",
     "state": {
      "_dom_classes": [],
      "_model_module": "@jupyter-widgets/controls",
      "_model_module_version": "1.5.0",
      "_model_name": "HTMLModel",
      "_view_count": null,
      "_view_module": "@jupyter-widgets/controls",
      "_view_module_version": "1.5.0",
      "_view_name": "HTMLView",
      "description": "",
      "description_tooltip": null,
      "layout": "IPY_MODEL_e3eb0ef2cb274514b95c53f445374d25",
      "placeholder": "​",
      "style": "IPY_MODEL_ac698de4fc2d4f6e953718a618ef646f",
      "value": "100%"
     }
    },
    "ecf7da9c26fa4d03b1cef1c619c06454": {
     "model_module": "@jupyter-widgets/base",
     "model_name": "LayoutModel",
     "state": {
      "_model_module": "@jupyter-widgets/base",
      "_model_module_version": "1.2.0",
      "_model_name": "LayoutModel",
      "_view_count": null,
      "_view_module": "@jupyter-widgets/base",
      "_view_module_version": "1.2.0",
      "_view_name": "LayoutView",
      "align_content": null,
      "align_items": null,
      "align_self": null,
      "border": null,
      "bottom": null,
      "display": null,
      "flex": null,
      "flex_flow": null,
      "grid_area": null,
      "grid_auto_columns": null,
      "grid_auto_flow": null,
      "grid_auto_rows": null,
      "grid_column": null,
      "grid_gap": null,
      "grid_row": null,
      "grid_template_areas": null,
      "grid_template_columns": null,
      "grid_template_rows": null,
      "height": null,
      "justify_content": null,
      "justify_items": null,
      "left": null,
      "margin": null,
      "max_height": null,
      "max_width": null,
      "min_height": null,
      "min_width": null,
      "object_fit": null,
      "object_position": null,
      "order": null,
      "overflow": null,
      "overflow_x": null,
      "overflow_y": null,
      "padding": null,
      "right": null,
      "top": null,
      "visibility": null,
      "width": null
     }
    },
    "ede79cb182f6486ba61db46fb1ce57b0": {
     "model_module": "@jupyter-widgets/controls",
     "model_name": "ProgressStyleModel",
     "state": {
      "_model_module": "@jupyter-widgets/controls",
      "_model_module_version": "1.5.0",
      "_model_name": "ProgressStyleModel",
      "_view_count": null,
      "_view_module": "@jupyter-widgets/base",
      "_view_module_version": "1.2.0",
      "_view_name": "StyleView",
      "bar_color": null,
      "description_width": ""
     }
    },
    "f332f11a013741039968cbf5714267d5": {
     "model_module": "@jupyter-widgets/output",
     "model_name": "OutputModel",
     "state": {
      "_dom_classes": [],
      "_model_module": "@jupyter-widgets/output",
      "_model_module_version": "1.0.0",
      "_model_name": "OutputModel",
      "_view_count": null,
      "_view_module": "@jupyter-widgets/output",
      "_view_module_version": "1.0.0",
      "_view_name": "OutputView",
      "layout": "IPY_MODEL_15225b173a64461eb184092d93948dc9",
      "msg_id": "",
      "outputs": [
       {
        "image/png": "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\n",
        "metadata": {
         "tags": []
        },
        "output_type": "display_data",
        "text/plain": "<Figure size 800x500 with 1 Axes>"
       }
      ]
     }
    },
    "f5030e026d8249eb925a174b03aa9c63": {
     "model_module": "@jupyter-widgets/controls",
     "model_name": "FloatProgressModel",
     "state": {
      "_dom_classes": [],
      "_model_module": "@jupyter-widgets/controls",
      "_model_module_version": "1.5.0",
      "_model_name": "FloatProgressModel",
      "_view_count": null,
      "_view_module": "@jupyter-widgets/controls",
      "_view_module_version": "1.5.0",
      "_view_name": "ProgressView",
      "bar_style": "success",
      "description": "",
      "description_tooltip": null,
      "layout": "IPY_MODEL_1b857b469b64426c8ca0edbdeeb421d7",
      "max": 15,
      "min": 0,
      "orientation": "horizontal",
      "style": "IPY_MODEL_6b719ccac5bf46dcb6d6ec48d6679a38",
      "value": 15
     }
    }
   }
  }
 },
 "nbformat": 4,
 "nbformat_minor": 1
}
