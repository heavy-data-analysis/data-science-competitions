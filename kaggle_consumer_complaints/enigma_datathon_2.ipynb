{
 "cells": [
  {
   "cell_type": "markdown",
   "metadata": {
    "id": "hVoHQWF5uthO"
   },
   "source": [
    "# import libraries"
   ]
  },
  {
   "cell_type": "code",
   "execution_count": null,
   "metadata": {
    "id": "BnFGVlAsuuus"
   },
   "outputs": [],
   "source": [
    "import joblib\n",
    "\n",
    "import numpy as np\n",
    "import pandas as pd\n",
    "import matplotlib.pyplot as plt\n",
    "import seaborn as sns\n",
    "import sweetviz as sw\n",
    "import missingno as msno\n",
    "from tqdm.notebook import tqdm\n",
    "\n",
    "# explicitly require this experimental feature\n",
    "from sklearn.experimental import enable_iterative_imputer  # noqa\n",
    "# now you can import normally from sklearn.impute\n",
    "from sklearn.impute import IterativeImputer\n",
    "from sklearn.preprocessing import StandardScaler, LabelEncoder\n",
    "from sklearn.model_selection import KFold\n",
    "from sklearn.metrics import f1_score, classification_report, confusion_matrix\n",
    "from sklearn.ensemble import RandomForestClassifier, GradientBoostingClassifier\n",
    "from sklearn.linear_model import LogisticRegression\n",
    "from sklearn.model_selection import train_test_split, cross_val_score, cross_val_score, KFold\n",
    "\n",
    "# import lightgbm as lgb\n",
    "import xgboost as xgb\n",
    "\n",
    "# import optuna\n",
    "# import optuna.visualization as vis\n",
    "\n",
    "import warnings\n",
    "warnings.filterwarnings('ignore')"
   ]
  },
  {
   "cell_type": "code",
   "execution_count": null,
   "metadata": {
    "id": "fSXcFU4fYRFR"
   },
   "outputs": [],
   "source": []
  },
  {
   "cell_type": "markdown",
   "metadata": {
    "id": "KhcwrqoIumPZ"
   },
   "source": [
    "# get data"
   ]
  },
  {
   "cell_type": "code",
   "execution_count": null,
   "metadata": {
    "id": "hR9xN0aquliH"
   },
   "outputs": [],
   "source": [
    "raw_train = pd.read_csv('/content/drive/MyDrive/enigma_datathon/train.csv')\n",
    "raw_test = pd.read_csv('/content/drive/MyDrive/enigma_datathon/test.csv')"
   ]
  },
  {
   "cell_type": "code",
   "execution_count": null,
   "metadata": {
    "colab": {
     "base_uri": "https://localhost:8080/",
     "height": 1000
    },
    "id": "NtTvZMskusX2",
    "outputId": "eda94598-9ada-4062-8712-8d756ef27680"
   },
   "outputs": [
    {
     "name": "stdout",
     "output_type": "stream",
     "text": [
      "<class 'pandas.core.frame.DataFrame'>\n",
      "RangeIndex: 1048575 entries, 0 to 1048574\n",
      "Data columns (total 19 columns):\n",
      " #   Column                        Non-Null Count    Dtype \n",
      "---  ------                        --------------    ----- \n",
      " 0   Unnamed: 0                    1048575 non-null  int64 \n",
      " 1   Complaint_ID                  1048575 non-null  int64 \n",
      " 2   Date received                 1048575 non-null  object\n",
      " 3   Product                       1048575 non-null  object\n",
      " 4   Sub-product                   947674 non-null   object\n",
      " 5   Issue                         1048575 non-null  object\n",
      " 6   Sub-issue                     766056 non-null   object\n",
      " 7   Consumer complaint narrative  310809 non-null   object\n",
      " 8   Company public response       446648 non-null   object\n",
      " 9   Company                       1048575 non-null  object\n",
      " 10  State                         1027557 non-null  object\n",
      " 11  ZIP code                      954841 non-null   object\n",
      " 12  Tags                          129277 non-null   object\n",
      " 13  Consumer consent provided?    680949 non-null   object\n",
      " 14  Submitted via                 1048575 non-null  object\n",
      " 15  Date sent to company          1048575 non-null  object\n",
      " 16  Company response to consumer  1048574 non-null  object\n",
      " 17  Consumer disputed?            329143 non-null   object\n",
      " 18  Timely response?              1048575 non-null  object\n",
      "dtypes: int64(2), object(17)\n",
      "memory usage: 152.0+ MB\n",
      "None\n"
     ]
    },
    {
     "data": {
      "text/html": [
       "<div>\n",
       "<style scoped>\n",
       "    .dataframe tbody tr th:only-of-type {\n",
       "        vertical-align: middle;\n",
       "    }\n",
       "\n",
       "    .dataframe tbody tr th {\n",
       "        vertical-align: top;\n",
       "    }\n",
       "\n",
       "    .dataframe thead th {\n",
       "        text-align: right;\n",
       "    }\n",
       "</style>\n",
       "<table border=\"1\" class=\"dataframe\">\n",
       "  <thead>\n",
       "    <tr style=\"text-align: right;\">\n",
       "      <th></th>\n",
       "      <th>Unnamed: 0</th>\n",
       "      <th>Complaint_ID</th>\n",
       "      <th>Date received</th>\n",
       "      <th>Product</th>\n",
       "      <th>Sub-product</th>\n",
       "      <th>Issue</th>\n",
       "      <th>Sub-issue</th>\n",
       "      <th>Consumer complaint narrative</th>\n",
       "      <th>Company public response</th>\n",
       "      <th>Company</th>\n",
       "      <th>State</th>\n",
       "      <th>ZIP code</th>\n",
       "      <th>Tags</th>\n",
       "      <th>Consumer consent provided?</th>\n",
       "      <th>Submitted via</th>\n",
       "      <th>Date sent to company</th>\n",
       "      <th>Company response to consumer</th>\n",
       "      <th>Consumer disputed?</th>\n",
       "      <th>Timely response?</th>\n",
       "    </tr>\n",
       "  </thead>\n",
       "  <tbody>\n",
       "    <tr>\n",
       "      <th>0</th>\n",
       "      <td>0</td>\n",
       "      <td>2535701</td>\n",
       "      <td>6/8/2017</td>\n",
       "      <td>Mortgage</td>\n",
       "      <td>Conventional home mortgage</td>\n",
       "      <td>Struggling to pay mortgage</td>\n",
       "      <td>NaN</td>\n",
       "      <td>NaN</td>\n",
       "      <td>NaN</td>\n",
       "      <td>Caliber Home Loans, Inc.</td>\n",
       "      <td>FL</td>\n",
       "      <td>34744</td>\n",
       "      <td>NaN</td>\n",
       "      <td>NaN</td>\n",
       "      <td>Fax</td>\n",
       "      <td>6/12/2017</td>\n",
       "      <td>Closed with explanation</td>\n",
       "      <td>NaN</td>\n",
       "      <td>Yes</td>\n",
       "    </tr>\n",
       "    <tr>\n",
       "      <th>1</th>\n",
       "      <td>1</td>\n",
       "      <td>3314889</td>\n",
       "      <td>7/22/2019</td>\n",
       "      <td>Credit card or prepaid card</td>\n",
       "      <td>General-purpose credit card or charge card</td>\n",
       "      <td>Problem with a purchase shown on your statement</td>\n",
       "      <td>Credit card company isn't resolving a dispute ...</td>\n",
       "      <td>On XX/XX/2019 all of my credit and debit cards...</td>\n",
       "      <td>Company has responded to the consumer and the ...</td>\n",
       "      <td>WELLS FARGO &amp; COMPANY</td>\n",
       "      <td>CA</td>\n",
       "      <td>900XX</td>\n",
       "      <td>NaN</td>\n",
       "      <td>Consent provided</td>\n",
       "      <td>Web</td>\n",
       "      <td>7/22/2019</td>\n",
       "      <td>Closed with explanation</td>\n",
       "      <td>NaN</td>\n",
       "      <td>Yes</td>\n",
       "    </tr>\n",
       "    <tr>\n",
       "      <th>2</th>\n",
       "      <td>2</td>\n",
       "      <td>3612478</td>\n",
       "      <td>4/18/2020</td>\n",
       "      <td>Credit reporting, credit repair services, or o...</td>\n",
       "      <td>Credit reporting</td>\n",
       "      <td>Incorrect information on your report</td>\n",
       "      <td>Information belongs to someone else</td>\n",
       "      <td>I was made aware of a negative account and inq...</td>\n",
       "      <td>NaN</td>\n",
       "      <td>EQUIFAX, INC.</td>\n",
       "      <td>CA</td>\n",
       "      <td>945XX</td>\n",
       "      <td>NaN</td>\n",
       "      <td>Consent provided</td>\n",
       "      <td>Web</td>\n",
       "      <td>4/18/2020</td>\n",
       "      <td>Closed with explanation</td>\n",
       "      <td>NaN</td>\n",
       "      <td>Yes</td>\n",
       "    </tr>\n",
       "    <tr>\n",
       "      <th>3</th>\n",
       "      <td>3</td>\n",
       "      <td>2069704</td>\n",
       "      <td>8/18/2016</td>\n",
       "      <td>Bank account or service</td>\n",
       "      <td>Checking account</td>\n",
       "      <td>Deposits and withdrawals</td>\n",
       "      <td>NaN</td>\n",
       "      <td>NaN</td>\n",
       "      <td>Company has responded to the consumer and the ...</td>\n",
       "      <td>BANK OF AMERICA, NATIONAL ASSOCIATION</td>\n",
       "      <td>TX</td>\n",
       "      <td>77014</td>\n",
       "      <td>NaN</td>\n",
       "      <td>NaN</td>\n",
       "      <td>Phone</td>\n",
       "      <td>8/19/2016</td>\n",
       "      <td>Closed with monetary relief</td>\n",
       "      <td>No</td>\n",
       "      <td>Yes</td>\n",
       "    </tr>\n",
       "    <tr>\n",
       "      <th>4</th>\n",
       "      <td>4</td>\n",
       "      <td>3354927</td>\n",
       "      <td>8/27/2019</td>\n",
       "      <td>Debt collection</td>\n",
       "      <td>Auto debt</td>\n",
       "      <td>Took or threatened to take negative or legal a...</td>\n",
       "      <td>Threatened or suggested your credit would be d...</td>\n",
       "      <td>NaN</td>\n",
       "      <td>NaN</td>\n",
       "      <td>Bridgecrest Acceptance Corporation</td>\n",
       "      <td>PA</td>\n",
       "      <td>19143</td>\n",
       "      <td>Servicemember</td>\n",
       "      <td>Consent not provided</td>\n",
       "      <td>Web</td>\n",
       "      <td>8/27/2019</td>\n",
       "      <td>Closed with explanation</td>\n",
       "      <td>NaN</td>\n",
       "      <td>Yes</td>\n",
       "    </tr>\n",
       "  </tbody>\n",
       "</table>\n",
       "</div>"
      ],
      "text/plain": [
       "   Unnamed: 0  Complaint_ID  ... Consumer disputed? Timely response?\n",
       "0           0       2535701  ...                NaN              Yes\n",
       "1           1       3314889  ...                NaN              Yes\n",
       "2           2       3612478  ...                NaN              Yes\n",
       "3           3       2069704  ...                 No              Yes\n",
       "4           4       3354927  ...                NaN              Yes\n",
       "\n",
       "[5 rows x 19 columns]"
      ]
     },
     "execution_count": 12,
     "metadata": {
      "tags": []
     },
     "output_type": "execute_result"
    }
   ],
   "source": [
    "print(raw_train.info())\n",
    "raw_train.head()"
   ]
  },
  {
   "cell_type": "markdown",
   "metadata": {
    "id": "C6AY_Nr1voFI"
   },
   "source": [
    "# eda"
   ]
  },
  {
   "cell_type": "code",
   "execution_count": null,
   "metadata": {
    "id": "TLDQhwVKvS9p"
   },
   "outputs": [],
   "source": [
    "eda = raw_train.copy()\n",
    "edat = raw_test.copy()"
   ]
  },
  {
   "cell_type": "markdown",
   "metadata": {
    "id": "IETLNjFFMMYb"
   },
   "source": [
    "## missing values matrix"
   ]
  },
  {
   "cell_type": "code",
   "execution_count": null,
   "metadata": {
    "colab": {
     "base_uri": "https://localhost:8080/",
     "height": 716
    },
    "id": "NFYMP111DL7m",
    "outputId": "2ba2be99-d6a9-4134-9b02-1237a2ee47db"
   },
   "outputs": [
    {
     "data": {
      "text/plain": [
       "<matplotlib.axes._subplots.AxesSubplot at 0x7f4020ce1290>"
      ]
     },
     "execution_count": 101,
     "metadata": {
      "tags": []
     },
     "output_type": "execute_result"
    },
    {
     "data": {
      "image/png": "[encoded data removed]",
      "text/plain": [
       "<Figure size 2500x1000 with 2 Axes>"
      ]
     },
     "metadata": {
      "tags": []
     },
     "output_type": "display_data"
    }
   ],
   "source": [
    "msno.matrix(eda)"
   ]
  },
  {
   "cell_type": "code",
   "execution_count": null,
   "metadata": {
    "colab": {
     "base_uri": "https://localhost:8080/",
     "height": 721
    },
    "id": "TgCTAqTrDXg5",
    "outputId": "4e3c6c39-d0e2-44c6-b871-d1a958e31c5d"
   },
   "outputs": [
    {
     "data": {
      "text/plain": [
       "<matplotlib.axes._subplots.AxesSubplot at 0x7f402026d6d0>"
      ]
     },
     "execution_count": 102,
     "metadata": {
      "tags": []
     },
     "output_type": "execute_result"
    },
    {
     "data": {
      "image/png": "[encoded data removed]",
      "text/plain": [
       "<Figure size 2500x1000 with 2 Axes>"
      ]
     },
     "metadata": {
      "tags": []
     },
     "output_type": "display_data"
    }
   ],
   "source": [
    "msno.matrix(edat)"
   ]
  },
  {
   "cell_type": "markdown",
   "metadata": {
    "id": "sH0PxoLB1HBG"
   },
   "source": [
    "## date"
   ]
  },
  {
   "cell_type": "code",
   "execution_count": null,
   "metadata": {
    "id": "6JbQUeCWxMti"
   },
   "outputs": [],
   "source": [
    "date_df = eda[['Date sent to company', 'Date received']]\n",
    "date_dft = edat[['Date sent to company', 'Date received']]"
   ]
  },
  {
   "cell_type": "code",
   "execution_count": null,
   "metadata": {
    "id": "49Rricwi6nSR"
   },
   "outputs": [],
   "source": [
    "mask = date_dft['Date sent to company']."
   ]
  },
  {
   "cell_type": "code",
   "execution_count": null,
   "metadata": {
    "colab": {
     "base_uri": "https://localhost:8080/",
     "height": 391
    },
    "id": "i-1JbD8Z1bkE",
    "outputId": "3db21b86-fdb4-4327-e6ad-3c61cde675f3"
   },
   "outputs": [
    {
     "data": {
      "text/html": [
       "<div>\n",
       "<style scoped>\n",
       "    .dataframe tbody tr th:only-of-type {\n",
       "        vertical-align: middle;\n",
       "    }\n",
       "\n",
       "    .dataframe tbody tr th {\n",
       "        vertical-align: top;\n",
       "    }\n",
       "\n",
       "    .dataframe thead th {\n",
       "        text-align: right;\n",
       "    }\n",
       "</style>\n",
       "<table border=\"1\" class=\"dataframe\">\n",
       "  <thead>\n",
       "    <tr style=\"text-align: right;\">\n",
       "      <th></th>\n",
       "      <th>Date sent to company</th>\n",
       "      <th>Date received</th>\n",
       "    </tr>\n",
       "  </thead>\n",
       "  <tbody>\n",
       "    <tr>\n",
       "      <th>0</th>\n",
       "      <td>6/12/2017</td>\n",
       "      <td>6/8/2017</td>\n",
       "    </tr>\n",
       "    <tr>\n",
       "      <th>1</th>\n",
       "      <td>7/22/2019</td>\n",
       "      <td>7/22/2019</td>\n",
       "    </tr>\n",
       "    <tr>\n",
       "      <th>2</th>\n",
       "      <td>4/18/2020</td>\n",
       "      <td>4/18/2020</td>\n",
       "    </tr>\n",
       "    <tr>\n",
       "      <th>3</th>\n",
       "      <td>8/19/2016</td>\n",
       "      <td>8/18/2016</td>\n",
       "    </tr>\n",
       "    <tr>\n",
       "      <th>4</th>\n",
       "      <td>8/27/2019</td>\n",
       "      <td>8/27/2019</td>\n",
       "    </tr>\n",
       "    <tr>\n",
       "      <th>...</th>\n",
       "      <td>...</td>\n",
       "      <td>...</td>\n",
       "    </tr>\n",
       "    <tr>\n",
       "      <th>1048570</th>\n",
       "      <td>8/14/2020</td>\n",
       "      <td>8/13/2020</td>\n",
       "    </tr>\n",
       "    <tr>\n",
       "      <th>1048571</th>\n",
       "      <td>11/3/2020</td>\n",
       "      <td>11/3/2020</td>\n",
       "    </tr>\n",
       "    <tr>\n",
       "      <th>1048572</th>\n",
       "      <td>9/3/2019</td>\n",
       "      <td>8/30/2019</td>\n",
       "    </tr>\n",
       "    <tr>\n",
       "      <th>1048573</th>\n",
       "      <td>12/10/2020</td>\n",
       "      <td>12/10/2020</td>\n",
       "    </tr>\n",
       "    <tr>\n",
       "      <th>1048574</th>\n",
       "      <td>4/27/2020</td>\n",
       "      <td>4/27/2020</td>\n",
       "    </tr>\n",
       "  </tbody>\n",
       "</table>\n",
       "<p>1048575 rows × 2 columns</p>\n",
       "</div>"
      ],
      "text/plain": [
       "        Date sent to company Date received\n",
       "0                  6/12/2017      6/8/2017\n",
       "1                  7/22/2019     7/22/2019\n",
       "2                  4/18/2020     4/18/2020\n",
       "3                  8/19/2016     8/18/2016\n",
       "4                  8/27/2019     8/27/2019\n",
       "...                      ...           ...\n",
       "1048570            8/14/2020     8/13/2020\n",
       "1048571            11/3/2020     11/3/2020\n",
       "1048572             9/3/2019     8/30/2019\n",
       "1048573           12/10/2020    12/10/2020\n",
       "1048574            4/27/2020     4/27/2020\n",
       "\n",
       "[1048575 rows x 2 columns]"
      ]
     },
     "execution_count": 20,
     "metadata": {
      "tags": []
     },
     "output_type": "execute_result"
    }
   ],
   "source": [
    "date_df"
   ]
  },
  {
   "cell_type": "code",
   "execution_count": null,
   "metadata": {
    "colab": {
     "base_uri": "https://localhost:8080/"
    },
    "id": "U3YZx8uj2WmB",
    "outputId": "82364ceb-e9d1-46ca-ef68-b37e3cbbb3ea"
   },
   "outputs": [
    {
     "data": {
      "text/plain": [
       "0        2020-09-10\n",
       "1        2016-10-04\n",
       "2        2021-01-21\n",
       "3        2019-12-10\n",
       "4        2018-03-26\n",
       "            ...    \n",
       "459689   2013-03-07\n",
       "459690   2017-08-09\n",
       "459691   2020-09-10\n",
       "459692   2015-06-17\n",
       "459693   2020-02-14\n",
       "Name: Date sent to company, Length: 459694, dtype: datetime64[ns]"
      ]
     },
     "execution_count": 49,
     "metadata": {
      "tags": []
     },
     "output_type": "execute_result"
    }
   ],
   "source": [
    "pd.to_datetime(date_dft['Date sent to company'])"
   ]
  },
  {
   "cell_type": "code",
   "execution_count": null,
   "metadata": {
    "colab": {
     "base_uri": "https://localhost:8080/"
    },
    "id": "vHtovFgm3nqA",
    "outputId": "875ccd97-94ea-4996-893c-fd0343f40435"
   },
   "outputs": [
    {
     "data": {
      "text/plain": [
       "0       766763\n",
       "1        66892\n",
       "2        38063\n",
       "3        30153\n",
       "4        27928\n",
       "         ...  \n",
       "1601         1\n",
       "578          1\n",
       "287          1\n",
       "281          1\n",
       "511          1\n",
       "Length: 370, dtype: int64"
      ]
     },
     "execution_count": 33,
     "metadata": {
      "tags": []
     },
     "output_type": "execute_result"
    }
   ],
   "source": [
    "diff.value_counts()"
   ]
  },
  {
   "cell_type": "markdown",
   "metadata": {
    "id": "9vVxyd6qzu05"
   },
   "source": [
    "# preprocess"
   ]
  },
  {
   "cell_type": "markdown",
   "metadata": {
    "id": "CJ4z0cGa093w"
   },
   "source": [
    "## drop columns"
   ]
  },
  {
   "cell_type": "code",
   "execution_count": null,
   "metadata": {
    "id": "QZL_U9U7zvtQ"
   },
   "outputs": [],
   "source": [
    "train = raw_train.drop(['Unnamed: 0', 'Complaint_ID'], axis=1)\n",
    "test = raw_test.drop(['Unnamed: 0', 'Complaint_ID'], axis=1)"
   ]
  },
  {
   "cell_type": "markdown",
   "metadata": {
    "id": "IJ785i8w1A-6"
   },
   "source": [
    "## date features"
   ]
  },
  {
   "cell_type": "code",
   "execution_count": null,
   "metadata": {
    "id": "QiRz7pSC6OnE"
   },
   "outputs": [],
   "source": [
    "train['Date received'] = pd.to_datetime(train['Date received'], format='%m/%d/%Y')\n",
    "train['Date sent to company'] = pd.to_datetime(train['Date sent to company'], format='%m/%d/%Y')"
   ]
  },
  {
   "cell_type": "code",
   "execution_count": null,
   "metadata": {
    "id": "sC74zvQF7JVt"
   },
   "outputs": [],
   "source": [
    "test['Date received'] = pd.to_datetime(test['Date received'])\n",
    "test['Date sent to company'] = pd.to_datetime(test['Date sent to company'])"
   ]
  },
  {
   "cell_type": "code",
   "execution_count": null,
   "metadata": {
    "id": "eo6mZSav7Wos"
   },
   "outputs": [],
   "source": [
    "train['date_diff'] = (train['Date sent to company'] - train['Date received']).dt.days\n",
    "test['date_diff'] = (test['Date sent to company'] - test['Date received']).dt.days"
   ]
  },
  {
   "cell_type": "code",
   "execution_count": null,
   "metadata": {
    "id": "4VZrZsavN95k"
   },
   "outputs": [],
   "source": [
    "train = train.drop(['Date received', 'Date sent to company'], axis=1)\n",
    "test = test.drop(['Date received', 'Date sent to company'], axis=1)"
   ]
  },
  {
   "cell_type": "code",
   "execution_count": null,
   "metadata": {
    "colab": {
     "base_uri": "https://localhost:8080/"
    },
    "id": "Wxjg-tgw7eDc",
    "outputId": "baca1759-7ab7-452e-b834-5f7bb36913c8"
   },
   "outputs": [
    {
     "data": {
      "text/plain": [
       "date_diff  Timely response?\n",
       "608        Yes                 1\n",
       "643        No                  1\n",
       "680        Yes                 1\n",
       "711        Yes                 1\n",
       "714        Yes                 1\n",
       "716        Yes                 1\n",
       "717        Yes                 1\n",
       "783        Yes                 1\n",
       "832        No                  1\n",
       "833        Yes                 1\n",
       "838        Yes                 1\n",
       "855        Yes                 1\n",
       "993        Yes                 1\n",
       "999        Yes                 1\n",
       "1019       Yes                 1\n",
       "1270       Yes                 1\n",
       "1601       Yes                 1\n",
       "1613       Yes                 1\n",
       "1753       Yes                 1\n",
       "1754       Yes                 1\n",
       "Name: Product, dtype: int64"
      ]
     },
     "execution_count": 228,
     "metadata": {
      "tags": []
     },
     "output_type": "execute_result"
    }
   ],
   "source": [
    "train.groupby(['date_diff', 'Timely response?']).count()['Product'][-20:]"
   ]
  },
  {
   "cell_type": "code",
   "execution_count": null,
   "metadata": {
    "colab": {
     "base_uri": "https://localhost:8080/",
     "height": 373
    },
    "id": "ryZBRK7x9S-B",
    "outputId": "21cfe5f5-e6ae-4040-95ce-c327e38e64e5"
   },
   "outputs": [
    {
     "data": {
      "text/plain": [
       "<matplotlib.axes._subplots.AxesSubplot at 0x7f4016beaa10>"
      ]
     },
     "execution_count": 229,
     "metadata": {
      "tags": []
     },
     "output_type": "execute_result"
    },
    {
     "data": {
      "image/png": "[encoded data removed]",
      "text/plain": [
       "<Figure size 600x400 with 1 Axes>"
      ]
     },
     "metadata": {
      "tags": []
     },
     "output_type": "display_data"
    }
   ],
   "source": [
    "mask = train['Timely response?'] == 'No'\n",
    "train.loc[mask, 'date_diff'].hist(bins=200)"
   ]
  },
  {
   "cell_type": "code",
   "execution_count": null,
   "metadata": {
    "colab": {
     "base_uri": "https://localhost:8080/",
     "height": 597
    },
    "id": "MVt8XYGr6T-o",
    "outputId": "571d3006-f475-491d-dacf-3b14e3226899"
   },
   "outputs": [
    {
     "data": {
      "text/html": [
       "<div>\n",
       "<style scoped>\n",
       "    .dataframe tbody tr th:only-of-type {\n",
       "        vertical-align: middle;\n",
       "    }\n",
       "\n",
       "    .dataframe tbody tr th {\n",
       "        vertical-align: top;\n",
       "    }\n",
       "\n",
       "    .dataframe thead th {\n",
       "        text-align: right;\n",
       "    }\n",
       "</style>\n",
       "<table border=\"1\" class=\"dataframe\">\n",
       "  <thead>\n",
       "    <tr style=\"text-align: right;\">\n",
       "      <th></th>\n",
       "      <th>Product</th>\n",
       "      <th>Sub-product</th>\n",
       "      <th>Issue</th>\n",
       "      <th>Sub-issue</th>\n",
       "      <th>Consumer complaint narrative</th>\n",
       "      <th>Company public response</th>\n",
       "      <th>Company</th>\n",
       "      <th>State</th>\n",
       "      <th>ZIP code</th>\n",
       "      <th>Tags</th>\n",
       "      <th>Consumer consent provided?</th>\n",
       "      <th>Submitted via</th>\n",
       "      <th>Company response to consumer</th>\n",
       "      <th>Consumer disputed?</th>\n",
       "      <th>Timely response?</th>\n",
       "      <th>date_diff</th>\n",
       "    </tr>\n",
       "  </thead>\n",
       "  <tbody>\n",
       "    <tr>\n",
       "      <th>0</th>\n",
       "      <td>Mortgage</td>\n",
       "      <td>Conventional home mortgage</td>\n",
       "      <td>Struggling to pay mortgage</td>\n",
       "      <td>NaN</td>\n",
       "      <td>NaN</td>\n",
       "      <td>NaN</td>\n",
       "      <td>Caliber Home Loans, Inc.</td>\n",
       "      <td>FL</td>\n",
       "      <td>34744</td>\n",
       "      <td>NaN</td>\n",
       "      <td>NaN</td>\n",
       "      <td>Fax</td>\n",
       "      <td>Closed with explanation</td>\n",
       "      <td>NaN</td>\n",
       "      <td>Yes</td>\n",
       "      <td>4</td>\n",
       "    </tr>\n",
       "    <tr>\n",
       "      <th>1</th>\n",
       "      <td>Credit card or prepaid card</td>\n",
       "      <td>General-purpose credit card or charge card</td>\n",
       "      <td>Problem with a purchase shown on your statement</td>\n",
       "      <td>Credit card company isn't resolving a dispute ...</td>\n",
       "      <td>On XX/XX/2019 all of my credit and debit cards...</td>\n",
       "      <td>Company has responded to the consumer and the ...</td>\n",
       "      <td>WELLS FARGO &amp; COMPANY</td>\n",
       "      <td>CA</td>\n",
       "      <td>900XX</td>\n",
       "      <td>NaN</td>\n",
       "      <td>Consent provided</td>\n",
       "      <td>Web</td>\n",
       "      <td>Closed with explanation</td>\n",
       "      <td>NaN</td>\n",
       "      <td>Yes</td>\n",
       "      <td>0</td>\n",
       "    </tr>\n",
       "    <tr>\n",
       "      <th>2</th>\n",
       "      <td>Credit reporting, credit repair services, or o...</td>\n",
       "      <td>Credit reporting</td>\n",
       "      <td>Incorrect information on your report</td>\n",
       "      <td>Information belongs to someone else</td>\n",
       "      <td>I was made aware of a negative account and inq...</td>\n",
       "      <td>NaN</td>\n",
       "      <td>EQUIFAX, INC.</td>\n",
       "      <td>CA</td>\n",
       "      <td>945XX</td>\n",
       "      <td>NaN</td>\n",
       "      <td>Consent provided</td>\n",
       "      <td>Web</td>\n",
       "      <td>Closed with explanation</td>\n",
       "      <td>NaN</td>\n",
       "      <td>Yes</td>\n",
       "      <td>0</td>\n",
       "    </tr>\n",
       "    <tr>\n",
       "      <th>3</th>\n",
       "      <td>Bank account or service</td>\n",
       "      <td>Checking account</td>\n",
       "      <td>Deposits and withdrawals</td>\n",
       "      <td>NaN</td>\n",
       "      <td>NaN</td>\n",
       "      <td>Company has responded to the consumer and the ...</td>\n",
       "      <td>BANK OF AMERICA, NATIONAL ASSOCIATION</td>\n",
       "      <td>TX</td>\n",
       "      <td>77014</td>\n",
       "      <td>NaN</td>\n",
       "      <td>NaN</td>\n",
       "      <td>Phone</td>\n",
       "      <td>Closed with monetary relief</td>\n",
       "      <td>No</td>\n",
       "      <td>Yes</td>\n",
       "      <td>1</td>\n",
       "    </tr>\n",
       "    <tr>\n",
       "      <th>4</th>\n",
       "      <td>Debt collection</td>\n",
       "      <td>Auto debt</td>\n",
       "      <td>Took or threatened to take negative or legal a...</td>\n",
       "      <td>Threatened or suggested your credit would be d...</td>\n",
       "      <td>NaN</td>\n",
       "      <td>NaN</td>\n",
       "      <td>Bridgecrest Acceptance Corporation</td>\n",
       "      <td>PA</td>\n",
       "      <td>19143</td>\n",
       "      <td>Servicemember</td>\n",
       "      <td>Consent not provided</td>\n",
       "      <td>Web</td>\n",
       "      <td>Closed with explanation</td>\n",
       "      <td>NaN</td>\n",
       "      <td>Yes</td>\n",
       "      <td>0</td>\n",
       "    </tr>\n",
       "  </tbody>\n",
       "</table>\n",
       "</div>"
      ],
      "text/plain": [
       "                                             Product  ... date_diff\n",
       "0                                           Mortgage  ...         4\n",
       "1                        Credit card or prepaid card  ...         0\n",
       "2  Credit reporting, credit repair services, or o...  ...         0\n",
       "3                            Bank account or service  ...         1\n",
       "4                                    Debt collection  ...         0\n",
       "\n",
       "[5 rows x 16 columns]"
      ]
     },
     "execution_count": 230,
     "metadata": {
      "tags": []
     },
     "output_type": "execute_result"
    }
   ],
   "source": [
    "train.head()"
   ]
  },
  {
   "cell_type": "markdown",
   "metadata": {
    "id": "A2DNLWQb-Xav"
   },
   "source": [
    "## product"
   ]
  },
  {
   "cell_type": "code",
   "execution_count": null,
   "metadata": {
    "colab": {
     "base_uri": "https://localhost:8080/"
    },
    "id": "ofD0o46z_tgt",
    "outputId": "ef819c7d-59b3-45b7-8bf8-6ab420610131"
   },
   "outputs": [
    {
     "data": {
      "text/plain": [
       "['Mortgage',\n",
       " 'Credit card or prepaid card',\n",
       " 'Credit reporting, credit repair services, or other personal consumer reports',\n",
       " 'Bank account or service',\n",
       " 'Debt collection',\n",
       " 'Credit card',\n",
       " 'Student loan',\n",
       " 'Credit reporting',\n",
       " 'Money transfer, virtual currency, or money service',\n",
       " 'Money transfers',\n",
       " 'Checking or savings account',\n",
       " 'Consumer Loan',\n",
       " 'Vehicle loan or lease',\n",
       " 'Payday loan, title loan, or personal loan',\n",
       " 'Payday loan',\n",
       " 'Prepaid card',\n",
       " 'Other financial service',\n",
       " 'Virtual currency']"
      ]
     },
     "execution_count": 231,
     "metadata": {
      "tags": []
     },
     "output_type": "execute_result"
    }
   ],
   "source": [
    "train['Product'].unique().tolist()"
   ]
  },
  {
   "cell_type": "code",
   "execution_count": null,
   "metadata": {
    "id": "0AGr9HwA4hXr"
   },
   "outputs": [],
   "source": [
    "mask = train['Product'] == 'Payday loan'\n",
    "train.loc[mask, 'Product'] = 'Payday loan, title loan, or personal loan'"
   ]
  },
  {
   "cell_type": "code",
   "execution_count": null,
   "metadata": {
    "id": "9oadOqWM_8I1"
   },
   "outputs": [],
   "source": [
    "mask = train['Product'].isin(['Credit card', 'Prepaid card'])\n",
    "train.loc[mask, 'Product'] = 'Credit card or prepaid card'"
   ]
  },
  {
   "cell_type": "code",
   "execution_count": null,
   "metadata": {
    "id": "_ztNPp0gARxr"
   },
   "outputs": [],
   "source": [
    "mask = train['Product'].isin(['Money transfers', 'Virtual currency'])\n",
    "train.loc[mask, 'Product'] = 'Money transfer, virtual currency, or money service'"
   ]
  },
  {
   "cell_type": "code",
   "execution_count": null,
   "metadata": {
    "id": "Zn84bbh2Agdp"
   },
   "outputs": [],
   "source": [
    "mask = train['Product'] == 'Credit reporting'\n",
    "train.loc[mask, 'Product'] = 'Credit reporting, credit repair services, or other personal consumer reports'"
   ]
  },
  {
   "cell_type": "code",
   "execution_count": null,
   "metadata": {
    "id": "iH4WcA0WAhQ6"
   },
   "outputs": [],
   "source": [
    "mask = train['Product'] == 'Other financial service'\n",
    "train.loc[mask, 'Product'] = 'Bank account or service'"
   ]
  },
  {
   "cell_type": "code",
   "execution_count": null,
   "metadata": {
    "colab": {
     "base_uri": "https://localhost:8080/"
    },
    "id": "fxTDOm6PAhNy",
    "outputId": "c7b7f1d7-718b-4bd4-ccbe-5880b6c35df6"
   },
   "outputs": [
    {
     "data": {
      "text/plain": [
       "['Mortgage',\n",
       " 'Credit card or prepaid card',\n",
       " 'Credit reporting, credit repair services, or other personal consumer reports',\n",
       " 'Bank account or service',\n",
       " 'Debt collection',\n",
       " 'Student loan',\n",
       " 'Money transfer, virtual currency, or money service',\n",
       " 'Checking or savings account',\n",
       " 'Consumer Loan',\n",
       " 'Vehicle loan or lease',\n",
       " 'Payday loan, title loan, or personal loan']"
      ]
     },
     "execution_count": 237,
     "metadata": {
      "tags": []
     },
     "output_type": "execute_result"
    }
   ],
   "source": [
    "train['Product'].unique().tolist()"
   ]
  },
  {
   "cell_type": "code",
   "execution_count": null,
   "metadata": {
    "colab": {
     "base_uri": "https://localhost:8080/"
    },
    "id": "muhS8PIyAi8f",
    "outputId": "9cdc573c-bdbf-47f5-90cd-6e5305c72eb9"
   },
   "outputs": [
    {
     "data": {
      "text/plain": [
       "Credit reporting, credit repair services, or other personal consumer reports    461009\n",
       "Debt collection                                                                 167263\n",
       "Mortgage                                                                        153440\n",
       "Credit card or prepaid card                                                      99787\n",
       "Checking or savings account                                                      47571\n",
       "Bank account or service                                                          38940\n",
       "Student loan                                                                     26920\n",
       "Money transfer, virtual currency, or money service                               16722\n",
       "Vehicle loan or lease                                                            13063\n",
       "Consumer Loan                                                                    12671\n",
       "Payday loan, title loan, or personal loan                                        11189\n",
       "Name: Product, dtype: int64"
      ]
     },
     "execution_count": 238,
     "metadata": {
      "tags": []
     },
     "output_type": "execute_result"
    }
   ],
   "source": [
    "train['Product'].value_counts()"
   ]
  },
  {
   "cell_type": "code",
   "execution_count": null,
   "metadata": {
    "id": "HrIeuJUdBlJg"
   },
   "outputs": [],
   "source": [
    "mask = test['Product'] == 'Payday loan'\n",
    "test.loc[mask, 'Product'] = 'Payday loan, title loan, or personal loan'"
   ]
  },
  {
   "cell_type": "code",
   "execution_count": null,
   "metadata": {
    "id": "AyaKniUsBlJs"
   },
   "outputs": [],
   "source": [
    "mask = test['Product'].isin(['Credit card', 'Prepaid card'])\n",
    "test.loc[mask, 'Product'] = 'Credit card or prepaid card'"
   ]
  },
  {
   "cell_type": "code",
   "execution_count": null,
   "metadata": {
    "id": "0eSkmVuYBlJt"
   },
   "outputs": [],
   "source": [
    "mask = test['Product'].isin(['Money transfers', 'Virtual currency'])\n",
    "test.loc[mask, 'Product'] = 'Money transfer, virtual currency, or money service'"
   ]
  },
  {
   "cell_type": "code",
   "execution_count": null,
   "metadata": {
    "id": "LYd1MezxBlJt"
   },
   "outputs": [],
   "source": [
    "mask = test['Product'] == 'Credit reporting'\n",
    "test.loc[mask, 'Product'] = 'Credit reporting, credit repair services, or other personal consumer reports'"
   ]
  },
  {
   "cell_type": "code",
   "execution_count": null,
   "metadata": {
    "id": "DR9sV_rhBlJu"
   },
   "outputs": [],
   "source": [
    "mask = test['Product'] == 'Other financial service'\n",
    "test.loc[mask, 'Product'] = 'Bank account or service'"
   ]
  },
  {
   "cell_type": "markdown",
   "metadata": {
    "id": "56cLKUbSCfyw"
   },
   "source": [
    "## deleting columns with missing values"
   ]
  },
  {
   "cell_type": "code",
   "execution_count": null,
   "metadata": {
    "id": "g3efG69iDy1x"
   },
   "outputs": [],
   "source": [
    "del_cols = ['Tags', 'Consumer complaint narrative', 'Company public response', 'ZIP code', 'Sub-issue', 'Sub-product']\n",
    "# del_cols = ['Sub-product']"
   ]
  },
  {
   "cell_type": "code",
   "execution_count": null,
   "metadata": {
    "id": "On3BEGrYBsHJ"
   },
   "outputs": [],
   "source": [
    "train = train.drop(del_cols, axis=1)\n",
    "test = test.drop(del_cols, axis=1)"
   ]
  },
  {
   "cell_type": "code",
   "execution_count": null,
   "metadata": {
    "colab": {
     "base_uri": "https://localhost:8080/",
     "height": 288
    },
    "id": "y9D7W-_zCmw2",
    "outputId": "8d0a033d-a594-416d-b895-95153bc74629"
   },
   "outputs": [
    {
     "data": {
      "text/html": [
       "<div>\n",
       "<style scoped>\n",
       "    .dataframe tbody tr th:only-of-type {\n",
       "        vertical-align: middle;\n",
       "    }\n",
       "\n",
       "    .dataframe tbody tr th {\n",
       "        vertical-align: top;\n",
       "    }\n",
       "\n",
       "    .dataframe thead th {\n",
       "        text-align: right;\n",
       "    }\n",
       "</style>\n",
       "<table border=\"1\" class=\"dataframe\">\n",
       "  <thead>\n",
       "    <tr style=\"text-align: right;\">\n",
       "      <th></th>\n",
       "      <th>Product</th>\n",
       "      <th>Issue</th>\n",
       "      <th>Company</th>\n",
       "      <th>State</th>\n",
       "      <th>Consumer consent provided?</th>\n",
       "      <th>Submitted via</th>\n",
       "      <th>Company response to consumer</th>\n",
       "      <th>Consumer disputed?</th>\n",
       "      <th>Timely response?</th>\n",
       "      <th>date_diff</th>\n",
       "    </tr>\n",
       "  </thead>\n",
       "  <tbody>\n",
       "    <tr>\n",
       "      <th>0</th>\n",
       "      <td>Mortgage</td>\n",
       "      <td>Struggling to pay mortgage</td>\n",
       "      <td>Caliber Home Loans, Inc.</td>\n",
       "      <td>FL</td>\n",
       "      <td>NaN</td>\n",
       "      <td>Fax</td>\n",
       "      <td>Closed with explanation</td>\n",
       "      <td>NaN</td>\n",
       "      <td>Yes</td>\n",
       "      <td>4</td>\n",
       "    </tr>\n",
       "    <tr>\n",
       "      <th>1</th>\n",
       "      <td>Credit card or prepaid card</td>\n",
       "      <td>Problem with a purchase shown on your statement</td>\n",
       "      <td>WELLS FARGO &amp; COMPANY</td>\n",
       "      <td>CA</td>\n",
       "      <td>Consent provided</td>\n",
       "      <td>Web</td>\n",
       "      <td>Closed with explanation</td>\n",
       "      <td>NaN</td>\n",
       "      <td>Yes</td>\n",
       "      <td>0</td>\n",
       "    </tr>\n",
       "    <tr>\n",
       "      <th>2</th>\n",
       "      <td>Credit reporting, credit repair services, or o...</td>\n",
       "      <td>Incorrect information on your report</td>\n",
       "      <td>EQUIFAX, INC.</td>\n",
       "      <td>CA</td>\n",
       "      <td>Consent provided</td>\n",
       "      <td>Web</td>\n",
       "      <td>Closed with explanation</td>\n",
       "      <td>NaN</td>\n",
       "      <td>Yes</td>\n",
       "      <td>0</td>\n",
       "    </tr>\n",
       "    <tr>\n",
       "      <th>3</th>\n",
       "      <td>Bank account or service</td>\n",
       "      <td>Deposits and withdrawals</td>\n",
       "      <td>BANK OF AMERICA, NATIONAL ASSOCIATION</td>\n",
       "      <td>TX</td>\n",
       "      <td>NaN</td>\n",
       "      <td>Phone</td>\n",
       "      <td>Closed with monetary relief</td>\n",
       "      <td>No</td>\n",
       "      <td>Yes</td>\n",
       "      <td>1</td>\n",
       "    </tr>\n",
       "    <tr>\n",
       "      <th>4</th>\n",
       "      <td>Debt collection</td>\n",
       "      <td>Took or threatened to take negative or legal a...</td>\n",
       "      <td>Bridgecrest Acceptance Corporation</td>\n",
       "      <td>PA</td>\n",
       "      <td>Consent not provided</td>\n",
       "      <td>Web</td>\n",
       "      <td>Closed with explanation</td>\n",
       "      <td>NaN</td>\n",
       "      <td>Yes</td>\n",
       "      <td>0</td>\n",
       "    </tr>\n",
       "  </tbody>\n",
       "</table>\n",
       "</div>"
      ],
      "text/plain": [
       "                                             Product  ... date_diff\n",
       "0                                           Mortgage  ...         4\n",
       "1                        Credit card or prepaid card  ...         0\n",
       "2  Credit reporting, credit repair services, or o...  ...         0\n",
       "3                            Bank account or service  ...         1\n",
       "4                                    Debt collection  ...         0\n",
       "\n",
       "[5 rows x 10 columns]"
      ]
     },
     "execution_count": 246,
     "metadata": {
      "tags": []
     },
     "output_type": "execute_result"
    }
   ],
   "source": [
    "train.head()"
   ]
  },
  {
   "cell_type": "markdown",
   "metadata": {
    "id": "oz1etakyFAqI"
   },
   "source": [
    "## company"
   ]
  },
  {
   "cell_type": "code",
   "execution_count": null,
   "metadata": {
    "colab": {
     "base_uri": "https://localhost:8080/"
    },
    "id": "1CbytRh8FEF4",
    "outputId": "d191c4e5-7b3f-4394-c363-55cd5c83ffd3"
   },
   "outputs": [
    {
     "data": {
      "text/plain": [
       "Index(['EQUIFAX, INC.', 'TRANSUNION INTERMEDIATE HOLDINGS, INC.',\n",
       "       'Experian Information Solutions Inc.',\n",
       "       'BANK OF AMERICA, NATIONAL ASSOCIATION', 'WELLS FARGO & COMPANY',\n",
       "       'JPMORGAN CHASE & CO.', 'CITIBANK, N.A.',\n",
       "       'CAPITAL ONE FINANCIAL CORPORATION', 'SYNCHRONY FINANCIAL',\n",
       "       'Navient Solutions, LLC.'],\n",
       "      dtype='object')"
      ]
     },
     "execution_count": 247,
     "metadata": {
      "tags": []
     },
     "output_type": "execute_result"
    }
   ],
   "source": [
    "train['Company'].value_counts()[:10].index"
   ]
  },
  {
   "cell_type": "code",
   "execution_count": null,
   "metadata": {
    "id": "8x6ogvSsERJv"
   },
   "outputs": [],
   "source": [
    "top_ten_companies = ['EQUIFAX, INC.', 'TRANSUNION INTERMEDIATE HOLDINGS, INC.',\n",
    "       'Experian Information Solutions Inc.',\n",
    "       'BANK OF AMERICA, NATIONAL ASSOCIATION', 'WELLS FARGO & COMPANY',\n",
    "       'JPMORGAN CHASE & CO.', 'CITIBANK, N.A.',\n",
    "       'CAPITAL ONE FINANCIAL CORPORATION', 'SYNCHRONY FINANCIAL',\n",
    "       'Navient Solutions, LLC.']"
   ]
  },
  {
   "cell_type": "code",
   "execution_count": null,
   "metadata": {
    "id": "Kx___P3CFpt_"
   },
   "outputs": [],
   "source": [
    "mask = train['Company'].isin(top_ten_companies)\n",
    "train.loc[~mask, 'Company'] = 'Other Company'"
   ]
  },
  {
   "cell_type": "code",
   "execution_count": null,
   "metadata": {
    "id": "SPU8pAumF4h_"
   },
   "outputs": [],
   "source": [
    "mask = test['Company'].isin(top_ten_companies)\n",
    "test.loc[~mask, 'Company'] = 'Other Company'"
   ]
  },
  {
   "cell_type": "markdown",
   "metadata": {
    "id": "JwfOujNVGi2w"
   },
   "source": [
    "## state"
   ]
  },
  {
   "cell_type": "code",
   "execution_count": null,
   "metadata": {
    "id": "exfv0sSdGqkl"
   },
   "outputs": [],
   "source": [
    "train['State'] = train['State'].fillna(method='bfill')\n",
    "test['State'] = test['State'].fillna(method='bfill')"
   ]
  },
  {
   "cell_type": "code",
   "execution_count": null,
   "metadata": {
    "colab": {
     "base_uri": "https://localhost:8080/"
    },
    "id": "rKkZTmabG7PI",
    "outputId": "70bb5a4b-3193-43af-8d07-2d69812d798e"
   },
   "outputs": [
    {
     "name": "stdout",
     "output_type": "stream",
     "text": [
      "0\n",
      "0\n"
     ]
    }
   ],
   "source": [
    "print(train['State'].isna().sum())\n",
    "print(test['State'].isna().sum())"
   ]
  },
  {
   "cell_type": "markdown",
   "metadata": {
    "id": "efSncLKuHm0l"
   },
   "source": [
    "## consumer consent provided"
   ]
  },
  {
   "cell_type": "code",
   "execution_count": null,
   "metadata": {
    "id": "T9kWjHOEG9-0"
   },
   "outputs": [],
   "source": [
    "train['Consumer consent provided?'] = train['Consumer consent provided?'].fillna('not available')\n",
    "test['Consumer consent provided?'] = test['Consumer consent provided?'].fillna('not available')"
   ]
  },
  {
   "cell_type": "code",
   "execution_count": null,
   "metadata": {
    "colab": {
     "base_uri": "https://localhost:8080/"
    },
    "id": "bEc5nPwCHz4P",
    "outputId": "ade9ef50-8d93-4e8a-e26f-2c1859716189"
   },
   "outputs": [
    {
     "name": "stdout",
     "output_type": "stream",
     "text": [
      "0\n",
      "0\n"
     ]
    }
   ],
   "source": [
    "print(train['Consumer consent provided?'].isna().sum())\n",
    "print(test['Consumer consent provided?'].isna().sum())"
   ]
  },
  {
   "cell_type": "markdown",
   "metadata": {
    "id": "1drB0gRzKmYY"
   },
   "source": [
    " ## consumer disputed"
   ]
  },
  {
   "cell_type": "code",
   "execution_count": null,
   "metadata": {
    "id": "m7JhwB2JKzWN"
   },
   "outputs": [],
   "source": [
    "train['Consumer disputed?'] = train['Consumer disputed?'].fillna('not available')\n",
    "test['Consumer disputed?'] = test['Consumer disputed?'].fillna('not available')"
   ]
  },
  {
   "cell_type": "code",
   "execution_count": null,
   "metadata": {
    "colab": {
     "base_uri": "https://localhost:8080/"
    },
    "id": "ed-MWmtvK_10",
    "outputId": "3259bb56-701c-4e8a-aacb-6aed04c2e6c4"
   },
   "outputs": [
    {
     "name": "stdout",
     "output_type": "stream",
     "text": [
      "0\n",
      "0\n"
     ]
    }
   ],
   "source": [
    "print(train['Consumer disputed?'].isna().sum())\n",
    "print(test['Consumer disputed?'].isna().sum())"
   ]
  },
  {
   "cell_type": "code",
   "execution_count": null,
   "metadata": {
    "colab": {
     "base_uri": "https://localhost:8080/",
     "height": 288
    },
    "id": "XqfcM61XLETS",
    "outputId": "45214cad-e54e-4204-ddb9-f5a18edd6246"
   },
   "outputs": [
    {
     "data": {
      "text/html": [
       "<div>\n",
       "<style scoped>\n",
       "    .dataframe tbody tr th:only-of-type {\n",
       "        vertical-align: middle;\n",
       "    }\n",
       "\n",
       "    .dataframe tbody tr th {\n",
       "        vertical-align: top;\n",
       "    }\n",
       "\n",
       "    .dataframe thead th {\n",
       "        text-align: right;\n",
       "    }\n",
       "</style>\n",
       "<table border=\"1\" class=\"dataframe\">\n",
       "  <thead>\n",
       "    <tr style=\"text-align: right;\">\n",
       "      <th></th>\n",
       "      <th>Product</th>\n",
       "      <th>Issue</th>\n",
       "      <th>Company</th>\n",
       "      <th>State</th>\n",
       "      <th>Consumer consent provided?</th>\n",
       "      <th>Submitted via</th>\n",
       "      <th>Company response to consumer</th>\n",
       "      <th>Consumer disputed?</th>\n",
       "      <th>Timely response?</th>\n",
       "      <th>date_diff</th>\n",
       "    </tr>\n",
       "  </thead>\n",
       "  <tbody>\n",
       "    <tr>\n",
       "      <th>0</th>\n",
       "      <td>Mortgage</td>\n",
       "      <td>Struggling to pay mortgage</td>\n",
       "      <td>Other Company</td>\n",
       "      <td>FL</td>\n",
       "      <td>not available</td>\n",
       "      <td>Fax</td>\n",
       "      <td>Closed with explanation</td>\n",
       "      <td>not available</td>\n",
       "      <td>Yes</td>\n",
       "      <td>4</td>\n",
       "    </tr>\n",
       "    <tr>\n",
       "      <th>1</th>\n",
       "      <td>Credit card or prepaid card</td>\n",
       "      <td>Problem with a purchase shown on your statement</td>\n",
       "      <td>WELLS FARGO &amp; COMPANY</td>\n",
       "      <td>CA</td>\n",
       "      <td>Consent provided</td>\n",
       "      <td>Web</td>\n",
       "      <td>Closed with explanation</td>\n",
       "      <td>not available</td>\n",
       "      <td>Yes</td>\n",
       "      <td>0</td>\n",
       "    </tr>\n",
       "    <tr>\n",
       "      <th>2</th>\n",
       "      <td>Credit reporting, credit repair services, or o...</td>\n",
       "      <td>Incorrect information on your report</td>\n",
       "      <td>EQUIFAX, INC.</td>\n",
       "      <td>CA</td>\n",
       "      <td>Consent provided</td>\n",
       "      <td>Web</td>\n",
       "      <td>Closed with explanation</td>\n",
       "      <td>not available</td>\n",
       "      <td>Yes</td>\n",
       "      <td>0</td>\n",
       "    </tr>\n",
       "    <tr>\n",
       "      <th>3</th>\n",
       "      <td>Bank account or service</td>\n",
       "      <td>Deposits and withdrawals</td>\n",
       "      <td>BANK OF AMERICA, NATIONAL ASSOCIATION</td>\n",
       "      <td>TX</td>\n",
       "      <td>not available</td>\n",
       "      <td>Phone</td>\n",
       "      <td>Closed with monetary relief</td>\n",
       "      <td>No</td>\n",
       "      <td>Yes</td>\n",
       "      <td>1</td>\n",
       "    </tr>\n",
       "    <tr>\n",
       "      <th>4</th>\n",
       "      <td>Debt collection</td>\n",
       "      <td>Took or threatened to take negative or legal a...</td>\n",
       "      <td>Other Company</td>\n",
       "      <td>PA</td>\n",
       "      <td>Consent not provided</td>\n",
       "      <td>Web</td>\n",
       "      <td>Closed with explanation</td>\n",
       "      <td>not available</td>\n",
       "      <td>Yes</td>\n",
       "      <td>0</td>\n",
       "    </tr>\n",
       "  </tbody>\n",
       "</table>\n",
       "</div>"
      ],
      "text/plain": [
       "                                             Product  ... date_diff\n",
       "0                                           Mortgage  ...         4\n",
       "1                        Credit card or prepaid card  ...         0\n",
       "2  Credit reporting, credit repair services, or o...  ...         0\n",
       "3                            Bank account or service  ...         1\n",
       "4                                    Debt collection  ...         0\n",
       "\n",
       "[5 rows x 10 columns]"
      ]
     },
     "execution_count": 257,
     "metadata": {
      "tags": []
     },
     "output_type": "execute_result"
    }
   ],
   "source": [
    "train.head()"
   ]
  },
  {
   "cell_type": "markdown",
   "metadata": {
    "id": "HLdxxY8fMf20"
   },
   "source": [
    "## company response to customer"
   ]
  },
  {
   "cell_type": "code",
   "execution_count": null,
   "metadata": {
    "id": "IiFeP7vCLInH"
   },
   "outputs": [],
   "source": [
    "train['Company response to consumer'] = train['Company response to consumer'].fillna('Closed with explanation')\n",
    "test['Company response to consumer'] = test['Company response to consumer'].fillna('Closed with explanation')"
   ]
  },
  {
   "cell_type": "code",
   "execution_count": null,
   "metadata": {
    "colab": {
     "base_uri": "https://localhost:8080/"
    },
    "id": "afGNeQAiMzba",
    "outputId": "de9a4821-7b97-4e8a-98c2-bc973e558aa3"
   },
   "outputs": [
    {
     "name": "stdout",
     "output_type": "stream",
     "text": [
      "0\n",
      "0\n"
     ]
    }
   ],
   "source": [
    "print(train['Company response to consumer'].isna().sum())\n",
    "print(test['Company response to consumer'].isna().sum())"
   ]
  },
  {
   "cell_type": "code",
   "execution_count": null,
   "metadata": {
    "colab": {
     "base_uri": "https://localhost:8080/"
    },
    "id": "16Q3Sw_gM4Pp",
    "outputId": "c359e98b-df85-48da-9e76-dead35f8eb80"
   },
   "outputs": [
    {
     "name": "stdout",
     "output_type": "stream",
     "text": [
      "<class 'pandas.core.frame.DataFrame'>\n",
      "RangeIndex: 1048575 entries, 0 to 1048574\n",
      "Data columns (total 10 columns):\n",
      " #   Column                        Non-Null Count    Dtype \n",
      "---  ------                        --------------    ----- \n",
      " 0   Product                       1048575 non-null  object\n",
      " 1   Issue                         1048575 non-null  object\n",
      " 2   Company                       1048575 non-null  object\n",
      " 3   State                         1048575 non-null  object\n",
      " 4   Consumer consent provided?    1048575 non-null  object\n",
      " 5   Submitted via                 1048575 non-null  object\n",
      " 6   Company response to consumer  1048575 non-null  object\n",
      " 7   Consumer disputed?            1048575 non-null  object\n",
      " 8   Timely response?              1048575 non-null  object\n",
      " 9   date_diff                     1048575 non-null  int64 \n",
      "dtypes: int64(1), object(9)\n",
      "memory usage: 80.0+ MB\n"
     ]
    }
   ],
   "source": [
    "train.info()"
   ]
  },
  {
   "cell_type": "code",
   "execution_count": null,
   "metadata": {
    "colab": {
     "base_uri": "https://localhost:8080/"
    },
    "id": "K1cu-nq1NJrx",
    "outputId": "586d8f92-2f8a-4170-fe0e-c6a87ad5d615"
   },
   "outputs": [
    {
     "name": "stdout",
     "output_type": "stream",
     "text": [
      "<class 'pandas.core.frame.DataFrame'>\n",
      "RangeIndex: 459694 entries, 0 to 459693\n",
      "Data columns (total 9 columns):\n",
      " #   Column                        Non-Null Count   Dtype \n",
      "---  ------                        --------------   ----- \n",
      " 0   Product                       459694 non-null  object\n",
      " 1   Issue                         459694 non-null  object\n",
      " 2   Company                       459694 non-null  object\n",
      " 3   State                         459694 non-null  object\n",
      " 4   Consumer consent provided?    459694 non-null  object\n",
      " 5   Submitted via                 459694 non-null  object\n",
      " 6   Company response to consumer  459694 non-null  object\n",
      " 7   Consumer disputed?            459694 non-null  object\n",
      " 8   date_diff                     459694 non-null  int64 \n",
      "dtypes: int64(1), object(8)\n",
      "memory usage: 31.6+ MB\n"
     ]
    }
   ],
   "source": [
    "test.info()"
   ]
  },
  {
   "cell_type": "markdown",
   "metadata": {
    "id": "v6RT2-gOOKEJ"
   },
   "source": [
    "# transformations"
   ]
  },
  {
   "cell_type": "code",
   "execution_count": null,
   "metadata": {
    "colab": {
     "base_uri": "https://localhost:8080/"
    },
    "id": "WRMUGwkVOLZM",
    "outputId": "85ffd16c-103f-4c08-da26-55029615d137"
   },
   "outputs": [
    {
     "data": {
      "text/plain": [
       "['Product',\n",
       " 'Issue',\n",
       " 'Company',\n",
       " 'State',\n",
       " 'Consumer consent provided?',\n",
       " 'Submitted via',\n",
       " 'Company response to consumer',\n",
       " 'Consumer disputed?']"
      ]
     },
     "execution_count": 262,
     "metadata": {
      "tags": []
     },
     "output_type": "execute_result"
    }
   ],
   "source": [
    "cat_cols = train.select_dtypes(include='object').columns.tolist()\n",
    "cat_cols"
   ]
  },
  {
   "cell_type": "code",
   "execution_count": null,
   "metadata": {
    "colab": {
     "base_uri": "https://localhost:8080/",
     "height": 48,
     "referenced_widgets": [
      "feb4fe7e3ccf4583b4d03a109ea668f7",
      "1d0dc4cea7844fa096bec318d80e0844",
      "2d70c0ca014c490fa8192ca250a62352",
      "766c2c1ea6ca4e1684891468003e280f",
      "fd88150a8ed34aefa21502d8757d149d",
      "b132b0d6b62542abbe35797d6f2067c0",
      "2e1fdb7079264a24bc107b03c089182a",
      "4888f4903bd94540a78b4831b6b2792a",
      "1141f47d4ba84f888ab1e3303a9cc071",
      "7747192ee23a44a3b1f8b59f5fc34479",
      "f04d9b18cbcd473da4e90ff2c42ba947"
     ]
    },
    "id": "HEldQJ5xPD-z",
    "outputId": "6ebe70b6-5f72-4714-bf0c-e809859fa693"
   },
   "outputs": [
    {
     "data": {
      "application/vnd.jupyter.widget-view+json": {
       "model_id": "feb4fe7e3ccf4583b4d03a109ea668f7",
       "version_major": 2,
       "version_minor": 0
      },
      "text/plain": [
       "  0%|          | 0/8 [00:00<?, ?it/s]"
      ]
     },
     "metadata": {
      "tags": []
     },
     "output_type": "display_data"
    }
   ],
   "source": [
    "for c in tqdm(cat_cols):\n",
    "    le = LabelEncoder()\n",
    "\n",
    "    if c == 'Timely response?':\n",
    "        train[c] = le.fit_transform(train[c].unique().tolist())\n",
    "    \n",
    "    else:\n",
    "        le.fit(list(set(train[c].unique().tolist() + test[c].unique().tolist())))\n",
    "        train[c] = le.transform(train[c])\n",
    "        test[c] = le.transform(test[c])"
   ]
  },
  {
   "cell_type": "code",
   "execution_count": null,
   "metadata": {
    "id": "ppYqSYfhXnUK"
   },
   "outputs": [],
   "source": [
    "le = LabelEncoder()\n",
    "train['Timely response?'] = le.fit_transform(train['Timely response?'])"
   ]
  },
  {
   "cell_type": "code",
   "execution_count": null,
   "metadata": {
    "id": "nR2lT9c1Y2Lr"
   },
   "outputs": [],
   "source": []
  },
  {
   "cell_type": "code",
   "execution_count": null,
   "metadata": {
    "id": "7KJ8ye7VYzds"
   },
   "outputs": [],
   "source": [
    "train['date_diff'] = np.log(2 + train['date_diff'])\n",
    "test['date_diff'] = np.log(2 + test['date_diff'])"
   ]
  },
  {
   "cell_type": "code",
   "execution_count": null,
   "metadata": {
    "colab": {
     "base_uri": "https://localhost:8080/",
     "height": 391
    },
    "id": "-SA4q38lWAgI",
    "outputId": "57877bfc-0831-4bd4-b7e7-39ef404c21d7"
   },
   "outputs": [
    {
     "data": {
      "text/html": [
       "<div>\n",
       "<style scoped>\n",
       "    .dataframe tbody tr th:only-of-type {\n",
       "        vertical-align: middle;\n",
       "    }\n",
       "\n",
       "    .dataframe tbody tr th {\n",
       "        vertical-align: top;\n",
       "    }\n",
       "\n",
       "    .dataframe thead th {\n",
       "        text-align: right;\n",
       "    }\n",
       "</style>\n",
       "<table border=\"1\" class=\"dataframe\">\n",
       "  <thead>\n",
       "    <tr style=\"text-align: right;\">\n",
       "      <th></th>\n",
       "      <th>Product</th>\n",
       "      <th>Issue</th>\n",
       "      <th>Company</th>\n",
       "      <th>State</th>\n",
       "      <th>Consumer consent provided?</th>\n",
       "      <th>Submitted via</th>\n",
       "      <th>Company response to consumer</th>\n",
       "      <th>Consumer disputed?</th>\n",
       "      <th>Timely response?</th>\n",
       "      <th>date_diff</th>\n",
       "    </tr>\n",
       "  </thead>\n",
       "  <tbody>\n",
       "    <tr>\n",
       "      <th>0</th>\n",
       "      <td>7</td>\n",
       "      <td>139</td>\n",
       "      <td>7</td>\n",
       "      <td>13</td>\n",
       "      <td>4</td>\n",
       "      <td>1</td>\n",
       "      <td>1</td>\n",
       "      <td>2</td>\n",
       "      <td>1</td>\n",
       "      <td>1.791759</td>\n",
       "    </tr>\n",
       "    <tr>\n",
       "      <th>1</th>\n",
       "      <td>3</td>\n",
       "      <td>117</td>\n",
       "      <td>10</td>\n",
       "      <td>8</td>\n",
       "      <td>1</td>\n",
       "      <td>5</td>\n",
       "      <td>1</td>\n",
       "      <td>2</td>\n",
       "      <td>1</td>\n",
       "      <td>0.693147</td>\n",
       "    </tr>\n",
       "    <tr>\n",
       "      <th>2</th>\n",
       "      <td>4</td>\n",
       "      <td>75</td>\n",
       "      <td>3</td>\n",
       "      <td>8</td>\n",
       "      <td>1</td>\n",
       "      <td>5</td>\n",
       "      <td>1</td>\n",
       "      <td>2</td>\n",
       "      <td>1</td>\n",
       "      <td>0.693147</td>\n",
       "    </tr>\n",
       "    <tr>\n",
       "      <th>3</th>\n",
       "      <td>0</td>\n",
       "      <td>54</td>\n",
       "      <td>0</td>\n",
       "      <td>53</td>\n",
       "      <td>4</td>\n",
       "      <td>2</td>\n",
       "      <td>2</td>\n",
       "      <td>0</td>\n",
       "      <td>1</td>\n",
       "      <td>1.098612</td>\n",
       "    </tr>\n",
       "    <tr>\n",
       "      <th>4</th>\n",
       "      <td>5</td>\n",
       "      <td>146</td>\n",
       "      <td>7</td>\n",
       "      <td>46</td>\n",
       "      <td>0</td>\n",
       "      <td>5</td>\n",
       "      <td>1</td>\n",
       "      <td>2</td>\n",
       "      <td>1</td>\n",
       "      <td>0.693147</td>\n",
       "    </tr>\n",
       "    <tr>\n",
       "      <th>...</th>\n",
       "      <td>...</td>\n",
       "      <td>...</td>\n",
       "      <td>...</td>\n",
       "      <td>...</td>\n",
       "      <td>...</td>\n",
       "      <td>...</td>\n",
       "      <td>...</td>\n",
       "      <td>...</td>\n",
       "      <td>...</td>\n",
       "      <td>...</td>\n",
       "    </tr>\n",
       "    <tr>\n",
       "      <th>1048570</th>\n",
       "      <td>7</td>\n",
       "      <td>148</td>\n",
       "      <td>7</td>\n",
       "      <td>15</td>\n",
       "      <td>4</td>\n",
       "      <td>4</td>\n",
       "      <td>1</td>\n",
       "      <td>2</td>\n",
       "      <td>1</td>\n",
       "      <td>1.098612</td>\n",
       "    </tr>\n",
       "    <tr>\n",
       "      <th>1048571</th>\n",
       "      <td>4</td>\n",
       "      <td>75</td>\n",
       "      <td>9</td>\n",
       "      <td>42</td>\n",
       "      <td>3</td>\n",
       "      <td>5</td>\n",
       "      <td>1</td>\n",
       "      <td>2</td>\n",
       "      <td>1</td>\n",
       "      <td>0.693147</td>\n",
       "    </tr>\n",
       "    <tr>\n",
       "      <th>1048572</th>\n",
       "      <td>7</td>\n",
       "      <td>11</td>\n",
       "      <td>0</td>\n",
       "      <td>8</td>\n",
       "      <td>4</td>\n",
       "      <td>4</td>\n",
       "      <td>1</td>\n",
       "      <td>2</td>\n",
       "      <td>1</td>\n",
       "      <td>1.791759</td>\n",
       "    </tr>\n",
       "    <tr>\n",
       "      <th>1048573</th>\n",
       "      <td>4</td>\n",
       "      <td>75</td>\n",
       "      <td>4</td>\n",
       "      <td>7</td>\n",
       "      <td>1</td>\n",
       "      <td>5</td>\n",
       "      <td>1</td>\n",
       "      <td>2</td>\n",
       "      <td>1</td>\n",
       "      <td>0.693147</td>\n",
       "    </tr>\n",
       "    <tr>\n",
       "      <th>1048574</th>\n",
       "      <td>4</td>\n",
       "      <td>75</td>\n",
       "      <td>3</td>\n",
       "      <td>8</td>\n",
       "      <td>0</td>\n",
       "      <td>5</td>\n",
       "      <td>1</td>\n",
       "      <td>2</td>\n",
       "      <td>1</td>\n",
       "      <td>0.693147</td>\n",
       "    </tr>\n",
       "  </tbody>\n",
       "</table>\n",
       "<p>1048575 rows × 10 columns</p>\n",
       "</div>"
      ],
      "text/plain": [
       "         Product  Issue  ...  Timely response?  date_diff\n",
       "0              7    139  ...                 1   1.791759\n",
       "1              3    117  ...                 1   0.693147\n",
       "2              4     75  ...                 1   0.693147\n",
       "3              0     54  ...                 1   1.098612\n",
       "4              5    146  ...                 1   0.693147\n",
       "...          ...    ...  ...               ...        ...\n",
       "1048570        7    148  ...                 1   1.098612\n",
       "1048571        4     75  ...                 1   0.693147\n",
       "1048572        7     11  ...                 1   1.791759\n",
       "1048573        4     75  ...                 1   0.693147\n",
       "1048574        4     75  ...                 1   0.693147\n",
       "\n",
       "[1048575 rows x 10 columns]"
      ]
     },
     "execution_count": 307,
     "metadata": {
      "tags": []
     },
     "output_type": "execute_result"
    }
   ],
   "source": [
    "train"
   ]
  },
  {
   "cell_type": "code",
   "execution_count": null,
   "metadata": {
    "colab": {
     "base_uri": "https://localhost:8080/"
    },
    "id": "AEtFxWr7WUy5",
    "outputId": "a49ffdf2-9bde-47aa-8fbb-ab2e5f6eb2e0"
   },
   "outputs": [
    {
     "data": {
      "text/plain": [
       "['/content/drive/MyDrive/enigma_datathon/clean_train']"
      ]
     },
     "execution_count": 308,
     "metadata": {
      "tags": []
     },
     "output_type": "execute_result"
    }
   ],
   "source": [
    "joblib.dump(train, '/content/drive/MyDrive/enigma_datathon/clean_train')\n",
    "joblib.dump(test, '/content/drive/MyDrive/enigma_datathon/clean_test')"
   ]
  },
  {
   "cell_type": "code",
   "execution_count": null,
   "metadata": {
    "id": "L80v1wCFYZl9"
   },
   "outputs": [],
   "source": []
  },
  {
   "cell_type": "markdown",
   "metadata": {
    "id": "AoXy9kraZF3k"
   },
   "source": [
    "# models"
   ]
  },
  {
   "cell_type": "code",
   "execution_count": null,
   "metadata": {
    "id": "Gmdbk1bFZ7xM"
   },
   "outputs": [],
   "source": [
    "X = train.drop('Timely response?', axis=1)\n",
    "y = train['Timely response?']"
   ]
  },
  {
   "cell_type": "code",
   "execution_count": null,
   "metadata": {
    "id": "-Yu-8lpJZIK1"
   },
   "outputs": [],
   "source": [
    "X_train, X_test, y_train, y_test = train_test_split(X, y, stratify=y, test_size=0.2)"
   ]
  },
  {
   "cell_type": "code",
   "execution_count": null,
   "metadata": {
    "id": "ezoM91K8ZGjj"
   },
   "outputs": [],
   "source": [
    "lr = LogisticRegression()"
   ]
  },
  {
   "cell_type": "code",
   "execution_count": null,
   "metadata": {
    "colab": {
     "base_uri": "https://localhost:8080/"
    },
    "id": "sbhQaHCmZjOs",
    "outputId": "dbda30c2-8a13-4085-9b9b-0b3b4bb03bfa"
   },
   "outputs": [
    {
     "data": {
      "text/plain": [
       "LogisticRegression(C=1.0, class_weight=None, dual=False, fit_intercept=True,\n",
       "                   intercept_scaling=1, l1_ratio=None, max_iter=100,\n",
       "                   multi_class='auto', n_jobs=None, penalty='l2',\n",
       "                   random_state=None, solver='lbfgs', tol=0.0001, verbose=0,\n",
       "                   warm_start=False)"
      ]
     },
     "execution_count": 284,
     "metadata": {
      "tags": []
     },
     "output_type": "execute_result"
    }
   ],
   "source": [
    "lr.fit(X_train, y_train)"
   ]
  },
  {
   "cell_type": "code",
   "execution_count": null,
   "metadata": {
    "colab": {
     "base_uri": "https://localhost:8080/"
    },
    "id": "1I24qKWyZnXp",
    "outputId": "f8b99614-3ce7-4677-9fe1-c45d78154dd5"
   },
   "outputs": [
    {
     "name": "stdout",
     "output_type": "stream",
     "text": [
      "0.9893641117081516\n"
     ]
    }
   ],
   "source": [
    "lr_preds = lr.predict(X_test)\n"
   ]
  },
  {
   "cell_type": "code",
   "execution_count": null,
   "metadata": {
    "colab": {
     "base_uri": "https://localhost:8080/"
    },
    "id": "t8RBdsP6jJgU",
    "outputId": "1e8a0a78-7dcc-4ef7-b444-ed206c58b0cd"
   },
   "outputs": [
    {
     "name": "stdout",
     "output_type": "stream",
     "text": [
      "0.9789237775075698\n"
     ]
    }
   ],
   "source": [
    "score = f1_score(y_test, lr_preds, average='micro')\n",
    "print(score)"
   ]
  },
  {
   "cell_type": "code",
   "execution_count": null,
   "metadata": {
    "colab": {
     "base_uri": "https://localhost:8080/"
    },
    "id": "puphg-FLZycI",
    "outputId": "6f1936ad-1ab5-4e09-d3bc-56fb879b3d00"
   },
   "outputs": [
    {
     "name": "stdout",
     "output_type": "stream",
     "text": [
      "[0.96862313 0.9686233  0.96861853 0.96862561 0.96861851] 0.9686218143568217\n"
     ]
    }
   ],
   "source": [
    "scores = cross_val_score(lr, X, y, scoring='f1_weighted')\n",
    "print(scores, scores.mean())"
   ]
  },
  {
   "cell_type": "code",
   "execution_count": null,
   "metadata": {
    "colab": {
     "base_uri": "https://localhost:8080/",
     "height": 51
    },
    "id": "ggPym7QIcXkS",
    "outputId": "955da1b9-f1ae-411f-c04d-8b57ccc1d9d3"
   },
   "outputs": [
    {
     "data": {
      "application/vnd.google.colaboratory.intrinsic+json": {
       "type": "string"
      },
      "text/plain": [
       "'              precision    recall  f1-score   support\\n\\n           0       0.16      0.00      0.00      4401\\n           1       0.98      1.00      0.99    205314\\n\\n    accuracy                           0.98    209715\\n   macro avg       0.57      0.50      0.50    209715\\nweighted avg       0.96      0.98      0.97    209715\\n'"
      ]
     },
     "execution_count": 295,
     "metadata": {
      "tags": []
     },
     "output_type": "execute_result"
    }
   ],
   "source": [
    "classification_report(y_test, lr_preds)"
   ]
  },
  {
   "cell_type": "code",
   "execution_count": null,
   "metadata": {
    "id": "UllqZW9xadCN"
   },
   "outputs": [],
   "source": [
    "rfc = RandomForestClassifier(max_depth=7, random_state=1234)"
   ]
  },
  {
   "cell_type": "code",
   "execution_count": null,
   "metadata": {
    "colab": {
     "base_uri": "https://localhost:8080/"
    },
    "id": "FoIhguwcdNPa",
    "outputId": "57cc7b3c-ffcd-4b6a-e325-00c3611003d9"
   },
   "outputs": [
    {
     "data": {
      "text/plain": [
       "RandomForestClassifier(bootstrap=True, ccp_alpha=0.0, class_weight=None,\n",
       "                       criterion='gini', max_depth=7, max_features='auto',\n",
       "                       max_leaf_nodes=None, max_samples=None,\n",
       "                       min_impurity_decrease=0.0, min_impurity_split=None,\n",
       "                       min_samples_leaf=1, min_samples_split=2,\n",
       "                       min_weight_fraction_leaf=0.0, n_estimators=100,\n",
       "                       n_jobs=None, oob_score=False, random_state=1234,\n",
       "                       verbose=0, warm_start=False)"
      ]
     },
     "execution_count": 313,
     "metadata": {
      "tags": []
     },
     "output_type": "execute_result"
    }
   ],
   "source": [
    "rfc.fit(X_train, y_train)"
   ]
  },
  {
   "cell_type": "code",
   "execution_count": null,
   "metadata": {
    "id": "uiBXpmhadPQC"
   },
   "outputs": [],
   "source": [
    "rfc_preds = rfc.predict(X_test)"
   ]
  },
  {
   "cell_type": "code",
   "execution_count": null,
   "metadata": {
    "colab": {
     "base_uri": "https://localhost:8080/"
    },
    "id": "GjSuTI2hdTbb",
    "outputId": "21c858fe-17cf-4807-b87e-7e15b3d2ccdd"
   },
   "outputs": [
    {
     "name": "stdout",
     "output_type": "stream",
     "text": [
      "0.9790334501585485\n"
     ]
    }
   ],
   "source": [
    "score = f1_score(y_test, rfc_preds, average='micro')\n",
    "print(score)"
   ]
  },
  {
   "cell_type": "code",
   "execution_count": null,
   "metadata": {
    "id": "VeMyNITydp7I"
   },
   "outputs": [],
   "source": [
    "final_preds = rfc.predict(test)"
   ]
  },
  {
   "cell_type": "code",
   "execution_count": null,
   "metadata": {
    "colab": {
     "base_uri": "https://localhost:8080/"
    },
    "id": "A1kH3p8efHNE",
    "outputId": "7d2cbc03-f0f9-4f4d-8385-228adc6dca8b"
   },
   "outputs": [
    {
     "data": {
      "text/plain": [
       "(459694,)"
      ]
     },
     "execution_count": 327,
     "metadata": {
      "tags": []
     },
     "output_type": "execute_result"
    }
   ],
   "source": [
    "final_preds.shape"
   ]
  },
  {
   "cell_type": "code",
   "execution_count": null,
   "metadata": {
    "colab": {
     "base_uri": "https://localhost:8080/"
    },
    "id": "nVFBaUkJfrIG",
    "outputId": "7eb34411-9d91-4997-e6a9-7bf2c90b510d"
   },
   "outputs": [
    {
     "data": {
      "text/plain": [
       "0.9999651942379061"
      ]
     },
     "execution_count": 324,
     "metadata": {
      "tags": []
     },
     "output_type": "execute_result"
    }
   ],
   "source": [
    "final_preds.sum() / len(final_preds)"
   ]
  },
  {
   "cell_type": "code",
   "execution_count": null,
   "metadata": {
    "id": "v9LOCkZBfRKm"
   },
   "outputs": [],
   "source": [
    "sub_preds = np.where(final_preds == 1, 'Yes', 'No')"
   ]
  },
  {
   "cell_type": "code",
   "execution_count": null,
   "metadata": {
    "colab": {
     "base_uri": "https://localhost:8080/"
    },
    "id": "CHgndPNofxhv",
    "outputId": "68bb5ff9-606f-4bba-ff89-6a58bfdc3292"
   },
   "outputs": [
    {
     "data": {
      "text/plain": [
       "array(['Yes', 'Yes', 'Yes', ..., 'Yes', 'Yes', 'Yes'], dtype='<U3')"
      ]
     },
     "execution_count": 330,
     "metadata": {
      "tags": []
     },
     "output_type": "execute_result"
    }
   ],
   "source": [
    "sub_preds"
   ]
  },
  {
   "cell_type": "code",
   "execution_count": null,
   "metadata": {
    "colab": {
     "base_uri": "https://localhost:8080/",
     "height": 391
    },
    "id": "Ju7E3g5EgcLe",
    "outputId": "4d4400a1-de92-4103-b618-8fc78a8c9010"
   },
   "outputs": [
    {
     "data": {
      "text/html": [
       "<div>\n",
       "<style scoped>\n",
       "    .dataframe tbody tr th:only-of-type {\n",
       "        vertical-align: middle;\n",
       "    }\n",
       "\n",
       "    .dataframe tbody tr th {\n",
       "        vertical-align: top;\n",
       "    }\n",
       "\n",
       "    .dataframe thead th {\n",
       "        text-align: right;\n",
       "    }\n",
       "</style>\n",
       "<table border=\"1\" class=\"dataframe\">\n",
       "  <thead>\n",
       "    <tr style=\"text-align: right;\">\n",
       "      <th></th>\n",
       "      <th>Complaint ID</th>\n",
       "      <th>Timely response?</th>\n",
       "    </tr>\n",
       "  </thead>\n",
       "  <tbody>\n",
       "    <tr>\n",
       "      <th>0</th>\n",
       "      <td>3839774</td>\n",
       "      <td>Yes</td>\n",
       "    </tr>\n",
       "    <tr>\n",
       "      <th>1</th>\n",
       "      <td>2139831</td>\n",
       "      <td>Yes</td>\n",
       "    </tr>\n",
       "    <tr>\n",
       "      <th>2</th>\n",
       "      <td>4084614</td>\n",
       "      <td>Yes</td>\n",
       "    </tr>\n",
       "    <tr>\n",
       "      <th>3</th>\n",
       "      <td>3461505</td>\n",
       "      <td>Yes</td>\n",
       "    </tr>\n",
       "    <tr>\n",
       "      <th>4</th>\n",
       "      <td>2854433</td>\n",
       "      <td>Yes</td>\n",
       "    </tr>\n",
       "    <tr>\n",
       "      <th>...</th>\n",
       "      <td>...</td>\n",
       "      <td>...</td>\n",
       "    </tr>\n",
       "    <tr>\n",
       "      <th>459689</th>\n",
       "      <td>342950</td>\n",
       "      <td>Yes</td>\n",
       "    </tr>\n",
       "    <tr>\n",
       "      <th>459690</th>\n",
       "      <td>2599961</td>\n",
       "      <td>Yes</td>\n",
       "    </tr>\n",
       "    <tr>\n",
       "      <th>459691</th>\n",
       "      <td>3824572</td>\n",
       "      <td>Yes</td>\n",
       "    </tr>\n",
       "    <tr>\n",
       "      <th>459692</th>\n",
       "      <td>1418953</td>\n",
       "      <td>Yes</td>\n",
       "    </tr>\n",
       "    <tr>\n",
       "      <th>459693</th>\n",
       "      <td>3532501</td>\n",
       "      <td>Yes</td>\n",
       "    </tr>\n",
       "  </tbody>\n",
       "</table>\n",
       "<p>459694 rows × 2 columns</p>\n",
       "</div>"
      ],
      "text/plain": [
       "        Complaint ID Timely response?\n",
       "0            3839774              Yes\n",
       "1            2139831              Yes\n",
       "2            4084614              Yes\n",
       "3            3461505              Yes\n",
       "4            2854433              Yes\n",
       "...              ...              ...\n",
       "459689        342950              Yes\n",
       "459690       2599961              Yes\n",
       "459691       3824572              Yes\n",
       "459692       1418953              Yes\n",
       "459693       3532501              Yes\n",
       "\n",
       "[459694 rows x 2 columns]"
      ]
     },
     "execution_count": 334,
     "metadata": {
      "tags": []
     },
     "output_type": "execute_result"
    }
   ],
   "source": [
    "sub = pd.DataFrame(\n",
    "    {'Complaint ID': raw_test['Complaint_ID'], 'Timely response?': sub_preds}\n",
    ")\n",
    "sub"
   ]
  },
  {
   "cell_type": "code",
   "execution_count": null,
   "metadata": {
    "id": "EPj4FxAigvQ1"
   },
   "outputs": [],
   "source": [
    "sub.to_csv('rfc_2.csv', index=False)"
   ]
  },
  {
   "cell_type": "code",
   "execution_count": null,
   "metadata": {
    "id": "Ce_Awxpmg_KR"
   },
   "outputs": [],
   "source": [
    "gbc = GradientBoostingClassifier(learning_rate=0.05, n_estimators=250, max_depth=5)"
   ]
  },
  {
   "cell_type": "code",
   "execution_count": null,
   "metadata": {
    "colab": {
     "base_uri": "https://localhost:8080/"
    },
    "id": "T7IN4HIgnrwf",
    "outputId": "3b323aa4-b8de-40c9-f77a-d7fedcdff22f"
   },
   "outputs": [
    {
     "data": {
      "text/plain": [
       "GradientBoostingClassifier(ccp_alpha=0.0, criterion='friedman_mse', init=None,\n",
       "                           learning_rate=0.05, loss='deviance', max_depth=5,\n",
       "                           max_features=None, max_leaf_nodes=None,\n",
       "                           min_impurity_decrease=0.0, min_impurity_split=None,\n",
       "                           min_samples_leaf=1, min_samples_split=2,\n",
       "                           min_weight_fraction_leaf=0.0, n_estimators=250,\n",
       "                           n_iter_no_change=None, presort='deprecated',\n",
       "                           random_state=None, subsample=1.0, tol=0.0001,\n",
       "                           validation_fraction=0.1, verbose=0,\n",
       "                           warm_start=False)"
      ]
     },
     "execution_count": 338,
     "metadata": {
      "tags": []
     },
     "output_type": "execute_result"
    }
   ],
   "source": [
    "gbc.fit(X_train, y_train)"
   ]
  },
  {
   "cell_type": "code",
   "execution_count": null,
   "metadata": {
    "id": "wzQv-VmonueI"
   },
   "outputs": [],
   "source": [
    "gbc_preds = gbc.predict(X_test)"
   ]
  },
  {
   "cell_type": "code",
   "execution_count": null,
   "metadata": {
    "colab": {
     "base_uri": "https://localhost:8080/",
     "height": 175
    },
    "id": "rgU-u1O5nx_B",
    "outputId": "4d58a0d5-ba0a-49bd-f25c-b8a056b475fd"
   },
   "outputs": [
    {
     "ename": "NameError",
     "evalue": "ignored",
     "output_type": "error",
     "traceback": [
      "\u001b[0;31m---------------------------------------------------------------------------\u001b[0m",
      "\u001b[0;31mNameError\u001b[0m                                 Traceback (most recent call last)",
      "\u001b[0;32m<ipython-input-10-ae200a3d44d3>\u001b[0m in \u001b[0;36m<module>\u001b[0;34m()\u001b[0m\n\u001b[0;32m----> 1\u001b[0;31m \u001b[0mscore\u001b[0m \u001b[0;34m=\u001b[0m \u001b[0mf1_score\u001b[0m\u001b[0;34m(\u001b[0m\u001b[0my_test\u001b[0m\u001b[0;34m,\u001b[0m \u001b[0mgbc_preds\u001b[0m\u001b[0;34m,\u001b[0m \u001b[0maverage\u001b[0m\u001b[0;34m=\u001b[0m\u001b[0;34m'binary'\u001b[0m\u001b[0;34m)\u001b[0m\u001b[0;34m\u001b[0m\u001b[0;34m\u001b[0m\u001b[0m\n\u001b[0m\u001b[1;32m      2\u001b[0m \u001b[0mscore\u001b[0m\u001b[0;34m\u001b[0m\u001b[0;34m\u001b[0m\u001b[0m\n",
      "\u001b[0;31mNameError\u001b[0m: name 'y_test' is not defined"
     ]
    }
   ],
   "source": [
    "score = f1_score(y_test, gbc_preds, average='binary')\n",
    "score"
   ]
  },
  {
   "cell_type": "code",
   "execution_count": null,
   "metadata": {
    "colab": {
     "base_uri": "https://localhost:8080/",
     "height": 423
    },
    "id": "lOZ_wWDCpTRI",
    "outputId": "391deafe-7466-4e76-852a-a38a6ba33719"
   },
   "outputs": [
    {
     "name": "stdout",
     "output_type": "stream",
     "text": [
      "(459694,)\n",
      "0.9980356498018247\n"
     ]
    },
    {
     "data": {
      "text/html": [
       "<div>\n",
       "<style scoped>\n",
       "    .dataframe tbody tr th:only-of-type {\n",
       "        vertical-align: middle;\n",
       "    }\n",
       "\n",
       "    .dataframe tbody tr th {\n",
       "        vertical-align: top;\n",
       "    }\n",
       "\n",
       "    .dataframe thead th {\n",
       "        text-align: right;\n",
       "    }\n",
       "</style>\n",
       "<table border=\"1\" class=\"dataframe\">\n",
       "  <thead>\n",
       "    <tr style=\"text-align: right;\">\n",
       "      <th></th>\n",
       "      <th>Complaint ID</th>\n",
       "      <th>Timely response?</th>\n",
       "    </tr>\n",
       "  </thead>\n",
       "  <tbody>\n",
       "    <tr>\n",
       "      <th>0</th>\n",
       "      <td>3839774</td>\n",
       "      <td>Yes</td>\n",
       "    </tr>\n",
       "    <tr>\n",
       "      <th>1</th>\n",
       "      <td>2139831</td>\n",
       "      <td>Yes</td>\n",
       "    </tr>\n",
       "    <tr>\n",
       "      <th>2</th>\n",
       "      <td>4084614</td>\n",
       "      <td>Yes</td>\n",
       "    </tr>\n",
       "    <tr>\n",
       "      <th>3</th>\n",
       "      <td>3461505</td>\n",
       "      <td>Yes</td>\n",
       "    </tr>\n",
       "    <tr>\n",
       "      <th>4</th>\n",
       "      <td>2854433</td>\n",
       "      <td>Yes</td>\n",
       "    </tr>\n",
       "    <tr>\n",
       "      <th>...</th>\n",
       "      <td>...</td>\n",
       "      <td>...</td>\n",
       "    </tr>\n",
       "    <tr>\n",
       "      <th>459689</th>\n",
       "      <td>342950</td>\n",
       "      <td>Yes</td>\n",
       "    </tr>\n",
       "    <tr>\n",
       "      <th>459690</th>\n",
       "      <td>2599961</td>\n",
       "      <td>Yes</td>\n",
       "    </tr>\n",
       "    <tr>\n",
       "      <th>459691</th>\n",
       "      <td>3824572</td>\n",
       "      <td>Yes</td>\n",
       "    </tr>\n",
       "    <tr>\n",
       "      <th>459692</th>\n",
       "      <td>1418953</td>\n",
       "      <td>Yes</td>\n",
       "    </tr>\n",
       "    <tr>\n",
       "      <th>459693</th>\n",
       "      <td>3532501</td>\n",
       "      <td>Yes</td>\n",
       "    </tr>\n",
       "  </tbody>\n",
       "</table>\n",
       "<p>459694 rows × 2 columns</p>\n",
       "</div>"
      ],
      "text/plain": [
       "        Complaint ID Timely response?\n",
       "0            3839774              Yes\n",
       "1            2139831              Yes\n",
       "2            4084614              Yes\n",
       "3            3461505              Yes\n",
       "4            2854433              Yes\n",
       "...              ...              ...\n",
       "459689        342950              Yes\n",
       "459690       2599961              Yes\n",
       "459691       3824572              Yes\n",
       "459692       1418953              Yes\n",
       "459693       3532501              Yes\n",
       "\n",
       "[459694 rows x 2 columns]"
      ]
     },
     "execution_count": 343,
     "metadata": {
      "tags": []
     },
     "output_type": "execute_result"
    }
   ],
   "source": [
    "final_preds_gbc = gbc.predict(test)\n",
    "print(final_preds_gbc.shape)\n",
    "print(final_preds_gbc.sum() / len(final_preds_gbc))\n",
    "sub_preds_gbc = np.where(final_preds_gbc == 1, 'Yes', 'No')\n",
    "sub_gbc = pd.DataFrame(\n",
    "    {'Complaint ID': raw_test['Complaint_ID'], 'Timely response?': sub_preds_gbc}\n",
    ")\n",
    "sub_gbc"
   ]
  },
  {
   "cell_type": "code",
   "execution_count": null,
   "metadata": {
    "id": "eUaS6oNtp-gc"
   },
   "outputs": [],
   "source": [
    "sub_gbc.to_csv('gbc_1.csv', index=False)"
   ]
  },
  {
   "cell_type": "code",
   "execution_count": null,
   "metadata": {
    "id": "peZKqE0jqSvc"
   },
   "outputs": [],
   "source": []
  }
 ],
 "metadata": {
  "colab": {
   "collapsed_sections": [],
   "name": "enigma_datathon_2.ipynb",
   "provenance": [],
   "toc_visible": true
  },
  "kernelspec": {
   "display_name": "Python 3",
   "language": "python",
   "name": "python3"
  },
  "language_info": {
   "codemirror_mode": {
    "name": "ipython",
    "version": 3
   },
   "file_extension": ".py",
   "mimetype": "text/x-python",
   "name": "python",
   "nbconvert_exporter": "python",
   "pygments_lexer": "ipython3",
   "version": "3.8.8"
  },
  "toc": {
   "base_numbering": 1,
   "nav_menu": {},
   "number_sections": true,
   "sideBar": true,
   "skip_h1_title": false,
   "title_cell": "Table of Contents",
   "title_sidebar": "Contents",
   "toc_cell": false,
   "toc_position": {},
   "toc_section_display": true,
   "toc_window_display": false
  },
  "widgets": {
   "application/vnd.jupyter.widget-state+json": {
    "042c9a88366a45c7926b465ae1038b1d": {
     "model_module": "@jupyter-widgets/controls",
     "model_name": "IntProgressModel",
     "state": {
      "_dom_classes": [],
      "_model_module": "@jupyter-widgets/controls",
      "_model_module_version": "1.5.0",
      "_model_name": "IntProgressModel",
      "_view_count": null,
      "_view_module": "@jupyter-widgets/controls",
      "_view_module_version": "1.5.0",
      "_view_name": "ProgressView",
      "bar_style": "",
      "description": "Processing: ",
      "description_tooltip": null,
      "layout": "IPY_MODEL_c9e11364a6024192b364ac66513a7eab",
      "max": 5,
      "min": 0,
      "orientation": "horizontal",
      "style": "IPY_MODEL_a233c1ec4d1e460ba5d6126ede9fe658",
      "value": 5
     }
    },
    "062fb6d856f54f8391a2b964d312edc9": {
     "model_module": "@jupyter-widgets/controls",
     "model_name": "DescriptionStyleModel",
     "state": {
      "_model_module": "@jupyter-widgets/controls",
      "_model_module_version": "1.5.0",
      "_model_name": "DescriptionStyleModel",
      "_view_count": null,
      "_view_module": "@jupyter-widgets/base",
      "_view_module_version": "1.2.0",
      "_view_name": "StyleView",
      "description_width": ""
     }
    },
    "0d5cf7a8e0c342cf8900e249955ee131": {
     "model_module": "@jupyter-widgets/controls",
     "model_name": "HBoxModel",
     "state": {
      "_dom_classes": [],
      "_model_module": "@jupyter-widgets/controls",
      "_model_module_version": "1.5.0",
      "_model_name": "HBoxModel",
      "_view_count": null,
      "_view_module": "@jupyter-widgets/controls",
      "_view_module_version": "1.5.0",
      "_view_name": "HBoxView",
      "box_style": "",
      "children": [
       "IPY_MODEL_3ecfa903ccf64a048c32d01a8fff0c47",
       "IPY_MODEL_60cddd85a85e4fa0b918f630aff68af9",
       "IPY_MODEL_af8092d052b44edaa13af74523ab2b5c"
      ],
      "layout": "IPY_MODEL_2908b339ae5349afa375933180f0c25f"
     }
    },
    "1141f47d4ba84f888ab1e3303a9cc071": {
     "model_module": "@jupyter-widgets/base",
     "model_name": "LayoutModel",
     "state": {
      "_model_module": "@jupyter-widgets/base",
      "_model_module_version": "1.2.0",
      "_model_name": "LayoutModel",
      "_view_count": null,
      "_view_module": "@jupyter-widgets/base",
      "_view_module_version": "1.2.0",
      "_view_name": "LayoutView",
      "align_content": null,
      "align_items": null,
      "align_self": null,
      "border": null,
      "bottom": null,
      "display": null,
      "flex": null,
      "flex_flow": null,
      "grid_area": null,
      "grid_auto_columns": null,
      "grid_auto_flow": null,
      "grid_auto_rows": null,
      "grid_column": null,
      "grid_gap": null,
      "grid_row": null,
      "grid_template_areas": null,
      "grid_template_columns": null,
      "grid_template_rows": null,
      "height": null,
      "justify_content": null,
      "justify_items": null,
      "left": null,
      "margin": null,
      "max_height": null,
      "max_width": null,
      "min_height": null,
      "min_width": null,
      "object_fit": null,
      "object_position": null,
      "order": null,
      "overflow": null,
      "overflow_x": null,
      "overflow_y": null,
      "padding": null,
      "right": null,
      "top": null,
      "visibility": null,
      "width": null
     }
    },
    "1841b581cc3042fe8090b2218584b6d0": {
     "model_module": "@jupyter-widgets/base",
     "model_name": "LayoutModel",
     "state": {
      "_model_module": "@jupyter-widgets/base",
      "_model_module_version": "1.2.0",
      "_model_name": "LayoutModel",
      "_view_count": null,
      "_view_module": "@jupyter-widgets/base",
      "_view_module_version": "1.2.0",
      "_view_name": "LayoutView",
      "align_content": null,
      "align_items": null,
      "align_self": null,
      "border": null,
      "bottom": null,
      "display": null,
      "flex": null,
      "flex_flow": null,
      "grid_area": null,
      "grid_auto_columns": null,
      "grid_auto_flow": null,
      "grid_auto_rows": null,
      "grid_column": null,
      "grid_gap": null,
      "grid_row": null,
      "grid_template_areas": null,
      "grid_template_columns": null,
      "grid_template_rows": null,
      "height": null,
      "justify_content": null,
      "justify_items": null,
      "left": null,
      "margin": null,
      "max_height": null,
      "max_width": null,
      "min_height": null,
      "min_width": null,
      "object_fit": null,
      "object_position": null,
      "order": null,
      "overflow": null,
      "overflow_x": null,
      "overflow_y": null,
      "padding": null,
      "right": null,
      "top": null,
      "visibility": null,
      "width": null
     }
    },
    "1a92b8aad14f41c58c9e662db416a997": {
     "model_module": "@jupyter-widgets/base",
     "model_name": "LayoutModel",
     "state": {
      "_model_module": "@jupyter-widgets/base",
      "_model_module_version": "1.2.0",
      "_model_name": "LayoutModel",
      "_view_count": null,
      "_view_module": "@jupyter-widgets/base",
      "_view_module_version": "1.2.0",
      "_view_name": "LayoutView",
      "align_content": null,
      "align_items": null,
      "align_self": null,
      "border": null,
      "bottom": null,
      "display": null,
      "flex": null,
      "flex_flow": null,
      "grid_area": null,
      "grid_auto_columns": null,
      "grid_auto_flow": null,
      "grid_auto_rows": null,
      "grid_column": null,
      "grid_gap": null,
      "grid_row": null,
      "grid_template_areas": null,
      "grid_template_columns": null,
      "grid_template_rows": null,
      "height": null,
      "justify_content": null,
      "justify_items": null,
      "left": null,
      "margin": null,
      "max_height": null,
      "max_width": null,
      "min_height": null,
      "min_width": null,
      "object_fit": null,
      "object_position": null,
      "order": null,
      "overflow": null,
      "overflow_x": null,
      "overflow_y": null,
      "padding": null,
      "right": null,
      "top": null,
      "visibility": null,
      "width": null
     }
    },
    "1d0dc4cea7844fa096bec318d80e0844": {
     "model_module": "@jupyter-widgets/base",
     "model_name": "LayoutModel",
     "state": {
      "_model_module": "@jupyter-widgets/base",
      "_model_module_version": "1.2.0",
      "_model_name": "LayoutModel",
      "_view_count": null,
      "_view_module": "@jupyter-widgets/base",
      "_view_module_version": "1.2.0",
      "_view_name": "LayoutView",
      "align_content": null,
      "align_items": null,
      "align_self": null,
      "border": null,
      "bottom": null,
      "display": null,
      "flex": null,
      "flex_flow": null,
      "grid_area": null,
      "grid_auto_columns": null,
      "grid_auto_flow": null,
      "grid_auto_rows": null,
      "grid_column": null,
      "grid_gap": null,
      "grid_row": null,
      "grid_template_areas": null,
      "grid_template_columns": null,
      "grid_template_rows": null,
      "height": null,
      "justify_content": null,
      "justify_items": null,
      "left": null,
      "margin": null,
      "max_height": null,
      "max_width": null,
      "min_height": null,
      "min_width": null,
      "object_fit": null,
      "object_position": null,
      "order": null,
      "overflow": null,
      "overflow_x": null,
      "overflow_y": null,
      "padding": null,
      "right": null,
      "top": null,
      "visibility": null,
      "width": null
     }
    },
    "24cf2834b8f94c6f986d84b670fa06b6": {
     "model_module": "@jupyter-widgets/controls",
     "model_name": "TextModel",
     "state": {
      "_dom_classes": [],
      "_model_module": "@jupyter-widgets/controls",
      "_model_module_version": "1.5.0",
      "_model_name": "TextModel",
      "_view_count": null,
      "_view_module": "@jupyter-widgets/controls",
      "_view_module_version": "1.5.0",
      "_view_name": "TextView",
      "continuous_update": true,
      "description": "",
      "description_tooltip": null,
      "disabled": false,
      "layout": "IPY_MODEL_452a3ba52831402b8aefeb1ad83537b3",
      "placeholder": "​",
      "style": "IPY_MODEL_7944d1d710b2451da38a475535232c9f",
      "value": "Following data types have been inferred automatically, if they are correct press enter to continue or type 'quit' otherwise."
     }
    },
    "2908b339ae5349afa375933180f0c25f": {
     "model_module": "@jupyter-widgets/base",
     "model_name": "LayoutModel",
     "state": {
      "_model_module": "@jupyter-widgets/base",
      "_model_module_version": "1.2.0",
      "_model_name": "LayoutModel",
      "_view_count": null,
      "_view_module": "@jupyter-widgets/base",
      "_view_module_version": "1.2.0",
      "_view_name": "LayoutView",
      "align_content": null,
      "align_items": null,
      "align_self": null,
      "border": null,
      "bottom": null,
      "display": "inline-flex",
      "flex": null,
      "flex_flow": "row wrap",
      "grid_area": null,
      "grid_auto_columns": null,
      "grid_auto_flow": null,
      "grid_auto_rows": null,
      "grid_column": null,
      "grid_gap": null,
      "grid_row": null,
      "grid_template_areas": null,
      "grid_template_columns": null,
      "grid_template_rows": null,
      "height": null,
      "justify_content": null,
      "justify_items": null,
      "left": null,
      "margin": null,
      "max_height": null,
      "max_width": null,
      "min_height": null,
      "min_width": null,
      "object_fit": null,
      "object_position": null,
      "order": null,
      "overflow": null,
      "overflow_x": null,
      "overflow_y": null,
      "padding": null,
      "right": null,
      "top": null,
      "visibility": null,
      "width": "100%"
     }
    },
    "2d70c0ca014c490fa8192ca250a62352": {
     "model_module": "@jupyter-widgets/controls",
     "model_name": "HTMLModel",
     "state": {
      "_dom_classes": [],
      "_model_module": "@jupyter-widgets/controls",
      "_model_module_version": "1.5.0",
      "_model_name": "HTMLModel",
      "_view_count": null,
      "_view_module": "@jupyter-widgets/controls",
      "_view_module_version": "1.5.0",
      "_view_name": "HTMLView",
      "description": "",
      "description_tooltip": null,
      "layout": "IPY_MODEL_2e1fdb7079264a24bc107b03c089182a",
      "placeholder": "​",
      "style": "IPY_MODEL_b132b0d6b62542abbe35797d6f2067c0",
      "value": "100%"
     }
    },
    "2e1fdb7079264a24bc107b03c089182a": {
     "model_module": "@jupyter-widgets/base",
     "model_name": "LayoutModel",
     "state": {
      "_model_module": "@jupyter-widgets/base",
      "_model_module_version": "1.2.0",
      "_model_name": "LayoutModel",
      "_view_count": null,
      "_view_module": "@jupyter-widgets/base",
      "_view_module_version": "1.2.0",
      "_view_name": "LayoutView",
      "align_content": null,
      "align_items": null,
      "align_self": null,
      "border": null,
      "bottom": null,
      "display": null,
      "flex": null,
      "flex_flow": null,
      "grid_area": null,
      "grid_auto_columns": null,
      "grid_auto_flow": null,
      "grid_auto_rows": null,
      "grid_column": null,
      "grid_gap": null,
      "grid_row": null,
      "grid_template_areas": null,
      "grid_template_columns": null,
      "grid_template_rows": null,
      "height": null,
      "justify_content": null,
      "justify_items": null,
      "left": null,
      "margin": null,
      "max_height": null,
      "max_width": null,
      "min_height": null,
      "min_width": null,
      "object_fit": null,
      "object_position": null,
      "order": null,
      "overflow": null,
      "overflow_x": null,
      "overflow_y": null,
      "padding": null,
      "right": null,
      "top": null,
      "visibility": null,
      "width": null
     }
    },
    "2f041f6a36e44d9faa6b72e6331afe0c": {
     "model_module": "@jupyter-widgets/controls",
     "model_name": "VBoxModel",
     "state": {
      "_dom_classes": [
       "widget-interact"
      ],
      "_model_module": "@jupyter-widgets/controls",
      "_model_module_version": "1.5.0",
      "_model_name": "VBoxModel",
      "_view_count": null,
      "_view_module": "@jupyter-widgets/controls",
      "_view_module_version": "1.5.0",
      "_view_name": "VBoxView",
      "box_style": "",
      "children": [
       "IPY_MODEL_7ee1e353fa194675866950deddceee03",
       "IPY_MODEL_cc463dea92dd437897f014421b208cf1"
      ],
      "layout": "IPY_MODEL_d1b904286e7b4bcb9f273aef4f2842be"
     }
    },
    "359c4a839e9b4987a13ce7ecfe0aa631": {
     "model_module": "@jupyter-widgets/controls",
     "model_name": "IntProgressModel",
     "state": {
      "_dom_classes": [],
      "_model_module": "@jupyter-widgets/controls",
      "_model_module_version": "1.5.0",
      "_model_name": "IntProgressModel",
      "_view_count": null,
      "_view_module": "@jupyter-widgets/controls",
      "_view_module_version": "1.5.0",
      "_view_name": "ProgressView",
      "bar_style": "",
      "description": "Processing: ",
      "description_tooltip": null,
      "layout": "IPY_MODEL_9825612cdb624a29b9242bc33be14756",
      "max": 6,
      "min": 0,
      "orientation": "horizontal",
      "style": "IPY_MODEL_efd1b9173ce7416487b62de10537eb2e",
      "value": 6
     }
    },
    "3ecfa903ccf64a048c32d01a8fff0c47": {
     "model_module": "@jupyter-widgets/controls",
     "model_name": "HTMLModel",
     "state": {
      "_dom_classes": [],
      "_model_module": "@jupyter-widgets/controls",
      "_model_module_version": "1.5.0",
      "_model_name": "HTMLModel",
      "_view_count": null,
      "_view_module": "@jupyter-widgets/controls",
      "_view_module_version": "1.5.0",
      "_view_name": "HTMLView",
      "description": "",
      "description_tooltip": null,
      "layout": "IPY_MODEL_4d0c1b5b03674d3a8023941a15843d70",
      "placeholder": "​",
      "style": "IPY_MODEL_062fb6d856f54f8391a2b964d312edc9",
      "value": "Done! Use &#x27;show&#x27; commands to display/save.   "
     }
    },
    "452a3ba52831402b8aefeb1ad83537b3": {
     "model_module": "@jupyter-widgets/base",
     "model_name": "LayoutModel",
     "state": {
      "_model_module": "@jupyter-widgets/base",
      "_model_module_version": "1.2.0",
      "_model_name": "LayoutModel",
      "_view_count": null,
      "_view_module": "@jupyter-widgets/base",
      "_view_module_version": "1.2.0",
      "_view_name": "LayoutView",
      "align_content": null,
      "align_items": null,
      "align_self": null,
      "border": null,
      "bottom": null,
      "display": null,
      "flex": null,
      "flex_flow": null,
      "grid_area": null,
      "grid_auto_columns": null,
      "grid_auto_flow": null,
      "grid_auto_rows": null,
      "grid_column": null,
      "grid_gap": null,
      "grid_row": null,
      "grid_template_areas": null,
      "grid_template_columns": null,
      "grid_template_rows": null,
      "height": null,
      "justify_content": null,
      "justify_items": null,
      "left": null,
      "margin": null,
      "max_height": null,
      "max_width": null,
      "min_height": null,
      "min_width": null,
      "object_fit": null,
      "object_position": null,
      "order": null,
      "overflow": null,
      "overflow_x": null,
      "overflow_y": null,
      "padding": null,
      "right": null,
      "top": null,
      "visibility": null,
      "width": "100%"
     }
    },
    "463939ad2e084b31a65d8a09c9c0f521": {
     "model_module": "@jupyter-widgets/controls",
     "model_name": "ProgressStyleModel",
     "state": {
      "_model_module": "@jupyter-widgets/controls",
      "_model_module_version": "1.5.0",
      "_model_name": "ProgressStyleModel",
      "_view_count": null,
      "_view_module": "@jupyter-widgets/base",
      "_view_module_version": "1.2.0",
      "_view_name": "StyleView",
      "bar_color": null,
      "description_width": ""
     }
    },
    "4888f4903bd94540a78b4831b6b2792a": {
     "model_module": "@jupyter-widgets/controls",
     "model_name": "ProgressStyleModel",
     "state": {
      "_model_module": "@jupyter-widgets/controls",
      "_model_module_version": "1.5.0",
      "_model_name": "ProgressStyleModel",
      "_view_count": null,
      "_view_module": "@jupyter-widgets/base",
      "_view_module_version": "1.2.0",
      "_view_name": "StyleView",
      "bar_color": null,
      "description_width": ""
     }
    },
    "4d0c1b5b03674d3a8023941a15843d70": {
     "model_module": "@jupyter-widgets/base",
     "model_name": "LayoutModel",
     "state": {
      "_model_module": "@jupyter-widgets/base",
      "_model_module_version": "1.2.0",
      "_model_name": "LayoutModel",
      "_view_count": null,
      "_view_module": "@jupyter-widgets/base",
      "_view_module_version": "1.2.0",
      "_view_name": "LayoutView",
      "align_content": null,
      "align_items": null,
      "align_self": null,
      "border": null,
      "bottom": null,
      "display": null,
      "flex": null,
      "flex_flow": null,
      "grid_area": null,
      "grid_auto_columns": null,
      "grid_auto_flow": null,
      "grid_auto_rows": null,
      "grid_column": null,
      "grid_gap": null,
      "grid_row": null,
      "grid_template_areas": null,
      "grid_template_columns": null,
      "grid_template_rows": null,
      "height": null,
      "justify_content": null,
      "justify_items": null,
      "left": null,
      "margin": null,
      "max_height": null,
      "max_width": null,
      "min_height": null,
      "min_width": null,
      "object_fit": null,
      "object_position": null,
      "order": null,
      "overflow": null,
      "overflow_x": null,
      "overflow_y": null,
      "padding": null,
      "right": null,
      "top": null,
      "visibility": null,
      "width": null
     }
    },
    "4e838b2892754ebaa34fceb7a6a59f8d": {
     "model_module": "@jupyter-widgets/base",
     "model_name": "LayoutModel",
     "state": {
      "_model_module": "@jupyter-widgets/base",
      "_model_module_version": "1.2.0",
      "_model_name": "LayoutModel",
      "_view_count": null,
      "_view_module": "@jupyter-widgets/base",
      "_view_module_version": "1.2.0",
      "_view_name": "LayoutView",
      "align_content": null,
      "align_items": null,
      "align_self": null,
      "border": null,
      "bottom": null,
      "display": null,
      "flex": "2",
      "flex_flow": null,
      "grid_area": null,
      "grid_auto_columns": null,
      "grid_auto_flow": null,
      "grid_auto_rows": null,
      "grid_column": null,
      "grid_gap": null,
      "grid_row": null,
      "grid_template_areas": null,
      "grid_template_columns": null,
      "grid_template_rows": null,
      "height": null,
      "justify_content": null,
      "justify_items": null,
      "left": null,
      "margin": null,
      "max_height": null,
      "max_width": null,
      "min_height": null,
      "min_width": null,
      "object_fit": null,
      "object_position": null,
      "order": null,
      "overflow": null,
      "overflow_x": null,
      "overflow_y": null,
      "padding": null,
      "right": null,
      "top": null,
      "visibility": null,
      "width": null
     }
    },
    "51788198c28f4552ab7fcf9c862b442d": {
     "model_module": "@jupyter-widgets/controls",
     "model_name": "ProgressStyleModel",
     "state": {
      "_model_module": "@jupyter-widgets/controls",
      "_model_module_version": "1.5.0",
      "_model_name": "ProgressStyleModel",
      "_view_count": null,
      "_view_module": "@jupyter-widgets/base",
      "_view_module_version": "1.2.0",
      "_view_name": "StyleView",
      "bar_color": null,
      "description_width": ""
     }
    },
    "51de9f58f883479fad3016d33ade1246": {
     "model_module": "@jupyter-widgets/base",
     "model_name": "LayoutModel",
     "state": {
      "_model_module": "@jupyter-widgets/base",
      "_model_module_version": "1.2.0",
      "_model_name": "LayoutModel",
      "_view_count": null,
      "_view_module": "@jupyter-widgets/base",
      "_view_module_version": "1.2.0",
      "_view_name": "LayoutView",
      "align_content": null,
      "align_items": null,
      "align_self": null,
      "border": null,
      "bottom": null,
      "display": null,
      "flex": null,
      "flex_flow": null,
      "grid_area": null,
      "grid_auto_columns": null,
      "grid_auto_flow": null,
      "grid_auto_rows": null,
      "grid_column": null,
      "grid_gap": null,
      "grid_row": null,
      "grid_template_areas": null,
      "grid_template_columns": null,
      "grid_template_rows": null,
      "height": null,
      "justify_content": null,
      "justify_items": null,
      "left": null,
      "margin": null,
      "max_height": null,
      "max_width": null,
      "min_height": null,
      "min_width": null,
      "object_fit": null,
      "object_position": null,
      "order": null,
      "overflow": null,
      "overflow_x": null,
      "overflow_y": null,
      "padding": null,
      "right": null,
      "top": null,
      "visibility": null,
      "width": null
     }
    },
    "53bec157343141b9aa0b35ac7559b250": {
     "model_module": "@jupyter-widgets/controls",
     "model_name": "DescriptionStyleModel",
     "state": {
      "_model_module": "@jupyter-widgets/controls",
      "_model_module_version": "1.5.0",
      "_model_name": "DescriptionStyleModel",
      "_view_count": null,
      "_view_module": "@jupyter-widgets/base",
      "_view_module_version": "1.2.0",
      "_view_name": "StyleView",
      "description_width": ""
     }
    },
    "60cddd85a85e4fa0b918f630aff68af9": {
     "model_module": "@jupyter-widgets/controls",
     "model_name": "FloatProgressModel",
     "state": {
      "_dom_classes": [],
      "_model_module": "@jupyter-widgets/controls",
      "_model_module_version": "1.5.0",
      "_model_name": "FloatProgressModel",
      "_view_count": null,
      "_view_module": "@jupyter-widgets/controls",
      "_view_module_version": "1.5.0",
      "_view_name": "ProgressView",
      "bar_style": "success",
      "description": "",
      "description_tooltip": null,
      "layout": "IPY_MODEL_4e838b2892754ebaa34fceb7a6a59f8d",
      "max": 1,
      "min": 0,
      "orientation": "horizontal",
      "style": "IPY_MODEL_f29bd57ab1e04d7f8927b33eaaf691ab",
      "value": 1
     }
    },
    "766c2c1ea6ca4e1684891468003e280f": {
     "model_module": "@jupyter-widgets/controls",
     "model_name": "FloatProgressModel",
     "state": {
      "_dom_classes": [],
      "_model_module": "@jupyter-widgets/controls",
      "_model_module_version": "1.5.0",
      "_model_name": "FloatProgressModel",
      "_view_count": null,
      "_view_module": "@jupyter-widgets/controls",
      "_view_module_version": "1.5.0",
      "_view_name": "ProgressView",
      "bar_style": "success",
      "description": "",
      "description_tooltip": null,
      "layout": "IPY_MODEL_1141f47d4ba84f888ab1e3303a9cc071",
      "max": 8,
      "min": 0,
      "orientation": "horizontal",
      "style": "IPY_MODEL_4888f4903bd94540a78b4831b6b2792a",
      "value": 8
     }
    },
    "7747192ee23a44a3b1f8b59f5fc34479": {
     "model_module": "@jupyter-widgets/controls",
     "model_name": "DescriptionStyleModel",
     "state": {
      "_model_module": "@jupyter-widgets/controls",
      "_model_module_version": "1.5.0",
      "_model_name": "DescriptionStyleModel",
      "_view_count": null,
      "_view_module": "@jupyter-widgets/base",
      "_view_module_version": "1.2.0",
      "_view_name": "StyleView",
      "description_width": ""
     }
    },
    "7944d1d710b2451da38a475535232c9f": {
     "model_module": "@jupyter-widgets/controls",
     "model_name": "DescriptionStyleModel",
     "state": {
      "_model_module": "@jupyter-widgets/controls",
      "_model_module_version": "1.5.0",
      "_model_name": "DescriptionStyleModel",
      "_view_count": null,
      "_view_module": "@jupyter-widgets/base",
      "_view_module_version": "1.2.0",
      "_view_name": "StyleView",
      "description_width": ""
     }
    },
    "7ee1e353fa194675866950deddceee03": {
     "model_module": "@jupyter-widgets/controls",
     "model_name": "ToggleButtonsModel",
     "state": {
      "_dom_classes": [],
      "_model_module": "@jupyter-widgets/controls",
      "_model_module_version": "1.5.0",
      "_model_name": "ToggleButtonsModel",
      "_options_labels": [
       "Hyperparameters",
       "AUC",
       "Confusion Matrix",
       "Threshold",
       "Precision Recall",
       "Prediction Error",
       "Class Report",
       "Feature Selection",
       "Learning Curve",
       "Manifold Learning",
       "Calibration Curve",
       "Validation Curve",
       "Dimensions",
       "Feature Importance",
       "Feature Importance (All)",
       "Decision Boundary",
       "Lift Chart",
       "Gain Chart",
       "Decision Tree"
      ],
      "_view_count": null,
      "_view_module": "@jupyter-widgets/controls",
      "_view_module_version": "1.5.0",
      "_view_name": "ToggleButtonsView",
      "button_style": "",
      "description": "Plot Type:",
      "description_tooltip": null,
      "disabled": false,
      "icons": [
       ""
      ],
      "index": 2,
      "layout": "IPY_MODEL_af2cf20835cb4d0da4b3dbbeb6da930c",
      "style": "IPY_MODEL_a93a9bd537824ef8b4b1ae95a8732738",
      "tooltips": []
     }
    },
    "9825612cdb624a29b9242bc33be14756": {
     "model_module": "@jupyter-widgets/base",
     "model_name": "LayoutModel",
     "state": {
      "_model_module": "@jupyter-widgets/base",
      "_model_module_version": "1.2.0",
      "_model_name": "LayoutModel",
      "_view_count": null,
      "_view_module": "@jupyter-widgets/base",
      "_view_module_version": "1.2.0",
      "_view_name": "LayoutView",
      "align_content": null,
      "align_items": null,
      "align_self": null,
      "border": null,
      "bottom": null,
      "display": null,
      "flex": null,
      "flex_flow": null,
      "grid_area": null,
      "grid_auto_columns": null,
      "grid_auto_flow": null,
      "grid_auto_rows": null,
      "grid_column": null,
      "grid_gap": null,
      "grid_row": null,
      "grid_template_areas": null,
      "grid_template_columns": null,
      "grid_template_rows": null,
      "height": null,
      "justify_content": null,
      "justify_items": null,
      "left": null,
      "margin": null,
      "max_height": null,
      "max_width": null,
      "min_height": null,
      "min_width": null,
      "object_fit": null,
      "object_position": null,
      "order": null,
      "overflow": null,
      "overflow_x": null,
      "overflow_y": null,
      "padding": null,
      "right": null,
      "top": null,
      "visibility": null,
      "width": null
     }
    },
    "a233c1ec4d1e460ba5d6126ede9fe658": {
     "model_module": "@jupyter-widgets/controls",
     "model_name": "ProgressStyleModel",
     "state": {
      "_model_module": "@jupyter-widgets/controls",
      "_model_module_version": "1.5.0",
      "_model_name": "ProgressStyleModel",
      "_view_count": null,
      "_view_module": "@jupyter-widgets/base",
      "_view_module_version": "1.2.0",
      "_view_name": "StyleView",
      "bar_color": null,
      "description_width": ""
     }
    },
    "a71480dfc2c14336a254e011a6c14562": {
     "model_module": "@jupyter-widgets/controls",
     "model_name": "IntProgressModel",
     "state": {
      "_dom_classes": [],
      "_model_module": "@jupyter-widgets/controls",
      "_model_module_version": "1.5.0",
      "_model_name": "IntProgressModel",
      "_view_count": null,
      "_view_module": "@jupyter-widgets/controls",
      "_view_module_version": "1.5.0",
      "_view_name": "ProgressView",
      "bar_style": "",
      "description": "Processing: ",
      "description_tooltip": null,
      "layout": "IPY_MODEL_1a92b8aad14f41c58c9e662db416a997",
      "max": 69,
      "min": 0,
      "orientation": "horizontal",
      "style": "IPY_MODEL_51788198c28f4552ab7fcf9c862b442d",
      "value": 69
     }
    },
    "a93a9bd537824ef8b4b1ae95a8732738": {
     "model_module": "@jupyter-widgets/controls",
     "model_name": "ToggleButtonsStyleModel",
     "state": {
      "_model_module": "@jupyter-widgets/controls",
      "_model_module_version": "1.5.0",
      "_model_name": "ToggleButtonsStyleModel",
      "_view_count": null,
      "_view_module": "@jupyter-widgets/base",
      "_view_module_version": "1.2.0",
      "_view_name": "StyleView",
      "button_width": "",
      "description_width": "",
      "font_weight": ""
     }
    },
    "af2cf20835cb4d0da4b3dbbeb6da930c": {
     "model_module": "@jupyter-widgets/base",
     "model_name": "LayoutModel",
     "state": {
      "_model_module": "@jupyter-widgets/base",
      "_model_module_version": "1.2.0",
      "_model_name": "LayoutModel",
      "_view_count": null,
      "_view_module": "@jupyter-widgets/base",
      "_view_module_version": "1.2.0",
      "_view_name": "LayoutView",
      "align_content": null,
      "align_items": null,
      "align_self": null,
      "border": null,
      "bottom": null,
      "display": null,
      "flex": null,
      "flex_flow": null,
      "grid_area": null,
      "grid_auto_columns": null,
      "grid_auto_flow": null,
      "grid_auto_rows": null,
      "grid_column": null,
      "grid_gap": null,
      "grid_row": null,
      "grid_template_areas": null,
      "grid_template_columns": null,
      "grid_template_rows": null,
      "height": null,
      "justify_content": null,
      "justify_items": null,
      "left": null,
      "margin": null,
      "max_height": null,
      "max_width": null,
      "min_height": null,
      "min_width": null,
      "object_fit": null,
      "object_position": null,
      "order": null,
      "overflow": null,
      "overflow_x": null,
      "overflow_y": null,
      "padding": null,
      "right": null,
      "top": null,
      "visibility": null,
      "width": null
     }
    },
    "af5237fc724a4f2198241e885fc3bed6": {
     "model_module": "@jupyter-widgets/base",
     "model_name": "LayoutModel",
     "state": {
      "_model_module": "@jupyter-widgets/base",
      "_model_module_version": "1.2.0",
      "_model_name": "LayoutModel",
      "_view_count": null,
      "_view_module": "@jupyter-widgets/base",
      "_view_module_version": "1.2.0",
      "_view_name": "LayoutView",
      "align_content": null,
      "align_items": null,
      "align_self": null,
      "border": null,
      "bottom": null,
      "display": null,
      "flex": null,
      "flex_flow": null,
      "grid_area": null,
      "grid_auto_columns": null,
      "grid_auto_flow": null,
      "grid_auto_rows": null,
      "grid_column": null,
      "grid_gap": null,
      "grid_row": null,
      "grid_template_areas": null,
      "grid_template_columns": null,
      "grid_template_rows": null,
      "height": null,
      "justify_content": null,
      "justify_items": null,
      "left": null,
      "margin": null,
      "max_height": null,
      "max_width": null,
      "min_height": null,
      "min_width": null,
      "object_fit": null,
      "object_position": null,
      "order": null,
      "overflow": null,
      "overflow_x": null,
      "overflow_y": null,
      "padding": null,
      "right": null,
      "top": null,
      "visibility": null,
      "width": null
     }
    },
    "af8092d052b44edaa13af74523ab2b5c": {
     "model_module": "@jupyter-widgets/controls",
     "model_name": "HTMLModel",
     "state": {
      "_dom_classes": [],
      "_model_module": "@jupyter-widgets/controls",
      "_model_module_version": "1.5.0",
      "_model_name": "HTMLModel",
      "_view_count": null,
      "_view_module": "@jupyter-widgets/controls",
      "_view_module_version": "1.5.0",
      "_view_name": "HTMLView",
      "description": "",
      "description_tooltip": null,
      "layout": "IPY_MODEL_af5237fc724a4f2198241e885fc3bed6",
      "placeholder": "​",
      "style": "IPY_MODEL_53bec157343141b9aa0b35ac7559b250",
      "value": " [100%]   00:01 -&gt; (00:00 left)"
     }
    },
    "b132b0d6b62542abbe35797d6f2067c0": {
     "model_module": "@jupyter-widgets/controls",
     "model_name": "DescriptionStyleModel",
     "state": {
      "_model_module": "@jupyter-widgets/controls",
      "_model_module_version": "1.5.0",
      "_model_name": "DescriptionStyleModel",
      "_view_count": null,
      "_view_module": "@jupyter-widgets/base",
      "_view_module_version": "1.2.0",
      "_view_name": "StyleView",
      "description_width": ""
     }
    },
    "c9e11364a6024192b364ac66513a7eab": {
     "model_module": "@jupyter-widgets/base",
     "model_name": "LayoutModel",
     "state": {
      "_model_module": "@jupyter-widgets/base",
      "_model_module_version": "1.2.0",
      "_model_name": "LayoutModel",
      "_view_count": null,
      "_view_module": "@jupyter-widgets/base",
      "_view_module_version": "1.2.0",
      "_view_name": "LayoutView",
      "align_content": null,
      "align_items": null,
      "align_self": null,
      "border": null,
      "bottom": null,
      "display": null,
      "flex": null,
      "flex_flow": null,
      "grid_area": null,
      "grid_auto_columns": null,
      "grid_auto_flow": null,
      "grid_auto_rows": null,
      "grid_column": null,
      "grid_gap": null,
      "grid_row": null,
      "grid_template_areas": null,
      "grid_template_columns": null,
      "grid_template_rows": null,
      "height": null,
      "justify_content": null,
      "justify_items": null,
      "left": null,
      "margin": null,
      "max_height": null,
      "max_width": null,
      "min_height": null,
      "min_width": null,
      "object_fit": null,
      "object_position": null,
      "order": null,
      "overflow": null,
      "overflow_x": null,
      "overflow_y": null,
      "padding": null,
      "right": null,
      "top": null,
      "visibility": null,
      "width": null
     }
    },
    "cc463dea92dd437897f014421b208cf1": {
     "model_module": "@jupyter-widgets/output",
     "model_name": "OutputModel",
     "state": {
      "_dom_classes": [],
      "_model_module": "@jupyter-widgets/output",
      "_model_module_version": "1.0.0",
      "_model_name": "OutputModel",
      "_view_count": null,
      "_view_module": "@jupyter-widgets/output",
      "_view_module_version": "1.0.0",
      "_view_name": "OutputView",
      "layout": "IPY_MODEL_1841b581cc3042fe8090b2218584b6d0",
      "msg_id": "",
      "outputs": [
       {
        "image/png": "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\n",
        "metadata": {
         "tags": []
        },
        "output_type": "display_data",
        "text/plain": "<Figure size 576x396 with 1 Axes>"
       }
      ]
     }
    },
    "d1b904286e7b4bcb9f273aef4f2842be": {
     "model_module": "@jupyter-widgets/base",
     "model_name": "LayoutModel",
     "state": {
      "_model_module": "@jupyter-widgets/base",
      "_model_module_version": "1.2.0",
      "_model_name": "LayoutModel",
      "_view_count": null,
      "_view_module": "@jupyter-widgets/base",
      "_view_module_version": "1.2.0",
      "_view_name": "LayoutView",
      "align_content": null,
      "align_items": null,
      "align_self": null,
      "border": null,
      "bottom": null,
      "display": null,
      "flex": null,
      "flex_flow": null,
      "grid_area": null,
      "grid_auto_columns": null,
      "grid_auto_flow": null,
      "grid_auto_rows": null,
      "grid_column": null,
      "grid_gap": null,
      "grid_row": null,
      "grid_template_areas": null,
      "grid_template_columns": null,
      "grid_template_rows": null,
      "height": null,
      "justify_content": null,
      "justify_items": null,
      "left": null,
      "margin": null,
      "max_height": null,
      "max_width": null,
      "min_height": null,
      "min_width": null,
      "object_fit": null,
      "object_position": null,
      "order": null,
      "overflow": null,
      "overflow_x": null,
      "overflow_y": null,
      "padding": null,
      "right": null,
      "top": null,
      "visibility": null,
      "width": null
     }
    },
    "d821f798fbde4f918a3178e3f000d63c": {
     "model_module": "@jupyter-widgets/controls",
     "model_name": "IntProgressModel",
     "state": {
      "_dom_classes": [],
      "_model_module": "@jupyter-widgets/controls",
      "_model_module_version": "1.5.0",
      "_model_name": "IntProgressModel",
      "_view_count": null,
      "_view_module": "@jupyter-widgets/controls",
      "_view_module_version": "1.5.0",
      "_view_name": "ProgressView",
      "bar_style": "",
      "description": "Processing: ",
      "description_tooltip": null,
      "layout": "IPY_MODEL_51de9f58f883479fad3016d33ade1246",
      "max": 3,
      "min": 0,
      "orientation": "horizontal",
      "style": "IPY_MODEL_463939ad2e084b31a65d8a09c9c0f521",
      "value": 3
     }
    },
    "efd1b9173ce7416487b62de10537eb2e": {
     "model_module": "@jupyter-widgets/controls",
     "model_name": "ProgressStyleModel",
     "state": {
      "_model_module": "@jupyter-widgets/controls",
      "_model_module_version": "1.5.0",
      "_model_name": "ProgressStyleModel",
      "_view_count": null,
      "_view_module": "@jupyter-widgets/base",
      "_view_module_version": "1.2.0",
      "_view_name": "StyleView",
      "bar_color": null,
      "description_width": ""
     }
    },
    "f04d9b18cbcd473da4e90ff2c42ba947": {
     "model_module": "@jupyter-widgets/base",
     "model_name": "LayoutModel",
     "state": {
      "_model_module": "@jupyter-widgets/base",
      "_model_module_version": "1.2.0",
      "_model_name": "LayoutModel",
      "_view_count": null,
      "_view_module": "@jupyter-widgets/base",
      "_view_module_version": "1.2.0",
      "_view_name": "LayoutView",
      "align_content": null,
      "align_items": null,
      "align_self": null,
      "border": null,
      "bottom": null,
      "display": null,
      "flex": null,
      "flex_flow": null,
      "grid_area": null,
      "grid_auto_columns": null,
      "grid_auto_flow": null,
      "grid_auto_rows": null,
      "grid_column": null,
      "grid_gap": null,
      "grid_row": null,
      "grid_template_areas": null,
      "grid_template_columns": null,
      "grid_template_rows": null,
      "height": null,
      "justify_content": null,
      "justify_items": null,
      "left": null,
      "margin": null,
      "max_height": null,
      "max_width": null,
      "min_height": null,
      "min_width": null,
      "object_fit": null,
      "object_position": null,
      "order": null,
      "overflow": null,
      "overflow_x": null,
      "overflow_y": null,
      "padding": null,
      "right": null,
      "top": null,
      "visibility": null,
      "width": null
     }
    },
    "f29bd57ab1e04d7f8927b33eaaf691ab": {
     "model_module": "@jupyter-widgets/controls",
     "model_name": "ProgressStyleModel",
     "state": {
      "_model_module": "@jupyter-widgets/controls",
      "_model_module_version": "1.5.0",
      "_model_name": "ProgressStyleModel",
      "_view_count": null,
      "_view_module": "@jupyter-widgets/base",
      "_view_module_version": "1.2.0",
      "_view_name": "StyleView",
      "bar_color": null,
      "description_width": ""
     }
    },
    "fd88150a8ed34aefa21502d8757d149d": {
     "model_module": "@jupyter-widgets/controls",
     "model_name": "HTMLModel",
     "state": {
      "_dom_classes": [],
      "_model_module": "@jupyter-widgets/controls",
      "_model_module_version": "1.5.0",
      "_model_name": "HTMLModel",
      "_view_count": null,
      "_view_module": "@jupyter-widgets/controls",
      "_view_module_version": "1.5.0",
      "_view_name": "HTMLView",
      "description": "",
      "description_tooltip": null,
      "layout": "IPY_MODEL_f04d9b18cbcd473da4e90ff2c42ba947",
      "placeholder": "​",
      "style": "IPY_MODEL_7747192ee23a44a3b1f8b59f5fc34479",
      "value": " 8/8 [00:00&lt;00:00, 140.10it/s]"
     }
    },
    "feb4fe7e3ccf4583b4d03a109ea668f7": {
     "model_module": "@jupyter-widgets/controls",
     "model_name": "HBoxModel",
     "state": {
      "_dom_classes": [],
      "_model_module": "@jupyter-widgets/controls",
      "_model_module_version": "1.5.0",
      "_model_name": "HBoxModel",
      "_view_count": null,
      "_view_module": "@jupyter-widgets/controls",
      "_view_module_version": "1.5.0",
      "_view_name": "HBoxView",
      "box_style": "",
      "children": [
       "IPY_MODEL_2d70c0ca014c490fa8192ca250a62352",
       "IPY_MODEL_766c2c1ea6ca4e1684891468003e280f",
       "IPY_MODEL_fd88150a8ed34aefa21502d8757d149d"
      ],
      "layout": "IPY_MODEL_1d0dc4cea7844fa096bec318d80e0844"
     }
    }
   }
  }
 },
 "nbformat": 4,
 "nbformat_minor": 1
}
