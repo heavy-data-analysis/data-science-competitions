{
 "cells": [
  {
   "cell_type": "markdown",
   "metadata": {
    "id": "uSLlNGDrvy31"
   },
   "source": [
    "# import libraries"
   ]
  },
  {
   "cell_type": "code",
   "execution_count": null,
   "metadata": {
    "id": "Ml595dSumUp7"
   },
   "outputs": [],
   "source": [
    "import numpy as np\n",
    "import pandas as pd\n",
    "import matplotlib.pyplot as plt\n",
    "import seaborn as sns\n",
    "import sweetviz as sw\n",
    "import missingno as msno\n",
    "from tqdm.notebook import tqdm\n",
    "\n",
    "# explicitly require this experimental feature\n",
    "from sklearn.experimental import enable_iterative_imputer  # noqa\n",
    "# now you can import normally from sklearn.impute\n",
    "from sklearn.impute import IterativeImputer\n",
    "from sklearn.preprocessing import StandardScaler\n",
    "from sklearn.model_selection import KFold\n",
    "from sklearn.metrics import f1_score\n",
    "\n",
    "import lightgbm as lgb\n",
    "import xgboost as xgb\n",
    "\n",
    "import optuna\n",
    "import optuna.visualization as vis\n",
    "\n",
    "import warnings\n",
    "warnings.filterwarnings('ignore')"
   ]
  },
  {
   "cell_type": "markdown",
   "metadata": {
    "id": "FB0bX7F9mmJf"
   },
   "source": [
    "# get data"
   ]
  },
  {
   "cell_type": "code",
   "execution_count": null,
   "metadata": {
    "id": "h64yE2vvmYwO"
   },
   "outputs": [],
   "source": [
    "!unzip -q '/content/domain-network-security.zip'"
   ]
  },
  {
   "cell_type": "code",
   "execution_count": null,
   "metadata": {
    "id": "VimJwkgSmqJv"
   },
   "outputs": [],
   "source": [
    "raw_train = pd.read_csv('/content/train.csv')\n",
    "raw_test = pd.read_csv('/content/test.csv')\n",
    "raw_sub = pd.read_csv('/content/sample submission.csv')"
   ]
  },
  {
   "cell_type": "code",
   "execution_count": null,
   "metadata": {
    "colab": {
     "base_uri": "https://localhost:8080/",
     "height": 548
    },
    "id": "61gRiOT1nmmF",
    "outputId": "e637fd3c-0363-4657-f5ff-d09a33372373"
   },
   "outputs": [
    {
     "name": "stdout",
     "output_type": "stream",
     "text": [
      "<class 'pandas.core.frame.DataFrame'>\n",
      "RangeIndex: 45870 entries, 0 to 45869\n",
      "Data columns (total 13 columns):\n",
      " #   Column                Non-Null Count  Dtype  \n",
      "---  ------                --------------  -----  \n",
      " 0   ID                    45870 non-null  int64  \n",
      " 1   Source Port           36683 non-null  float64\n",
      " 2   Destination Port      36693 non-null  float64\n",
      " 3   NAT Source Port       36756 non-null  float64\n",
      " 4   NAT Destination Port  36674 non-null  float64\n",
      " 5   Bytes                 36607 non-null  float64\n",
      " 6   Bytes Sent            36764 non-null  float64\n",
      " 7   Bytes Received        36693 non-null  float64\n",
      " 8   Packets               36818 non-null  float64\n",
      " 9   Elapsed Time (sec)    36584 non-null  float64\n",
      " 10  pkts_sent             36667 non-null  float64\n",
      " 11  pkts_received         36711 non-null  float64\n",
      " 12  Action                45870 non-null  object \n",
      "dtypes: float64(11), int64(1), object(1)\n",
      "memory usage: 4.5+ MB\n",
      "None\n"
     ]
    },
    {
     "data": {
      "text/html": [
       "<div>\n",
       "<style scoped>\n",
       "    .dataframe tbody tr th:only-of-type {\n",
       "        vertical-align: middle;\n",
       "    }\n",
       "\n",
       "    .dataframe tbody tr th {\n",
       "        vertical-align: top;\n",
       "    }\n",
       "\n",
       "    .dataframe thead th {\n",
       "        text-align: right;\n",
       "    }\n",
       "</style>\n",
       "<table border=\"1\" class=\"dataframe\">\n",
       "  <thead>\n",
       "    <tr style=\"text-align: right;\">\n",
       "      <th></th>\n",
       "      <th>ID</th>\n",
       "      <th>Source Port</th>\n",
       "      <th>Destination Port</th>\n",
       "      <th>NAT Source Port</th>\n",
       "      <th>NAT Destination Port</th>\n",
       "      <th>Bytes</th>\n",
       "      <th>Bytes Sent</th>\n",
       "      <th>Bytes Received</th>\n",
       "      <th>Packets</th>\n",
       "      <th>Elapsed Time (sec)</th>\n",
       "      <th>pkts_sent</th>\n",
       "      <th>pkts_received</th>\n",
       "      <th>Action</th>\n",
       "    </tr>\n",
       "  </thead>\n",
       "  <tbody>\n",
       "    <tr>\n",
       "      <th>0</th>\n",
       "      <td>59276</td>\n",
       "      <td>49418.0</td>\n",
       "      <td>27015.0</td>\n",
       "      <td>54748.0</td>\n",
       "      <td>NaN</td>\n",
       "      <td>78.0</td>\n",
       "      <td>78.0</td>\n",
       "      <td>0.0</td>\n",
       "      <td>1.0</td>\n",
       "      <td>29.0</td>\n",
       "      <td>1.0</td>\n",
       "      <td>0.0</td>\n",
       "      <td>allow</td>\n",
       "    </tr>\n",
       "    <tr>\n",
       "      <th>1</th>\n",
       "      <td>18986</td>\n",
       "      <td>58120.0</td>\n",
       "      <td>25174.0</td>\n",
       "      <td>NaN</td>\n",
       "      <td>0.0</td>\n",
       "      <td>66.0</td>\n",
       "      <td>66.0</td>\n",
       "      <td>0.0</td>\n",
       "      <td>NaN</td>\n",
       "      <td>0.0</td>\n",
       "      <td>1.0</td>\n",
       "      <td>0.0</td>\n",
       "      <td>deny</td>\n",
       "    </tr>\n",
       "    <tr>\n",
       "      <th>2</th>\n",
       "      <td>11131</td>\n",
       "      <td>46751.0</td>\n",
       "      <td>53.0</td>\n",
       "      <td>46751.0</td>\n",
       "      <td>53.0</td>\n",
       "      <td>220.0</td>\n",
       "      <td>90.0</td>\n",
       "      <td>130.0</td>\n",
       "      <td>2.0</td>\n",
       "      <td>30.0</td>\n",
       "      <td>NaN</td>\n",
       "      <td>1.0</td>\n",
       "      <td>allow</td>\n",
       "    </tr>\n",
       "    <tr>\n",
       "      <th>3</th>\n",
       "      <td>57352</td>\n",
       "      <td>52596.0</td>\n",
       "      <td>NaN</td>\n",
       "      <td>0.0</td>\n",
       "      <td>0.0</td>\n",
       "      <td>66.0</td>\n",
       "      <td>66.0</td>\n",
       "      <td>0.0</td>\n",
       "      <td>1.0</td>\n",
       "      <td>NaN</td>\n",
       "      <td>1.0</td>\n",
       "      <td>0.0</td>\n",
       "      <td>drop</td>\n",
       "    </tr>\n",
       "    <tr>\n",
       "      <th>4</th>\n",
       "      <td>17229</td>\n",
       "      <td>50584.0</td>\n",
       "      <td>6881.0</td>\n",
       "      <td>29773.0</td>\n",
       "      <td>NaN</td>\n",
       "      <td>502.0</td>\n",
       "      <td>150.0</td>\n",
       "      <td>352.0</td>\n",
       "      <td>2.0</td>\n",
       "      <td>1200.0</td>\n",
       "      <td>NaN</td>\n",
       "      <td>1.0</td>\n",
       "      <td>allow</td>\n",
       "    </tr>\n",
       "  </tbody>\n",
       "</table>\n",
       "</div>"
      ],
      "text/plain": [
       "      ID  Source Port  Destination Port  NAT Source Port  \\\n",
       "0  59276      49418.0           27015.0          54748.0   \n",
       "1  18986      58120.0           25174.0              NaN   \n",
       "2  11131      46751.0              53.0          46751.0   \n",
       "3  57352      52596.0               NaN              0.0   \n",
       "4  17229      50584.0            6881.0          29773.0   \n",
       "\n",
       "   NAT Destination Port  Bytes  Bytes Sent  Bytes Received  Packets  \\\n",
       "0                   NaN   78.0        78.0             0.0      1.0   \n",
       "1                   0.0   66.0        66.0             0.0      NaN   \n",
       "2                  53.0  220.0        90.0           130.0      2.0   \n",
       "3                   0.0   66.0        66.0             0.0      1.0   \n",
       "4                   NaN  502.0       150.0           352.0      2.0   \n",
       "\n",
       "   Elapsed Time (sec)  pkts_sent  pkts_received Action  \n",
       "0                29.0        1.0            0.0  allow  \n",
       "1                 0.0        1.0            0.0   deny  \n",
       "2                30.0        NaN            1.0  allow  \n",
       "3                 NaN        1.0            0.0   drop  \n",
       "4              1200.0        NaN            1.0  allow  "
      ]
     },
     "execution_count": 9,
     "metadata": {
      "tags": []
     },
     "output_type": "execute_result"
    }
   ],
   "source": [
    "print(raw_train.info())\n",
    "raw_train.head()"
   ]
  },
  {
   "cell_type": "markdown",
   "metadata": {
    "id": "4kjqVqdzmzaZ"
   },
   "source": [
    "# eda"
   ]
  },
  {
   "cell_type": "code",
   "execution_count": null,
   "metadata": {
    "id": "VGJRWTz8pqwS"
   },
   "outputs": [],
   "source": [
    "eda_train = raw_train.drop('ID', axis=1)\n",
    "eda_test = raw_test.drop('ID', axis=1)"
   ]
  },
  {
   "cell_type": "code",
   "execution_count": null,
   "metadata": {
    "colab": {
     "base_uri": "https://localhost:8080/",
     "height": 473
    },
    "id": "yxkWOzeYpoU2",
    "outputId": "15a49d0b-0b8f-4dc8-87eb-700ab2267452"
   },
   "outputs": [
    {
     "data": {
      "text/plain": [
       "<matplotlib.axes._subplots.AxesSubplot at 0x7f906edebe90>"
      ]
     },
     "execution_count": 17,
     "metadata": {
      "tags": []
     },
     "output_type": "execute_result"
    },
    {
     "data": {
      "image/png": "[encoded data removed]",
      "text/plain": [
       "<Figure size 600x400 with 2 Axes>"
      ]
     },
     "metadata": {
      "tags": []
     },
     "output_type": "display_data"
    }
   ],
   "source": [
    "sns.heatmap(eda_train.corr())"
   ]
  },
  {
   "cell_type": "markdown",
   "metadata": {
    "id": "5MzLfj6om0gr"
   },
   "source": [
    "# preprocess"
   ]
  },
  {
   "cell_type": "code",
   "execution_count": null,
   "metadata": {
    "id": "kIr_XfaPm1dK"
   },
   "outputs": [],
   "source": [
    "train = raw_train.drop(['ID', 'Action'], axis=1)\n",
    "test = raw_test.drop('ID', axis=1)\n",
    "target = raw_train['Action']"
   ]
  },
  {
   "cell_type": "code",
   "execution_count": null,
   "metadata": {
    "id": "sexw0uc6ykeH"
   },
   "outputs": [],
   "source": [
    "train = train.fillna(-999).astype(int)\n",
    "test = test.fillna(-999).astype(int)"
   ]
  },
  {
   "cell_type": "code",
   "execution_count": null,
   "metadata": {
    "id": "jzcgTJoor9k2"
   },
   "outputs": [],
   "source": [
    "iter_imp = IterativeImputer(missing_values=-999, random_state=1234)\n",
    "sc = StandardScaler()"
   ]
  },
  {
   "cell_type": "code",
   "execution_count": null,
   "metadata": {
    "id": "3o3JnrJnsgTz"
   },
   "outputs": [],
   "source": [
    "train = pd.DataFrame(iter_imp.fit_transform(train), columns=train.columns)"
   ]
  },
  {
   "cell_type": "code",
   "execution_count": null,
   "metadata": {
    "id": "m2UsO-WFslqn"
   },
   "outputs": [],
   "source": [
    "test = pd.DataFrame(iter_imp.transform(test), columns=test.columns)"
   ]
  },
  {
   "cell_type": "code",
   "execution_count": null,
   "metadata": {
    "id": "MC2UV-j3vnrW"
   },
   "outputs": [],
   "source": [
    "train = pd.DataFrame(sc.fit_transform(train), columns=train.columns)\n",
    "test = pd.DataFrame(sc.transform(test), columns=test.columns)"
   ]
  },
  {
   "cell_type": "code",
   "execution_count": null,
   "metadata": {
    "colab": {
     "base_uri": "https://localhost:8080/",
     "height": 191
    },
    "id": "ftXmiFAQyvkN",
    "outputId": "e420d215-5dc4-4ce9-bc73-31fa48a3a9f5"
   },
   "outputs": [
    {
     "data": {
      "text/html": [
       "<div>\n",
       "<style scoped>\n",
       "    .dataframe tbody tr th:only-of-type {\n",
       "        vertical-align: middle;\n",
       "    }\n",
       "\n",
       "    .dataframe tbody tr th {\n",
       "        vertical-align: top;\n",
       "    }\n",
       "\n",
       "    .dataframe thead th {\n",
       "        text-align: right;\n",
       "    }\n",
       "</style>\n",
       "<table border=\"1\" class=\"dataframe\">\n",
       "  <thead>\n",
       "    <tr style=\"text-align: right;\">\n",
       "      <th></th>\n",
       "      <th>Source Port</th>\n",
       "      <th>Destination Port</th>\n",
       "      <th>NAT Source Port</th>\n",
       "      <th>NAT Destination Port</th>\n",
       "      <th>Bytes</th>\n",
       "      <th>Bytes Sent</th>\n",
       "      <th>Bytes Received</th>\n",
       "      <th>Packets</th>\n",
       "      <th>Elapsed Time (sec)</th>\n",
       "      <th>pkts_sent</th>\n",
       "      <th>pkts_received</th>\n",
       "    </tr>\n",
       "  </thead>\n",
       "  <tbody>\n",
       "    <tr>\n",
       "      <th>0</th>\n",
       "      <td>0.002215</td>\n",
       "      <td>0.898552</td>\n",
       "      <td>1.734994</td>\n",
       "      <td>0.631900</td>\n",
       "      <td>-0.017979</td>\n",
       "      <td>-0.008805</td>\n",
       "      <td>-0.031833</td>\n",
       "      <td>-0.019590</td>\n",
       "      <td>-0.130657</td>\n",
       "      <td>-0.013566</td>\n",
       "      <td>-0.027153</td>\n",
       "    </tr>\n",
       "    <tr>\n",
       "      <th>1</th>\n",
       "      <td>0.611718</td>\n",
       "      <td>0.797543</td>\n",
       "      <td>-0.501182</td>\n",
       "      <td>-0.126882</td>\n",
       "      <td>-0.017981</td>\n",
       "      <td>-0.008812</td>\n",
       "      <td>-0.031833</td>\n",
       "      <td>-0.020474</td>\n",
       "      <td>-0.232511</td>\n",
       "      <td>-0.013566</td>\n",
       "      <td>-0.027153</td>\n",
       "    </tr>\n",
       "    <tr>\n",
       "      <th>2</th>\n",
       "      <td>-0.184587</td>\n",
       "      <td>-0.580746</td>\n",
       "      <td>1.344027</td>\n",
       "      <td>-0.124441</td>\n",
       "      <td>-0.017957</td>\n",
       "      <td>-0.008799</td>\n",
       "      <td>-0.031781</td>\n",
       "      <td>-0.019423</td>\n",
       "      <td>-0.127145</td>\n",
       "      <td>-0.013234</td>\n",
       "      <td>-0.026734</td>\n",
       "    </tr>\n",
       "    <tr>\n",
       "      <th>3</th>\n",
       "      <td>0.224807</td>\n",
       "      <td>0.150334</td>\n",
       "      <td>-0.941591</td>\n",
       "      <td>-0.126882</td>\n",
       "      <td>-0.017981</td>\n",
       "      <td>-0.008812</td>\n",
       "      <td>-0.031833</td>\n",
       "      <td>-0.019590</td>\n",
       "      <td>-0.174585</td>\n",
       "      <td>-0.013566</td>\n",
       "      <td>-0.027153</td>\n",
       "    </tr>\n",
       "    <tr>\n",
       "      <th>4</th>\n",
       "      <td>0.083883</td>\n",
       "      <td>-0.206121</td>\n",
       "      <td>0.513987</td>\n",
       "      <td>0.488106</td>\n",
       "      <td>-0.017914</td>\n",
       "      <td>-0.008768</td>\n",
       "      <td>-0.031691</td>\n",
       "      <td>-0.019423</td>\n",
       "      <td>3.982143</td>\n",
       "      <td>-0.012451</td>\n",
       "      <td>-0.026734</td>\n",
       "    </tr>\n",
       "  </tbody>\n",
       "</table>\n",
       "</div>"
      ],
      "text/plain": [
       "   Source Port  Destination Port  NAT Source Port  NAT Destination Port  \\\n",
       "0     0.002215          0.898552         1.734994              0.631900   \n",
       "1     0.611718          0.797543        -0.501182             -0.126882   \n",
       "2    -0.184587         -0.580746         1.344027             -0.124441   \n",
       "3     0.224807          0.150334        -0.941591             -0.126882   \n",
       "4     0.083883         -0.206121         0.513987              0.488106   \n",
       "\n",
       "      Bytes  Bytes Sent  Bytes Received   Packets  Elapsed Time (sec)  \\\n",
       "0 -0.017979   -0.008805       -0.031833 -0.019590           -0.130657   \n",
       "1 -0.017981   -0.008812       -0.031833 -0.020474           -0.232511   \n",
       "2 -0.017957   -0.008799       -0.031781 -0.019423           -0.127145   \n",
       "3 -0.017981   -0.008812       -0.031833 -0.019590           -0.174585   \n",
       "4 -0.017914   -0.008768       -0.031691 -0.019423            3.982143   \n",
       "\n",
       "   pkts_sent  pkts_received  \n",
       "0  -0.013566      -0.027153  \n",
       "1  -0.013566      -0.027153  \n",
       "2  -0.013234      -0.026734  \n",
       "3  -0.013566      -0.027153  \n",
       "4  -0.012451      -0.026734  "
      ]
     },
     "execution_count": 58,
     "metadata": {
      "tags": []
     },
     "output_type": "execute_result"
    }
   ],
   "source": [
    "train.head()"
   ]
  },
  {
   "cell_type": "markdown",
   "metadata": {
    "id": "Gb-B4qeGnWGf"
   },
   "source": [
    "# lightgbm"
   ]
  },
  {
   "cell_type": "code",
   "execution_count": null,
   "metadata": {
    "id": "RI3EXWhKmAEA"
   },
   "outputs": [],
   "source": [
    "# Functions for KFold evaluation\n",
    "def create(hyperparams):\n",
    "    \"\"\"Create LGBM Classifier for a given set of hyper-parameters.\"\"\"\n",
    "    model = lgb.LGBMClassifier(**hyperparams)\n",
    "    return model\n",
    "\n",
    "def fit(model, X, y):\n",
    "    \"\"\"Simple training of a given model.\"\"\"\n",
    "    model.fit(X, y)\n",
    "    return model\n",
    "\n",
    "def fit_with_stop(model, X, y, X_val, y_val, esr):\n",
    "    \"\"\"Advanced training with early stopping.\"\"\"\n",
    "    model.fit(\n",
    "        X, y,\n",
    "        eval_set=(X_val, y_val),\n",
    "        early_stopping_rounds=esr, \n",
    "        verbose=0,\n",
    "    )\n",
    "    return model\n",
    "\n",
    "def evaluate(model, X, y):\n",
    "    \"\"\"Compute AUC for a given model.\"\"\"\n",
    "    yp = model.predict(X)\n",
    "    roc = f1_score(y, yp, average='weighted')\n",
    "    return roc\n",
    "\n",
    "def kfold_evaluation(X, y, k, hyperparams, esr=100):\n",
    "    \"\"\"Run a KFlod evaluation.\"\"\"\n",
    "    scores = []\n",
    "    \n",
    "    print(f\"\\n------ {k}-fold evaluation -----\")\n",
    "    # print(hyperparams)\n",
    "    \n",
    "    kf = KFold(k)\n",
    "    for i, (train_idx, test_idx) in enumerate(kf.split(X)):\n",
    "        # print(f\"\\n----- FOLD {i} -----\")\n",
    "        \n",
    "        X_train = X.iloc[train_idx]\n",
    "        y_train = y.iloc[train_idx]\n",
    "        X_val = X.iloc[test_idx]\n",
    "        y_val = y.iloc[test_idx]\n",
    "        \n",
    "        model = create(hyperparams)\n",
    "        model = fit_with_stop(model, X_train, y_train, X_val, y_val, esr)\n",
    "        train_score = evaluate(model, X_train, y_train)\n",
    "        val_score = evaluate(model, X_val, y_val)\n",
    "        scores.append((train_score, val_score))\n",
    "        \n",
    "        print(f\"Fold {i} | Eval F1 Score: {val_score}\")\n",
    "        \n",
    "        \n",
    "    scores = pd.DataFrame(scores, columns=['train score', 'validation score'])\n",
    "    \n",
    "    return scores\n",
    "\n",
    "def kfold_prediction(X, y, X_test, k, hyperparams, esr=100):\n",
    "    \"\"\"Make predictions with a bagged model based on KFold.\"\"\"\n",
    "    yp = np.zeros(len(X_test))\n",
    "    \n",
    "    print(f\"\\n------ {k}-fold evaluation -----\")\n",
    "    # print(hyperparams)\n",
    "    \n",
    "    kf = KFold(k)\n",
    "    for i, (train_idx, test_idx) in tqdm(enumerate(kf.split(X)), total=k):\n",
    "        # print(f\"\\n----- FOLD {i} -----\")\n",
    "        X_train = X.iloc[train_idx]\n",
    "        y_train = y.iloc[train_idx]\n",
    "        X_val = X.iloc[test_idx]\n",
    "        y_val = y.iloc[test_idx]\n",
    "        \n",
    "        model = create(hyperparams)\n",
    "        model = fit_with_stop(model, X_train, y_train, X_val, y_val, esr)\n",
    "        yp += model.predict(X_test) / k\n",
    "    \n",
    "    return yp"
   ]
  },
  {
   "cell_type": "code",
   "execution_count": null,
   "metadata": {
    "id": "QeVW13HamL2g"
   },
   "outputs": [],
   "source": [
    "# Constant\n",
    "K = 5\n",
    "X = train\n",
    "Y = target\n",
    "X_TEST = test.copy()\n",
    "BEST_PARAMS = {\n",
    "    'objective': 'multiclass',\n",
    "    'n_estimators': 10000, # Waiting for early-stopping\n",
    "    'learning_rate': 0.05, # Me\n",
    "    'metric': 'multi_logloss' # Me\n",
    "}"
   ]
  },
  {
   "cell_type": "code",
   "execution_count": null,
   "metadata": {
    "id": "jeUPCmdYmWd_"
   },
   "outputs": [],
   "source": [
    "# objective function\n",
    "def objective(trial):\n",
    "    # Search spaces\n",
    "    hyperparams = {\n",
    "        'reg_alpha': trial.suggest_float('reg_alpha', 0.001, 10.0),\n",
    "        'reg_lambda': trial.suggest_float('reg_lambda', 0.001, 10.0),\n",
    "        'num_leaves': trial.suggest_int('num_leaves', 5, 1000),\n",
    "        'min_child_samples': trial.suggest_int('min_child_samples', 5, 100),\n",
    "        'max_depth': trial.suggest_int('max_depth', 4, 12),\n",
    "        'colsample_bytree': trial.suggest_float('colsample_bytree', 0.1, 0.5),\n",
    "        'cat_smooth' : trial.suggest_int('cat_smooth', 10, 100),\n",
    "        'cat_l2': trial.suggest_int('cat_l2', 1, 20),\n",
    "        'min_data_per_group': trial.suggest_int('min_data_per_group', 50, 200)\n",
    "    }\n",
    "    \n",
    "    # Add BEST_PARAMS\n",
    "    hyperparams.update(BEST_PARAMS)\n",
    "    \n",
    "    # Evaluation\n",
    "    scores = kfold_evaluation(X, Y, K, hyperparams, 100)\n",
    "    \n",
    "    return scores['validation score'].mean()"
   ]
  },
  {
   "cell_type": "code",
   "execution_count": null,
   "metadata": {
    "colab": {
     "background_save": true,
     "base_uri": "https://localhost:8080/"
    },
    "id": "z79nY4IrmkPD",
    "outputId": "e9ab4b0b-e026-4b93-e2a4-90465476678f"
   },
   "outputs": [
    {
     "name": "stderr",
     "output_type": "stream",
     "text": [
      "\u001b[32m[I 2021-04-09 08:43:51,525]\u001b[0m A new study created in memory with name: no-name-0d4ed30e-aaa7-4f84-ac43-a7ef0e3b06df\u001b[0m\n"
     ]
    },
    {
     "name": "stdout",
     "output_type": "stream",
     "text": [
      "\n",
      "------ 5-fold evaluation -----\n",
      "Fold 0 | Eval F1 Score: 0.9816733856854196\n",
      "Fold 1 | Eval F1 Score: 0.9812721977299846\n",
      "Fold 2 | Eval F1 Score: 0.9837533926439497\n",
      "Fold 3 | Eval F1 Score: 0.9816444145678435\n"
     ]
    },
    {
     "name": "stderr",
     "output_type": "stream",
     "text": [
      "\u001b[32m[I 2021-04-09 08:44:52,918]\u001b[0m Trial 0 finished with value: 0.9823591303403024 and parameters: {'reg_alpha': 6.048646497953766, 'reg_lambda': 9.35768025408642, 'num_leaves': 196, 'min_child_samples': 30, 'max_depth': 7, 'colsample_bytree': 0.4209609546247959, 'cat_smooth': 32, 'cat_l2': 9, 'min_data_per_group': 65}. Best is trial 0 with value: 0.9823591303403024.\u001b[0m\n"
     ]
    },
    {
     "name": "stdout",
     "output_type": "stream",
     "text": [
      "Fold 4 | Eval F1 Score: 0.9834522610743145\n",
      "\n",
      "------ 5-fold evaluation -----\n",
      "Fold 0 | Eval F1 Score: 0.9831101868029475\n",
      "Fold 1 | Eval F1 Score: 0.9830669869315452\n",
      "Fold 2 | Eval F1 Score: 0.9829806884564185\n",
      "Fold 3 | Eval F1 Score: 0.9833933181804272\n"
     ]
    },
    {
     "name": "stderr",
     "output_type": "stream",
     "text": [
      "\u001b[32m[I 2021-04-09 08:46:47,064]\u001b[0m Trial 1 finished with value: 0.9835347465428406 and parameters: {'reg_alpha': 2.0462452123389974, 'reg_lambda': 4.756191254743841, 'num_leaves': 483, 'min_child_samples': 81, 'max_depth': 5, 'colsample_bytree': 0.23349078539195878, 'cat_smooth': 17, 'cat_l2': 19, 'min_data_per_group': 68}. Best is trial 1 with value: 0.9835347465428406.\u001b[0m\n"
     ]
    },
    {
     "name": "stdout",
     "output_type": "stream",
     "text": [
      "Fold 4 | Eval F1 Score: 0.9851225523428644\n",
      "\n",
      "------ 5-fold evaluation -----\n",
      "Fold 0 | Eval F1 Score: 0.982763383705655\n",
      "Fold 1 | Eval F1 Score: 0.9825691456576312\n",
      "Fold 2 | Eval F1 Score: 0.9829899661370904\n",
      "Fold 3 | Eval F1 Score: 0.983060017048124\n"
     ]
    },
    {
     "name": "stderr",
     "output_type": "stream",
     "text": [
      "\u001b[32m[I 2021-04-09 08:47:49,050]\u001b[0m Trial 2 finished with value: 0.9832065524472032 and parameters: {'reg_alpha': 3.8180444810858427, 'reg_lambda': 0.9009722278791009, 'num_leaves': 114, 'min_child_samples': 8, 'max_depth': 6, 'colsample_bytree': 0.45004432722000076, 'cat_smooth': 89, 'cat_l2': 7, 'min_data_per_group': 56}. Best is trial 1 with value: 0.9835347465428406.\u001b[0m\n"
     ]
    },
    {
     "name": "stdout",
     "output_type": "stream",
     "text": [
      "Fold 4 | Eval F1 Score: 0.9846502496875156\n",
      "\n",
      "------ 5-fold evaluation -----\n",
      "Fold 0 | Eval F1 Score: 0.981238072614484\n",
      "Fold 1 | Eval F1 Score: 0.9812671980629037\n",
      "Fold 2 | Eval F1 Score: 0.9832091677853392\n",
      "Fold 3 | Eval F1 Score: 0.9809903684518086\n"
     ]
    },
    {
     "name": "stderr",
     "output_type": "stream",
     "text": [
      "\u001b[32m[I 2021-04-09 08:48:41,093]\u001b[0m Trial 3 finished with value: 0.9818789591421471 and parameters: {'reg_alpha': 8.037134471213502, 'reg_lambda': 1.779943023381586, 'num_leaves': 154, 'min_child_samples': 85, 'max_depth': 11, 'colsample_bytree': 0.42594456425269367, 'cat_smooth': 61, 'cat_l2': 12, 'min_data_per_group': 182}. Best is trial 1 with value: 0.9835347465428406.\u001b[0m\n"
     ]
    },
    {
     "name": "stdout",
     "output_type": "stream",
     "text": [
      "Fold 4 | Eval F1 Score: 0.9826899887961993\n",
      "\n",
      "------ 5-fold evaluation -----\n",
      "Fold 0 | Eval F1 Score: 0.9822176219350283\n",
      "Fold 1 | Eval F1 Score: 0.9818066204614236\n",
      "Fold 2 | Eval F1 Score: 0.9829913953578164\n",
      "Fold 3 | Eval F1 Score: 0.9822985213172132\n"
     ]
    },
    {
     "name": "stderr",
     "output_type": "stream",
     "text": [
      "\u001b[32m[I 2021-04-09 08:49:35,215]\u001b[0m Trial 4 finished with value: 0.9827047376345508 and parameters: {'reg_alpha': 4.857087759651253, 'reg_lambda': 0.5157464708470766, 'num_leaves': 445, 'min_child_samples': 42, 'max_depth': 6, 'colsample_bytree': 0.4737689424114845, 'cat_smooth': 60, 'cat_l2': 11, 'min_data_per_group': 137}. Best is trial 1 with value: 0.9835347465428406.\u001b[0m\n"
     ]
    },
    {
     "name": "stdout",
     "output_type": "stream",
     "text": [
      "Fold 4 | Eval F1 Score: 0.9842095291012727\n"
     ]
    }
   ],
   "source": [
    "# Optimization\n",
    "study = optuna.create_study(direction='maximize')\n",
    "study.optimize(objective, n_trials=5)"
   ]
  },
  {
   "cell_type": "code",
   "execution_count": null,
   "metadata": {
    "colab": {
     "base_uri": "https://localhost:8080/"
    },
    "id": "N2_2FKSXEx54",
    "outputId": "b302fa84-b045-4d14-ee61-15230b34777c"
   },
   "outputs": [
    {
     "data": {
      "text/plain": [
       "{'cat_l2': 17,\n",
       " 'cat_smooth': 32,\n",
       " 'colsample_bytree': 0.3065089269040589,\n",
       " 'learning_rate': 0.05,\n",
       " 'max_depth': 9,\n",
       " 'metric': 'multi_logloss',\n",
       " 'min_child_samples': 27,\n",
       " 'min_data_per_group': 120,\n",
       " 'n_estimators': 10000,\n",
       " 'num_leaves': 269,\n",
       " 'objective': 'multiclass',\n",
       " 'reg_alpha': 4.352178213134221,\n",
       " 'reg_lambda': 8.464889708967005}"
      ]
     },
     "execution_count": 80,
     "metadata": {
      "tags": []
     },
     "output_type": "execute_result"
    }
   ],
   "source": [
    "# Best parameters\n",
    "BEST_PARAMS.update(study.best_params)\n",
    "BEST_PARAMS"
   ]
  },
  {
   "cell_type": "code",
   "execution_count": null,
   "metadata": {
    "id": "GDB3zMsbFNBt"
   },
   "outputs": [],
   "source": [
    "# Update hyperparams for prediction\n",
    "BEST_PARAMS['learning_rate'] = 0.005"
   ]
  },
  {
   "cell_type": "code",
   "execution_count": null,
   "metadata": {
    "colab": {
     "base_uri": "https://localhost:8080/",
     "height": 81,
     "referenced_widgets": [
      "f6281464ea4a4d8facab367ed4b07405"
     ]
    },
    "id": "PCBw73wJFRCI",
    "outputId": "ad0c26fe-172b-4218-8216-4d390ac6806c"
   },
   "outputs": [
    {
     "name": "stdout",
     "output_type": "stream",
     "text": [
      "\n",
      "------ 10-fold evaluation -----\n"
     ]
    },
    {
     "data": {
      "application/vnd.jupyter.widget-view+json": {
       "model_id": "f6281464ea4a4d8facab367ed4b07405",
       "version_major": 2,
       "version_minor": 0
      },
      "text/plain": [
       "  0%|          | 0/10 [00:00<?, ?it/s]"
      ]
     },
     "metadata": {
      "tags": []
     },
     "output_type": "display_data"
    }
   ],
   "source": [
    "preds = kfold_prediction(X, Y, X_TEST, 10, BEST_PARAMS, 500)"
   ]
  },
  {
   "cell_type": "code",
   "execution_count": null,
   "metadata": {
    "colab": {
     "base_uri": "https://localhost:8080/"
    },
    "id": "AaUA02XsFZWN",
    "outputId": "d25d5923-de88-41ab-ef4f-d958f787174d"
   },
   "outputs": [
    {
     "data": {
      "text/plain": [
       "array([3., 3., 3., ..., 5., 4., 3.])"
      ]
     },
     "execution_count": 89,
     "metadata": {
      "tags": []
     },
     "output_type": "execute_result"
    }
   ],
   "source": [
    "preds"
   ]
  },
  {
   "cell_type": "code",
   "execution_count": null,
   "metadata": {},
   "outputs": [],
   "source": [
    "sub = pd.DataFrame({\n",
    "    'ID': raw_test['ID'],\n",
    "    'Action': preds\n",
    "})\n",
    "\n",
    "sub.to_csv('lgb1.csv', index=False)"
   ]
  }
 ],
 "metadata": {
  "colab": {
   "name": "enigma_datathon_round1.ipynb",
   "provenance": []
  },
  "kernelspec": {
   "display_name": "Python 3",
   "language": "python",
   "name": "python3"
  },
  "language_info": {
   "codemirror_mode": {
    "name": "ipython",
    "version": 3
   },
   "file_extension": ".py",
   "mimetype": "text/x-python",
   "name": "python",
   "nbconvert_exporter": "python",
   "pygments_lexer": "ipython3",
   "version": "3.8.8"
  },
  "toc": {
   "base_numbering": 1,
   "nav_menu": {},
   "number_sections": true,
   "sideBar": true,
   "skip_h1_title": false,
   "title_cell": "Table of Contents",
   "title_sidebar": "Contents",
   "toc_cell": false,
   "toc_position": {},
   "toc_section_display": true,
   "toc_window_display": false
  },
  "widgets": {
   "application/vnd.jupyter.widget-state+json": {
    "0abcbba0eb8548cda2e0a75dd60e28aa": {
     "model_module": "@jupyter-widgets/controls",
     "model_name": "FloatProgressModel",
     "state": {
      "_dom_classes": [],
      "_model_module": "@jupyter-widgets/controls",
      "_model_module_version": "1.5.0",
      "_model_name": "FloatProgressModel",
      "_view_count": null,
      "_view_module": "@jupyter-widgets/controls",
      "_view_module_version": "1.5.0",
      "_view_name": "ProgressView",
      "bar_style": "success",
      "description": "",
      "description_tooltip": null,
      "layout": "IPY_MODEL_53ab15d9eb8b4ff0ba23bb656f9071d1",
      "max": 1,
      "min": 0,
      "orientation": "horizontal",
      "style": "IPY_MODEL_3bdc1cc2d0a64caf94b0862bbbc8ff72",
      "value": 1
     }
    },
    "3bdc1cc2d0a64caf94b0862bbbc8ff72": {
     "model_module": "@jupyter-widgets/controls",
     "model_name": "ProgressStyleModel",
     "state": {
      "_model_module": "@jupyter-widgets/controls",
      "_model_module_version": "1.5.0",
      "_model_name": "ProgressStyleModel",
      "_view_count": null,
      "_view_module": "@jupyter-widgets/base",
      "_view_module_version": "1.2.0",
      "_view_name": "StyleView",
      "bar_color": null,
      "description_width": ""
     }
    },
    "43d058e9519643c8bac02676ff750c1b": {
     "model_module": "@jupyter-widgets/controls",
     "model_name": "HBoxModel",
     "state": {
      "_dom_classes": [],
      "_model_module": "@jupyter-widgets/controls",
      "_model_module_version": "1.5.0",
      "_model_name": "HBoxModel",
      "_view_count": null,
      "_view_module": "@jupyter-widgets/controls",
      "_view_module_version": "1.5.0",
      "_view_name": "HBoxView",
      "box_style": "",
      "children": [
       "IPY_MODEL_b218f9f571dc456fa48665a503c9ddd9",
       "IPY_MODEL_0abcbba0eb8548cda2e0a75dd60e28aa",
       "IPY_MODEL_63b5db9fcb5043af8b534582bdd0a619"
      ],
      "layout": "IPY_MODEL_e1bf99ea46a54d42a591ae492babc3e3"
     }
    },
    "53ab15d9eb8b4ff0ba23bb656f9071d1": {
     "model_module": "@jupyter-widgets/base",
     "model_name": "LayoutModel",
     "state": {
      "_model_module": "@jupyter-widgets/base",
      "_model_module_version": "1.2.0",
      "_model_name": "LayoutModel",
      "_view_count": null,
      "_view_module": "@jupyter-widgets/base",
      "_view_module_version": "1.2.0",
      "_view_name": "LayoutView",
      "align_content": null,
      "align_items": null,
      "align_self": null,
      "border": null,
      "bottom": null,
      "display": null,
      "flex": "2",
      "flex_flow": null,
      "grid_area": null,
      "grid_auto_columns": null,
      "grid_auto_flow": null,
      "grid_auto_rows": null,
      "grid_column": null,
      "grid_gap": null,
      "grid_row": null,
      "grid_template_areas": null,
      "grid_template_columns": null,
      "grid_template_rows": null,
      "height": null,
      "justify_content": null,
      "justify_items": null,
      "left": null,
      "margin": null,
      "max_height": null,
      "max_width": null,
      "min_height": null,
      "min_width": null,
      "object_fit": null,
      "object_position": null,
      "order": null,
      "overflow": null,
      "overflow_x": null,
      "overflow_y": null,
      "padding": null,
      "right": null,
      "top": null,
      "visibility": null,
      "width": null
     }
    },
    "63b5db9fcb5043af8b534582bdd0a619": {
     "model_module": "@jupyter-widgets/controls",
     "model_name": "HTMLModel",
     "state": {
      "_dom_classes": [],
      "_model_module": "@jupyter-widgets/controls",
      "_model_module_version": "1.5.0",
      "_model_name": "HTMLModel",
      "_view_count": null,
      "_view_module": "@jupyter-widgets/controls",
      "_view_module_version": "1.5.0",
      "_view_name": "HTMLView",
      "description": "",
      "description_tooltip": null,
      "layout": "IPY_MODEL_e2b432dc68f6467bb9c830b27f5017c4",
      "placeholder": "​",
      "style": "IPY_MODEL_fb0afe562de847349ac8bfdcb2c5863d",
      "value": " [100%]   00:02 -&gt; (00:00 left)"
     }
    },
    "6d0b12f0be0c4272b09360a04aa3c611": {
     "model_module": "@jupyter-widgets/base",
     "model_name": "LayoutModel",
     "state": {
      "_model_module": "@jupyter-widgets/base",
      "_model_module_version": "1.2.0",
      "_model_name": "LayoutModel",
      "_view_count": null,
      "_view_module": "@jupyter-widgets/base",
      "_view_module_version": "1.2.0",
      "_view_name": "LayoutView",
      "align_content": null,
      "align_items": null,
      "align_self": null,
      "border": null,
      "bottom": null,
      "display": null,
      "flex": null,
      "flex_flow": null,
      "grid_area": null,
      "grid_auto_columns": null,
      "grid_auto_flow": null,
      "grid_auto_rows": null,
      "grid_column": null,
      "grid_gap": null,
      "grid_row": null,
      "grid_template_areas": null,
      "grid_template_columns": null,
      "grid_template_rows": null,
      "height": null,
      "justify_content": null,
      "justify_items": null,
      "left": null,
      "margin": null,
      "max_height": null,
      "max_width": null,
      "min_height": null,
      "min_width": null,
      "object_fit": null,
      "object_position": null,
      "order": null,
      "overflow": null,
      "overflow_x": null,
      "overflow_y": null,
      "padding": null,
      "right": null,
      "top": null,
      "visibility": null,
      "width": null
     }
    },
    "8b85c0e68616423f8ccfd4fe71635050": {
     "model_module": "@jupyter-widgets/controls",
     "model_name": "DescriptionStyleModel",
     "state": {
      "_model_module": "@jupyter-widgets/controls",
      "_model_module_version": "1.5.0",
      "_model_name": "DescriptionStyleModel",
      "_view_count": null,
      "_view_module": "@jupyter-widgets/base",
      "_view_module_version": "1.2.0",
      "_view_name": "StyleView",
      "description_width": ""
     }
    },
    "b218f9f571dc456fa48665a503c9ddd9": {
     "model_module": "@jupyter-widgets/controls",
     "model_name": "HTMLModel",
     "state": {
      "_dom_classes": [],
      "_model_module": "@jupyter-widgets/controls",
      "_model_module_version": "1.5.0",
      "_model_name": "HTMLModel",
      "_view_count": null,
      "_view_module": "@jupyter-widgets/controls",
      "_view_module_version": "1.5.0",
      "_view_name": "HTMLView",
      "description": "",
      "description_tooltip": null,
      "layout": "IPY_MODEL_6d0b12f0be0c4272b09360a04aa3c611",
      "placeholder": "​",
      "style": "IPY_MODEL_8b85c0e68616423f8ccfd4fe71635050",
      "value": "Done! Use &#x27;show&#x27; commands to display/save.   "
     }
    },
    "e1bf99ea46a54d42a591ae492babc3e3": {
     "model_module": "@jupyter-widgets/base",
     "model_name": "LayoutModel",
     "state": {
      "_model_module": "@jupyter-widgets/base",
      "_model_module_version": "1.2.0",
      "_model_name": "LayoutModel",
      "_view_count": null,
      "_view_module": "@jupyter-widgets/base",
      "_view_module_version": "1.2.0",
      "_view_name": "LayoutView",
      "align_content": null,
      "align_items": null,
      "align_self": null,
      "border": null,
      "bottom": null,
      "display": "inline-flex",
      "flex": null,
      "flex_flow": "row wrap",
      "grid_area": null,
      "grid_auto_columns": null,
      "grid_auto_flow": null,
      "grid_auto_rows": null,
      "grid_column": null,
      "grid_gap": null,
      "grid_row": null,
      "grid_template_areas": null,
      "grid_template_columns": null,
      "grid_template_rows": null,
      "height": null,
      "justify_content": null,
      "justify_items": null,
      "left": null,
      "margin": null,
      "max_height": null,
      "max_width": null,
      "min_height": null,
      "min_width": null,
      "object_fit": null,
      "object_position": null,
      "order": null,
      "overflow": null,
      "overflow_x": null,
      "overflow_y": null,
      "padding": null,
      "right": null,
      "top": null,
      "visibility": null,
      "width": "100%"
     }
    },
    "e2b432dc68f6467bb9c830b27f5017c4": {
     "model_module": "@jupyter-widgets/base",
     "model_name": "LayoutModel",
     "state": {
      "_model_module": "@jupyter-widgets/base",
      "_model_module_version": "1.2.0",
      "_model_name": "LayoutModel",
      "_view_count": null,
      "_view_module": "@jupyter-widgets/base",
      "_view_module_version": "1.2.0",
      "_view_name": "LayoutView",
      "align_content": null,
      "align_items": null,
      "align_self": null,
      "border": null,
      "bottom": null,
      "display": null,
      "flex": null,
      "flex_flow": null,
      "grid_area": null,
      "grid_auto_columns": null,
      "grid_auto_flow": null,
      "grid_auto_rows": null,
      "grid_column": null,
      "grid_gap": null,
      "grid_row": null,
      "grid_template_areas": null,
      "grid_template_columns": null,
      "grid_template_rows": null,
      "height": null,
      "justify_content": null,
      "justify_items": null,
      "left": null,
      "margin": null,
      "max_height": null,
      "max_width": null,
      "min_height": null,
      "min_width": null,
      "object_fit": null,
      "object_position": null,
      "order": null,
      "overflow": null,
      "overflow_x": null,
      "overflow_y": null,
      "padding": null,
      "right": null,
      "top": null,
      "visibility": null,
      "width": null
     }
    },
    "fb0afe562de847349ac8bfdcb2c5863d": {
     "model_module": "@jupyter-widgets/controls",
     "model_name": "DescriptionStyleModel",
     "state": {
      "_model_module": "@jupyter-widgets/controls",
      "_model_module_version": "1.5.0",
      "_model_name": "DescriptionStyleModel",
      "_view_count": null,
      "_view_module": "@jupyter-widgets/base",
      "_view_module_version": "1.2.0",
      "_view_name": "StyleView",
      "description_width": ""
     }
    }
   }
  }
 },
 "nbformat": 4,
 "nbformat_minor": 1
}
