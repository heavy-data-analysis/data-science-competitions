{
 "cells": [
  {
   "cell_type": "code",
   "execution_count": 4,
   "id": "99174e37",
   "metadata": {},
   "outputs": [],
   "source": [
    "import os\n",
    "import joblib\n",
    "\n",
    "import numpy as np\n",
    "import pandas as pd\n",
    "import seaborn as sns\n",
    "import missingno as msno\n",
    "import matplotlib.pyplot as plt\n",
    "from scipy import stats\n",
    "\n",
    "from sklearn.model_selection import train_test_split, cross_val_score, KFold\n",
    "from sklearn.metrics import roc_auc_score, f1_score, accuracy_score, \n",
    "\n",
    "import shap\n",
    "import optuna\n",
    "import category_encoders as ce\n",
    "import optuna.visualization as vis\n",
    "\n",
    "import xgboost as xgb\n",
    "import lightgbm as lgb\n",
    "import catboost as cat\n",
    "\n",
    "from tqdm.notebook import tqdm\n",
    "\n",
    "import warnings\n",
    "warnings.filterwarnings('ignore')"
   ]
  },
  {
   "cell_type": "code",
   "execution_count": 51,
   "id": "31eafdcc",
   "metadata": {},
   "outputs": [],
   "source": [
    "train = pd.read_csv('../data/preprocessed_train1.csv')\n",
    "test = pd.read_csv('../data/preprocessed_test1.csv')\n",
    "raw_test = pd.read_csv('../data/test.csv')"
   ]
  },
  {
   "cell_type": "code",
   "execution_count": 3,
   "id": "389ca5c1",
   "metadata": {},
   "outputs": [],
   "source": [
    "X = train.drop('Response', axis=1)\n",
    "y = train['Response']"
   ]
  },
  {
   "cell_type": "code",
   "execution_count": 6,
   "id": "8f4e1ace",
   "metadata": {},
   "outputs": [
    {
     "name": "stdout",
     "output_type": "stream",
     "text": [
      "<class 'pandas.core.frame.DataFrame'>\n",
      "RangeIndex: 381109 entries, 0 to 381108\n",
      "Data columns (total 10 columns):\n",
      " #   Column                Non-Null Count   Dtype  \n",
      "---  ------                --------------   -----  \n",
      " 0   Gender                381109 non-null  int64  \n",
      " 1   Age                   381109 non-null  int64  \n",
      " 2   Region_Code           381109 non-null  int64  \n",
      " 3   Previously_Insured    381109 non-null  int64  \n",
      " 4   Vehicle_Age           381109 non-null  int64  \n",
      " 5   Vehicle_Damage        381109 non-null  int64  \n",
      " 6   Annual_Premium        381109 non-null  float64\n",
      " 7   Policy_Sales_Channel  381109 non-null  int64  \n",
      " 8   Vintage               381109 non-null  int64  \n",
      " 9   age < 46              381109 non-null  int64  \n",
      "dtypes: float64(1), int64(9)\n",
      "memory usage: 29.1 MB\n"
     ]
    }
   ],
   "source": [
    "X.info()"
   ]
  },
  {
   "cell_type": "code",
   "execution_count": 27,
   "id": "e649c5f0",
   "metadata": {},
   "outputs": [],
   "source": [
    "def cross_validate(model, X, y, n_folds=5):\n",
    "    scores = []\n",
    "    kf = KFold(n_splits=n_folds)\n",
    "\n",
    "    for fold, (train_index, valid_index) in tqdm(enumerate(kf.split(X)), total=n_folds):\n",
    "\n",
    "        train_x, valid_x = X.iloc[train_index], X.iloc[valid_index]\n",
    "        train_y, valid_y = y[train_index], y[valid_index]\n",
    "\n",
    "        model.fit(train_x, train_y, eval_set=[(valid_x, valid_y)], use_best_model=True)\n",
    "\n",
    "        preds = model.predict(valid_x)\n",
    "        score = roc_auc_score(valid_y, preds)\n",
    "        scores.append(score)\n",
    "#         print(f\"Fold {fold + 1}: {score:.6f}\")\n",
    "\n",
    "    print(f'Mean Score: {np.mean(scores)}')"
   ]
  },
  {
   "cell_type": "code",
   "execution_count": 42,
   "id": "4f868530",
   "metadata": {},
   "outputs": [],
   "source": [
    "def get_kfold_prediction(model, X, y, test_data, n_folds=5):\n",
    "    scores = []\n",
    "    oof_preds = np.zeros(test_data.shape[0])\n",
    "    kf = KFold(n_splits=n_folds)\n",
    "\n",
    "    for fold, (train_index, valid_index) in tqdm(enumerate(kf.split(X)), total=n_folds):\n",
    "\n",
    "        train_x, valid_x = X.iloc[train_index], X.iloc[valid_index]\n",
    "        train_y, valid_y = y[train_index], y[valid_index]\n",
    "\n",
    "        model.fit(train_x, train_y, eval_set=[(valid_x, valid_y)], use_best_model=True)\n",
    "\n",
    "        preds = model.predict_proba(valid_x)[:, 1]\n",
    "\n",
    "        # change metric according to requirement\n",
    "        score = roc_auc_score(valid_y, preds)\n",
    "        scores.append(score)\n",
    "\n",
    "        # change this according to requirement\n",
    "        oof_preds += model.predict_proba(test_data)[:, 1] / n_folds\n",
    "\n",
    "#         print(f\"Fold {fold + 1}: {score:.6f}\")\n",
    "\n",
    "    print(f'Mean Score: {np.mean(scores)}')\n",
    "\n",
    "    return oof_preds"
   ]
  },
  {
   "cell_type": "code",
   "execution_count": 43,
   "id": "d768cd8c",
   "metadata": {},
   "outputs": [],
   "source": [
    "cat_params = {\n",
    "    'n_estimators': 1000,\n",
    "    'learning_rate': 0.05,\n",
    "    'max_depth': 7,\n",
    "    'reg_lambda': 10,\n",
    "    'cat_features': [2, 4, 7],\n",
    "    'early_stopping_rounds': 100,\n",
    "    'eval_metric': 'AUC',\n",
    "    # 'subsample': 0.8,\n",
    "    # 'colsample_bylevel': 0.8,\n",
    "    # 'bagging_temperature': 0.5,\n",
    "    # 'random_strength': 2,\n",
    "    'one_hot_max_size': 4,\n",
    "    'verbose': 50,\n",
    "    'random_state': 1234,\n",
    "    'thread_count': -1\n",
    "}"
   ]
  },
  {
   "cell_type": "code",
   "execution_count": 44,
   "id": "c36d237e",
   "metadata": {},
   "outputs": [],
   "source": [
    "cat_model = cat.CatBoostClassifier(**cat_params)"
   ]
  },
  {
   "cell_type": "code",
   "execution_count": 30,
   "id": "4659547c",
   "metadata": {},
   "outputs": [
    {
     "data": {
      "application/vnd.jupyter.widget-view+json": {
       "model_id": "17b441ef99d149d8a64a3dc4a3340a83",
       "version_major": 2,
       "version_minor": 0
      },
      "text/plain": [
       "  0%|          | 0/5 [00:00<?, ?it/s]"
      ]
     },
     "metadata": {},
     "output_type": "display_data"
    },
    {
     "name": "stdout",
     "output_type": "stream",
     "text": [
      "0:\ttest: 0.8360164\tbest: 0.8360164 (0)\ttotal: 216ms\tremaining: 3m 35s\n",
      "50:\ttest: 0.8597219\tbest: 0.8597687 (47)\ttotal: 9.5s\tremaining: 2m 56s\n",
      "100:\ttest: 0.8593999\tbest: 0.8597687 (47)\ttotal: 19.5s\tremaining: 2m 53s\n",
      "Stopped by overfitting detector  (100 iterations wait)\n",
      "\n",
      "bestTest = 0.8597686884\n",
      "bestIteration = 47\n",
      "\n",
      "Shrink model to first 48 iterations.\n",
      "0:\ttest: 0.8351825\tbest: 0.8351825 (0)\ttotal: 215ms\tremaining: 3m 34s\n",
      "50:\ttest: 0.8592732\tbest: 0.8592732 (50)\ttotal: 9.26s\tremaining: 2m 52s\n",
      "100:\ttest: 0.8593790\tbest: 0.8594391 (70)\ttotal: 18.6s\tremaining: 2m 45s\n",
      "150:\ttest: 0.8592029\tbest: 0.8594391 (70)\ttotal: 27.7s\tremaining: 2m 35s\n",
      "Stopped by overfitting detector  (100 iterations wait)\n",
      "\n",
      "bestTest = 0.8594390795\n",
      "bestIteration = 70\n",
      "\n",
      "Shrink model to first 71 iterations.\n",
      "0:\ttest: 0.8342105\tbest: 0.8342105 (0)\ttotal: 217ms\tremaining: 3m 37s\n",
      "50:\ttest: 0.8571997\tbest: 0.8571997 (50)\ttotal: 9.13s\tremaining: 2m 49s\n",
      "100:\ttest: 0.8570680\tbest: 0.8573580 (58)\ttotal: 18.7s\tremaining: 2m 46s\n",
      "150:\ttest: 0.8565250\tbest: 0.8573580 (58)\ttotal: 28.2s\tremaining: 2m 38s\n",
      "Stopped by overfitting detector  (100 iterations wait)\n",
      "\n",
      "bestTest = 0.8573580242\n",
      "bestIteration = 58\n",
      "\n",
      "Shrink model to first 59 iterations.\n",
      "0:\ttest: 0.8347006\tbest: 0.8347006 (0)\ttotal: 219ms\tremaining: 3m 39s\n",
      "50:\ttest: 0.8582583\tbest: 0.8582865 (49)\ttotal: 8.8s\tremaining: 2m 43s\n",
      "100:\ttest: 0.8584025\tbest: 0.8585630 (87)\ttotal: 20.7s\tremaining: 3m 3s\n",
      "150:\ttest: 0.8582813\tbest: 0.8585630 (87)\ttotal: 31.1s\tremaining: 2m 54s\n",
      "Stopped by overfitting detector  (100 iterations wait)\n",
      "\n",
      "bestTest = 0.8585629542\n",
      "bestIteration = 87\n",
      "\n",
      "Shrink model to first 88 iterations.\n",
      "0:\ttest: 0.8296790\tbest: 0.8296790 (0)\ttotal: 209ms\tremaining: 3m 28s\n",
      "50:\ttest: 0.8565438\tbest: 0.8565550 (49)\ttotal: 10s\tremaining: 3m 6s\n",
      "100:\ttest: 0.8563910\tbest: 0.8566139 (80)\ttotal: 19.7s\tremaining: 2m 55s\n",
      "150:\ttest: 0.8562531\tbest: 0.8566139 (80)\ttotal: 30.4s\tremaining: 2m 51s\n",
      "Stopped by overfitting detector  (100 iterations wait)\n",
      "\n",
      "bestTest = 0.8566139471\n",
      "bestIteration = 80\n",
      "\n",
      "Shrink model to first 81 iterations.\n",
      "Mean Score: 0.5062980091283977\n"
     ]
    }
   ],
   "source": [
    "cross_validate(cat_model, X, y)"
   ]
  },
  {
   "cell_type": "code",
   "execution_count": 45,
   "id": "2d317c6f",
   "metadata": {},
   "outputs": [
    {
     "data": {
      "application/vnd.jupyter.widget-view+json": {
       "model_id": "5e175376f34c4f1f9efaf7baab02bac3",
       "version_major": 2,
       "version_minor": 0
      },
      "text/plain": [
       "  0%|          | 0/10 [00:00<?, ?it/s]"
      ]
     },
     "metadata": {},
     "output_type": "display_data"
    },
    {
     "name": "stdout",
     "output_type": "stream",
     "text": [
      "0:\ttest: 0.8353680\tbest: 0.8353680 (0)\ttotal: 238ms\tremaining: 3m 57s\n",
      "50:\ttest: 0.8596508\tbest: 0.8596508 (50)\ttotal: 12s\tremaining: 3m 43s\n",
      "100:\ttest: 0.8593304\tbest: 0.8596645 (51)\ttotal: 22.9s\tremaining: 3m 23s\n",
      "150:\ttest: 0.8591352\tbest: 0.8596645 (51)\ttotal: 33.7s\tremaining: 3m 9s\n",
      "Stopped by overfitting detector  (100 iterations wait)\n",
      "\n",
      "bestTest = 0.8596645096\n",
      "bestIteration = 51\n",
      "\n",
      "Shrink model to first 52 iterations.\n",
      "0:\ttest: 0.8364066\tbest: 0.8364066 (0)\ttotal: 253ms\tremaining: 4m 12s\n",
      "50:\ttest: 0.8596881\tbest: 0.8597259 (44)\ttotal: 11.2s\tremaining: 3m 28s\n",
      "100:\ttest: 0.8594602\tbest: 0.8597259 (44)\ttotal: 21.8s\tremaining: 3m 13s\n",
      "Stopped by overfitting detector  (100 iterations wait)\n",
      "\n",
      "bestTest = 0.8597259497\n",
      "bestIteration = 44\n",
      "\n",
      "Shrink model to first 45 iterations.\n",
      "0:\ttest: 0.8327286\tbest: 0.8327286 (0)\ttotal: 285ms\tremaining: 4m 45s\n",
      "50:\ttest: 0.8585558\tbest: 0.8586169 (48)\ttotal: 10s\tremaining: 3m 6s\n",
      "100:\ttest: 0.8585924\tbest: 0.8587438 (61)\ttotal: 19.7s\tremaining: 2m 55s\n",
      "150:\ttest: 0.8583266\tbest: 0.8587438 (61)\ttotal: 29.6s\tremaining: 2m 46s\n",
      "Stopped by overfitting detector  (100 iterations wait)\n",
      "\n",
      "bestTest = 0.8587438436\n",
      "bestIteration = 61\n",
      "\n",
      "Shrink model to first 62 iterations.\n",
      "0:\ttest: 0.8355582\tbest: 0.8355582 (0)\ttotal: 236ms\tremaining: 3m 56s\n",
      "50:\ttest: 0.8595135\tbest: 0.8595426 (48)\ttotal: 10.3s\tremaining: 3m 12s\n",
      "100:\ttest: 0.8600210\tbest: 0.8600994 (89)\ttotal: 20.5s\tremaining: 3m 2s\n",
      "150:\ttest: 0.8599359\tbest: 0.8600994 (89)\ttotal: 32.3s\tremaining: 3m 1s\n",
      "Stopped by overfitting detector  (100 iterations wait)\n",
      "\n",
      "bestTest = 0.8600994473\n",
      "bestIteration = 89\n",
      "\n",
      "Shrink model to first 90 iterations.\n",
      "0:\ttest: 0.8314856\tbest: 0.8314856 (0)\ttotal: 236ms\tremaining: 3m 55s\n",
      "50:\ttest: 0.8555406\tbest: 0.8556142 (42)\ttotal: 9.85s\tremaining: 3m 3s\n",
      "100:\ttest: 0.8553013\tbest: 0.8556569 (77)\ttotal: 20.7s\tremaining: 3m 4s\n",
      "150:\ttest: 0.8550559\tbest: 0.8556569 (77)\ttotal: 30.7s\tremaining: 2m 52s\n",
      "Stopped by overfitting detector  (100 iterations wait)\n",
      "\n",
      "bestTest = 0.8556568596\n",
      "bestIteration = 77\n",
      "\n",
      "Shrink model to first 78 iterations.\n",
      "0:\ttest: 0.8360766\tbest: 0.8360766 (0)\ttotal: 237ms\tremaining: 3m 56s\n",
      "50:\ttest: 0.8594777\tbest: 0.8595190 (45)\ttotal: 10.1s\tremaining: 3m 7s\n",
      "100:\ttest: 0.8597161\tbest: 0.8599014 (67)\ttotal: 20.7s\tremaining: 3m 4s\n",
      "150:\ttest: 0.8596745\tbest: 0.8599014 (67)\ttotal: 32.8s\tremaining: 3m 4s\n",
      "Stopped by overfitting detector  (100 iterations wait)\n",
      "\n",
      "bestTest = 0.8599014404\n",
      "bestIteration = 67\n",
      "\n",
      "Shrink model to first 68 iterations.\n",
      "0:\ttest: 0.8347562\tbest: 0.8347562 (0)\ttotal: 239ms\tremaining: 3m 58s\n",
      "50:\ttest: 0.8595748\tbest: 0.8596943 (47)\ttotal: 10s\tremaining: 3m 6s\n",
      "100:\ttest: 0.8591933\tbest: 0.8597231 (63)\ttotal: 20.9s\tremaining: 3m 6s\n",
      "150:\ttest: 0.8586135\tbest: 0.8597231 (63)\ttotal: 31.5s\tremaining: 2m 57s\n",
      "Stopped by overfitting detector  (100 iterations wait)\n",
      "\n",
      "bestTest = 0.8597231015\n",
      "bestIteration = 63\n",
      "\n",
      "Shrink model to first 64 iterations.\n",
      "0:\ttest: 0.8348197\tbest: 0.8348197 (0)\ttotal: 239ms\tremaining: 3m 59s\n",
      "50:\ttest: 0.8586976\tbest: 0.8587332 (47)\ttotal: 10.1s\tremaining: 3m 7s\n",
      "100:\ttest: 0.8592377\tbest: 0.8594353 (84)\ttotal: 20.4s\tremaining: 3m 1s\n",
      "150:\ttest: 0.8589303\tbest: 0.8594353 (84)\ttotal: 30.8s\tremaining: 2m 53s\n",
      "Stopped by overfitting detector  (100 iterations wait)\n",
      "\n",
      "bestTest = 0.8594352961\n",
      "bestIteration = 84\n",
      "\n",
      "Shrink model to first 85 iterations.\n",
      "0:\ttest: 0.8358055\tbest: 0.8358055 (0)\ttotal: 246ms\tremaining: 4m 5s\n",
      "50:\ttest: 0.8607176\tbest: 0.8607176 (50)\ttotal: 10s\tremaining: 3m 6s\n",
      "100:\ttest: 0.8609512\tbest: 0.8610387 (96)\ttotal: 20.4s\tremaining: 3m 1s\n",
      "150:\ttest: 0.8608972\tbest: 0.8610387 (96)\ttotal: 30.6s\tremaining: 2m 52s\n",
      "Stopped by overfitting detector  (100 iterations wait)\n",
      "\n",
      "bestTest = 0.8610387179\n",
      "bestIteration = 96\n",
      "\n",
      "Shrink model to first 97 iterations.\n",
      "0:\ttest: 0.8279902\tbest: 0.8279902 (0)\ttotal: 193ms\tremaining: 3m 12s\n",
      "50:\ttest: 0.8543198\tbest: 0.8543198 (50)\ttotal: 10s\tremaining: 3m 6s\n",
      "100:\ttest: 0.8541232\tbest: 0.8545144 (67)\ttotal: 19.8s\tremaining: 2m 55s\n",
      "150:\ttest: 0.8538613\tbest: 0.8545144 (67)\ttotal: 29.6s\tremaining: 2m 46s\n",
      "Stopped by overfitting detector  (100 iterations wait)\n",
      "\n",
      "bestTest = 0.8545144146\n",
      "bestIteration = 67\n",
      "\n",
      "Shrink model to first 68 iterations.\n",
      "Mean Score: 0.8588503580271141\n"
     ]
    }
   ],
   "source": [
    "oof_test_probs = get_kfold_prediction(cat_model, X, y, test, 10)"
   ]
  },
  {
   "cell_type": "code",
   "execution_count": 49,
   "id": "4b571a48",
   "metadata": {},
   "outputs": [
    {
     "data": {
      "text/plain": [
       "array([3.57637643e-04, 3.14859615e-01, 2.82039915e-01, 8.26877367e-03,\n",
       "       3.27540810e-04, 2.91816727e-04, 2.88986709e-04, 3.06304288e-04,\n",
       "       3.65090502e-01, 1.64974222e-03, 7.50540820e-04, 1.91497249e-01,\n",
       "       5.48988784e-04, 3.25187425e-01, 1.64958822e-01, 4.39003562e-04,\n",
       "       1.51882638e-01, 2.88142698e-01, 3.07606919e-04, 4.00343248e-04])"
      ]
     },
     "execution_count": 49,
     "metadata": {},
     "output_type": "execute_result"
    }
   ],
   "source": [
    "oof_test_probs"
   ]
  },
  {
   "cell_type": "code",
   "execution_count": 50,
   "id": "b166cd22",
   "metadata": {},
   "outputs": [
    {
     "data": {
      "text/plain": [
       "0.7107755777376663"
      ]
     },
     "execution_count": 50,
     "metadata": {},
     "output_type": "execute_result"
    }
   ],
   "source": [
    "oof_test_probs.max()"
   ]
  },
  {
   "cell_type": "code",
   "execution_count": 53,
   "id": "be26a930",
   "metadata": {},
   "outputs": [
    {
     "name": "stdout",
     "output_type": "stream",
     "text": [
      "(127037, 2)\n"
     ]
    },
    {
     "data": {
      "text/html": [
       "<div>\n",
       "<style scoped>\n",
       "    .dataframe tbody tr th:only-of-type {\n",
       "        vertical-align: middle;\n",
       "    }\n",
       "\n",
       "    .dataframe tbody tr th {\n",
       "        vertical-align: top;\n",
       "    }\n",
       "\n",
       "    .dataframe thead th {\n",
       "        text-align: right;\n",
       "    }\n",
       "</style>\n",
       "<table border=\"1\" class=\"dataframe\">\n",
       "  <thead>\n",
       "    <tr style=\"text-align: right;\">\n",
       "      <th></th>\n",
       "      <th>id</th>\n",
       "      <th>Response</th>\n",
       "    </tr>\n",
       "  </thead>\n",
       "  <tbody>\n",
       "    <tr>\n",
       "      <th>0</th>\n",
       "      <td>381110</td>\n",
       "      <td>0.000358</td>\n",
       "    </tr>\n",
       "    <tr>\n",
       "      <th>1</th>\n",
       "      <td>381111</td>\n",
       "      <td>0.314860</td>\n",
       "    </tr>\n",
       "    <tr>\n",
       "      <th>2</th>\n",
       "      <td>381112</td>\n",
       "      <td>0.282040</td>\n",
       "    </tr>\n",
       "    <tr>\n",
       "      <th>3</th>\n",
       "      <td>381113</td>\n",
       "      <td>0.008269</td>\n",
       "    </tr>\n",
       "    <tr>\n",
       "      <th>4</th>\n",
       "      <td>381114</td>\n",
       "      <td>0.000328</td>\n",
       "    </tr>\n",
       "  </tbody>\n",
       "</table>\n",
       "</div>"
      ],
      "text/plain": [
       "       id  Response\n",
       "0  381110  0.000358\n",
       "1  381111  0.314860\n",
       "2  381112  0.282040\n",
       "3  381113  0.008269\n",
       "4  381114  0.000328"
      ]
     },
     "execution_count": 53,
     "metadata": {},
     "output_type": "execute_result"
    }
   ],
   "source": [
    "sub = pd.DataFrame({\n",
    "    'id': raw_test['id'],\n",
    "    'Response': oof_test_probs\n",
    "})\n",
    "\n",
    "print(sub.shape)\n",
    "sub.head()"
   ]
  },
  {
   "cell_type": "code",
   "execution_count": 54,
   "id": "e2684f1c",
   "metadata": {},
   "outputs": [],
   "source": [
    "sub.to_csv('../submissions/catboost1.csv', index=False)"
   ]
  },
  {
   "cell_type": "code",
   "execution_count": null,
   "id": "505014a5",
   "metadata": {},
   "outputs": [],
   "source": []
  }
 ],
 "metadata": {
  "kernelspec": {
   "display_name": "Python 3",
   "language": "python",
   "name": "python3"
  },
  "language_info": {
   "codemirror_mode": {
    "name": "ipython",
    "version": 3
   },
   "file_extension": ".py",
   "mimetype": "text/x-python",
   "name": "python",
   "nbconvert_exporter": "python",
   "pygments_lexer": "ipython3",
   "version": "3.8.8"
  },
  "toc": {
   "base_numbering": 1,
   "nav_menu": {},
   "number_sections": true,
   "sideBar": true,
   "skip_h1_title": false,
   "title_cell": "Table of Contents",
   "title_sidebar": "Contents",
   "toc_cell": false,
   "toc_position": {},
   "toc_section_display": true,
   "toc_window_display": false
  }
 },
 "nbformat": 4,
 "nbformat_minor": 5
}
